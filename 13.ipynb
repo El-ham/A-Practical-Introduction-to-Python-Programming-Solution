{
 "cells": [
  {
   "cell_type": "code",
   "execution_count": 41,
   "metadata": {},
   "outputs": [],
   "source": [
    "from math import *\n",
    "from random import *"
   ]
  },
  {
   "cell_type": "code",
   "execution_count": 3,
   "metadata": {},
   "outputs": [],
   "source": [
    "def print_hello():\n",
    "    print('HELLO!')"
   ]
  },
  {
   "cell_type": "code",
   "execution_count": 5,
   "metadata": {},
   "outputs": [
    {
     "name": "stdout",
     "output_type": "stream",
     "text": [
      "HELLO!\n",
      "1234\n",
      "HELLO!\n"
     ]
    }
   ],
   "source": [
    "print_hello()\n",
    "print('1234')\n",
    "print_hello()"
   ]
  },
  {
   "cell_type": "code",
   "execution_count": 6,
   "metadata": {},
   "outputs": [
    {
     "name": "stdout",
     "output_type": "stream",
     "text": [
      "HELLO!\n"
     ]
    }
   ],
   "source": [
    "print_hello()"
   ]
  },
  {
   "cell_type": "code",
   "execution_count": 9,
   "metadata": {},
   "outputs": [],
   "source": [
    "def star_box():\n",
    "    print('*'*15)\n",
    "    print('*',' '*11,'*')\n",
    "    print('*',' '*11,'*')\n",
    "    print('*'*15)"
   ]
  },
  {
   "cell_type": "code",
   "execution_count": 10,
   "metadata": {},
   "outputs": [
    {
     "name": "stdout",
     "output_type": "stream",
     "text": [
      "***************\n",
      "*             *\n",
      "*             *\n",
      "***************\n"
     ]
    }
   ],
   "source": [
    "star_box()"
   ]
  },
  {
   "cell_type": "code",
   "execution_count": 12,
   "metadata": {},
   "outputs": [
    {
     "name": "stdout",
     "output_type": "stream",
     "text": [
      "HELLO HELLO HELLO \n",
      "\n"
     ]
    }
   ],
   "source": [
    "def print_hello(n):\n",
    "    print('HELLO '*n)\n",
    "    print()\n",
    "print_hello(3)"
   ]
  },
  {
   "cell_type": "code",
   "execution_count": 15,
   "metadata": {},
   "outputs": [
    {
     "name": "stdout",
     "output_type": "stream",
     "text": [
      "EEE\n",
      "HIHIHIHIHI\n"
     ]
    }
   ],
   "source": [
    "def print_multi (string,n):\n",
    "    print(string*n)\n",
    "print_multi('E',3)\n",
    "print_multi('HI',5)"
   ]
  },
  {
   "cell_type": "code",
   "execution_count": 18,
   "metadata": {},
   "outputs": [
    {
     "data": {
      "text/plain": [
       "68.0"
      ]
     },
     "execution_count": 18,
     "metadata": {},
     "output_type": "execute_result"
    }
   ],
   "source": [
    "def convert(t):\n",
    "    return t*9/5+32\n",
    "convert(20)"
   ]
  },
  {
   "cell_type": "code",
   "execution_count": 21,
   "metadata": {},
   "outputs": [
    {
     "data": {
      "text/plain": [
       "1.0"
      ]
     },
     "execution_count": 21,
     "metadata": {},
     "output_type": "execute_result"
    }
   ],
   "source": [
    "def sin_deg(x):\n",
    "    return sin(pi*x/180)\n",
    "sin_deg(90)"
   ]
  },
  {
   "cell_type": "code",
   "execution_count": 23,
   "metadata": {},
   "outputs": [
    {
     "data": {
      "text/plain": [
       "[-12.0, 10.0]"
      ]
     },
     "execution_count": 23,
     "metadata": {},
     "output_type": "execute_result"
    }
   ],
   "source": [
    "def solve(a,b,c,d,e,f):\n",
    "    x=(d*e-b*f)/(a*d-b*c)\n",
    "    y=(a*f-c*e)/(a*d-b*c)\n",
    "    return [x,y]\n",
    "solve(2,3,4,5,6,2)"
   ]
  },
  {
   "cell_type": "code",
   "execution_count": 24,
   "metadata": {},
   "outputs": [
    {
     "name": "stdout",
     "output_type": "stream",
     "text": [
      "x is: -12.0 y is: 10.0\n"
     ]
    }
   ],
   "source": [
    "xsol, ysol = solve(2,3,4,5,6,2)\n",
    "print('x is:', xsol, 'y is:',ysol)"
   ]
  },
  {
   "cell_type": "code",
   "execution_count": null,
   "metadata": {},
   "outputs": [],
   "source": [
    "def jadid (string,n,bad_words):\n",
    "    if string in bad_words:\n",
    "        return\n",
    "    print(string*n)\n",
    "    print()"
   ]
  },
  {
   "cell_type": "code",
   "execution_count": 1,
   "metadata": {},
   "outputs": [
    {
     "name": "stdout",
     "output_type": "stream",
     "text": [
      "AAAAA\n",
      "\n",
      "B\n",
      "\n"
     ]
    }
   ],
   "source": [
    "def str_mul (string,n=1):\n",
    "    print(string*n)\n",
    "    print()\n",
    "str_mul ('A',5)\n",
    "str_mul ('B')"
   ]
  },
  {
   "cell_type": "code",
   "execution_count": null,
   "metadata": {},
   "outputs": [],
   "source": [
    "def fansy_print(text, color, background, style, justify)"
   ]
  },
  {
   "cell_type": "code",
   "execution_count": null,
   "metadata": {},
   "outputs": [],
   "source": [
    "fansy_print(text='HI', background='pink', color='black', justify='right',style='bold')"
   ]
  },
  {
   "cell_type": "code",
   "execution_count": null,
   "metadata": {},
   "outputs": [],
   "source": [
    "def fansy_print(text, background='pink', color='black', justify='right',style='bold')\n",
    "    # function\n",
    "fansy_print('HEllO', color='blue', justify='left')"
   ]
  },
  {
   "cell_type": "code",
   "execution_count": 2,
   "metadata": {},
   "outputs": [],
   "source": [
    "def func1():\n",
    "    for i in range(10):\n",
    "        print(i)\n",
    "def func2():\n",
    "    i=100\n",
    "    func1()\n",
    "    print(i)"
   ]
  },
  {
   "cell_type": "code",
   "execution_count": 4,
   "metadata": {
    "collapsed": true,
    "jupyter": {
     "outputs_hidden": true
    }
   },
   "outputs": [
    {
     "name": "stdout",
     "output_type": "stream",
     "text": [
      "0\n",
      "1\n",
      "2\n",
      "3\n",
      "4\n",
      "5\n",
      "6\n",
      "7\n",
      "8\n",
      "9\n",
      "100\n"
     ]
    }
   ],
   "source": [
    "func2()"
   ]
  },
  {
   "cell_type": "code",
   "execution_count": 76,
   "metadata": {},
   "outputs": [],
   "source": [
    "def reset():\n",
    "    global time_left\n",
    "    time_left=0"
   ]
  },
  {
   "cell_type": "code",
   "execution_count": 77,
   "metadata": {},
   "outputs": [],
   "source": [
    "def print_time():\n",
    "    print(time_left)"
   ]
  },
  {
   "cell_type": "code",
   "execution_count": 82,
   "metadata": {},
   "outputs": [],
   "source": [
    "reset()"
   ]
  },
  {
   "cell_type": "code",
   "execution_count": 83,
   "metadata": {},
   "outputs": [
    {
     "name": "stdout",
     "output_type": "stream",
     "text": [
      "0\n"
     ]
    }
   ],
   "source": [
    "print_time()\n"
   ]
  },
  {
   "cell_type": "code",
   "execution_count": 80,
   "metadata": {},
   "outputs": [],
   "source": [
    "time_left=30"
   ]
  },
  {
   "cell_type": "code",
   "execution_count": 1,
   "metadata": {},
   "outputs": [],
   "source": [
    "def func1(x):\n",
    "    x=x+1"
   ]
  },
  {
   "cell_type": "code",
   "execution_count": 2,
   "metadata": {},
   "outputs": [],
   "source": [
    "def func2(L):\n",
    "    L=L+[4]"
   ]
  },
  {
   "cell_type": "code",
   "execution_count": 3,
   "metadata": {},
   "outputs": [],
   "source": [
    "a=3\n",
    "M=[1,2,3]"
   ]
  },
  {
   "cell_type": "code",
   "execution_count": 4,
   "metadata": {},
   "outputs": [],
   "source": [
    "func1(a)"
   ]
  },
  {
   "cell_type": "code",
   "execution_count": 5,
   "metadata": {},
   "outputs": [],
   "source": [
    "func2(M)"
   ]
  },
  {
   "cell_type": "code",
   "execution_count": 6,
   "metadata": {},
   "outputs": [
    {
     "data": {
      "text/plain": [
       "3"
      ]
     },
     "execution_count": 6,
     "metadata": {},
     "output_type": "execute_result"
    }
   ],
   "source": [
    "a"
   ]
  },
  {
   "cell_type": "code",
   "execution_count": 7,
   "metadata": {},
   "outputs": [
    {
     "data": {
      "text/plain": [
       "[1, 2, 3]"
      ]
     },
     "execution_count": 7,
     "metadata": {},
     "output_type": "execute_result"
    }
   ],
   "source": [
    "M"
   ]
  },
  {
   "cell_type": "code",
   "execution_count": 8,
   "metadata": {},
   "outputs": [],
   "source": [
    "def func1(x):\n",
    "    x=x+1\n",
    "    return x\n",
    "def func2(L):\n",
    "    copy=L[:]\n",
    "    copy= copy + [1]"
   ]
  },
  {
   "cell_type": "code",
   "execution_count": 9,
   "metadata": {},
   "outputs": [],
   "source": [
    "b=3\n",
    "N=[2,3]"
   ]
  },
  {
   "cell_type": "code",
   "execution_count": 10,
   "metadata": {},
   "outputs": [
    {
     "data": {
      "text/plain": [
       "4"
      ]
     },
     "execution_count": 10,
     "metadata": {},
     "output_type": "execute_result"
    }
   ],
   "source": [
    "func1(b)"
   ]
  },
  {
   "cell_type": "code",
   "execution_count": 11,
   "metadata": {},
   "outputs": [],
   "source": [
    "func2(N)"
   ]
  },
  {
   "cell_type": "code",
   "execution_count": 12,
   "metadata": {},
   "outputs": [
    {
     "data": {
      "text/plain": [
       "[2, 3]"
      ]
     },
     "execution_count": 12,
     "metadata": {},
     "output_type": "execute_result"
    }
   ],
   "source": [
    "N"
   ]
  },
  {
   "cell_type": "code",
   "execution_count": 13,
   "metadata": {},
   "outputs": [
    {
     "data": {
      "text/plain": [
       "3"
      ]
     },
     "execution_count": 13,
     "metadata": {},
     "output_type": "execute_result"
    }
   ],
   "source": [
    "b"
   ]
  },
  {
   "cell_type": "code",
   "execution_count": 26,
   "metadata": {},
   "outputs": [],
   "source": [
    "def rectangle (m,n):\n",
    "    for i in range(m):\n",
    "        print('*'*n,sep='/n')\n"
   ]
  },
  {
   "cell_type": "code",
   "execution_count": 27,
   "metadata": {},
   "outputs": [
    {
     "name": "stdout",
     "output_type": "stream",
     "text": [
      "****\n",
      "****\n"
     ]
    }
   ],
   "source": [
    "rectangle(2,4)"
   ]
  },
  {
   "cell_type": "code",
   "execution_count": 34,
   "metadata": {},
   "outputs": [],
   "source": [
    "#a\n",
    "def add_excitement1(L):\n",
    "    for i in range(len(L)):\n",
    "        L[i]=L[i]+'!'"
   ]
  },
  {
   "cell_type": "code",
   "execution_count": 43,
   "metadata": {},
   "outputs": [],
   "source": [
    "#b\n",
    "def add_excitement2(L):\n",
    "    K=[]\n",
    "    for s in L:\n",
    "        s=s+'!'\n",
    "        K.append(s) \n",
    "    return K"
   ]
  },
  {
   "cell_type": "code",
   "execution_count": 44,
   "metadata": {},
   "outputs": [],
   "source": [
    "M=['eli','kjh','yfd']\n",
    "add_excitement1(M)"
   ]
  },
  {
   "cell_type": "code",
   "execution_count": 45,
   "metadata": {},
   "outputs": [
    {
     "data": {
      "text/plain": [
       "['eli!', 'kjh!', 'yfd!']"
      ]
     },
     "execution_count": 45,
     "metadata": {},
     "output_type": "execute_result"
    }
   ],
   "source": [
    "M"
   ]
  },
  {
   "cell_type": "code",
   "execution_count": 46,
   "metadata": {},
   "outputs": [
    {
     "data": {
      "text/plain": [
       "['eli!', 'kjh!', 'yfd!']"
      ]
     },
     "execution_count": 46,
     "metadata": {},
     "output_type": "execute_result"
    }
   ],
   "source": [
    "M=['eli','kjh','yfd']\n",
    "add_excitement2(M)"
   ]
  },
  {
   "cell_type": "code",
   "execution_count": 47,
   "metadata": {},
   "outputs": [
    {
     "data": {
      "text/plain": [
       "['eli', 'kjh', 'yfd']"
      ]
     },
     "execution_count": 47,
     "metadata": {},
     "output_type": "execute_result"
    }
   ],
   "source": [
    "M"
   ]
  },
  {
   "cell_type": "code",
   "execution_count": 54,
   "metadata": {},
   "outputs": [],
   "source": [
    "def sum_digits(num):\n",
    "    t=str(num)\n",
    "    s=0\n",
    "    for i in range(len(t)):\n",
    "        s=s+int(t[i])\n",
    "    return s        "
   ]
  },
  {
   "cell_type": "code",
   "execution_count": 56,
   "metadata": {},
   "outputs": [
    {
     "data": {
      "text/plain": [
       "18"
      ]
     },
     "execution_count": 56,
     "metadata": {},
     "output_type": "execute_result"
    }
   ],
   "source": [
    "sum_digits(8037)"
   ]
  },
  {
   "cell_type": "code",
   "execution_count": 58,
   "metadata": {},
   "outputs": [],
   "source": [
    "def digital_root(num):\n",
    "    while num>=10:\n",
    "        t=str(num)\n",
    "        s=0\n",
    "        for i in range(len(t)):\n",
    "            s+=int(t[i])\n",
    "        num=s\n",
    "    return num"
   ]
  },
  {
   "cell_type": "code",
   "execution_count": 61,
   "metadata": {},
   "outputs": [
    {
     "data": {
      "text/plain": [
       "2"
      ]
     },
     "execution_count": 61,
     "metadata": {},
     "output_type": "execute_result"
    }
   ],
   "source": [
    "digital_root(45893)"
   ]
  },
  {
   "cell_type": "code",
   "execution_count": 6,
   "metadata": {},
   "outputs": [],
   "source": [
    "def first_diff (t1,t2):\n",
    "    flag=1\n",
    "    for i in range(min(len(t1),len(t2))):\n",
    "        s1=t1.lower()\n",
    "        s2=t2.lower()\n",
    "        if s1[i]!=s2[i]:\n",
    "            flag=0\n",
    "            return i\n",
    "            break\n",
    "    if flag==1:\n",
    "        if len(s1)!=len(s2):\n",
    "            print(min(len(s1),len(s2)))\n",
    "        else:\n",
    "            return -1"
   ]
  },
  {
   "cell_type": "code",
   "execution_count": 12,
   "metadata": {},
   "outputs": [
    {
     "data": {
      "text/plain": [
       "1"
      ]
     },
     "execution_count": 12,
     "metadata": {},
     "output_type": "execute_result"
    }
   ],
   "source": [
    "first_diff ('AHmad', 'ArdaL')"
   ]
  },
  {
   "cell_type": "code",
   "execution_count": 79,
   "metadata": {},
   "outputs": [],
   "source": [
    "def fact(m):\n",
    "    i=1\n",
    "    s=1\n",
    "    while i<=m:\n",
    "        s=i*s\n",
    "        i=i+1\n",
    "    return s\n",
    "def binom (n,k):\n",
    "    return fact(n)/(fact(k)*fact(n-k))\n"
   ]
  },
  {
   "cell_type": "code",
   "execution_count": 80,
   "metadata": {},
   "outputs": [
    {
     "name": "stdout",
     "output_type": "stream",
     "text": [
      "120\n"
     ]
    }
   ],
   "source": [
    "print(fact(5))"
   ]
  },
  {
   "cell_type": "code",
   "execution_count": 81,
   "metadata": {},
   "outputs": [
    {
     "data": {
      "text/plain": [
       "6.0"
      ]
     },
     "execution_count": 81,
     "metadata": {},
     "output_type": "execute_result"
    }
   ],
   "source": [
    "binom(4,2)"
   ]
  },
  {
   "cell_type": "code",
   "execution_count": 89,
   "metadata": {},
   "outputs": [],
   "source": [
    "def rand_num (n):\n",
    "    x=randint((10**(n-1)),(10**(n)-1))\n",
    "    return x"
   ]
  },
  {
   "cell_type": "code",
   "execution_count": 92,
   "metadata": {},
   "outputs": [
    {
     "data": {
      "text/plain": [
       "389"
      ]
     },
     "execution_count": 92,
     "metadata": {},
     "output_type": "execute_result"
    }
   ],
   "source": [
    "rand_num(3)"
   ]
  },
  {
   "cell_type": "code",
   "execution_count": 37,
   "metadata": {},
   "outputs": [],
   "source": [
    "def number_of_factors(n):\n",
    "    count=0\n",
    "    for i in range(1,int(n/2)+1):\n",
    "        if n%i==0:\n",
    "            count=count+1\n",
    "    return(count+1)\n"
   ]
  },
  {
   "cell_type": "code",
   "execution_count": 38,
   "metadata": {},
   "outputs": [
    {
     "data": {
      "text/plain": [
       "4"
      ]
     },
     "execution_count": 38,
     "metadata": {},
     "output_type": "execute_result"
    }
   ],
   "source": [
    "number_of_factors(8)"
   ]
  },
  {
   "cell_type": "code",
   "execution_count": 41,
   "metadata": {},
   "outputs": [],
   "source": [
    "def factors(n):\n",
    "    L=[]\n",
    "    for i in range(1,int(n/2)+1):\n",
    "        if n%i==0:\n",
    "            L.append(i)\n",
    "    L.append(n)\n",
    "    return(L)\n"
   ]
  },
  {
   "cell_type": "code",
   "execution_count": 42,
   "metadata": {},
   "outputs": [
    {
     "data": {
      "text/plain": [
       "[1, 2, 4, 8]"
      ]
     },
     "execution_count": 42,
     "metadata": {},
     "output_type": "execute_result"
    }
   ],
   "source": [
    "factors(8)"
   ]
  },
  {
   "cell_type": "code",
   "execution_count": 3,
   "metadata": {},
   "outputs": [],
   "source": [
    "def closest(L,n):\n",
    "    dif=1000000\n",
    "    for i in L:\n",
    "        if i<n:\n",
    "            m=n-i\n",
    "            if m<dif:\n",
    "                dif=m\n",
    "                a=i\n",
    "    return a"
   ]
  },
  {
   "cell_type": "code",
   "execution_count": 4,
   "metadata": {},
   "outputs": [
    {
     "data": {
      "text/plain": [
       "6"
      ]
     },
     "execution_count": 4,
     "metadata": {},
     "output_type": "execute_result"
    }
   ],
   "source": [
    "closest([1,6,3,9,11],8)"
   ]
  },
  {
   "cell_type": "code",
   "execution_count": 16,
   "metadata": {},
   "outputs": [],
   "source": [
    "def matches(s1,s2):\n",
    "    s1=s1.lower()\n",
    "    s2=s2.lower()\n",
    "    count=0\n",
    "    for i in range(min(len(s1),len(s2))):\n",
    "        if s1[i]==s2[i]:\n",
    "            count=count+1\n",
    "    return count"
   ]
  },
  {
   "cell_type": "code",
   "execution_count": 17,
   "metadata": {},
   "outputs": [
    {
     "data": {
      "text/plain": [
       "3"
      ]
     },
     "execution_count": 17,
     "metadata": {},
     "output_type": "execute_result"
    }
   ],
   "source": [
    "matches('python','PATh')"
   ]
  },
  {
   "cell_type": "code",
   "execution_count": 20,
   "metadata": {},
   "outputs": [],
   "source": [
    "def findall(s,c):\n",
    "    L=[]\n",
    "    for i in range(len(s)):\n",
    "        if s[i]==c:\n",
    "            L.append(i)\n",
    "    return L"
   ]
  },
  {
   "cell_type": "code",
   "execution_count": 21,
   "metadata": {},
   "outputs": [
    {
     "data": {
      "text/plain": [
       "[3, 5, 7]"
      ]
     },
     "execution_count": 21,
     "metadata": {},
     "output_type": "execute_result"
    }
   ],
   "source": [
    "findall('elhamakan','a')"
   ]
  },
  {
   "cell_type": "code",
   "execution_count": 98,
   "metadata": {},
   "outputs": [],
   "source": [
    "def change_case(s):\n",
    "    for i in range(len(s)):\n",
    "        if ord(s[i])>=ord('a') and ord(s[i])<=ord('z'):\n",
    "            s=s[:i]+s[i].upper()+s[i+1:]\n",
    "        elif ord(s[i])>=ord('A') and ord(s[i])<=ord('Z'):\n",
    "            s=s[:i]+s[i].lower()+s[i+1:]\n",
    "    return s"
   ]
  },
  {
   "cell_type": "code",
   "execution_count": 99,
   "metadata": {},
   "outputs": [
    {
     "data": {
      "text/plain": [
       "'eLhAMAkaNeHraHESHgH'"
      ]
     },
     "execution_count": 99,
     "metadata": {},
     "output_type": "execute_result"
    }
   ],
   "source": [
    "change_case('ElHamaKAnEhRAheshGh')"
   ]
  },
  {
   "cell_type": "code",
   "execution_count": 87,
   "metadata": {},
   "outputs": [
    {
     "data": {
      "text/plain": [
       "90"
      ]
     },
     "execution_count": 87,
     "metadata": {},
     "output_type": "execute_result"
    }
   ],
   "source": [
    "ord('Z')"
   ]
  },
  {
   "cell_type": "code",
   "execution_count": 100,
   "metadata": {},
   "outputs": [
    {
     "data": {
      "text/plain": [
       "'ADFGHJKJHGFDSASRTYUA'"
      ]
     },
     "execution_count": 100,
     "metadata": {},
     "output_type": "execute_result"
    }
   ],
   "source": [
    "change_case('adfghjkjhgfdsasrtyua')"
   ]
  },
  {
   "cell_type": "code",
   "execution_count": 29,
   "metadata": {},
   "outputs": [
    {
     "data": {
      "text/plain": [
       "97"
      ]
     },
     "execution_count": 29,
     "metadata": {},
     "output_type": "execute_result"
    }
   ],
   "source": [
    "ord('a')"
   ]
  },
  {
   "cell_type": "code",
   "execution_count": 111,
   "metadata": {},
   "outputs": [],
   "source": [
    "def is_sorted(L):\n",
    "    M=L[:]\n",
    "    M.sort()\n",
    "    flag=1\n",
    "    for i in range(len(L)):\n",
    "        if L[i]!=M[i]:\n",
    "            flag=0\n",
    "            return False          \n",
    "    if flag==1:\n",
    "        return True"
   ]
  },
  {
   "cell_type": "code",
   "execution_count": 114,
   "metadata": {},
   "outputs": [
    {
     "data": {
      "text/plain": [
       "False"
      ]
     },
     "execution_count": 114,
     "metadata": {},
     "output_type": "execute_result"
    }
   ],
   "source": [
    "is_sorted([1,2,3,11,9])"
   ]
  },
  {
   "cell_type": "code",
   "execution_count": 105,
   "metadata": {},
   "outputs": [
    {
     "name": "stdout",
     "output_type": "stream",
     "text": [
      "[1, 2, 4, 5, 9] None\n"
     ]
    }
   ],
   "source": [
    "L=[1,2,9,4,5]\n",
    "M=L.sort()\n",
    "print(L,M)"
   ]
  },
  {
   "cell_type": "code",
   "execution_count": 106,
   "metadata": {},
   "outputs": [],
   "source": [
    "def root(x,n=2):\n",
    "    return x**(1/n)"
   ]
  },
  {
   "cell_type": "code",
   "execution_count": 55,
   "metadata": {},
   "outputs": [
    {
     "data": {
      "text/plain": [
       "5.0"
      ]
     },
     "execution_count": 55,
     "metadata": {},
     "output_type": "execute_result"
    }
   ],
   "source": [
    "root(25)"
   ]
  },
  {
   "cell_type": "code",
   "execution_count": 115,
   "metadata": {},
   "outputs": [],
   "source": [
    "def one_away(s1,s2):\n",
    "    count=0\n",
    "    flag=0\n",
    "    if len(s1)==len(s2):\n",
    "        for i in range(len(s1)):\n",
    "            if s1[i].lower()!=s2[i].lower():\n",
    "                count+=1\n",
    "        if count==1:\n",
    "            flag=1\n",
    "            return True\n",
    "    return False"
   ]
  },
  {
   "cell_type": "code",
   "execution_count": 118,
   "metadata": {},
   "outputs": [
    {
     "data": {
      "text/plain": [
       "False"
      ]
     },
     "execution_count": 118,
     "metadata": {},
     "output_type": "execute_result"
    }
   ],
   "source": [
    "one_away('water','waTErfgj')"
   ]
  },
  {
   "cell_type": "code",
   "execution_count": 146,
   "metadata": {},
   "outputs": [],
   "source": [
    "def is_prime(n):\n",
    "    flag=1\n",
    "    for i in range(2,int(n/2)+1):\n",
    "        if n%i==0:\n",
    "            flag=0\n",
    "            break\n",
    "    if flag==1:\n",
    "        return True"
   ]
  },
  {
   "cell_type": "code",
   "execution_count": 147,
   "metadata": {},
   "outputs": [
    {
     "data": {
      "text/plain": [
       "[2, 3, 5, 7, 11, 13, 17, 19, 23, 29]"
      ]
     },
     "execution_count": 147,
     "metadata": {},
     "output_type": "execute_result"
    }
   ],
   "source": [
    "primes(10)"
   ]
  },
  {
   "cell_type": "code",
   "execution_count": 148,
   "metadata": {},
   "outputs": [],
   "source": [
    "def primes(n=100,m=2):\n",
    "    L=[]\n",
    "    m=m-1\n",
    "    count=0\n",
    "    while count<n:\n",
    "        m+=1\n",
    "        flag=1\n",
    "        if is_prime(m)==True:\n",
    "            count+=1\n",
    "            L.append(m)\n",
    "    return L"
   ]
  },
  {
   "cell_type": "code",
   "execution_count": 136,
   "metadata": {},
   "outputs": [
    {
     "data": {
      "text/plain": [
       "[5, 7, 11, 13, 17, 19, 23, 29, 31, 37]"
      ]
     },
     "execution_count": 136,
     "metadata": {},
     "output_type": "execute_result"
    }
   ],
   "source": [
    "primes(10,5)"
   ]
  },
  {
   "cell_type": "code",
   "execution_count": 32,
   "metadata": {},
   "outputs": [],
   "source": [
    "def base20 (n):\n",
    "    N=[0,1,2,3,4,5,6,7,8,9,10,11,12,13,14,15,16,17,18,19]\n",
    "    H=['A','B','C','D','E','F','G','H','I','J','K','L','M','N','O','P','Q','R','S','T']\n",
    "    L=[]\n",
    "    num=n\n",
    "    while num>=20:\n",
    "        r=num%20\n",
    "        num=(num-r)/20\n",
    "        L.append(int(r))\n",
    "    L.append(int(num))\n",
    "    L=L[::-1]\n",
    "    print(L)\n",
    "    for i in range(len(L)):\n",
    "        L[i]=H[L[i]]\n",
    "    s=''.join(L)\n",
    "    return s"
   ]
  },
  {
   "cell_type": "code",
   "execution_count": 109,
   "metadata": {},
   "outputs": [
    {
     "name": "stdout",
     "output_type": "stream",
     "text": [
      "[1, 0, 2]\n"
     ]
    },
    {
     "data": {
      "text/plain": [
       "'BAC'"
      ]
     },
     "execution_count": 109,
     "metadata": {},
     "output_type": "execute_result"
    }
   ],
   "source": [
    "base20(402)"
   ]
  },
  {
   "cell_type": "code",
   "execution_count": 28,
   "metadata": {},
   "outputs": [],
   "source": [
    "def read_num(n):\n",
    "        N=['1','2','3','4','5','6','7','8','9']\n",
    "        s=''\n",
    "        L1=['one','two','three','four','five','six','seven','eight','nine']\n",
    "        L2=['ten','eleven','twelve','thirteen','fourteen','fifteen','sixteen','seventeen','eighteen','ninteen']\n",
    "        L3=['twenty','thirty','forty','fifty','sixty','seventy','eighty','ninty']\n",
    "        s1=' hundred '\n",
    "        for i in range(len(N)):\n",
    "            if len(n)==1:\n",
    "                if n==N[i]:\n",
    "                    s=L1[i]\n",
    "        for i in range(len(N)):\n",
    "            if len(n)>=2 and n[-2]=='1':\n",
    "                if n[-1]==N[i]:\n",
    "                    s=L2[i+1]\n",
    "                    if n[-1]==0:\n",
    "                        s=L2[0]\n",
    "        for i in range(len(N)):\n",
    "            if len(n)>=2 and n[-2]!='1':\n",
    "                if n[-1]==N[i]:\n",
    "                    s=L1[i]\n",
    "        for j in range(len(N)):\n",
    "            if len(n)>=2 and n[-2]!='1':\n",
    "                if n[-2]==N[j]:\n",
    "                    s=L3[j-1]+' '+s\n",
    "        for j in range(len(N)): \n",
    "            if len(n)>=3:\n",
    "                if n[-3]==N[j]:\n",
    "                    s=L1[j]+s1+s\n",
    "        return s\n",
    "def verbose(x):\n",
    "    D=[]\n",
    "    S=[' trillion ', ' bilion ', ' milion ', ' thousand ','']\n",
    "    num=str(x)\n",
    "    javab=''\n",
    "    for i in range(len(num)):\n",
    "        if len(num)>3:\n",
    "            D.append(num[-3:])\n",
    "            num=num[:len(num)-3]\n",
    "        if len(num)<=3:\n",
    "            D.append(num[:])\n",
    "            break\n",
    "    D=D[::-1]\n",
    "    S=S[-len(D):]\n",
    "    for i in range(len(D)):\n",
    "        javab= javab+ read_num(D[i])+S[i]\n",
    "        \n",
    "    return javab"
   ]
  },
  {
   "cell_type": "code",
   "execution_count": 31,
   "metadata": {},
   "outputs": [
    {
     "data": {
      "text/plain": [
       "'eight hundred eight milion fifty five thousand twelve'"
      ]
     },
     "execution_count": 31,
     "metadata": {},
     "output_type": "execute_result"
    }
   ],
   "source": [
    "verbose(808055012)"
   ]
  },
  {
   "cell_type": "code",
   "execution_count": 5,
   "metadata": {},
   "outputs": [],
   "source": [
    "def merge1 (L1,L2):\n",
    "    N=L1[:]+L2[:]\n",
    "    N.sort()\n",
    "    return N"
   ]
  },
  {
   "cell_type": "code",
   "execution_count": 6,
   "metadata": {},
   "outputs": [
    {
     "data": {
      "text/plain": [
       "[1, 2, 3, 5, 6, 7, 65, 98]"
      ]
     },
     "execution_count": 6,
     "metadata": {},
     "output_type": "execute_result"
    }
   ],
   "source": [
    "merge1 ([2,7,5,3,1],[98,65,6])"
   ]
  },
  {
   "cell_type": "code",
   "execution_count": 7,
   "metadata": {},
   "outputs": [
    {
     "data": {
      "text/plain": [
       "['a', 'b', 'c', 'd', 't', 'u']"
      ]
     },
     "execution_count": 7,
     "metadata": {},
     "output_type": "execute_result"
    }
   ],
   "source": [
    "merge1 (['a','d','b'],['t','c','u'])"
   ]
  },
  {
   "cell_type": "code",
   "execution_count": 121,
   "metadata": {},
   "outputs": [],
   "source": [
    "def merge2 (L1,L2):\n",
    "    N=[]\n",
    "    while len(L1)!=0 and len(L2)!=0:\n",
    "        if L1[0]<L2[0]:\n",
    "            N.append(L1[0])\n",
    "            L1=L1[1:]\n",
    "        elif L2[0]<L1[0]:\n",
    "            N.append(L2[0])\n",
    "            L2=L2[1:]\n",
    "    if len(L1)!=0:\n",
    "        N=N+L1\n",
    "    else:\n",
    "        N=N+L2\n",
    "    return N"
   ]
  },
  {
   "cell_type": "code",
   "execution_count": 122,
   "metadata": {},
   "outputs": [
    {
     "data": {
      "text/plain": [
       "['a', 'b', 'cfgh', 'dff', 't', 'u']"
      ]
     },
     "execution_count": 122,
     "metadata": {},
     "output_type": "execute_result"
    }
   ],
   "source": [
    "merge2 (['a','b','dff'],['cfgh','t','u'])"
   ]
  },
  {
   "cell_type": "code",
   "execution_count": 123,
   "metadata": {},
   "outputs": [
    {
     "data": {
      "text/plain": [
       "[1, 2, 3, 5, 6, 65, 70, 98]"
      ]
     },
     "execution_count": 123,
     "metadata": {},
     "output_type": "execute_result"
    }
   ],
   "source": [
    "merge2 ([1,2,3,5,70],[6,65,98])"
   ]
  },
  {
   "cell_type": "code",
   "execution_count": 124,
   "metadata": {},
   "outputs": [
    {
     "name": "stdout",
     "output_type": "stream",
     "text": [
      "y\n"
     ]
    }
   ],
   "source": [
    "L1=['a','dff','b']\n",
    "L2=['t','cfgh','u']\n",
    "if L1[1]<L2[2]:\n",
    "    print('y')"
   ]
  },
  {
   "cell_type": "code",
   "execution_count": 125,
   "metadata": {},
   "outputs": [
    {
     "data": {
      "text/plain": [
       "False"
      ]
     },
     "execution_count": 125,
     "metadata": {},
     "output_type": "execute_result"
    }
   ],
   "source": [
    "'a'>'b'"
   ]
  },
  {
   "cell_type": "code",
   "execution_count": 37,
   "metadata": {},
   "outputs": [],
   "source": [
    "def word_valid(w):\n",
    "    #L=[line.strip() for line in open ('words.txt')]\n",
    "    L=['time','jkki','cet','eli','prime','prave', 'travel','khpl','afegikolu','iueajk','asdfghjklp','cot','qwertui','zxcvbnm','cit','roror','kik',\n",
    "       'rat','tar','cut','carefully', 'require', 'ahja','hjiofdhftgdhjio','cat']\n",
    "    L.sort()\n",
    "    m=len(L)\n",
    "    flag=0\n",
    "    while m>=1:\n",
    "        if m%2==1:\n",
    "            c=int((m-1)/2)\n",
    "        elif m%2==0:\n",
    "            c=int((m/2))\n",
    "        if w==L[c]:\n",
    "            flag=1\n",
    "            break\n",
    "        elif w<L[c]:\n",
    "            L=L[:c]\n",
    "        elif w>L[c]:\n",
    "            L=L[c+1:]\n",
    "        m=len(L)\n",
    "    if flag==1:\n",
    "        return True\n",
    "    else:\n",
    "        return False"
   ]
  },
  {
   "cell_type": "code",
   "execution_count": 39,
   "metadata": {},
   "outputs": [
    {
     "data": {
      "text/plain": [
       "False"
      ]
     },
     "execution_count": 39,
     "metadata": {},
     "output_type": "execute_result"
    }
   ],
   "source": [
    "word_valid('tim')"
   ]
  },
  {
   "cell_type": "code",
   "execution_count": 67,
   "metadata": {},
   "outputs": [],
   "source": [
    "def Tic_tac_toe(L):\n",
    "    M=[]\n",
    "    for i in range(3):\n",
    "        for j in range(3):\n",
    "            if L[i][j]==0:\n",
    "                M.append([i,j])\n",
    "    print(M)\n",
    "    B=choice(M)\n",
    "    print(B)\n",
    "    L[B[0]][B[1]]=2\n",
    "    return L"
   ]
  },
  {
   "cell_type": "code",
   "execution_count": 68,
   "metadata": {},
   "outputs": [
    {
     "name": "stdout",
     "output_type": "stream",
     "text": [
      "[[0, 1, 2], [1, 1, 2], [0, 1, 1]]\n",
      "[[0, 0], [2, 0]]\n",
      "[0, 0]\n"
     ]
    },
    {
     "data": {
      "text/plain": [
       "[[2, 1, 2], [1, 1, 2], [0, 1, 1]]"
      ]
     },
     "execution_count": 68,
     "metadata": {},
     "output_type": "execute_result"
    }
   ],
   "source": [
    "L=[[randint(0,2) for i in range(3)] for j in range(3)]\n",
    "print(L)\n",
    "Tic_tac_toe(L)"
   ]
  },
  {
   "cell_type": "code",
   "execution_count": 73,
   "metadata": {},
   "outputs": [],
   "source": [
    "def ttt_win(L):\n",
    "    flag=0\n",
    "    print(L)\n",
    "    for i in range(3):\n",
    "        if L[i][0]==L[i][1]==L[i][2] and L[i][0]!=0:\n",
    "            flag=1\n",
    "            break\n",
    "        if L[0][i]==L[1][i]==L[2][i] and L[0][i]!=0:\n",
    "            flag=1\n",
    "            break\n",
    "        if L[0][0]==L[1][1]==L[2][2] and L[0][0]!=0:\n",
    "            flag=1\n",
    "            break\n",
    "        if L[0][2]==L[1][1]==L[2][0] and L[0][2]!=0:\n",
    "            flag=1\n",
    "            break\n",
    "    if flag==1:\n",
    "        return True\n",
    "    else:\n",
    "        return False"
   ]
  },
  {
   "cell_type": "code",
   "execution_count": 78,
   "metadata": {},
   "outputs": [
    {
     "name": "stdout",
     "output_type": "stream",
     "text": [
      "[[2, 1, 0], [2, 2, 0], [2, 0, 1]]\n"
     ]
    },
    {
     "data": {
      "text/plain": [
       "True"
      ]
     },
     "execution_count": 78,
     "metadata": {},
     "output_type": "execute_result"
    }
   ],
   "source": [
    "L=[[randint(0,2) for i in range(3)] for j in range(3)]\n",
    "ttt_win(L)"
   ]
  },
  {
   "cell_type": "code",
   "execution_count": 104,
   "metadata": {},
   "outputs": [],
   "source": [
    "def Sudoku(L):\n",
    "    N=[1,2,3,4,5,6,7,8,9]\n",
    "    for i in range(9):\n",
    "        M=N[:]\n",
    "        flag=1\n",
    "        for j in range(9):\n",
    "            if L[i][j] in M:\n",
    "                M.remove(L[i][j])\n",
    "            elif L[i][j] not in M:\n",
    "                flag=0\n",
    "                return False\n",
    "                break     \n",
    "    for j in range(9):\n",
    "        M=N[:] \n",
    "        flag=1\n",
    "        for i in range(9):\n",
    "            if L[i][j] in M:\n",
    "                M.remove(L[i][j])\n",
    "            elif L[i][j] not in M:\n",
    "                flag=0\n",
    "                return False\n",
    "                break\n",
    "    for k in range(0,8,3):\n",
    "        for p in range(0,8,3):\n",
    "            M=N[:] \n",
    "            flag=1\n",
    "            for i in range(2):\n",
    "                for j in range(2):\n",
    "                    if L[i+k][j+p] in M:\n",
    "                        M.remove(L[i+k][j+p])\n",
    "                    elif L[i+k][j+p] not in M:\n",
    "                        flag=0\n",
    "                        return False\n",
    "                        break\n",
    "    if flag==1:\n",
    "        return True"
   ]
  },
  {
   "cell_type": "code",
   "execution_count": 106,
   "metadata": {},
   "outputs": [
    {
     "data": {
      "text/plain": [
       "True"
      ]
     },
     "execution_count": 106,
     "metadata": {},
     "output_type": "execute_result"
    }
   ],
   "source": [
    "L=[[5,3,4,6,7,8,9,1,2], [6,7,2,1,9,5,3,4,8],[1,9,8,3,4,2,5,6,7], [8,5,9,7,6,1,4,2,3], [4,2,6,8,5,3,7,9,1], [7,1,3,9,2,4,8,5,6], \n",
    "   [9,6,1,5,3,7,2,8,4], [2,8,7,4,1,9,6,3,5], [3,4,5,2,8,6,1,7,9]]\n",
    "Sudoku(L)"
   ]
  },
  {
   "cell_type": "code",
   "execution_count": null,
   "metadata": {},
   "outputs": [],
   "source": []
  }
 ],
 "metadata": {
  "kernelspec": {
   "display_name": "Python 3",
   "language": "python",
   "name": "python3"
  },
  "language_info": {
   "codemirror_mode": {
    "name": "ipython",
    "version": 3
   },
   "file_extension": ".py",
   "mimetype": "text/x-python",
   "name": "python",
   "nbconvert_exporter": "python",
   "pygments_lexer": "ipython3",
   "version": "3.7.5"
  }
 },
 "nbformat": 4,
 "nbformat_minor": 4
}
