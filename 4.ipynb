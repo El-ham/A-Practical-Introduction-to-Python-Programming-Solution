{
 "cells": [
  {
   "cell_type": "code",
   "execution_count": 1,
   "metadata": {},
   "outputs": [],
   "source": [
    "import math\n",
    "import random\n",
    "from math import *\n",
    "from random import *"
   ]
  },
  {
   "cell_type": "code",
   "execution_count": 3,
   "metadata": {},
   "outputs": [
    {
     "name": "stdin",
     "output_type": "stream",
     "text": [
      "enter a number between 1 and 1000 90\n"
     ]
    },
    {
     "name": "stdout",
     "output_type": "stream",
     "text": [
      "the number was: 436 so, you lost!\n"
     ]
    }
   ],
   "source": [
    "x = randint(1,1000)\n",
    "g = eval(input('enter a number between 1 and 1000'))\n",
    "if x==g:\n",
    "    print('the number was:',x, 'so, you won!')\n",
    "else:\n",
    "    print('the number was:',x, 'so, you lost!')"
   ]
  },
  {
   "cell_type": "code",
   "execution_count": 14,
   "metadata": {},
   "outputs": [
    {
     "name": "stdin",
     "output_type": "stream",
     "text": [
      "enter a grade 79\n"
     ]
    },
    {
     "name": "stdout",
     "output_type": "stream",
     "text": [
      "C\n"
     ]
    }
   ],
   "source": [
    "grade = eval(input('enter a grade'))\n",
    "if grade >=90:\n",
    "    print('A')\n",
    "elif 80<=grade<=89:\n",
    "    print('B')\n",
    "elif 70<=grade<=79:\n",
    "    print('C')\n",
    "elif 60<=grade<=69:\n",
    "    print('D')\n",
    "else:\n",
    "    print('F')"
   ]
  },
  {
   "cell_type": "code",
   "execution_count": 18,
   "metadata": {},
   "outputs": [
    {
     "name": "stdin",
     "output_type": "stream",
     "text": [
      "enter a number in cm 10\n"
     ]
    },
    {
     "name": "stdout",
     "output_type": "stream",
     "text": [
      "in inches it is: 3.937007874015748\n"
     ]
    }
   ],
   "source": [
    "x = eval(input('enter a number in cm'))\n",
    "if x<0:\n",
    "    print('the entry is invalid')\n",
    "else:\n",
    "    print('in inches it is:', x/2.54)"
   ]
  },
  {
   "cell_type": "code",
   "execution_count": 23,
   "metadata": {},
   "outputs": [
    {
     "name": "stdin",
     "output_type": "stream",
     "text": [
      "enter the temp 32\n",
      "Insert 0 if the temp is in C and insert 1 if it is in F 1\n"
     ]
    },
    {
     "name": "stdout",
     "output_type": "stream",
     "text": [
      "the temp in C is: 0.0\n"
     ]
    }
   ],
   "source": [
    "temp = eval(input('enter the temp'))\n",
    "unit = eval(input('Insert 0 if the temp is in C and insert 1 if it is in F'))\n",
    "if unit == 0:\n",
    "    print('the temp in F is:', (9*temp/5)+32)\n",
    "else:\n",
    "    print('the temp in C is:', (5/9)*(temp-32))"
   ]
  },
  {
   "cell_type": "code",
   "execution_count": 26,
   "metadata": {},
   "outputs": [
    {
     "name": "stdin",
     "output_type": "stream",
     "text": [
      "enter a temp in C 65\n"
     ]
    },
    {
     "name": "stdout",
     "output_type": "stream",
     "text": [
      "normal range\n"
     ]
    }
   ],
   "source": [
    "temp = eval(input('enter a temp in C'))\n",
    "if temp < -273.15:\n",
    "    print('invalid')\n",
    "elif temp == -273.15:\n",
    "    print('absolute 0')\n",
    "elif -273.15<=temp<=0:\n",
    "    print('below freezing')\n",
    "elif temp==0:\n",
    "    print('freezing point')\n",
    "elif 0<=temp<=100:\n",
    "    print('normal range')\n",
    "elif temp==100:\n",
    "    print('boiling point')\n",
    "elif temp>100:\n",
    "    print('above boiling point')"
   ]
  },
  {
   "cell_type": "code",
   "execution_count": 27,
   "metadata": {},
   "outputs": [
    {
     "name": "stdin",
     "output_type": "stream",
     "text": [
      "how many items? 14\n"
     ]
    },
    {
     "name": "stdout",
     "output_type": "stream",
     "text": [
      "140\n"
     ]
    }
   ],
   "source": [
    "x = eval(input('how many items?'))\n",
    "if x<10:\n",
    "    print(x*12)\n",
    "elif 10<=x<=99:\n",
    "    print(x*10)\n",
    "elif x>=100:\n",
    "    print(x*7)"
   ]
  },
  {
   "cell_type": "code",
   "execution_count": 3,
   "metadata": {},
   "outputs": [
    {
     "name": "stdin",
     "output_type": "stream",
     "text": [
      "enter num1 0.007\n",
      "enter num2 0.008\n"
     ]
    },
    {
     "name": "stdout",
     "output_type": "stream",
     "text": [
      "close\n"
     ]
    }
   ],
   "source": [
    "x = eval(input('enter num1'))\n",
    "y = eval(input('enter num2'))\n",
    "if (abs(x-y))<=0.001:\n",
    "    print('close')\n",
    "elif (abs(x-y))>0.001:\n",
    "    print('Not close')"
   ]
  },
  {
   "cell_type": "code",
   "execution_count": 47,
   "metadata": {},
   "outputs": [
    {
     "name": "stdin",
     "output_type": "stream",
     "text": [
      "enter a year 2011\n"
     ]
    },
    {
     "name": "stdout",
     "output_type": "stream",
     "text": [
      "not leap\n"
     ]
    }
   ],
   "source": [
    "x = eval(input('enter a year'))\n",
    "if ((x%4 == 0) and (x%100 != 0)) or (x%100 == 0) and (x%400 == 0):\n",
    "    print('it is leap')\n",
    "else:\n",
    "    print('not leap')"
   ]
  },
  {
   "cell_type": "code",
   "execution_count": null,
   "metadata": {},
   "outputs": [],
   "source": [
    "x = eval(input('enter a number'))\n",
    "for i in range (1,x+1):\n",
    "    if x%i == 0:\n",
    "        print(i, end = ' ')"
   ]
  },
  {
   "cell_type": "code",
   "execution_count": 8,
   "metadata": {},
   "outputs": [
    {
     "name": "stdout",
     "output_type": "stream",
     "text": [
      "x= 9\n",
      "y= 4\n"
     ]
    },
    {
     "name": "stdin",
     "output_type": "stream",
     "text": [
      "enter your guess 32\n"
     ]
    },
    {
     "name": "stdout",
     "output_type": "stream",
     "text": [
      "the results was: 9 4 36 so, Wrong answer!\n",
      "x= 6\n",
      "y= 2\n"
     ]
    },
    {
     "name": "stdin",
     "output_type": "stream",
     "text": [
      "enter your guess 12\n"
     ]
    },
    {
     "name": "stdout",
     "output_type": "stream",
     "text": [
      "the results was: 6 2 12 so, you are right!\n",
      "x= 9\n",
      "y= 3\n"
     ]
    },
    {
     "name": "stdin",
     "output_type": "stream",
     "text": [
      "enter your guess 27\n"
     ]
    },
    {
     "name": "stdout",
     "output_type": "stream",
     "text": [
      "the results was: 9 3 27 so, you are right!\n",
      "x= 6\n",
      "y= 7\n"
     ]
    },
    {
     "name": "stdin",
     "output_type": "stream",
     "text": [
      "enter your guess 56\n"
     ]
    },
    {
     "name": "stdout",
     "output_type": "stream",
     "text": [
      "the results was: 6 7 42 so, Wrong answer!\n",
      "x= 3\n",
      "y= 8\n"
     ]
    },
    {
     "name": "stdin",
     "output_type": "stream",
     "text": [
      "enter your guess 24\n"
     ]
    },
    {
     "name": "stdout",
     "output_type": "stream",
     "text": [
      "the results was: 3 8 24 so, you are right!\n",
      "x= 2\n",
      "y= 4\n"
     ]
    },
    {
     "name": "stdin",
     "output_type": "stream",
     "text": [
      "enter your guess 6\n"
     ]
    },
    {
     "name": "stdout",
     "output_type": "stream",
     "text": [
      "the results was: 2 4 8 so, Wrong answer!\n",
      "x= 5\n",
      "y= 10\n"
     ]
    },
    {
     "name": "stdin",
     "output_type": "stream",
     "text": [
      "enter your guess 44\n"
     ]
    },
    {
     "name": "stdout",
     "output_type": "stream",
     "text": [
      "the results was: 5 10 50 so, Wrong answer!\n",
      "x= 10\n",
      "y= 8\n"
     ]
    },
    {
     "name": "stdin",
     "output_type": "stream",
     "text": [
      "enter your guess 80\n"
     ]
    },
    {
     "name": "stdout",
     "output_type": "stream",
     "text": [
      "the results was: 10 8 80 so, you are right!\n",
      "x= 5\n",
      "y= 2\n"
     ]
    },
    {
     "name": "stdin",
     "output_type": "stream",
     "text": [
      "enter your guess 10\n"
     ]
    },
    {
     "name": "stdout",
     "output_type": "stream",
     "text": [
      "the results was: 5 2 10 so, you are right!\n",
      "x= 6\n",
      "y= 2\n"
     ]
    },
    {
     "name": "stdin",
     "output_type": "stream",
     "text": [
      "enter your guess 12\n"
     ]
    },
    {
     "name": "stdout",
     "output_type": "stream",
     "text": [
      "the results was: 6 2 12 so, you are right!\n",
      "the total right answers are: 6 and the total wrong answers are: 4\n"
     ]
    }
   ],
   "source": [
    "RA = 0\n",
    "RO = 0\n",
    "for i in range (10):\n",
    "    x = randint(1,10)\n",
    "    y = randint(1,10)\n",
    "    print('x=',x)\n",
    "    print('y=',y)\n",
    "    g=eval(input('enter your guess'))\n",
    "    if x*y==g:\n",
    "        print('the results was:',x,y,x*y, 'so, you are right!')\n",
    "        RA = RA +1\n",
    "    else:\n",
    "        print('the results was:',x,y,x*y, 'so, Wrong answer!')\n",
    "        RO = RO +1\n",
    "print('the total right answers are:',RA, 'and the total wrong answers are:',RO)\n"
   ]
  },
  {
   "cell_type": "code",
   "execution_count": 11,
   "metadata": {},
   "outputs": [
    {
     "name": "stdin",
     "output_type": "stream",
     "text": [
      "what time is it between 1 and 12? 10\n",
      "am (0) or pm (1)? 1\n",
      "how many hours? 2\n"
     ]
    },
    {
     "name": "stdout",
     "output_type": "stream",
     "text": [
      "the time will be: 12 am\n"
     ]
    }
   ],
   "source": [
    "c = eval(input('what time is it between 1 and 12?'))\n",
    "ap= eval(input('am (0) or pm (1)?'))\n",
    "h = eval(input('how many hours?'))\n",
    "if ap == 0 and c+h<12:\n",
    "    print ('the time will be:',c+h,'am')\n",
    "elif ap== 0 and c+h==12:\n",
    "    print('the time will be:',c+h,'pm')\n",
    "elif ap== 0 and c+h>12:\n",
    "    print('the time will be:',(c+h)%12,'pm')\n",
    "elif ap== 1 and c+h<12:\n",
    "    print('the time will be:',c+h,'pm')\n",
    "elif ap== 1 and c+h==12:\n",
    "    print('the time will be:',c+h,'am')\n",
    "elif ap== 1 and c+h>12:\n",
    "    print('the time will be:',(c+h)%12,'am')\n",
    "else:\n",
    "    print('Invalid')"
   ]
  },
  {
   "cell_type": "code",
   "execution_count": 5,
   "metadata": {},
   "outputs": [
    {
     "name": "stdout",
     "output_type": "stream",
     "text": [
      "177\n"
     ]
    }
   ],
   "source": [
    "for x in range (1,201):\n",
    "    if x%5 == 2 and x%6 == 3 and x%7 == 2:\n",
    "        print(x)"
   ]
  },
  {
   "cell_type": "code",
   "execution_count": 3,
   "metadata": {},
   "outputs": [
    {
     "name": "stdin",
     "output_type": "stream",
     "text": [
      "R as 1, or P as 2, or S as 3? 2\n"
     ]
    },
    {
     "name": "stdout",
     "output_type": "stream",
     "text": [
      "2 1\n",
      "you win\n"
     ]
    },
    {
     "name": "stdin",
     "output_type": "stream",
     "text": [
      "R as 1, or P as 2, or S as 3? 2\n"
     ]
    },
    {
     "name": "stdout",
     "output_type": "stream",
     "text": [
      "2 3\n",
      "you lose\n"
     ]
    },
    {
     "name": "stdin",
     "output_type": "stream",
     "text": [
      "R as 1, or P as 2, or S as 3? 2\n"
     ]
    },
    {
     "name": "stdout",
     "output_type": "stream",
     "text": [
      "2 2\n",
      "equal\n"
     ]
    },
    {
     "name": "stdin",
     "output_type": "stream",
     "text": [
      "R as 1, or P as 2, or S as 3? 2\n"
     ]
    },
    {
     "name": "stdout",
     "output_type": "stream",
     "text": [
      "2 2\n",
      "equal\n"
     ]
    },
    {
     "name": "stdin",
     "output_type": "stream",
     "text": [
      "R as 1, or P as 2, or S as 3? 2\n"
     ]
    },
    {
     "name": "stdout",
     "output_type": "stream",
     "text": [
      "2 1\n",
      "you win\n"
     ]
    }
   ],
   "source": [
    "for i in range(5):\n",
    "    x = eval(input('R as 1, or P as 2, or S as 3?'))\n",
    "    y = randint(1,3)\n",
    "    print(x,y)\n",
    "    if (x==1 and y==3) or (x==3 and y==2) or (x==2 and y==1):\n",
    "        print('you win')\n",
    "    elif (x==3 and y==1) or (x==2 and y==3) or (x==1 and y==2):\n",
    "        print('you lose')\n",
    "    elif (x==1 and y==1) or (x==2 and y==2) or (x==3 and y==3):\n",
    "        print('equal')\n",
    "    else:\n",
    "        print('Invalid Input!')"
   ]
  },
  {
   "cell_type": "code",
   "execution_count": null,
   "metadata": {},
   "outputs": [],
   "source": []
  }
 ],
 "metadata": {
  "kernelspec": {
   "display_name": "Python 3",
   "language": "python",
   "name": "python3"
  },
  "language_info": {
   "codemirror_mode": {
    "name": "ipython",
    "version": 3
   },
   "file_extension": ".py",
   "mimetype": "text/x-python",
   "name": "python",
   "nbconvert_exporter": "python",
   "pygments_lexer": "ipython3",
   "version": "3.7.5"
  }
 },
 "nbformat": 4,
 "nbformat_minor": 4
}
