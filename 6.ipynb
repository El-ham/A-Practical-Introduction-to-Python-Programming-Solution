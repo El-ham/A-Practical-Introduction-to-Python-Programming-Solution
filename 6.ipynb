{
 "cells": [
  {
   "cell_type": "code",
   "execution_count": 1,
   "metadata": {},
   "outputs": [],
   "source": [
    "from math import *\n",
    "import random \n",
    "from random import *"
   ]
  },
  {
   "cell_type": "code",
   "execution_count": 1,
   "metadata": {},
   "outputs": [
    {
     "data": {
      "text/plain": [
       "5"
      ]
     },
     "execution_count": 1,
     "metadata": {},
     "output_type": "execute_result"
    }
   ],
   "source": [
    "len('Hello')"
   ]
  },
  {
   "cell_type": "code",
   "execution_count": 2,
   "metadata": {},
   "outputs": [
    {
     "data": {
      "text/plain": [
       "'ABCD'"
      ]
     },
     "execution_count": 2,
     "metadata": {},
     "output_type": "execute_result"
    }
   ],
   "source": [
    "\"AB\"+'CD'"
   ]
  },
  {
   "cell_type": "code",
   "execution_count": 3,
   "metadata": {},
   "outputs": [
    {
     "data": {
      "text/plain": [
       "'ABABAB'"
      ]
     },
     "execution_count": 3,
     "metadata": {},
     "output_type": "execute_result"
    }
   ],
   "source": [
    "'AB'*3"
   ]
  },
  {
   "cell_type": "code",
   "execution_count": 4,
   "metadata": {},
   "outputs": [
    {
     "name": "stdout",
     "output_type": "stream",
     "text": [
      "----------\n"
     ]
    }
   ],
   "source": [
    "print('-'*10)"
   ]
  },
  {
   "cell_type": "code",
   "execution_count": 5,
   "metadata": {},
   "outputs": [
    {
     "name": "stdin",
     "output_type": "stream",
     "text": [
      "enter a letter a\n",
      "enter a letter f\n",
      "enter a letter s\n",
      "enter a letter u\n",
      "enter a letter i\n",
      "enter a letter d\n",
      "enter a letter o\n",
      "enter a letter e\n",
      "enter a letter w\n",
      "enter a letter q\n"
     ]
    },
    {
     "name": "stdout",
     "output_type": "stream",
     "text": [
      "auioe\n"
     ]
    }
   ],
   "source": [
    "s = ''\n",
    "for i in range(10):\n",
    "    t = input('enter a letter')\n",
    "    if t=='a' or t=='e' or t=='i' or t=='u' or t=='o':\n",
    "        s = s+t\n",
    "print(s)"
   ]
  },
  {
   "cell_type": "code",
   "execution_count": 6,
   "metadata": {},
   "outputs": [
    {
     "name": "stdin",
     "output_type": "stream",
     "text": [
      "enter a letter a\n",
      "enter a letter d\n",
      "enter a letter f\n",
      "enter a letter g\n",
      "enter a letter h\n",
      "enter a letter u\n",
      "enter a letter i\n",
      "enter a letter f\n",
      "enter a letter d\n",
      "enter a letter o\n"
     ]
    },
    {
     "name": "stdout",
     "output_type": "stream",
     "text": [
      "auio\n"
     ]
    }
   ],
   "source": [
    "s = ''\n",
    "for i in range(10):\n",
    "    t = input('enter a letter')\n",
    "    if t in 'aeuio':\n",
    "        s = s+t\n",
    "print(s)"
   ]
  },
  {
   "cell_type": "code",
   "execution_count": 11,
   "metadata": {},
   "outputs": [
    {
     "data": {
      "text/plain": [
       "'n'"
      ]
     },
     "execution_count": 11,
     "metadata": {},
     "output_type": "execute_result"
    }
   ],
   "source": [
    "s = 'python'\n",
    "s[-1]"
   ]
  },
  {
   "cell_type": "code",
   "execution_count": 13,
   "metadata": {},
   "outputs": [
    {
     "data": {
      "text/plain": [
       "'y'"
      ]
     },
     "execution_count": 13,
     "metadata": {},
     "output_type": "execute_result"
    }
   ],
   "source": [
    "s = 'python'\n",
    "s[1]"
   ]
  },
  {
   "cell_type": "code",
   "execution_count": 14,
   "metadata": {},
   "outputs": [],
   "source": [
    "s = 'abcdefghijklmno'"
   ]
  },
  {
   "cell_type": "code",
   "execution_count": 23,
   "metadata": {},
   "outputs": [
    {
     "data": {
      "text/plain": [
       "'onmlkjihgfedcba'"
      ]
     },
     "execution_count": 23,
     "metadata": {},
     "output_type": "execute_result"
    }
   ],
   "source": [
    "s[::-1]"
   ]
  },
  {
   "cell_type": "code",
   "execution_count": 25,
   "metadata": {},
   "outputs": [
    {
     "data": {
      "text/plain": [
       "'abcdXfghijklmno'"
      ]
     },
     "execution_count": 25,
     "metadata": {},
     "output_type": "execute_result"
    }
   ],
   "source": [
    "s[:4]+'X'+s[5:]"
   ]
  },
  {
   "cell_type": "code",
   "execution_count": 26,
   "metadata": {},
   "outputs": [
    {
     "name": "stdout",
     "output_type": "stream",
     "text": [
      "a\n",
      "b\n",
      "c\n",
      "d\n",
      "e\n",
      "f\n",
      "g\n"
     ]
    }
   ],
   "source": [
    "s = 'abcdefg'\n",
    "for i in s:\n",
    "    print(i)"
   ]
  },
  {
   "cell_type": "code",
   "execution_count": 27,
   "metadata": {},
   "outputs": [
    {
     "name": "stdout",
     "output_type": "stream",
     "text": [
      "a\n",
      "b\n",
      "c\n",
      "d\n",
      "e\n",
      "f\n",
      "g\n"
     ]
    }
   ],
   "source": [
    "s = 'abcdefg'\n",
    "for i in range(len(s)):\n",
    "    print(s[i])"
   ]
  },
  {
   "cell_type": "code",
   "execution_count": 28,
   "metadata": {},
   "outputs": [],
   "source": [
    "r = 'AsdffrGhjkL'"
   ]
  },
  {
   "cell_type": "code",
   "execution_count": 30,
   "metadata": {},
   "outputs": [
    {
     "data": {
      "text/plain": [
       "'asdffrghjkl'"
      ]
     },
     "execution_count": 30,
     "metadata": {},
     "output_type": "execute_result"
    }
   ],
   "source": [
    "r.lower()"
   ]
  },
  {
   "cell_type": "code",
   "execution_count": 31,
   "metadata": {},
   "outputs": [
    {
     "data": {
      "text/plain": [
       "'ASDFFRGHJKL'"
      ]
     },
     "execution_count": 31,
     "metadata": {},
     "output_type": "execute_result"
    }
   ],
   "source": [
    "r.upper()"
   ]
  },
  {
   "cell_type": "code",
   "execution_count": 34,
   "metadata": {},
   "outputs": [
    {
     "data": {
      "text/plain": [
       "'AsDffrGhjkL'"
      ]
     },
     "execution_count": 34,
     "metadata": {},
     "output_type": "execute_result"
    }
   ],
   "source": [
    "r.replace('d','D')"
   ]
  },
  {
   "cell_type": "code",
   "execution_count": 36,
   "metadata": {},
   "outputs": [
    {
     "data": {
      "text/plain": [
       "1"
      ]
     },
     "execution_count": 36,
     "metadata": {},
     "output_type": "execute_result"
    }
   ],
   "source": [
    "r.count('d')"
   ]
  },
  {
   "cell_type": "code",
   "execution_count": 37,
   "metadata": {},
   "outputs": [
    {
     "data": {
      "text/plain": [
       "2"
      ]
     },
     "execution_count": 37,
     "metadata": {},
     "output_type": "execute_result"
    }
   ],
   "source": [
    "r.index('d')"
   ]
  },
  {
   "cell_type": "code",
   "execution_count": 38,
   "metadata": {},
   "outputs": [
    {
     "data": {
      "text/plain": [
       "True"
      ]
     },
     "execution_count": 38,
     "metadata": {},
     "output_type": "execute_result"
    }
   ],
   "source": [
    "r.isalpha()"
   ]
  },
  {
   "cell_type": "code",
   "execution_count": 39,
   "metadata": {},
   "outputs": [
    {
     "name": "stdin",
     "output_type": "stream",
     "text": [
      "enter a string s23455\n"
     ]
    },
    {
     "name": "stdout",
     "output_type": "stream",
     "text": [
      "your string begins with a letter\n",
      "the string has no letter!\n"
     ]
    }
   ],
   "source": [
    "s = input('enter a string')\n",
    "if s[0].isalpha():\n",
    "    print('your string begins with a letter')\n",
    "if not s.isalpha():\n",
    "    print('the string has no letter!')\n",
    "    "
   ]
  },
  {
   "cell_type": "code",
   "execution_count": 47,
   "metadata": {},
   "outputs": [
    {
     "name": "stdout",
     "output_type": "stream",
     "text": [
      "there is no z\n"
     ]
    }
   ],
   "source": [
    "s = 'abcde'\n",
    "if 'z' in s:\n",
    "    location = s.index('z')\n",
    "    print(location)\n",
    "else:\n",
    "    print('there is no z')"
   ]
  },
  {
   "cell_type": "code",
   "execution_count": 48,
   "metadata": {},
   "outputs": [
    {
     "name": "stdout",
     "output_type": "stream",
     "text": [
      "Hi\n",
      "\n",
      "\n",
      "there!\n"
     ]
    }
   ],
   "source": [
    "print('Hi\\n\\n\\nthere!')"
   ]
  },
  {
   "cell_type": "code",
   "execution_count": 50,
   "metadata": {},
   "outputs": [
    {
     "name": "stdout",
     "output_type": "stream",
     "text": [
      "I can't go\n"
     ]
    }
   ],
   "source": [
    "print('I can\\'t go')"
   ]
  },
  {
   "cell_type": "code",
   "execution_count": 51,
   "metadata": {},
   "outputs": [
    {
     "name": "stdout",
     "output_type": "stream",
     "text": [
      "I can't go\n"
     ]
    }
   ],
   "source": [
    "print(\"I can't go\")"
   ]
  },
  {
   "cell_type": "code",
   "execution_count": 52,
   "metadata": {},
   "outputs": [
    {
     "name": "stdout",
     "output_type": "stream",
     "text": [
      "Hi\n",
      "\n",
      "Eli\n"
     ]
    }
   ],
   "source": [
    "print('Hi')\n",
    "print()\n",
    "print('Eli')"
   ]
  },
  {
   "cell_type": "code",
   "execution_count": 54,
   "metadata": {},
   "outputs": [
    {
     "name": "stdout",
     "output_type": "stream",
     "text": [
      "Hi\n",
      "\n",
      "\n",
      "\n",
      "\n",
      "\n",
      "\n",
      "\n",
      "\n",
      "\n",
      "\n",
      "Eli\n"
     ]
    }
   ],
   "source": [
    "print('Hi')\n",
    "print('\\n'*9)\n",
    "print('Eli')"
   ]
  },
  {
   "cell_type": "code",
   "execution_count": 56,
   "metadata": {},
   "outputs": [
    {
     "name": "stdin",
     "output_type": "stream",
     "text": [
      "enter a string elham is a very good girl and every one love her\n"
     ]
    },
    {
     "name": "stdout",
     "output_type": "stream",
     "text": [
      "3 9 26 "
     ]
    }
   ],
   "source": [
    "s = input('enter a string')\n",
    "for i in range(len(s)):\n",
    "    if s[i]=='a':\n",
    "        print(i,end= ' ')"
   ]
  },
  {
   "cell_type": "code",
   "execution_count": 58,
   "metadata": {},
   "outputs": [
    {
     "name": "stdin",
     "output_type": "stream",
     "text": [
      "enter a string elham\n"
     ]
    },
    {
     "name": "stdout",
     "output_type": "stream",
     "text": [
      "eellhhaamm"
     ]
    }
   ],
   "source": [
    "s = input('enter a string')\n",
    "for i in range (len(s)):\n",
    "    print(s[i]*2,end='')"
   ]
  },
  {
   "cell_type": "code",
   "execution_count": 61,
   "metadata": {},
   "outputs": [
    {
     "name": "stdin",
     "output_type": "stream",
     "text": [
      "enter a string Elham\n"
     ]
    },
    {
     "name": "stdout",
     "output_type": "stream",
     "text": [
      "E El Elh Elha Elham "
     ]
    }
   ],
   "source": [
    "s = input('enter a string')\n",
    "for i in range(len(s)):\n",
    "    print(s[0:i+1],end = ' ')"
   ]
  },
  {
   "cell_type": "code",
   "execution_count": 1,
   "metadata": {},
   "outputs": [
    {
     "name": "stdin",
     "output_type": "stream",
     "text": [
      "enter a string Elham,. is comming\n"
     ]
    }
   ],
   "source": [
    "s = input('enter a string')\n",
    "s = s.lower()\n",
    "for i in ',.;?!':\n",
    "    s = s.replace(i,'')"
   ]
  },
  {
   "cell_type": "code",
   "execution_count": 2,
   "metadata": {},
   "outputs": [
    {
     "name": "stdin",
     "output_type": "stream",
     "text": [
      "enter a string Elham,. is comming\n"
     ]
    }
   ],
   "source": [
    "s = input('enter a string')\n",
    "s = s.lower()\n",
    "for c in ',.;:-?!()\\'\"':\n",
    "    s = s.replace(c, '')"
   ]
  },
  {
   "cell_type": "code",
   "execution_count": 3,
   "metadata": {},
   "outputs": [
    {
     "name": "stdin",
     "output_type": "stream",
     "text": [
      "enter a decimal number 45.5678\n"
     ]
    },
    {
     "name": "stdout",
     "output_type": "stream",
     "text": [
      ".5678\n"
     ]
    }
   ],
   "source": [
    "s = input('enter a decimal number')\n",
    "for i in range(len(s)):\n",
    "    if s[i]=='.':\n",
    "        print(s[i:])"
   ]
  },
  {
   "cell_type": "code",
   "execution_count": 5,
   "metadata": {},
   "outputs": [
    {
     "name": "stdin",
     "output_type": "stream",
     "text": [
      "enter a decimal number 456.886\n"
     ]
    },
    {
     "name": "stdout",
     "output_type": "stream",
     "text": [
      ".886\n"
     ]
    }
   ],
   "source": [
    "s = input('enter a decimal number')\n",
    "print(s[s.index('.'):])"
   ]
  },
  {
   "cell_type": "code",
   "execution_count": 8,
   "metadata": {},
   "outputs": [
    {
     "name": "stdin",
     "output_type": "stream",
     "text": [
      "enter a decimal number 345.8765\n"
     ]
    },
    {
     "name": "stdout",
     "output_type": "stream",
     "text": [
      "0.8765000000000214\n"
     ]
    }
   ],
   "source": [
    "n = eval(input('enter a decimal number'))\n",
    "print(n-floor(n))"
   ]
  },
  {
   "cell_type": "code",
   "execution_count": 6,
   "metadata": {},
   "outputs": [
    {
     "name": "stdin",
     "output_type": "stream",
     "text": [
      "enter a text asdfghjk\n"
     ]
    },
    {
     "name": "stdout",
     "output_type": "stream",
     "text": [
      "xolebghq"
     ]
    }
   ],
   "source": [
    "alphabet = 'abcdefghijklmnopqrstuvwxyz'\n",
    "key = 'xznlwebgjhqdyvtkfuompciasr'\n",
    "s = input('enter a text')\n",
    "for c in s:\n",
    "    if c.isalpha():\n",
    "        print(key[alphabet.index(c)],end='')"
   ]
  },
  {
   "cell_type": "code",
   "execution_count": 11,
   "metadata": {},
   "outputs": [
    {
     "name": "stdin",
     "output_type": "stream",
     "text": [
      "enter a string Asad456\n"
     ]
    },
    {
     "name": "stdout",
     "output_type": "stream",
     "text": [
      "the length of string is: 7\n",
      "Asad456Asad456Asad456Asad456Asad456Asad456Asad456Asad456Asad456Asad456\n",
      "A\n",
      "Asa\n",
      "456\n",
      "654dasA\n",
      "6\n",
      "sad45\n",
      "ASAD456\n",
      "Ased456\n",
      "Asad456\n",
      "       \n"
     ]
    }
   ],
   "source": [
    "s = input('enter a string')\n",
    "print('the length of string is:',len(s))\n",
    "print(s*10)\n",
    "print(s[0])\n",
    "print(s[0:3])\n",
    "print(s[-3:])\n",
    "print(s[::-1])\n",
    "if len(s)>=7:\n",
    "    print(s[6])\n",
    "else:\n",
    "    print('shorter than 7!')\n",
    "print(s[1:len(s)-1])\n",
    "print(s.upper())\n",
    "print(s.replace('a','e'))\n",
    "for c in s:\n",
    "    if c.isalpha():\n",
    "        s.replace(c,' ')\n",
    "print(s)\n",
    "for i in s:\n",
    "    s = s.replace(i,' ')\n",
    "print(s)"
   ]
  },
  {
   "cell_type": "code",
   "execution_count": 12,
   "metadata": {},
   "outputs": [
    {
     "name": "stdin",
     "output_type": "stream",
     "text": [
      "enter a string Eli is a good girl\n"
     ]
    },
    {
     "name": "stdout",
     "output_type": "stream",
     "text": [
      "There are 5 words\n"
     ]
    }
   ],
   "source": [
    "s = input('enter a string')\n",
    "count = 0\n",
    "for i in range(len(s)):\n",
    "    if s[i]==' ':\n",
    "        count = count +1\n",
    "print('There are', count+1, 'words')"
   ]
  },
  {
   "cell_type": "code",
   "execution_count": 13,
   "metadata": {},
   "outputs": [
    {
     "name": "stdin",
     "output_type": "stream",
     "text": [
      "enter a string (salam)hjklll(hg\n"
     ]
    },
    {
     "name": "stdout",
     "output_type": "stream",
     "text": [
      "NOT same number!\n"
     ]
    }
   ],
   "source": [
    "s = input('enter a string')\n",
    "count1 = 0\n",
    "count2 = 0\n",
    "for c in s:\n",
    "    if c=='(':\n",
    "        count1 = count1 +1\n",
    "    if c==')':\n",
    "        count2 = count2 +1\n",
    "if count1 == count2:\n",
    "    print('same number')\n",
    "else:\n",
    "    print('NOT same number!')\n",
    "        \n",
    "        "
   ]
  },
  {
   "cell_type": "code",
   "execution_count": 17,
   "metadata": {},
   "outputs": [
    {
     "name": "stdin",
     "output_type": "stream",
     "text": [
      "enter a string jkll\n"
     ]
    },
    {
     "name": "stdout",
     "output_type": "stream",
     "text": [
      "there is NO vowel!\n"
     ]
    }
   ],
   "source": [
    "s = input('enter a string')\n",
    "count = 0\n",
    "for c in s:\n",
    "    if c in 'aeiuo':\n",
    "        count =1\n",
    "if count==1:\n",
    "    print('there is at least one vowel!')\n",
    "else:\n",
    "    print('there is NO vowel!')"
   ]
  },
  {
   "cell_type": "code",
   "execution_count": 18,
   "metadata": {},
   "outputs": [
    {
     "name": "stdin",
     "output_type": "stream",
     "text": [
      "enter a string Elham\n"
     ]
    },
    {
     "name": "stdout",
     "output_type": "stream",
     "text": [
      "E*ham!!!\n"
     ]
    }
   ],
   "source": [
    "s = input('enter a string')\n",
    "new_string = s.replace(s[1],'*')\n",
    "new_string = new_string +'!!!'\n",
    "print(new_string)"
   ]
  },
  {
   "cell_type": "code",
   "execution_count": 21,
   "metadata": {},
   "outputs": [
    {
     "name": "stdin",
     "output_type": "stream",
     "text": [
      "enter a string Elham, is a hot girl.\n"
     ]
    },
    {
     "name": "stdout",
     "output_type": "stream",
     "text": [
      "elham is a hot girl\n"
     ]
    }
   ],
   "source": [
    "s = input('enter a string')\n",
    "s = s.lower()\n",
    "for c in s:\n",
    "    if c in '.,':\n",
    "        s = s.replace(c,'')\n",
    "print(s)"
   ]
  },
  {
   "cell_type": "code",
   "execution_count": 3,
   "metadata": {},
   "outputs": [
    {
     "name": "stdin",
     "output_type": "stream",
     "text": [
      "enter a word Paap\n"
     ]
    },
    {
     "name": "stdout",
     "output_type": "stream",
     "text": [
      "it is a palindrome \n"
     ]
    }
   ],
   "source": [
    "s = input('enter a word')\n",
    "s = s.lower()\n",
    "s_reverse = s[::-1]\n",
    "if s == s_reverse:\n",
    "    print('it is a palindrome ')\n",
    "else:\n",
    "    print('It is NOT')"
   ]
  },
  {
   "cell_type": "code",
   "execution_count": 9,
   "metadata": {},
   "outputs": [
    {
     "name": "stdin",
     "output_type": "stream",
     "text": [
      "how many emails? 2\n",
      "enter the email address eli@student.college.edu\n",
      "enter the email address eli@prof.college.edu\n"
     ]
    },
    {
     "name": "stdout",
     "output_type": "stream",
     "text": [
      "some prof email address!\n"
     ]
    }
   ],
   "source": [
    "count_stu = 0\n",
    "count_pro = 0\n",
    "num= eval(input('how many emails?'))\n",
    "for i in range(num):\n",
    "    email = input('enter the email address')\n",
    "    if '@prof.college.edu' in email:\n",
    "        count_pro = count_pro +1\n",
    "    elif '@student.college.edu' in email:\n",
    "        count_stu = count_stu +1\n",
    "if count_pro !=0:\n",
    "    print('some prof email address!')\n",
    "elif count_stu == num:\n",
    "    print('All student email adresses!')\n",
    "elif count_pro + count_stu != num:\n",
    "    print('some invalid emails!')    "
   ]
  },
  {
   "cell_type": "code",
   "execution_count": 11,
   "metadata": {},
   "outputs": [
    {
     "name": "stdin",
     "output_type": "stream",
     "text": [
      "enter a number 4\n"
     ]
    },
    {
     "name": "stdout",
     "output_type": "stream",
     "text": [
      " 1\n",
      "  2\n",
      "   3\n",
      "    4\n"
     ]
    }
   ],
   "source": [
    "num = eval(input('enter a number'))\n",
    "for i in range(num):\n",
    "    print(' '*i,i+1)"
   ]
  },
  {
   "cell_type": "code",
   "execution_count": 12,
   "metadata": {},
   "outputs": [
    {
     "name": "stdin",
     "output_type": "stream",
     "text": [
      "enter a string HEY\n"
     ]
    },
    {
     "name": "stdout",
     "output_type": "stream",
     "text": [
      "HH\n",
      "EE\n",
      "YY\n"
     ]
    }
   ],
   "source": [
    "s = input('enter a string')\n",
    "for i in range(len(s)):\n",
    "    print(s[i]*2)"
   ]
  },
  {
   "cell_type": "code",
   "execution_count": 2,
   "metadata": {},
   "outputs": [
    {
     "name": "stdin",
     "output_type": "stream",
     "text": [
      "enter a word containing letter a elhama\n"
     ]
    },
    {
     "name": "stdout",
     "output_type": "stream",
     "text": [
      "elha\n",
      "ma\n"
     ]
    }
   ],
   "source": [
    "s = input('enter a word containing letter a')\n",
    "fa = s.index('a')\n",
    "fa\n",
    "print(s[:fa+1])\n",
    "print(s[fa+1:])"
   ]
  },
  {
   "cell_type": "code",
   "execution_count": 22,
   "metadata": {},
   "outputs": [
    {
     "name": "stdin",
     "output_type": "stream",
     "text": [
      "enter a string efghjklkllllljhgff\n"
     ]
    },
    {
     "name": "stdout",
     "output_type": "stream",
     "text": [
      "eFgHjKlKlLlLlJhGfF"
     ]
    }
   ],
   "source": [
    "s = input('enter a string')\n",
    "us = s.upper()\n",
    "for i in range (0,len(s),2):\n",
    "    print(s[i],us[i+1],sep='',end='')\n",
    "    "
   ]
  },
  {
   "cell_type": "code",
   "execution_count": 5,
   "metadata": {},
   "outputs": [
    {
     "name": "stdin",
     "output_type": "stream",
     "text": [
      "enter string1-same length elha\n",
      "enter string2-same length AMIR\n"
     ]
    },
    {
     "name": "stdout",
     "output_type": "stream",
     "text": [
      "eAlMhIaR"
     ]
    }
   ],
   "source": [
    "s1 = input('enter string1-same length')\n",
    "s2 = input('enter string2-same length')\n",
    "if len(s1) != len(s2):\n",
    "    print('NOT the same length!')\n",
    "else:\n",
    "    for i in range(len(s1)):\n",
    "        print(s1[i],s2[i],sep='',end='')\n",
    "    \n"
   ]
  },
  {
   "cell_type": "code",
   "execution_count": 4,
   "metadata": {},
   "outputs": [
    {
     "name": "stdin",
     "output_type": "stream",
     "text": [
      "enter your name in lower case amir abbas najafi\n"
     ]
    },
    {
     "data": {
      "text/plain": [
       "'Amir Abbas Najafi'"
      ]
     },
     "execution_count": 4,
     "metadata": {},
     "output_type": "execute_result"
    }
   ],
   "source": [
    "s = input('enter your name in lower case')\n",
    "s = s[0].upper()+s[1:]\n",
    "for i in range(len(s)-2):\n",
    "    if s[i]==' ':\n",
    "        s = s[0:i+1]+s[i+1].upper()+s[i+2:len(s)]\n",
    "s"
   ]
  },
  {
   "cell_type": "code",
   "execution_count": 38,
   "metadata": {},
   "outputs": [
    {
     "name": "stdin",
     "output_type": "stream",
     "text": [
      "Enter a college class math\n",
      "Enter an adjective happy\n",
      "Enter an activity summation\n"
     ]
    },
    {
     "name": "stdout",
     "output_type": "stream",
     "text": [
      "mathclass was really happy today. We learned how to summation today in class. I can't wait for tomorrow's class!\n"
     ]
    }
   ],
   "source": [
    "s1 = input('Enter a college class')\n",
    "s2 = input('Enter an adjective')\n",
    "s3 = input('Enter an activity')\n",
    "t = s1 + 'class was really ' + s2 + ' today. We learned how to ' + s3 + ' today in class. I can\\'t wait for tomorrow\\'s class!'\n",
    "print(t)"
   ]
  },
  {
   "cell_type": "code",
   "execution_count": 42,
   "metadata": {},
   "outputs": [
    {
     "name": "stdin",
     "output_type": "stream",
     "text": [
      "enter your name Eli Nabi\n"
     ]
    },
    {
     "name": "stdout",
     "output_type": "stream",
     "text": [
      "Dear Eli Nabi,\n",
      "I am pleased to offer you our new Platinum P Eli, an offer ete for long, Eli, so cally.\n"
     ]
    }
   ],
   "source": [
    "s = input('enter your name')\n",
    "for i in range(len(s)):\n",
    "    if s[i]==' ':\n",
    "        n = s[0:i]\n",
    "t = 'Dear ' + s + ',\\nI am pleased to offer you our new Platinum P ' + n + ', an offer ete for long, ' + n + ', so cally.'\n",
    "print(t)"
   ]
  },
  {
   "cell_type": "code",
   "execution_count": 52,
   "metadata": {},
   "outputs": [
    {
     "name": "stdout",
     "output_type": "stream",
     "text": [
      "abcdefghijklmnopqrstuvwxyz\n",
      "bcdefghijklmnopqrstuvwxyza\n",
      "cdefghijklmnopqrstuvwxyzab\n",
      "defghijklmnopqrstuvwxyzabc\n",
      "efghijklmnopqrstuvwxyzabcd\n",
      "fghijklmnopqrstuvwxyzabcde\n",
      "ghijklmnopqrstuvwxyzabcdef\n",
      "hijklmnopqrstuvwxyzabcdefg\n",
      "ijklmnopqrstuvwxyzabcdefgh\n",
      "jklmnopqrstuvwxyzabcdefghi\n",
      "klmnopqrstuvwxyzabcdefghij\n",
      "lmnopqrstuvwxyzabcdefghijk\n",
      "mnopqrstuvwxyzabcdefghijkl\n",
      "nopqrstuvwxyzabcdefghijklm\n",
      "opqrstuvwxyzabcdefghijklmn\n",
      "pqrstuvwxyzabcdefghijklmno\n",
      "qrstuvwxyzabcdefghijklmnop\n",
      "rstuvwxyzabcdefghijklmnopq\n",
      "stuvwxyzabcdefghijklmnopqr\n",
      "tuvwxyzabcdefghijklmnopqrs\n",
      "uvwxyzabcdefghijklmnopqrst\n",
      "vwxyzabcdefghijklmnopqrstu\n",
      "wxyzabcdefghijklmnopqrstuv\n",
      "xyzabcdefghijklmnopqrstuvw\n",
      "yzabcdefghijklmnopqrstuvwx\n",
      "zabcdefghijklmnopqrstuvwxy\n"
     ]
    }
   ],
   "source": [
    "s = 'abcdefghijklmnopqrstuvwxyz'\n",
    "for i in range (len(s)):\n",
    "    t = s[i:len(s)]+s[0:i]\n",
    "    print(t)"
   ]
  },
  {
   "cell_type": "code",
   "execution_count": 12,
   "metadata": {},
   "outputs": [
    {
     "name": "stdin",
     "output_type": "stream",
     "text": [
      "enter a string anarak\n",
      "enter a letter a\n"
     ]
    },
    {
     "name": "stdout",
     "output_type": "stream",
     "text": [
      "Yes there is\n",
      "3\n",
      "0\n"
     ]
    }
   ],
   "source": [
    "s = input('enter a string')\n",
    "l = input('enter a letter')\n",
    "f1=0\n",
    "fo= -1\n",
    "count = 0\n",
    "for i in  range (len(s)):\n",
    "    if s[i]==l:\n",
    "        f1 = 1\n",
    "        count = count +1\n",
    "        if fo==-1:\n",
    "            fo=i\n",
    "    \n",
    "if f1==1:\n",
    "    print('Yes there is')\n",
    "else:\n",
    "    print('No there is not')\n",
    "print(count)\n",
    "print(fo)"
   ]
  },
  {
   "cell_type": "code",
   "execution_count": 18,
   "metadata": {},
   "outputs": [
    {
     "name": "stdin",
     "output_type": "stream",
     "text": [
      "enter large ienteger 23456789\n"
     ]
    },
    {
     "data": {
      "text/plain": [
       "2"
      ]
     },
     "execution_count": 18,
     "metadata": {},
     "output_type": "execute_result"
    }
   ],
   "source": [
    "n = input('enter large ienteger')\n",
    "k = len(n)%3\n",
    "if k==1 or k==2:\n",
    "    print(n[0:k]+)"
   ]
  },
  {
   "cell_type": "code",
   "execution_count": 19,
   "metadata": {},
   "outputs": [
    {
     "name": "stdin",
     "output_type": "stream",
     "text": [
      "enter large ienteger fghj\n"
     ]
    },
    {
     "data": {
      "text/plain": [
       "''"
      ]
     },
     "execution_count": 19,
     "metadata": {},
     "output_type": "execute_result"
    }
   ],
   "source": [
    "n = input('enter large ienteger')\n",
    "n[0:0]"
   ]
  },
  {
   "cell_type": "code",
   "execution_count": 22,
   "metadata": {},
   "outputs": [
    {
     "name": "stdin",
     "output_type": "stream",
     "text": [
      "enter the time, just hour 3\n",
      "enter the time, just minute 57\n",
      "am or pm? pm\n",
      "enter the original time zone Eastern\n",
      "enter the desired time zone Mountain\n"
     ]
    },
    {
     "name": "stdout",
     "output_type": "stream",
     "text": [
      "the desired time is: 1 : 57 pm\n"
     ]
    }
   ],
   "source": [
    "#Eastern, Central, Mountain, or Pacific\n",
    "#Central + 6h = Universal\n",
    "#Eastern + 5h = Universal\n",
    "#Mountain +7h = Universal\n",
    "#Pacific + 8h = Universal\n",
    "\n",
    "h = eval(input('enter the time, just hour'))\n",
    "m = input('enter the time, just minute')\n",
    "o = input('am or pm?')\n",
    "Ori = input('enter the original time zone')\n",
    "Des = input('enter the desired time zone')\n",
    "\n",
    "if Ori == 'Central':\n",
    "    Uh=h+6\n",
    "if Ori == 'Eastern':\n",
    "    Uh=h+5\n",
    "if Ori =='Mountain':\n",
    "    Uh=h+7\n",
    "if Ori == 'Pacific':\n",
    "    Uh=h+8\n",
    "    \n",
    "if Des == 'Central':\n",
    "    Nh=Uh-6\n",
    "if Des == 'Eastern':\n",
    "    Nh=Uh-5\n",
    "if Des =='Mountain':\n",
    "    Nh=Uh-7\n",
    "if Des == 'Pacific':\n",
    "    Nh=Uh-8\n",
    "\n",
    "if Nh<=12:\n",
    "    print('the desired time is:',Nh,':',m,o)\n",
    "if Nh>12 and o=='am':\n",
    "    print('the desired time is:',Nh%12,':',m,'pm')\n",
    "if Nh>12 and o=='pm':\n",
    "    print('the desired time is:',Nh%12,':',m,'am')\n",
    "    "
   ]
  },
  {
   "cell_type": "code",
   "execution_count": 26,
   "metadata": {},
   "outputs": [
    {
     "name": "stdin",
     "output_type": "stream",
     "text": [
      "enter a string elham\n"
     ]
    },
    {
     "name": "stdout",
     "output_type": "stream",
     "text": [
      "hamle\n"
     ]
    }
   ],
   "source": [
    "s = input('enter a string')\n",
    "sp =''\n",
    "for i in range(len(s)):\n",
    "    j = randint(0,len(s)-1)\n",
    "    sp = sp +s[j]\n",
    "    s = s[:j] + s[j+1:]\n",
    "print(sp)"
   ]
  },
  {
   "cell_type": "code",
   "execution_count": 5,
   "metadata": {},
   "outputs": [
    {
     "name": "stdin",
     "output_type": "stream",
     "text": [
      "enter a string elhamerfan\n"
     ]
    },
    {
     "name": "stdout",
     "output_type": "stream",
     "text": [
      "ehmralaefn\n"
     ]
    }
   ],
   "source": [
    "s = input('enter a string')\n",
    "t = ''\n",
    "for i in range (0,len(s),2):\n",
    "    t = t + s[i]\n",
    "for j in range (1,len(s),2):\n",
    "    t = t + s[j]\n",
    "    \n",
    "print(t)"
   ]
  },
  {
   "cell_type": "code",
   "execution_count": 18,
   "metadata": {},
   "outputs": [
    {
     "name": "stdin",
     "output_type": "stream",
     "text": [
      "enter a string ehmralaef\n"
     ]
    },
    {
     "name": "stdout",
     "output_type": "stream",
     "text": [
      "elhamerfa\n"
     ]
    }
   ],
   "source": [
    "s = input('enter a string')\n",
    "t = ''\n",
    "if len(s)/2 == floor(len(s)/2):\n",
    "    for i in range (0,floor(len(s)/2)):\n",
    "        t = t+s[i]+s[i+floor(len(s)/2)]\n",
    "if len(s)/2 != floor(len(s)/2):\n",
    "    for i in range (0,floor(len(s)/2)):\n",
    "        t = t+s[i]+s[i+(ceil(len(s)/2))]\n",
    "    t = t+s[floor(len(s)/2)]\n",
    "print(t)"
   ]
  },
  {
   "cell_type": "code",
   "execution_count": 4,
   "metadata": {},
   "outputs": [
    {
     "name": "stdin",
     "output_type": "stream",
     "text": [
      "enter a string secret message\n",
      "enter a number 3\n"
     ]
    },
    {
     "name": "stdout",
     "output_type": "stream",
     "text": [
      "sr sgeemsectea\n"
     ]
    }
   ],
   "source": [
    "s = input('enter a string')\n",
    "n = eval(input('enter a number'))\n",
    "t = ''\n",
    "for j in range(n):\n",
    "    for i in range (j,len(s),n):\n",
    "        t = t + s[i]\n",
    "    \n",
    "print(t)"
   ]
  },
  {
   "cell_type": "code",
   "execution_count": 6,
   "metadata": {},
   "outputs": [
    {
     "name": "stdin",
     "output_type": "stream",
     "text": [
      "enter a string sr sgeemsectea\n",
      "enter a number 3\n"
     ]
    },
    {
     "name": "stdout",
     "output_type": "stream",
     "text": [
      "sseeergmca est\n"
     ]
    }
   ],
   "source": [
    "s = input('enter a string')\n",
    "n = eval(input('enter a number'))\n",
    "t = ''\n",
    "r =len(s)%n\n",
    "m =len(s)//n\n",
    "for i in range (floor(len(s)/n)+1):\n",
    "    t = t+s[i]    \n",
    "    if r>0:\n",
    "        t = t+s[i+m+1]\n",
    "    if r ==0:\n",
    "        t = t+s[i+m]\n",
    "        \n",
    "    \n",
    "print(t)"
   ]
  },
  {
   "cell_type": "code",
   "execution_count": 5,
   "metadata": {},
   "outputs": [
    {
     "name": "stdin",
     "output_type": "stream",
     "text": [
      "enter a equation like x^n x^9\n"
     ]
    },
    {
     "name": "stdout",
     "output_type": "stream",
     "text": [
      "9x^8\n"
     ]
    }
   ],
   "source": [
    "s = input('enter a equation like x^n')\n",
    "print(s[2],s[0],'^',int(s[2])-1,sep='')\n"
   ]
  },
  {
   "cell_type": "code",
   "execution_count": null,
   "metadata": {},
   "outputs": [],
   "source": [
    "s = input('enter an algebraic expression')\n"
   ]
  },
  {
   "cell_type": "code",
   "execution_count": 26,
   "metadata": {},
   "outputs": [
    {
     "name": "stdin",
     "output_type": "stream",
     "text": [
      "enter a string as a number 12345678\n"
     ]
    },
    {
     "data": {
      "text/plain": [
       "'12,345,678'"
      ]
     },
     "execution_count": 26,
     "metadata": {},
     "output_type": "execute_result"
    }
   ],
   "source": [
    "s = input('enter a string as a number')\n",
    "for i in range (len(s)-3,0,-3):\n",
    "    s = s[:i]+','+s[i:]\n",
    "s"
   ]
  },
  {
   "cell_type": "code",
   "execution_count": 10,
   "metadata": {},
   "outputs": [
    {
     "name": "stdin",
     "output_type": "stream",
     "text": [
      "enter a string as a number asdfghjkl\n"
     ]
    },
    {
     "name": "stdout",
     "output_type": "stream",
     "text": [
      "asd,fgh,jkl 3 3\n"
     ]
    }
   ],
   "source": [
    "s = input('enter a string as a number')\n",
    "n = len(s)\n",
    "t = ''\n",
    "for i in range(len(s)-3,0,-3):\n",
    "    t = ','+ s[i:n] + t\n",
    "    n = i\n",
    "t = s[0:n] + t\n",
    "print(t,i,n)"
   ]
  },
  {
   "cell_type": "code",
   "execution_count": null,
   "metadata": {},
   "outputs": [],
   "source": [
    "\n"
   ]
  },
  {
   "cell_type": "code",
   "execution_count": null,
   "metadata": {},
   "outputs": [],
   "source": []
  }
 ],
 "metadata": {
  "kernelspec": {
   "display_name": "Python 3",
   "language": "python",
   "name": "python3"
  },
  "language_info": {
   "codemirror_mode": {
    "name": "ipython",
    "version": 3
   },
   "file_extension": ".py",
   "mimetype": "text/x-python",
   "name": "python",
   "nbconvert_exporter": "python",
   "pygments_lexer": "ipython3",
   "version": "3.7.5"
  }
 },
 "nbformat": 4,
 "nbformat_minor": 4
}
