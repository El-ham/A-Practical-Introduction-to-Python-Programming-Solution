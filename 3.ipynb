{
 "cells": [
  {
   "cell_type": "code",
   "execution_count": 10,
   "metadata": {},
   "outputs": [],
   "source": [
    "from random import randint"
   ]
  },
  {
   "cell_type": "code",
   "execution_count": 43,
   "metadata": {},
   "outputs": [],
   "source": [
    "import math\n",
    "from math import *\n"
   ]
  },
  {
   "cell_type": "code",
   "execution_count": 3,
   "metadata": {},
   "outputs": [
    {
     "name": "stdout",
     "output_type": "stream",
     "text": [
      "a random number between 1 and 10 is: 5\n"
     ]
    }
   ],
   "source": [
    "x=randint(1,10)\n",
    "print('a random number between 1 and 10 is:',x)"
   ]
  },
  {
   "cell_type": "code",
   "execution_count": 14,
   "metadata": {},
   "outputs": [
    {
     "name": "stdout",
     "output_type": "stream",
     "text": [
      "the pi is: 3.141592653589793\n",
      "sin0 is: 0.0\n"
     ]
    }
   ],
   "source": [
    "print('the pi is:',pi)\n",
    "print('sin0 is:',sin(0))"
   ]
  },
  {
   "cell_type": "code",
   "execution_count": 15,
   "metadata": {},
   "outputs": [
    {
     "data": {
      "text/plain": [
       "5.4"
      ]
     },
     "execution_count": 15,
     "metadata": {},
     "output_type": "execute_result"
    }
   ],
   "source": [
    "abs(-5.4)"
   ]
  },
  {
   "cell_type": "code",
   "execution_count": 16,
   "metadata": {},
   "outputs": [
    {
     "data": {
      "text/plain": [
       "65.57"
      ]
     },
     "execution_count": 16,
     "metadata": {},
     "output_type": "execute_result"
    }
   ],
   "source": [
    "round(65.5678,2)"
   ]
  },
  {
   "cell_type": "code",
   "execution_count": 17,
   "metadata": {},
   "outputs": [
    {
     "data": {
      "text/plain": [
       "7700.0"
      ]
     },
     "execution_count": 17,
     "metadata": {},
     "output_type": "execute_result"
    }
   ],
   "source": [
    "round(7678.345,-2)"
   ]
  },
  {
   "cell_type": "code",
   "execution_count": 18,
   "metadata": {},
   "outputs": [
    {
     "name": "stdout",
     "output_type": "stream",
     "text": [
      "Help on built-in function floor in module math:\n",
      "\n",
      "floor(x, /)\n",
      "    Return the floor of x as an Integral.\n",
      "    \n",
      "    This is the largest integer <= x.\n",
      "\n"
     ]
    }
   ],
   "source": [
    "help(math.floor)"
   ]
  },
  {
   "cell_type": "code",
   "execution_count": 19,
   "metadata": {},
   "outputs": [
    {
     "data": {
      "text/plain": [
       "['__doc__',\n",
       " '__loader__',\n",
       " '__name__',\n",
       " '__package__',\n",
       " '__spec__',\n",
       " 'acos',\n",
       " 'acosh',\n",
       " 'asin',\n",
       " 'asinh',\n",
       " 'atan',\n",
       " 'atan2',\n",
       " 'atanh',\n",
       " 'ceil',\n",
       " 'copysign',\n",
       " 'cos',\n",
       " 'cosh',\n",
       " 'degrees',\n",
       " 'e',\n",
       " 'erf',\n",
       " 'erfc',\n",
       " 'exp',\n",
       " 'expm1',\n",
       " 'fabs',\n",
       " 'factorial',\n",
       " 'floor',\n",
       " 'fmod',\n",
       " 'frexp',\n",
       " 'fsum',\n",
       " 'gamma',\n",
       " 'gcd',\n",
       " 'hypot',\n",
       " 'inf',\n",
       " 'isclose',\n",
       " 'isfinite',\n",
       " 'isinf',\n",
       " 'isnan',\n",
       " 'ldexp',\n",
       " 'lgamma',\n",
       " 'log',\n",
       " 'log10',\n",
       " 'log1p',\n",
       " 'log2',\n",
       " 'modf',\n",
       " 'nan',\n",
       " 'pi',\n",
       " 'pow',\n",
       " 'radians',\n",
       " 'remainder',\n",
       " 'sin',\n",
       " 'sinh',\n",
       " 'sqrt',\n",
       " 'tan',\n",
       " 'tanh',\n",
       " 'tau',\n",
       " 'trunc']"
      ]
     },
     "execution_count": 19,
     "metadata": {},
     "output_type": "execute_result"
    }
   ],
   "source": [
    "dir(math)"
   ]
  },
  {
   "cell_type": "code",
   "execution_count": 21,
   "metadata": {},
   "outputs": [
    {
     "data": {
      "text/plain": [
       "1.6448340718480652"
      ]
     },
     "execution_count": 21,
     "metadata": {},
     "output_type": "execute_result"
    }
   ],
   "source": [
    "s=0\n",
    "for n in range(1,10001):\n",
    "    s=s+1/(n**2)\n",
    "s"
   ]
  },
  {
   "cell_type": "code",
   "execution_count": 24,
   "metadata": {},
   "outputs": [
    {
     "data": {
      "text/plain": [
       "3628800"
      ]
     },
     "execution_count": 24,
     "metadata": {},
     "output_type": "execute_result"
    }
   ],
   "source": [
    "factorial(10)"
   ]
  },
  {
   "cell_type": "code",
   "execution_count": 29,
   "metadata": {},
   "outputs": [
    {
     "name": "stdout",
     "output_type": "stream",
     "text": [
      "6 5 3 5 5 3 3 3 3 3 3 5 5 6 5 6 4 5 5 6 5 5 5 4 6 4 4 5 6 4 5 5 6 3 5 5 6 3 5 3 4 5 6 3 4 6 4 3 6 5 "
     ]
    }
   ],
   "source": [
    "for i in range(50):\n",
    "    print(randint(3,6),end=' ')"
   ]
  },
  {
   "cell_type": "code",
   "execution_count": 32,
   "metadata": {},
   "outputs": [
    {
     "name": "stdout",
     "output_type": "stream",
     "text": [
      "x, y and x power y are: 5 4 625\n"
     ]
    }
   ],
   "source": [
    "x = randint(1,50)\n",
    "y = randint(2,5)\n",
    "print('x, y and x power y are:',x,y,x**y)"
   ]
  },
  {
   "cell_type": "code",
   "execution_count": 38,
   "metadata": {},
   "outputs": [
    {
     "name": "stdout",
     "output_type": "stream",
     "text": [
      "3 ElhamElhamElham\n"
     ]
    }
   ],
   "source": [
    "x = randint(1,10)\n",
    "print(x,'Elham'*x)"
   ]
  },
  {
   "cell_type": "code",
   "execution_count": 53,
   "metadata": {},
   "outputs": [
    {
     "data": {
      "text/plain": [
       "5.52"
      ]
     },
     "execution_count": 53,
     "metadata": {},
     "output_type": "execute_result"
    }
   ],
   "source": [
    "x = random.uniform(1,10)\n",
    "round(x,2)"
   ]
  },
  {
   "cell_type": "code",
   "execution_count": 54,
   "metadata": {},
   "outputs": [
    {
     "name": "stdout",
     "output_type": "stream",
     "text": [
      "1\n",
      "2\n",
      "2\n",
      "5\n",
      "6\n",
      "4\n",
      "5\n",
      "6\n",
      "4\n",
      "3\n",
      "2\n",
      "8\n",
      "5\n",
      "5\n",
      "5\n",
      "10\n",
      "5\n",
      "14\n",
      "19\n",
      "8\n",
      "14\n",
      "20\n",
      "10\n",
      "8\n",
      "12\n",
      "10\n",
      "13\n",
      "24\n",
      "23\n",
      "7\n",
      "22\n",
      "10\n",
      "11\n",
      "19\n",
      "25\n",
      "37\n",
      "26\n",
      "9\n",
      "27\n",
      "10\n",
      "11\n",
      "28\n",
      "36\n",
      "38\n",
      "35\n",
      "3\n",
      "37\n",
      "42\n",
      "19\n",
      "41\n"
     ]
    }
   ],
   "source": [
    "for i in range (0,50):\n",
    "    print(randint(1,(i+2)))    "
   ]
  },
  {
   "cell_type": "code",
   "execution_count": 57,
   "metadata": {},
   "outputs": [
    {
     "name": "stdin",
     "output_type": "stream",
     "text": [
      "enter number1 2\n",
      "enter number2 3\n"
     ]
    },
    {
     "name": "stdout",
     "output_type": "stream",
     "text": [
      "the result is: 0.2\n"
     ]
    }
   ],
   "source": [
    "x = eval(input('enter number1'))\n",
    "y = eval(input('enter number2')) \n",
    "print('the result is:', (abs(x-y))/(x+y))"
   ]
  },
  {
   "cell_type": "code",
   "execution_count": 58,
   "metadata": {},
   "outputs": [
    {
     "name": "stdin",
     "output_type": "stream",
     "text": [
      "enter an angle -20\n"
     ]
    },
    {
     "name": "stdout",
     "output_type": "stream",
     "text": [
      "the angle is equivalent to: 160\n"
     ]
    }
   ],
   "source": [
    "a = eval(input('enter an angle'))\n",
    "print('the angle is equivalent to:', a+180)"
   ]
  },
  {
   "cell_type": "code",
   "execution_count": 60,
   "metadata": {},
   "outputs": [
    {
     "name": "stdin",
     "output_type": "stream",
     "text": [
      "enter a number of seconds 200\n"
     ]
    },
    {
     "name": "stdout",
     "output_type": "stream",
     "text": [
      "min and sec are: 3 20\n"
     ]
    }
   ],
   "source": [
    "x = eval(input('enter a number of seconds'))\n",
    "min = x//60\n",
    "se = x%60\n",
    "print('min and sec are:', min, se)"
   ]
  },
  {
   "cell_type": "code",
   "execution_count": 62,
   "metadata": {},
   "outputs": [
    {
     "name": "stdin",
     "output_type": "stream",
     "text": [
      "enter a number between 1 and 12 8\n",
      "how many hours ahead? 5\n"
     ]
    },
    {
     "name": "stdout",
     "output_type": "stream",
     "text": [
      "new hour is: 1\n"
     ]
    }
   ],
   "source": [
    "x = eval(input('enter a number between 1 and 12'))\n",
    "y = eval(input('how many hours ahead?'))\n",
    "print('new hour is:', (x+y)%12)"
   ]
  },
  {
   "cell_type": "code",
   "execution_count": 65,
   "metadata": {},
   "outputs": [
    {
     "name": "stdin",
     "output_type": "stream",
     "text": [
      "enter a power 4\n"
     ]
    },
    {
     "name": "stdout",
     "output_type": "stream",
     "text": [
      "last_digit = 6\n"
     ]
    }
   ],
   "source": [
    "x = eval(input('enter a power'))\n",
    "y = 2**x\n",
    "print('last_digit =',y%10)"
   ]
  },
  {
   "cell_type": "code",
   "execution_count": 66,
   "metadata": {},
   "outputs": [
    {
     "name": "stdin",
     "output_type": "stream",
     "text": [
      "enter a power 10\n"
     ]
    },
    {
     "name": "stdout",
     "output_type": "stream",
     "text": [
      "last_digit = 24\n"
     ]
    }
   ],
   "source": [
    "x = eval(input('enter a power'))\n",
    "y = 2**x\n",
    "print('last_digit =',y%100)"
   ]
  },
  {
   "cell_type": "code",
   "execution_count": 68,
   "metadata": {},
   "outputs": [
    {
     "name": "stdin",
     "output_type": "stream",
     "text": [
      "how many digits? 3\n",
      "enter a power 9\n"
     ]
    },
    {
     "name": "stdout",
     "output_type": "stream",
     "text": [
      "last d digit is= 512\n"
     ]
    }
   ],
   "source": [
    "d = eval(input('how many digits?'))\n",
    "x = eval(input('enter a power'))\n",
    "y = 2**x\n",
    "print('last d digit is=',y%(10**d))"
   ]
  },
  {
   "cell_type": "code",
   "execution_count": 69,
   "metadata": {},
   "outputs": [
    {
     "name": "stdin",
     "output_type": "stream",
     "text": [
      "weight in kg? 63\n"
     ]
    },
    {
     "name": "stdout",
     "output_type": "stream",
     "text": [
      "the weight in pound is: 140.0\n"
     ]
    }
   ],
   "source": [
    "w = eval(input('weight in kg?'))\n",
    "print('the weight in pound is:',round((2.2*w),-1))"
   ]
  },
  {
   "cell_type": "code",
   "execution_count": 72,
   "metadata": {},
   "outputs": [
    {
     "name": "stdin",
     "output_type": "stream",
     "text": [
      "enter a number 5\n"
     ]
    },
    {
     "name": "stdout",
     "output_type": "stream",
     "text": [
      "120\n"
     ]
    }
   ],
   "source": [
    "w = eval(input('enter a number'))\n",
    "r=1\n",
    "for i in range (1,w+1):\n",
    "    r = i*r\n",
    "print(r)"
   ]
  },
  {
   "cell_type": "code",
   "execution_count": 77,
   "metadata": {},
   "outputs": [
    {
     "name": "stdin",
     "output_type": "stream",
     "text": [
      "enter a number 0\n"
     ]
    },
    {
     "name": "stdout",
     "output_type": "stream",
     "text": [
      "0.0 1.0 0.0\n"
     ]
    }
   ],
   "source": [
    "x = eval(input('enter a number'))\n",
    "print(sin(x),cos(x),tan(x))"
   ]
  },
  {
   "cell_type": "code",
   "execution_count": 81,
   "metadata": {},
   "outputs": [
    {
     "name": "stdin",
     "output_type": "stream",
     "text": [
      "enter an angle in degrees 90\n"
     ]
    },
    {
     "name": "stdout",
     "output_type": "stream",
     "text": [
      "1.0\n"
     ]
    }
   ],
   "source": [
    "x = eval(input('enter an angle in degrees'))\n",
    "print(sin((2*pi)*x/360))"
   ]
  },
  {
   "cell_type": "code",
   "execution_count": 85,
   "metadata": {},
   "outputs": [
    {
     "name": "stdout",
     "output_type": "stream",
     "text": [
      "0 0.0 1.0\n",
      "15 0.2588 0.9659\n",
      "30 0.5 0.866\n",
      "45 0.7071 0.7071\n",
      "60 0.866 0.5\n",
      "75 0.9659 0.2588\n",
      "90 1.0 0.0\n",
      "105 0.9659 -0.2588\n",
      "120 0.866 -0.5\n",
      "135 0.7071 -0.7071\n",
      "150 0.5 -0.866\n",
      "165 0.2588 -0.9659\n",
      "180 0.0 -1.0\n",
      "195 -0.2588 -0.9659\n",
      "210 -0.5 -0.866\n",
      "225 -0.7071 -0.7071\n",
      "240 -0.866 -0.5\n",
      "255 -0.9659 -0.2588\n",
      "270 -1.0 -0.0\n",
      "285 -0.9659 0.2588\n",
      "300 -0.866 0.5\n",
      "315 -0.7071 0.7071\n",
      "330 -0.5 0.866\n",
      "345 -0.2588 0.9659\n"
     ]
    }
   ],
   "source": [
    "for i in range (0,346,15):\n",
    "    print(i, round(sin((2*pi)*i/360),4),round(cos((2*pi)*i/360),4))"
   ]
  },
  {
   "cell_type": "code",
   "execution_count": 100,
   "metadata": {},
   "outputs": [
    {
     "name": "stdin",
     "output_type": "stream",
     "text": [
      "enter a year in full four digits 1880\n"
     ]
    },
    {
     "name": "stdout",
     "output_type": "stream",
     "text": [
      "it is on: March 28\n"
     ]
    }
   ],
   "source": [
    "Y = eval(input('enter a year in full four digits'))\n",
    "C = Y//100\n",
    "m = (15+C-floor(C/4)-floor((8*C+13)/25))%30\n",
    "n = (4+C-floor(C/4))%7\n",
    "a = Y%4\n",
    "b = Y%7\n",
    "c = Y%19\n",
    "d = (19*c+m)%30\n",
    "e = (2*a+4*b+6*d+n)%7\n",
    "if (d==29 and e==6):\n",
    "    print('it is on: April 19')\n",
    "elif (d==28 and e==6 and m in (2,5,10,13,16,21,24,39)):\n",
    "    print('it is on: April 18')\n",
    "elif 1<=(22+d+e)<=31:\n",
    "    print('it is on: March',22+d+e)\n",
    "elif 1<=(d+e-9)<=31:\n",
    "    print('it is on: April', d+e-9)"
   ]
  },
  {
   "cell_type": "code",
   "execution_count": 102,
   "metadata": {},
   "outputs": [
    {
     "name": "stdin",
     "output_type": "stream",
     "text": [
      "insert a year above 1600 2010\n"
     ]
    },
    {
     "name": "stdout",
     "output_type": "stream",
     "text": [
      "1 1600\n",
      "2 1604\n",
      "3 1608\n",
      "4 1612\n",
      "5 1616\n",
      "6 1620\n",
      "7 1624\n",
      "8 1628\n",
      "9 1632\n",
      "10 1636\n",
      "11 1640\n",
      "12 1644\n",
      "13 1648\n",
      "14 1652\n",
      "15 1656\n",
      "16 1660\n",
      "17 1664\n",
      "18 1668\n",
      "19 1672\n",
      "20 1676\n",
      "21 1680\n",
      "22 1684\n",
      "23 1688\n",
      "24 1692\n",
      "25 1696\n",
      "26 1704\n",
      "27 1708\n",
      "28 1712\n",
      "29 1716\n",
      "30 1720\n",
      "31 1724\n",
      "32 1728\n",
      "33 1732\n",
      "34 1736\n",
      "35 1740\n",
      "36 1744\n",
      "37 1748\n",
      "38 1752\n",
      "39 1756\n",
      "40 1760\n",
      "41 1764\n",
      "42 1768\n",
      "43 1772\n",
      "44 1776\n",
      "45 1780\n",
      "46 1784\n",
      "47 1788\n",
      "48 1792\n",
      "49 1796\n",
      "50 1804\n",
      "51 1808\n",
      "52 1812\n",
      "53 1816\n",
      "54 1820\n",
      "55 1824\n",
      "56 1828\n",
      "57 1832\n",
      "58 1836\n",
      "59 1840\n",
      "60 1844\n",
      "61 1848\n",
      "62 1852\n",
      "63 1856\n",
      "64 1860\n",
      "65 1864\n",
      "66 1868\n",
      "67 1872\n",
      "68 1876\n",
      "69 1880\n",
      "70 1884\n",
      "71 1888\n",
      "72 1892\n",
      "73 1896\n",
      "74 1904\n",
      "75 1908\n",
      "76 1912\n",
      "77 1916\n",
      "78 1920\n",
      "79 1924\n",
      "80 1928\n",
      "81 1932\n",
      "82 1936\n",
      "83 1940\n",
      "84 1944\n",
      "85 1948\n",
      "86 1952\n",
      "87 1956\n",
      "88 1960\n",
      "89 1964\n",
      "90 1968\n",
      "91 1972\n",
      "92 1976\n",
      "93 1980\n",
      "94 1984\n",
      "95 1988\n",
      "96 1992\n",
      "97 1996\n",
      "98 2000\n",
      "99 2004\n",
      "100 2008\n"
     ]
    }
   ],
   "source": [
    "x = eval(input('insert a year above 1600'))\n",
    "count = 0\n",
    "for i in range (1600,x):\n",
    "    if ((i%4==0) and (i%100!=0)) or ((i%100==0) and (i%400==0)):\n",
    "        count = count+1\n",
    "        print(count,i)"
   ]
  },
  {
   "cell_type": "code",
   "execution_count": 105,
   "metadata": {},
   "outputs": [
    {
     "name": "stdin",
     "output_type": "stream",
     "text": [
      "enter a number less than 100 pennies 84\n"
     ]
    },
    {
     "name": "stdout",
     "output_type": "stream",
     "text": [
      "the money, Q, D, N and P are: 84 3 0 1 4\n"
     ]
    }
   ],
   "source": [
    "x = eval(input('enter a number less than 100 pennies'))\n",
    "Q = x//25\n",
    "D = (x%25)//10\n",
    "N = (x-(Q*25)-(D*10))//5\n",
    "P = x-(Q*25)-(D*10)-(N*5)\n",
    "print('the money, Q, D, N and P are:',x,Q,D,N,P)"
   ]
  },
  {
   "cell_type": "code",
   "execution_count": 8,
   "metadata": {},
   "outputs": [
    {
     "name": "stdin",
     "output_type": "stream",
     "text": [
      "enter the width 5\n",
      "enter the height 3\n"
     ]
    },
    {
     "name": "stdout",
     "output_type": "stream",
     "text": [
      "0 1 2 3 4 \n",
      "5 6 7 8 9 \n",
      "0 1 2 3 4 \n"
     ]
    }
   ],
   "source": [
    "w = eval(input('enter the width'))\n",
    "h = eval(input('enter the height'))\n",
    "n=0\n",
    "for i in range (h):\n",
    "    for j in range(w):\n",
    "        print(n%10,end=' ')\n",
    "        n=n+1      \n",
    "    print()"
   ]
  },
  {
   "cell_type": "code",
   "execution_count": null,
   "metadata": {},
   "outputs": [],
   "source": []
  },
  {
   "cell_type": "code",
   "execution_count": null,
   "metadata": {},
   "outputs": [],
   "source": []
  }
 ],
 "metadata": {
  "kernelspec": {
   "display_name": "Python 3",
   "language": "python",
   "name": "python3"
  },
  "language_info": {
   "codemirror_mode": {
    "name": "ipython",
    "version": 3
   },
   "file_extension": ".py",
   "mimetype": "text/x-python",
   "name": "python",
   "nbconvert_exporter": "python",
   "pygments_lexer": "ipython3",
   "version": "3.7.3"
  }
 },
 "nbformat": 4,
 "nbformat_minor": 2
}
