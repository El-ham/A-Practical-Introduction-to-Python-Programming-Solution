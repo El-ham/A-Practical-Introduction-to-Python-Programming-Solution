{
 "cells": [
  {
   "cell_type": "code",
   "execution_count": 1,
   "metadata": {},
   "outputs": [],
   "source": [
    "from math import*\n",
    "from random import *"
   ]
  },
  {
   "cell_type": "code",
   "execution_count": 2,
   "metadata": {
    "collapsed": true,
    "jupyter": {
     "outputs_hidden": true
    }
   },
   "outputs": [
    {
     "name": "stdout",
     "output_type": "stream",
     "text": [
      "1\n",
      "2\n",
      "3\n",
      "4\n",
      "5\n",
      "6\n",
      "7\n",
      "8\n",
      "9\n",
      "11\n",
      "22\n",
      "33\n",
      "44\n",
      "55\n",
      "66\n",
      "77\n",
      "88\n",
      "99\n",
      "101\n",
      "111\n",
      "121\n",
      "131\n",
      "141\n",
      "151\n",
      "161\n",
      "171\n",
      "181\n",
      "191\n",
      "202\n",
      "212\n",
      "222\n",
      "232\n",
      "242\n",
      "252\n",
      "262\n",
      "272\n",
      "282\n",
      "292\n",
      "303\n",
      "313\n",
      "323\n",
      "333\n",
      "343\n",
      "353\n",
      "363\n",
      "373\n",
      "383\n",
      "393\n",
      "404\n",
      "414\n",
      "424\n",
      "434\n",
      "444\n",
      "454\n",
      "464\n",
      "474\n",
      "484\n",
      "494\n",
      "505\n",
      "515\n",
      "525\n",
      "535\n",
      "545\n",
      "555\n",
      "565\n",
      "575\n",
      "585\n",
      "595\n",
      "606\n",
      "616\n",
      "626\n",
      "636\n",
      "646\n",
      "656\n",
      "666\n",
      "676\n",
      "686\n",
      "696\n",
      "707\n",
      "717\n",
      "727\n",
      "737\n",
      "747\n",
      "757\n",
      "767\n",
      "777\n",
      "787\n",
      "797\n",
      "808\n",
      "818\n",
      "828\n",
      "838\n",
      "848\n",
      "858\n",
      "868\n",
      "878\n",
      "888\n",
      "898\n",
      "909\n",
      "919\n",
      "929\n",
      "939\n",
      "949\n",
      "959\n",
      "969\n",
      "979\n",
      "989\n",
      "999\n",
      "1001\n",
      "1111\n",
      "1221\n",
      "1331\n",
      "1441\n",
      "1551\n",
      "1661\n",
      "1771\n",
      "1881\n",
      "1991\n",
      "2002\n",
      "2112\n",
      "2222\n",
      "2332\n",
      "2442\n",
      "2552\n",
      "2662\n",
      "2772\n",
      "2882\n",
      "2992\n",
      "3003\n",
      "3113\n",
      "3223\n",
      "3333\n",
      "3443\n",
      "3553\n",
      "3663\n",
      "3773\n",
      "3883\n",
      "3993\n",
      "4004\n",
      "4114\n",
      "4224\n",
      "4334\n",
      "4444\n",
      "4554\n",
      "4664\n",
      "4774\n",
      "4884\n",
      "4994\n",
      "5005\n",
      "5115\n",
      "5225\n",
      "5335\n",
      "5445\n",
      "5555\n",
      "5665\n",
      "5775\n",
      "5885\n",
      "5995\n",
      "6006\n",
      "6116\n",
      "6226\n",
      "6336\n",
      "6446\n",
      "6556\n",
      "6666\n",
      "6776\n",
      "6886\n",
      "6996\n",
      "7007\n",
      "7117\n",
      "7227\n",
      "7337\n",
      "7447\n",
      "7557\n",
      "7667\n",
      "7777\n",
      "7887\n",
      "7997\n",
      "8008\n",
      "8118\n",
      "8228\n",
      "8338\n",
      "8448\n",
      "8558\n",
      "8668\n",
      "8778\n",
      "8888\n",
      "8998\n",
      "9009\n",
      "9119\n",
      "9229\n",
      "9339\n",
      "9449\n",
      "9559\n",
      "9669\n",
      "9779\n",
      "9889\n",
      "9999\n"
     ]
    }
   ],
   "source": [
    "for i in  range(1,10001):\n",
    "    if str(i)==str(i)[::-1]:\n",
    "        print(i)"
   ]
  },
  {
   "cell_type": "code",
   "execution_count": 4,
   "metadata": {},
   "outputs": [
    {
     "data": {
      "text/plain": [
       "19"
      ]
     },
     "execution_count": 4,
     "metadata": {},
     "output_type": "execute_result"
    }
   ],
   "source": [
    "t='January 1, 1991'\n",
    "a= 2010-int(t[-4:])\n",
    "a"
   ]
  },
  {
   "cell_type": "code",
   "execution_count": 5,
   "metadata": {},
   "outputs": [
    {
     "name": "stdin",
     "output_type": "stream",
     "text": [
      "enter a 2-digit number 34\n"
     ]
    },
    {
     "data": {
      "text/plain": [
       "7"
      ]
     },
     "execution_count": 5,
     "metadata": {},
     "output_type": "execute_result"
    }
   ],
   "source": [
    "num=input('enter a 2-digit number')\n",
    "j=int(num[0])+int(num[1])\n",
    "j\n"
   ]
  },
  {
   "cell_type": "code",
   "execution_count": 8,
   "metadata": {},
   "outputs": [
    {
     "name": "stdin",
     "output_type": "stream",
     "text": [
      "enter a number 1366\n"
     ]
    },
    {
     "data": {
      "text/plain": [
       "16"
      ]
     },
     "execution_count": 8,
     "metadata": {},
     "output_type": "execute_result"
    }
   ],
   "source": [
    "num=eval(input('enter a number'))\n",
    "s=str(num)\n",
    "j=0\n",
    "for i in range(len(s)):\n",
    "    j=j+int(s[i])\n",
    "j"
   ]
  },
  {
   "cell_type": "code",
   "execution_count": 9,
   "metadata": {},
   "outputs": [
    {
     "name": "stdout",
     "output_type": "stream",
     "text": [
      "345 0.6429999999999723\n"
     ]
    }
   ],
   "source": [
    "num=345.643\n",
    "a=int(num)\n",
    "d=num-a\n",
    "print(a,d)"
   ]
  },
  {
   "cell_type": "code",
   "execution_count": 10,
   "metadata": {
    "collapsed": true,
    "jupyter": {
     "outputs_hidden": true
    }
   },
   "outputs": [
    {
     "name": "stdout",
     "output_type": "stream",
     "text": [
      "1\n",
      "2\n",
      "3\n",
      "4\n",
      "5\n",
      "6\n",
      "7\n",
      "8\n",
      "9\n",
      "11\n",
      "22\n",
      "33\n",
      "44\n",
      "55\n",
      "66\n",
      "77\n",
      "88\n",
      "99\n",
      "101\n",
      "111\n",
      "121\n",
      "131\n",
      "141\n",
      "151\n",
      "161\n",
      "171\n",
      "181\n",
      "191\n",
      "202\n",
      "212\n",
      "222\n",
      "232\n",
      "242\n",
      "252\n",
      "262\n",
      "272\n",
      "282\n",
      "292\n",
      "303\n",
      "313\n",
      "323\n",
      "333\n",
      "343\n",
      "353\n",
      "363\n",
      "373\n",
      "383\n",
      "393\n",
      "404\n",
      "414\n",
      "424\n",
      "434\n",
      "444\n",
      "454\n",
      "464\n",
      "474\n",
      "484\n",
      "494\n",
      "505\n",
      "515\n",
      "525\n",
      "535\n",
      "545\n",
      "555\n",
      "565\n",
      "575\n",
      "585\n",
      "595\n",
      "606\n",
      "616\n",
      "626\n",
      "636\n",
      "646\n",
      "656\n",
      "666\n",
      "676\n",
      "686\n",
      "696\n",
      "707\n",
      "717\n",
      "727\n",
      "737\n",
      "747\n",
      "757\n",
      "767\n",
      "777\n",
      "787\n",
      "797\n",
      "808\n",
      "818\n",
      "828\n",
      "838\n",
      "848\n",
      "858\n",
      "868\n",
      "878\n",
      "888\n",
      "898\n",
      "909\n",
      "919\n",
      "929\n",
      "939\n",
      "949\n",
      "959\n",
      "969\n",
      "979\n",
      "989\n",
      "999\n",
      "1001\n",
      "1111\n",
      "1221\n",
      "1331\n",
      "1441\n",
      "1551\n",
      "1661\n",
      "1771\n",
      "1881\n",
      "1991\n",
      "2002\n",
      "2112\n",
      "2222\n",
      "2332\n",
      "2442\n",
      "2552\n",
      "2662\n",
      "2772\n",
      "2882\n",
      "2992\n",
      "3003\n",
      "3113\n",
      "3223\n",
      "3333\n",
      "3443\n",
      "3553\n",
      "3663\n",
      "3773\n",
      "3883\n",
      "3993\n",
      "4004\n",
      "4114\n",
      "4224\n",
      "4334\n",
      "4444\n",
      "4554\n",
      "4664\n",
      "4774\n",
      "4884\n",
      "4994\n",
      "5005\n",
      "5115\n",
      "5225\n",
      "5335\n",
      "5445\n",
      "5555\n",
      "5665\n",
      "5775\n",
      "5885\n",
      "5995\n",
      "6006\n",
      "6116\n",
      "6226\n",
      "6336\n",
      "6446\n",
      "6556\n",
      "6666\n",
      "6776\n",
      "6886\n",
      "6996\n",
      "7007\n",
      "7117\n",
      "7227\n",
      "7337\n",
      "7447\n",
      "7557\n",
      "7667\n",
      "7777\n",
      "7887\n",
      "7997\n",
      "8008\n",
      "8118\n",
      "8228\n",
      "8338\n",
      "8448\n",
      "8558\n",
      "8668\n",
      "8778\n",
      "8888\n",
      "8998\n",
      "9009\n",
      "9119\n",
      "9229\n",
      "9339\n",
      "9449\n",
      "9559\n",
      "9669\n",
      "9779\n",
      "9889\n",
      "9999\n"
     ]
    }
   ],
   "source": [
    "for i in range(1,10001):\n",
    "    if str(i)==str(i)[::-1]:\n",
    "        print(i)"
   ]
  },
  {
   "cell_type": "code",
   "execution_count": 11,
   "metadata": {},
   "outputs": [
    {
     "data": {
      "text/plain": [
       "19"
      ]
     },
     "execution_count": 11,
     "metadata": {},
     "output_type": "execute_result"
    }
   ],
   "source": [
    "s='January 1, 1991'\n",
    "#2010\n",
    "r=2010-int(s[-4:])\n",
    "r"
   ]
  },
  {
   "cell_type": "code",
   "execution_count": 12,
   "metadata": {},
   "outputs": [
    {
     "name": "stdin",
     "output_type": "stream",
     "text": [
      "enter a num 1322\n"
     ]
    },
    {
     "data": {
      "text/plain": [
       "8"
      ]
     },
     "execution_count": 12,
     "metadata": {},
     "output_type": "execute_result"
    }
   ],
   "source": [
    "num=eval(input('enter a num'))\n",
    "s=str(num)\n",
    "j=0\n",
    "for i in range(len(s)):\n",
    "    j=j+int(s[i])\n",
    "j"
   ]
  },
  {
   "cell_type": "code",
   "execution_count": 14,
   "metadata": {},
   "outputs": [
    {
     "data": {
      "text/plain": [
       "0.23449999999999704"
      ]
     },
     "execution_count": 14,
     "metadata": {},
     "output_type": "execute_result"
    }
   ],
   "source": [
    "num=234.2345\n",
    "i=int(num)\n",
    "f=num-i\n",
    "f"
   ]
  },
  {
   "cell_type": "code",
   "execution_count": 16,
   "metadata": {},
   "outputs": [
    {
     "data": {
      "text/plain": [
       "True"
      ]
     },
     "execution_count": 16,
     "metadata": {},
     "output_type": "execute_result"
    }
   ],
   "source": [
    "x=(6==6)\n",
    "x"
   ]
  },
  {
   "cell_type": "code",
   "execution_count": 19,
   "metadata": {},
   "outputs": [
    {
     "data": {
      "text/plain": [
       "False"
      ]
     },
     "execution_count": 19,
     "metadata": {},
     "output_type": "execute_result"
    }
   ],
   "source": [
    "s='fghj22kl'\n",
    "s.isalpha()"
   ]
  },
  {
   "cell_type": "code",
   "execution_count": null,
   "metadata": {},
   "outputs": [],
   "source": [
    "n=n+1\n",
    "n+=1\n",
    "k=k-3\n",
    "k-=3\n",
    "j=j*2\n",
    "j*=2"
   ]
  },
  {
   "cell_type": "code",
   "execution_count": 3,
   "metadata": {},
   "outputs": [
    {
     "data": {
      "text/plain": [
       "['dfgfz', 'dfkjz34']"
      ]
     },
     "execution_count": 3,
     "metadata": {},
     "output_type": "execute_result"
    }
   ],
   "source": [
    "L=['sdfffg','dff','dfgfz','dfkjz34','tytre']\n",
    "n=[i for i in L if len(i)>=5 and i[4]=='z']\n",
    "n"
   ]
  },
  {
   "cell_type": "code",
   "execution_count": 6,
   "metadata": {},
   "outputs": [
    {
     "data": {
      "text/plain": [
       "'$5.9'"
      ]
     },
     "execution_count": 6,
     "metadata": {},
     "output_type": "execute_result"
    }
   ],
   "source": [
    "g='$23.60'\n",
    "r=0.25*float(g[1:])\n",
    "n='$'+str(r)\n",
    "n"
   ]
  },
  {
   "cell_type": "code",
   "execution_count": 10,
   "metadata": {},
   "outputs": [
    {
     "name": "stdout",
     "output_type": "stream",
     "text": [
      "  1   2   3   4   5   6   7   8   9  10 \n",
      "  2   4   6   8  10  12  14  16  18  20 \n",
      "  3   6   9  12  15  18  21  24  27  30 \n",
      "  4   8  12  16  20  24  28  32  36  40 \n",
      "  5  10  15  20  25  30  35  40  45  50 \n",
      "  6  12  18  24  30  36  42  48  54  60 \n",
      "  7  14  21  28  35  42  49  56  63  70 \n",
      "  8  16  24  32  40  48  56  64  72  80 \n",
      "  9  18  27  36  45  54  63  72  81  90 \n",
      " 10  20  30  40  50  60  70  80  90 100 \n"
     ]
    }
   ],
   "source": [
    "for i in range(1,11):\n",
    "    for j in range(1,11):\n",
    "        print('{:3d}'.format(i*j), end=' ')\n",
    "    print()"
   ]
  },
  {
   "cell_type": "code",
   "execution_count": null,
   "metadata": {},
   "outputs": [],
   "source": [
    "all the integer\n",
    "solutions (x, y) to the system 2x + 3y = 4, x − y = 7, where x and y are both between -50 and 50"
   ]
  },
  {
   "cell_type": "code",
   "execution_count": 11,
   "metadata": {},
   "outputs": [
    {
     "name": "stdout",
     "output_type": "stream",
     "text": [
      "5 -2\n"
     ]
    }
   ],
   "source": [
    "for x in range(-50,51):\n",
    "    for y in range(-50,51):\n",
    "        if ((2*x)+(3*y)==4) and (x-y==7):\n",
    "            print(x,y)"
   ]
  },
  {
   "cell_type": "code",
   "execution_count": 1,
   "metadata": {},
   "outputs": [
    {
     "data": {
      "text/plain": [
       "'$5.9'"
      ]
     },
     "execution_count": 1,
     "metadata": {},
     "output_type": "execute_result"
    }
   ],
   "source": [
    "s='$23.60'\n",
    "\n",
    "n=float(s[1:])*0.25\n",
    "p='$'+str(n)\n",
    "p\n"
   ]
  },
  {
   "cell_type": "code",
   "execution_count": 4,
   "metadata": {},
   "outputs": [
    {
     "name": "stdout",
     "output_type": "stream",
     "text": [
      "  1   2   3   4   5   6   7   8   9  10 \n",
      "  2   4   6   8  10  12  14  16  18  20 \n",
      "  3   6   9  12  15  18  21  24  27  30 \n",
      "  4   8  12  16  20  24  28  32  36  40 \n",
      "  5  10  15  20  25  30  35  40  45  50 \n",
      "  6  12  18  24  30  36  42  48  54  60 \n",
      "  7  14  21  28  35  42  49  56  63  70 \n",
      "  8  16  24  32  40  48  56  64  72  80 \n",
      "  9  18  27  36  45  54  63  72  81  90 \n",
      " 10  20  30  40  50  60  70  80  90 100 \n"
     ]
    }
   ],
   "source": [
    "for i in range(1,11):\n",
    "    for j in range(1,11):\n",
    "        print('{:3d}'.format(i*j),end=' ')\n",
    "    print()"
   ]
  },
  {
   "cell_type": "code",
   "execution_count": 11,
   "metadata": {},
   "outputs": [
    {
     "name": "stdout",
     "output_type": "stream",
     "text": [
      "5 -2\n"
     ]
    }
   ],
   "source": [
    "for x in range(-50,51):\n",
    "    for y in range(-50,51):\n",
    "        if 2*x + 3*y == 4 and x-y == 7:\n",
    "            print(x,y)\n",
    "        "
   ]
  },
  {
   "cell_type": "code",
   "execution_count": 19,
   "metadata": {
    "collapsed": true,
    "jupyter": {
     "outputs_hidden": true
    }
   },
   "outputs": [
    {
     "name": "stdout",
     "output_type": "stream",
     "text": [
      "3 4 5\n",
      "5 12 13\n",
      "7 24 25\n",
      "8 15 17\n",
      "9 40 41\n",
      "11 60 61\n",
      "12 35 37\n",
      "13 84 85\n",
      "16 63 65\n",
      "20 21 29\n",
      "28 45 53\n",
      "33 56 65\n",
      "36 77 85\n",
      "39 80 89\n",
      "48 55 73\n",
      "65 72 97\n"
     ]
    }
   ],
   "source": [
    "for x in range(1,100):\n",
    "    for y in range (x,100):\n",
    "        for z in range(y,100):\n",
    "            if x**2 + y**2 == z**2:\n",
    "                for i in range(2,x):\n",
    "                    if x%i==0 and y%i==0 and z%i==0:\n",
    "                        break\n",
    "                else:\n",
    "                    print(x,y,z)"
   ]
  },
  {
   "cell_type": "code",
   "execution_count": 24,
   "metadata": {},
   "outputs": [
    {
     "data": {
      "text/plain": [
       "'pyyttthhhhooooonnnnnn'"
      ]
     },
     "execution_count": 24,
     "metadata": {},
     "output_type": "execute_result"
    }
   ],
   "source": [
    "s='python'\n",
    "''.join([s[i]*(i+1) for i in range(len(s))])"
   ]
  },
  {
   "cell_type": "code",
   "execution_count": 26,
   "metadata": {
    "collapsed": true,
    "jupyter": {
     "outputs_hidden": true
    }
   },
   "outputs": [
    {
     "data": {
      "text/plain": [
       "[3,\n",
       " 6,\n",
       " 9,\n",
       " 12,\n",
       " 15,\n",
       " 18,\n",
       " 21,\n",
       " 24,\n",
       " 27,\n",
       " 30,\n",
       " 33,\n",
       " 36,\n",
       " 39,\n",
       " 42,\n",
       " 45,\n",
       " 48,\n",
       " 51,\n",
       " 54,\n",
       " 57,\n",
       " 60,\n",
       " 63,\n",
       " 66,\n",
       " 69,\n",
       " 72,\n",
       " 75,\n",
       " 78,\n",
       " 81,\n",
       " 84,\n",
       " 87,\n",
       " 90,\n",
       " 93,\n",
       " 96,\n",
       " 99]"
      ]
     },
     "execution_count": 26,
     "metadata": {},
     "output_type": "execute_result"
    }
   ],
   "source": [
    "L=[]\n",
    "i=3\n",
    "while i<100:\n",
    "    L.append(i)\n",
    "    i=i+3\n",
    "L"
   ]
  },
  {
   "cell_type": "code",
   "execution_count": 29,
   "metadata": {},
   "outputs": [
    {
     "data": {
      "text/plain": [
       "[1, 2, 3, 6, 9]"
      ]
     },
     "execution_count": 29,
     "metadata": {},
     "output_type": "execute_result"
    }
   ],
   "source": [
    "L=[1,6,2,9,3]\n",
    "L.sort()\n",
    "L"
   ]
  },
  {
   "cell_type": "code",
   "execution_count": 38,
   "metadata": {},
   "outputs": [
    {
     "name": "stdin",
     "output_type": "stream",
     "text": [
      "enter a string elhama\n"
     ]
    },
    {
     "data": {
      "text/plain": [
       "'aaehlm'"
      ]
     },
     "execution_count": 38,
     "metadata": {},
     "output_type": "execute_result"
    }
   ],
   "source": [
    "s=input('enter a string')\n",
    "L=list(s)\n",
    "K=[]\n",
    "M=[]\n",
    "for i in range(len(L)):\n",
    "    M.append(ord(L[i]))\n",
    "M.sort()\n",
    "for j in range(len(M)):\n",
    "    K.append(chr(M[j]))\n",
    "f=''.join(K)\n",
    "f\n"
   ]
  },
  {
   "cell_type": "code",
   "execution_count": 41,
   "metadata": {},
   "outputs": [
    {
     "name": "stdout",
     "output_type": "stream",
     "text": [
      "p $ 8.9 \n",
      "a $ 12.46 \n",
      "b $ 40.05 \n",
      "o $ 17.8 \n",
      "e $ 11.57 \n"
     ]
    }
   ],
   "source": [
    "L=['p','a','b','o','e']\n",
    "G=[10,14,45,20,13]\n",
    "for i in range(5):\n",
    "    print(L[i], '$',G[i]*0.89, end=' ')\n",
    "    print()"
   ]
  },
  {
   "cell_type": "code",
   "execution_count": 7,
   "metadata": {},
   "outputs": [
    {
     "name": "stdout",
     "output_type": "stream",
     "text": [
      "yes ['123']\n"
     ]
    }
   ],
   "source": [
    "flag=0\n",
    "L=['ahmad','123','thjm']\n",
    "K=['ygf','67','sdf','123','hmad']\n",
    "T=[]\n",
    "for i in range(len(L)):\n",
    "    for j in range(len(K)):\n",
    "        if L[i]==K[j]:\n",
    "            flag=1\n",
    "            T.append(L[i])\n",
    "if flag==0:\n",
    "    print('Nothing')\n",
    "if flag==1:\n",
    "    print('yes',T)"
   ]
  },
  {
   "cell_type": "code",
   "execution_count": 11,
   "metadata": {
    "collapsed": true,
    "jupyter": {
     "outputs_hidden": true
    }
   },
   "outputs": [
    {
     "data": {
      "text/plain": [
       "['1',\n",
       " '11',\n",
       " '111',\n",
       " '1111',\n",
       " '11111',\n",
       " '111111',\n",
       " '1111111',\n",
       " '11111111',\n",
       " '111111111',\n",
       " '1111111111',\n",
       " '11111111111',\n",
       " '111111111111',\n",
       " '1111111111111',\n",
       " '11111111111111',\n",
       " '111111111111111',\n",
       " '1111111111111111',\n",
       " '11111111111111111',\n",
       " '111111111111111111',\n",
       " '1111111111111111111',\n",
       " '11111111111111111111',\n",
       " '111111111111111111111',\n",
       " '1111111111111111111111',\n",
       " '11111111111111111111111',\n",
       " '111111111111111111111111',\n",
       " '1111111111111111111111111',\n",
       " '11111111111111111111111111',\n",
       " '111111111111111111111111111',\n",
       " '1111111111111111111111111111',\n",
       " '11111111111111111111111111111',\n",
       " '111111111111111111111111111111',\n",
       " '1111111111111111111111111111111',\n",
       " '11111111111111111111111111111111',\n",
       " '111111111111111111111111111111111',\n",
       " '1111111111111111111111111111111111',\n",
       " '11111111111111111111111111111111111',\n",
       " '111111111111111111111111111111111111',\n",
       " '1111111111111111111111111111111111111',\n",
       " '11111111111111111111111111111111111111',\n",
       " '111111111111111111111111111111111111111',\n",
       " '1111111111111111111111111111111111111111',\n",
       " '11111111111111111111111111111111111111111',\n",
       " '111111111111111111111111111111111111111111',\n",
       " '1111111111111111111111111111111111111111111',\n",
       " '11111111111111111111111111111111111111111111',\n",
       " '111111111111111111111111111111111111111111111',\n",
       " '1111111111111111111111111111111111111111111111',\n",
       " '11111111111111111111111111111111111111111111111',\n",
       " '111111111111111111111111111111111111111111111111',\n",
       " '1111111111111111111111111111111111111111111111111',\n",
       " '11111111111111111111111111111111111111111111111111',\n",
       " '111111111111111111111111111111111111111111111111111',\n",
       " '1111111111111111111111111111111111111111111111111111',\n",
       " '11111111111111111111111111111111111111111111111111111',\n",
       " '111111111111111111111111111111111111111111111111111111',\n",
       " '1111111111111111111111111111111111111111111111111111111',\n",
       " '11111111111111111111111111111111111111111111111111111111',\n",
       " '111111111111111111111111111111111111111111111111111111111',\n",
       " '1111111111111111111111111111111111111111111111111111111111',\n",
       " '11111111111111111111111111111111111111111111111111111111111',\n",
       " '111111111111111111111111111111111111111111111111111111111111',\n",
       " '1111111111111111111111111111111111111111111111111111111111111',\n",
       " '11111111111111111111111111111111111111111111111111111111111111',\n",
       " '111111111111111111111111111111111111111111111111111111111111111',\n",
       " '1111111111111111111111111111111111111111111111111111111111111111',\n",
       " '11111111111111111111111111111111111111111111111111111111111111111',\n",
       " '111111111111111111111111111111111111111111111111111111111111111111',\n",
       " '1111111111111111111111111111111111111111111111111111111111111111111',\n",
       " '11111111111111111111111111111111111111111111111111111111111111111111',\n",
       " '111111111111111111111111111111111111111111111111111111111111111111111',\n",
       " '1111111111111111111111111111111111111111111111111111111111111111111111',\n",
       " '11111111111111111111111111111111111111111111111111111111111111111111111',\n",
       " '111111111111111111111111111111111111111111111111111111111111111111111111',\n",
       " '1111111111111111111111111111111111111111111111111111111111111111111111111',\n",
       " '11111111111111111111111111111111111111111111111111111111111111111111111111',\n",
       " '111111111111111111111111111111111111111111111111111111111111111111111111111',\n",
       " '1111111111111111111111111111111111111111111111111111111111111111111111111111',\n",
       " '11111111111111111111111111111111111111111111111111111111111111111111111111111',\n",
       " '111111111111111111111111111111111111111111111111111111111111111111111111111111',\n",
       " '1111111111111111111111111111111111111111111111111111111111111111111111111111111',\n",
       " '11111111111111111111111111111111111111111111111111111111111111111111111111111111',\n",
       " '111111111111111111111111111111111111111111111111111111111111111111111111111111111',\n",
       " '1111111111111111111111111111111111111111111111111111111111111111111111111111111111',\n",
       " '11111111111111111111111111111111111111111111111111111111111111111111111111111111111',\n",
       " '111111111111111111111111111111111111111111111111111111111111111111111111111111111111',\n",
       " '1111111111111111111111111111111111111111111111111111111111111111111111111111111111111',\n",
       " '11111111111111111111111111111111111111111111111111111111111111111111111111111111111111',\n",
       " '111111111111111111111111111111111111111111111111111111111111111111111111111111111111111',\n",
       " '1111111111111111111111111111111111111111111111111111111111111111111111111111111111111111',\n",
       " '11111111111111111111111111111111111111111111111111111111111111111111111111111111111111111',\n",
       " '111111111111111111111111111111111111111111111111111111111111111111111111111111111111111111',\n",
       " '1111111111111111111111111111111111111111111111111111111111111111111111111111111111111111111',\n",
       " '11111111111111111111111111111111111111111111111111111111111111111111111111111111111111111111',\n",
       " '111111111111111111111111111111111111111111111111111111111111111111111111111111111111111111111',\n",
       " '1111111111111111111111111111111111111111111111111111111111111111111111111111111111111111111111',\n",
       " '11111111111111111111111111111111111111111111111111111111111111111111111111111111111111111111111',\n",
       " '111111111111111111111111111111111111111111111111111111111111111111111111111111111111111111111111',\n",
       " '1111111111111111111111111111111111111111111111111111111111111111111111111111111111111111111111111',\n",
       " '11111111111111111111111111111111111111111111111111111111111111111111111111111111111111111111111111',\n",
       " '111111111111111111111111111111111111111111111111111111111111111111111111111111111111111111111111111',\n",
       " '1111111111111111111111111111111111111111111111111111111111111111111111111111111111111111111111111111']"
      ]
     },
     "execution_count": 11,
     "metadata": {},
     "output_type": "execute_result"
    }
   ],
   "source": [
    "L=[]\n",
    "for i in range(1,101):\n",
    "    L.append('1'*i)\n",
    "L"
   ]
  },
  {
   "cell_type": "code",
   "execution_count": 10,
   "metadata": {},
   "outputs": [
    {
     "data": {
      "text/plain": [
       "'111'"
      ]
     },
     "execution_count": 10,
     "metadata": {},
     "output_type": "execute_result"
    }
   ],
   "source": [
    "s='1'*3\n",
    "s"
   ]
  },
  {
   "cell_type": "code",
   "execution_count": 10,
   "metadata": {
    "collapsed": true,
    "jupyter": {
     "outputs_hidden": true
    }
   },
   "outputs": [
    {
     "name": "stdout",
     "output_type": "stream",
     "text": [
      "56\n",
      "126\n",
      "196\n",
      "266\n",
      "336\n",
      "406\n",
      "476\n",
      "546\n",
      "616\n",
      "686\n",
      "756\n",
      "826\n",
      "896\n",
      "966\n"
     ]
    }
   ],
   "source": [
    "for i in range(1,1001):\n",
    "    if i%7==0 and str(i)[-1]=='6':\n",
    "        print(i)"
   ]
  },
  {
   "cell_type": "code",
   "execution_count": 13,
   "metadata": {},
   "outputs": [
    {
     "name": "stdout",
     "output_type": "stream",
     "text": [
      "3439\n"
     ]
    }
   ],
   "source": [
    "count=0\n",
    "L=[]\n",
    "for i in range(1,10001):\n",
    "    if '3' in str(i):\n",
    "        count=count+1\n",
    "        L.append(i)\n",
    "print(count)\n",
    "        "
   ]
  },
  {
   "cell_type": "code",
   "execution_count": 24,
   "metadata": {
    "collapsed": true,
    "jupyter": {
     "outputs_hidden": true
    }
   },
   "outputs": [
    {
     "data": {
      "text/plain": [
       "['One of Hearts',\n",
       " 'One of Diamonds',\n",
       " 'One of Clubs',\n",
       " 'One of Spades',\n",
       " 'Two of Hearts',\n",
       " 'Two of Diamonds',\n",
       " 'Two of Clubs',\n",
       " 'Two of Spades',\n",
       " 'Three of Hearts',\n",
       " 'Three of Diamonds',\n",
       " 'Three of Clubs',\n",
       " 'Three of Spades',\n",
       " 'Four of Hearts',\n",
       " 'Four of Diamonds',\n",
       " 'Four of Clubs',\n",
       " 'Four of Spades',\n",
       " 'Five of Hearts',\n",
       " 'Five of Diamonds',\n",
       " 'Five of Clubs',\n",
       " 'Five of Spades',\n",
       " 'Six of Hearts',\n",
       " 'Six of Diamonds',\n",
       " 'Six of Clubs',\n",
       " 'Six of Spades',\n",
       " 'Seven of Hearts',\n",
       " 'Seven of Diamonds',\n",
       " 'Seven of Clubs',\n",
       " 'Seven of Spades',\n",
       " 'Eight of Hearts',\n",
       " 'Eight of Diamonds',\n",
       " 'Eight of Clubs',\n",
       " 'Eight of Spades',\n",
       " 'Nine of Hearts',\n",
       " 'Nine of Diamonds',\n",
       " 'Nine of Clubs',\n",
       " 'Nine of Spades',\n",
       " 'Ten of Hearts',\n",
       " 'Ten of Diamonds',\n",
       " 'Ten of Clubs',\n",
       " 'Ten of Spades',\n",
       " 'Jack of Hearts',\n",
       " 'Jack of Diamonds',\n",
       " 'Jack of Clubs',\n",
       " 'Jack of Spades',\n",
       " 'Queen of Hearts',\n",
       " 'Queen of Diamonds',\n",
       " 'Queen of Clubs',\n",
       " 'Queen of Spades',\n",
       " 'King of Hearts',\n",
       " 'King of Diamonds',\n",
       " 'King of Clubs',\n",
       " 'King of Spades',\n",
       " 'Ace of Hearts',\n",
       " 'Ace of Diamonds',\n",
       " 'Ace of Clubs',\n",
       " 'Ace of Spades']"
      ]
     },
     "execution_count": 24,
     "metadata": {},
     "output_type": "execute_result"
    }
   ],
   "source": [
    "suits = ['Hearts', 'Diamonds', 'Clubs', 'Spades']\n",
    "values = ['One', 'Two', 'Three', 'Four', 'Five', 'Six', 'Seven', 'Eight', 'Nine', 'Ten', 'Jack', 'Queen', 'King', 'Ace']\n",
    "L=[]\n",
    "for i in range(len(values)):\n",
    "    for j in range(len(suits)):\n",
    "        L.append(values[i]+' of '+ suits[j])\n",
    "L"
   ]
  },
  {
   "cell_type": "code",
   "execution_count": null,
   "metadata": {},
   "outputs": [],
   "source": []
  },
  {
   "cell_type": "code",
   "execution_count": 3,
   "metadata": {
    "collapsed": true,
    "jupyter": {
     "outputs_hidden": true
    }
   },
   "outputs": [
    {
     "data": {
      "text/plain": [
       "[[11, 22],\n",
       " [12, 33],\n",
       " [13, 44],\n",
       " [14, 55],\n",
       " [15, 66],\n",
       " [16, 77],\n",
       " [17, 88],\n",
       " [18, 99],\n",
       " [110, 121],\n",
       " [21, 33],\n",
       " [22, 44],\n",
       " [23, 55],\n",
       " [24, 66],\n",
       " [25, 77],\n",
       " [26, 88],\n",
       " [27, 99],\n",
       " [110, 121],\n",
       " [29, 121],\n",
       " [31, 44],\n",
       " [32, 55],\n",
       " [33, 66],\n",
       " [34, 77],\n",
       " [35, 88],\n",
       " [36, 99],\n",
       " [110, 121],\n",
       " [38, 121],\n",
       " [132, 363],\n",
       " [41, 55],\n",
       " [42, 66],\n",
       " [43, 77],\n",
       " [44, 88],\n",
       " [45, 99],\n",
       " [110, 121],\n",
       " [47, 121],\n",
       " [132, 363],\n",
       " [143, 484],\n",
       " [51, 66],\n",
       " [52, 77],\n",
       " [53, 88],\n",
       " [54, 99],\n",
       " [110, 121],\n",
       " [56, 121],\n",
       " [132, 363],\n",
       " [143, 484],\n",
       " [605, 1111],\n",
       " [61, 77],\n",
       " [62, 88],\n",
       " [63, 99],\n",
       " [110, 121],\n",
       " [65, 121],\n",
       " [132, 363],\n",
       " [143, 484],\n",
       " [605, 1111],\n",
       " [1353, 4884],\n",
       " [71, 88],\n",
       " [72, 99],\n",
       " [110, 121],\n",
       " [74, 121],\n",
       " [132, 363],\n",
       " [143, 484],\n",
       " [605, 1111],\n",
       " [1353, 4884],\n",
       " [14003, 44044],\n",
       " [81, 99],\n",
       " [110, 121],\n",
       " [83, 121],\n",
       " [132, 363],\n",
       " [143, 484],\n",
       " [605, 1111],\n",
       " [1353, 4884],\n",
       " [14003, 44044],\n",
       " [110, 121],\n",
       " [92, 121],\n",
       " [132, 363],\n",
       " [143, 484],\n",
       " [605, 1111],\n",
       " [1353, 4884],\n",
       " [14003, 44044],\n",
       " [40293, 79497]]"
      ]
     },
     "execution_count": 3,
     "metadata": {},
     "output_type": "execute_result"
    }
   ],
   "source": [
    "L=[]\n",
    "for s in range(10,100):\n",
    "    m=int(str(s)[::-1])\n",
    "    if int(str(s)[::-1]) in range(10,100):\n",
    "        count=1\n",
    "        while count<21:\n",
    "            n=s+int(str(s)[::-1])\n",
    "            if str(n)==str(n)[::-1]:\n",
    "                L.append([s,n])\n",
    "                break\n",
    "            else:\n",
    "                count=count+1\n",
    "                s=n\n",
    "L"
   ]
  },
  {
   "cell_type": "code",
   "execution_count": 3,
   "metadata": {},
   "outputs": [
    {
     "data": {
      "text/plain": [
       "12"
      ]
     },
     "execution_count": 3,
     "metadata": {},
     "output_type": "execute_result"
    }
   ],
   "source": [
    "s=21\n",
    "int(str(s)[::-1])"
   ]
  },
  {
   "cell_type": "code",
   "execution_count": 41,
   "metadata": {},
   "outputs": [
    {
     "name": "stdout",
     "output_type": "stream",
     "text": [
      "[[11, 11, 22], [12, 21, 33], [13, 31, 44], [14, 41, 55], [15, 51, 66], [16, 61, 77], [17, 71, 88], [18, 81, 99], [110, 11, 121], [21, 12, 33], [22, 22, 44], [23, 32, 55], [24, 42, 66], [25, 52, 77], [26, 62, 88], [27, 72, 99], [29, 92, 121], [31, 13, 44], [32, 23, 55], [33, 33, 66], [34, 43, 77], [35, 53, 88], [36, 63, 99], [38, 83, 121], [132, 231, 363], [41, 14, 55], [42, 24, 66], [43, 34, 77], [44, 44, 88], [45, 54, 99], [47, 74, 121], [143, 341, 484], [51, 15, 66], [52, 25, 77], [53, 35, 88], [54, 45, 99], [56, 65, 121], [605, 506, 1111], [61, 16, 77], [62, 26, 88], [63, 36, 99], [65, 56, 121], [1353, 3531, 4884], [71, 17, 88], [72, 27, 99], [74, 47, 121], [14003, 30041, 44044], [81, 18, 99], [83, 38, 121], [92, 29, 121], [40293, 39204, 79497]] 51\n"
     ]
    }
   ],
   "source": [
    "L=[]\n",
    "N=[]\n",
    "for s in range(10,100):\n",
    "    if int(str(s)[::-1]) in range(10,100):\n",
    "        count=1\n",
    "        while count<21:\n",
    "            n=s+int(str(s)[::-1])\n",
    "            if str(n)==str(n)[::-1]:\n",
    "                L.append([s,int(str(s)[::-1]),n])\n",
    "                break\n",
    "            else:\n",
    "                count=count+1\n",
    "                s=n\n",
    "for i in range(len(L)):\n",
    "    if L[i] not in N:\n",
    "        N.append(L[i])\n",
    "print(N,len(N))"
   ]
  },
  {
   "cell_type": "code",
   "execution_count": 42,
   "metadata": {},
   "outputs": [
    {
     "name": "stdout",
     "output_type": "stream",
     "text": [
      "[[11, 11, 22], [12, 21, 33], [13, 31, 44], [14, 41, 55], [15, 51, 66], [16, 61, 77], [17, 71, 88], [18, 81, 99], [110, 11, 121], [22, 22, 44], [23, 32, 55], [24, 42, 66], [25, 52, 77], [26, 62, 88], [27, 72, 99], [29, 92, 121], [33, 33, 66], [34, 43, 77], [35, 53, 88], [36, 63, 99], [38, 83, 121], [132, 231, 363], [44, 44, 88], [45, 54, 99], [47, 74, 121], [143, 341, 484], [56, 65, 121], [605, 506, 1111], [1353, 3531, 4884], [14003, 30041, 44044], [40293, 39204, 79497]] 31\n"
     ]
    }
   ],
   "source": [
    "m=len(N)\n",
    "j=0\n",
    "while j<m:\n",
    "    k=j+1\n",
    "    while k<m:\n",
    "        if N[j][0]==N[k][1] and N[j][1]==N[k][0]:\n",
    "            N=N[:k]+N[k+1:]\n",
    "            m=len(N)\n",
    "        k=k+1       \n",
    "    j=j+1\n",
    "print(N,len(N))"
   ]
  },
  {
   "cell_type": "code",
   "execution_count": null,
   "metadata": {},
   "outputs": [],
   "source": []
  },
  {
   "cell_type": "code",
   "execution_count": 39,
   "metadata": {},
   "outputs": [
    {
     "name": "stdout",
     "output_type": "stream",
     "text": [
      "[[5, 6], [1, 2], [3, 4], [5, 9]]\n"
     ]
    }
   ],
   "source": [
    "N=[[5,6],[1,2],[3,4],[2,1],[5,9],[4,3]]\n",
    "m=len(N)\n",
    "j=0\n",
    "while j<m:\n",
    "    k=j+1\n",
    "    while k<m:\n",
    "        if N[j][0]==N[k][1] and N[j][1]==N[k][0]:\n",
    "            N=N[:k]+N[k+1:]\n",
    "            m=len(N)\n",
    "        k=k+1       \n",
    "    j=j+1\n",
    "print(N)"
   ]
  },
  {
   "cell_type": "code",
   "execution_count": 13,
   "metadata": {},
   "outputs": [
    {
     "data": {
      "text/plain": [
       "5"
      ]
     },
     "execution_count": 13,
     "metadata": {},
     "output_type": "execute_result"
    }
   ],
   "source": [
    "N=[[1,2],[3,4],[5,6],[2,1],[5,9]]\n",
    "N[2][0]"
   ]
  },
  {
   "cell_type": "code",
   "execution_count": 1,
   "metadata": {
    "collapsed": true,
    "jupyter": {
     "outputs_hidden": true
    }
   },
   "outputs": [
    {
     "name": "stdout",
     "output_type": "stream",
     "text": [
      "19\n",
      "29\n",
      "39\n",
      "49\n",
      "59\n",
      "69\n",
      "79\n",
      "89\n",
      "99\n"
     ]
    }
   ],
   "source": [
    "n=10\n",
    "while n<10001:\n",
    "    m=1\n",
    "    j=0\n",
    "    s=str(n)\n",
    "    for i in range(len(s)):\n",
    "        m=m*int(s[i])\n",
    "        j=j+int(s[i])\n",
    "    if m+j==n:\n",
    "        print(n)\n",
    "    n=n+1\n"
   ]
  },
  {
   "cell_type": "code",
   "execution_count": 1,
   "metadata": {
    "collapsed": true,
    "jupyter": {
     "outputs_hidden": true
    }
   },
   "outputs": [
    {
     "data": {
      "text/plain": [
       "[[100001, 99999],\n",
       " [200002, 199991],\n",
       " [300003, 299992],\n",
       " [400004, 399993],\n",
       " [500005, 499994],\n",
       " [600006, 599995],\n",
       " [700007, 699996],\n",
       " [800008, 799997],\n",
       " [900009, 899998]]"
      ]
     },
     "execution_count": 1,
     "metadata": {},
     "output_type": "execute_result"
    }
   ],
   "source": [
    "L=[]\n",
    "M=[]\n",
    "for n in range (99999,999999):\n",
    "    if str(n)==str(n)[::-1]:\n",
    "        L.append(n)\n",
    "L.sort()\n",
    "for i in range(len(L)-1):\n",
    "    if L[i+1]-L[i]<20:\n",
    "        M.append([L[i+1],L[i]])\n",
    "M"
   ]
  },
  {
   "cell_type": "code",
   "execution_count": 13,
   "metadata": {},
   "outputs": [
    {
     "name": "stdout",
     "output_type": "stream",
     "text": [
      "[1, 8, 11, 69, 88, 96, 101, 111, 181, 609, 619, 689, 808, 818, 888, 906, 916, 986, 1001, 1111, 1691, 1881, 1961, 6009, 6119, 6699, 6889, 6969, 8008, 8118, 8698, 8888, 8968, 9006, 9116, 9696, 9886, 9966, 10001, 10101, 10801, 11011, 11111, 11811, 16091, 16191, 16891, 18081, 18181, 18881, 19061, 19161, 19861, 60009, 60109, 60809, 61019, 61119, 61819, 66099, 66199, 66899, 68089, 68189, 68889, 69069, 69169, 69869, 80008, 80108, 80808, 81018, 81118, 81818, 86098, 86198, 86898, 88088, 88188, 88888, 89068, 89168, 89868, 90006, 90106, 90806, 91016, 91116, 91816, 96096, 96196, 96896, 98086, 98186, 98886, 99066, 99166, 99866]\n",
      "98\n"
     ]
    }
   ],
   "source": [
    "L=[]\n",
    "for n in range(1,100000):\n",
    "    flag=1\n",
    "    s=str(n)\n",
    "    if s[-1]!=0:\n",
    "        for i in range(int(len(s)/2)+1):\n",
    "            if s[i] in ['2','3','4','5','7']:\n",
    "                flag=0\n",
    "                break\n",
    "            else:\n",
    "                if s[i]=='6':\n",
    "                    if s[-(i+1)]!='9':\n",
    "                        flag=0\n",
    "                        break\n",
    "                elif s[i]=='8':\n",
    "                    if s[-(i+1)]!='8':\n",
    "                        flag=0\n",
    "                        break\n",
    "                elif s[i]=='9':\n",
    "                    if s[-(i+1)]!='6':\n",
    "                        flag=0\n",
    "                        break\n",
    "                elif s[i]=='1':\n",
    "                    if s[-(i+1)]!='1':\n",
    "                        flag=0\n",
    "                        break   \n",
    "                elif s[i]=='0':\n",
    "                    if s[-(i+1)]!='0':\n",
    "                        flag=0\n",
    "                        break\n",
    "    if flag==1:\n",
    "        L.append(n)\n",
    "print(L)\n",
    "print(len(L))"
   ]
  },
  {
   "cell_type": "code",
   "execution_count": 47,
   "metadata": {},
   "outputs": [
    {
     "name": "stdout",
     "output_type": "stream",
     "text": [
      "153846\n"
     ]
    }
   ],
   "source": [
    "n=10\n",
    "while (int(str(n)[1:]+str(n)[0])/n)!=3.5:\n",
    "    n=n+1\n",
    "print(n)"
   ]
  },
  {
   "cell_type": "code",
   "execution_count": 44,
   "metadata": {},
   "outputs": [
    {
     "data": {
      "text/plain": [
       "6785"
      ]
     },
     "execution_count": 44,
     "metadata": {},
     "output_type": "execute_result"
    }
   ],
   "source": [
    "n=5678\n",
    "int(str(n)[1:]+str(n)[0])\n",
    "#int(str(n)[-1]+str(n)[:len(str(n))-1])"
   ]
  },
  {
   "cell_type": "code",
   "execution_count": 5,
   "metadata": {},
   "outputs": [
    {
     "name": "stdout",
     "output_type": "stream",
     "text": [
      "500 190 301\n"
     ]
    }
   ],
   "source": [
    "count2=0\n",
    "count5=0\n",
    "count0=0\n",
    "for n in range(1,1001):\n",
    "    if int(str(n)[-1])%2==0:\n",
    "        count2=count2+1\n",
    "    if str(n)[-1]=='5':\n",
    "        count5=count5+1\n",
    "    if str(n)[-1]=='0':\n",
    "        if str(n)[-2]=='0' and str(n)[-3]=='0':\n",
    "            count0=count0+3\n",
    "        if str(n)[-2]=='0' and str(n)[-3]!='0':\n",
    "            count0=count0+2\n",
    "        if str(n)[-2]!='0':\n",
    "            count0=count0+1\n",
    "        if str(n)[-2]!='5':\n",
    "            count5=count5+1\n",
    "            \n",
    "m=min(count2,count5)\n",
    "count0=count0+m\n",
    "print(count2,count5,count0)"
   ]
  },
  {
   "cell_type": "code",
   "execution_count": 39,
   "metadata": {},
   "outputs": [
    {
     "data": {
      "text/plain": [
       "249"
      ]
     },
     "execution_count": 39,
     "metadata": {},
     "output_type": "execute_result"
    }
   ],
   "source": [
    "n=factorial(1000)\n",
    "count0=0\n",
    "for i in range(1,len(str(n))):\n",
    "    if str(n)[-i]=='0':\n",
    "        count0=count0+1\n",
    "    if str(n)[-i]!='0':\n",
    "        break\n",
    "    \n",
    "count0"
   ]
  },
  {
   "cell_type": "code",
   "execution_count": 40,
   "metadata": {},
   "outputs": [
    {
     "data": {
      "text/plain": [
       "249"
      ]
     },
     "execution_count": 40,
     "metadata": {},
     "output_type": "execute_result"
    }
   ],
   "source": [
    "n=factorial(1000)\n",
    "count0=0\n",
    "i=1\n",
    "while str(n)[-i]=='0':\n",
    "        count0=count0+1\n",
    "        i=i+1\n",
    "\n",
    "count0"
   ]
  },
  {
   "cell_type": "code",
   "execution_count": 34,
   "metadata": {},
   "outputs": [
    {
     "data": {
      "text/plain": [
       "93326215443944152681699238856266700490715968264381621468592963895217599993229915608941463976156518286253697920827223758251185210916864000000000000000000000000"
      ]
     },
     "execution_count": 34,
     "metadata": {},
     "output_type": "execute_result"
    }
   ],
   "source": [
    "factorial(100)"
   ]
  },
  {
   "cell_type": "code",
   "execution_count": 36,
   "metadata": {},
   "outputs": [
    {
     "data": {
      "text/plain": [
       "24"
      ]
     },
     "execution_count": 36,
     "metadata": {},
     "output_type": "execute_result"
    }
   ],
   "source": [
    "s='000000000000000000000000'\n",
    "len(s)"
   ]
  },
  {
   "cell_type": "code",
   "execution_count": 5,
   "metadata": {},
   "outputs": [
    {
     "name": "stdin",
     "output_type": "stream",
     "text": [
      "enter a num in feet 4.75\n"
     ]
    },
    {
     "name": "stdout",
     "output_type": "stream",
     "text": [
      "4 feet, 9.0 inches\n"
     ]
    }
   ],
   "source": [
    "#4.75 feet should become 4 feet, 9 inches.\n",
    "n=eval(input('enter a num in feet'))\n",
    "s=int(n)\n",
    "print(s,'feet,',(n-s)*12, 'inches')\n",
    "        "
   ]
  },
  {
   "cell_type": "code",
   "execution_count": 5,
   "metadata": {},
   "outputs": [
    {
     "data": {
      "text/plain": [
       "'pyyttthhhhooooonnnnnn'"
      ]
     },
     "execution_count": 5,
     "metadata": {},
     "output_type": "execute_result"
    }
   ],
   "source": [
    "#Pyyttthhhhooooonnnnnn\n",
    "s='python'\n",
    "l=''.join([s[i]*(i+1) for i in range (len(s))])\n",
    "l"
   ]
  },
  {
   "cell_type": "code",
   "execution_count": 8,
   "metadata": {},
   "outputs": [
    {
     "data": {
      "text/plain": [
       "3439"
      ]
     },
     "execution_count": 8,
     "metadata": {},
     "output_type": "execute_result"
    }
   ],
   "source": [
    "count=0\n",
    "for s in range (1,10001):\n",
    "    if '3' in str(s):\n",
    "        count=count+1\n",
    "count"
   ]
  },
  {
   "cell_type": "code",
   "execution_count": 16,
   "metadata": {},
   "outputs": [
    {
     "name": "stdin",
     "output_type": "stream",
     "text": [
      "enter a height in foot and inch 5'6\"\n",
      "enter a height in foot and inch 4'9\"\n",
      "enter a height in foot and inch 2'9\"\n",
      "enter a height in foot and inch 1'9\"\n",
      "enter a height in foot and inch Done\n"
     ]
    },
    {
     "name": "stdout",
     "output_type": "stream",
     "text": [
      "finished!\n",
      "1 4 footers 1 5 footers 0 6footers 0 7 footers\n"
     ]
    }
   ],
   "source": [
    "s='e'\n",
    "count4=0\n",
    "count5=0\n",
    "count6=0\n",
    "count7=0\n",
    "while s.lower()!='done':\n",
    "    s=input('enter a height in foot and inch')\n",
    "    if s.lower()=='done':\n",
    "        print('finished!')\n",
    "        break\n",
    "    else:\n",
    "        l=s.split(\"'\")\n",
    "        m=l[0]\n",
    "        if int(m)==4:\n",
    "            count4=count4+1\n",
    "        elif int(m)==5:\n",
    "            count5=count5+1\n",
    "        elif int(m)==6:\n",
    "            count6=count6+1\n",
    "        elif int(m)==7:\n",
    "            count7=count7+1\n",
    "print(count4,'4 footers',count5,'5 footers', count6, '6footers', count7,'7 footers')   "
   ]
  },
  {
   "cell_type": "code",
   "execution_count": 9,
   "metadata": {},
   "outputs": [
    {
     "data": {
      "text/plain": [
       "'sdfg'"
      ]
     },
     "execution_count": 9,
     "metadata": {},
     "output_type": "execute_result"
    }
   ],
   "source": [
    "s=\"sdfg'sdfg\"\n",
    "l=s.split(\"'\")\n",
    "l[0]"
   ]
  },
  {
   "cell_type": "code",
   "execution_count": 22,
   "metadata": {},
   "outputs": [
    {
     "name": "stdin",
     "output_type": "stream",
     "text": [
      "enter the winner and loser scores 27-3\n",
      "enter the winner and loser scores 14-2\n",
      "enter the winner and loser scores 31-8\n",
      "enter the winner and loser scores done\n"
     ]
    },
    {
     "name": "stdout",
     "output_type": "stream",
     "text": [
      "finished\n",
      "[27, 14, 31] [3, 2, 8] 31 2\n"
     ]
    }
   ],
   "source": [
    "s='e'\n",
    "L=[]\n",
    "H=[]\n",
    "while s.lower()!='done':\n",
    "    s=input('enter the winner and loser scores')\n",
    "    if s.lower()=='done':\n",
    "        print('finished')\n",
    "        break\n",
    "    else:\n",
    "        H.append(int(s.split('-')[0]))\n",
    "        L.append(int(s.split('-')[1]))\n",
    "print(H,L,max(H),min(L))"
   ]
  },
  {
   "cell_type": "code",
   "execution_count": 44,
   "metadata": {},
   "outputs": [
    {
     "name": "stdin",
     "output_type": "stream",
     "text": [
      "enter the date 12/25\n",
      "enter the date 2/25\n",
      "enter the date 2/7\n",
      "enter the date 1/25\n",
      "enter the date DOne\n"
     ]
    },
    {
     "name": "stdout",
     "output_type": "stream",
     "text": [
      "2 3\n"
     ]
    }
   ],
   "source": [
    "s=input('enter the date')\n",
    "countm=0\n",
    "countd=0\n",
    "while s.lower()!='done':\n",
    "    m=s.split('/')[0]\n",
    "    d=s.split('/')[1]\n",
    "    if int(m)==2:\n",
    "        countm=countm+1\n",
    "    if int(d)==25:\n",
    "        countd=countd+1\n",
    "    s=input('enter the date')\n",
    "print(countm,countd)"
   ]
  },
  {
   "cell_type": "code",
   "execution_count": 31,
   "metadata": {},
   "outputs": [
    {
     "data": {
      "text/plain": [
       "25"
      ]
     },
     "execution_count": 31,
     "metadata": {},
     "output_type": "execute_result"
    }
   ],
   "source": [
    "s='12/25'\n",
    "d=s.split('/')[1]\n",
    "int(d)"
   ]
  },
  {
   "cell_type": "code",
   "execution_count": 52,
   "metadata": {},
   "outputs": [
    {
     "name": "stdin",
     "output_type": "stream",
     "text": [
      "enter the date in this format: mm/dd/yy 02/04/77\n"
     ]
    },
    {
     "name": "stdout",
     "output_type": "stream",
     "text": [
      "February 4 , 1977\n"
     ]
    }
   ],
   "source": [
    "#February 4, 1977\n",
    "M=['January','February','March','April','May','June','July','August','September','October','November','December']\n",
    "MA=[1,2,3,4,5,6,7,8,9,10,11,12]\n",
    "s=input('enter the date in this format: mm/dd/yy')\n",
    "L=s.split('/')\n",
    "for i in range(len(MA)):\n",
    "    if int(L[0])==MA[i]:\n",
    "        if int(L[2])<21:\n",
    "            print(M[i] , int(L[1]),',', 2000+int((L)[2]) )\n",
    "        if int(L[2])>=21:\n",
    "            print(M[i] , int(L[1]), ',', 1900+int(L[2]))"
   ]
  },
  {
   "cell_type": "code",
   "execution_count": 54,
   "metadata": {},
   "outputs": [
    {
     "name": "stdin",
     "output_type": "stream",
     "text": [
      "enter the fraction in this format: a/b 8/24\n"
     ]
    },
    {
     "data": {
      "text/plain": [
       "0.3333333333333333"
      ]
     },
     "execution_count": 54,
     "metadata": {},
     "output_type": "execute_result"
    }
   ],
   "source": [
    "s=input('enter the fraction in this format: a/b')\n",
    "L=s.split('/')\n",
    "r=int(L[0])/int(L[1])\n",
    "r"
   ]
  },
  {
   "cell_type": "code",
   "execution_count": 66,
   "metadata": {},
   "outputs": [
    {
     "name": "stdout",
     "output_type": "stream",
     "text": [
      "Star is: 0 Mango is: 25 threeO is: 75\n",
      "Star is: 4 Mango is: 18 threeO is: 78\n",
      "Star is: 8 Mango is: 11 threeO is: 81\n",
      "Star is: 12 Mango is: 4 threeO is: 84\n"
     ]
    }
   ],
   "source": [
    "#F=['Star','Mango','threeO']\n",
    "for x in range(100):\n",
    "    for y in range(100):\n",
    "        for z in range(100):\n",
    "            if ((x*5)+(y*3)+(z*1/3))==100 and (x+y+z)==100:\n",
    "                print('Star is:',x, 'Mango is:',y, 'threeO is:',z) "
   ]
  },
  {
   "cell_type": "code",
   "execution_count": null,
   "metadata": {},
   "outputs": [],
   "source": [
    "L=[]\n",
    "flag=0\n",
    "for i in range(100):\n",
    "    for x in range((100//7)+1):\n",
    "        for y in range((100//11)+1):\n",
    "            if x*7+y*11==i:\n",
    "                flag=1\n",
    "                break\n",
    "                "
   ]
  },
  {
   "cell_type": "code",
   "execution_count": 67,
   "metadata": {},
   "outputs": [
    {
     "data": {
      "text/plain": [
       "14"
      ]
     },
     "execution_count": 67,
     "metadata": {},
     "output_type": "execute_result"
    }
   ],
   "source": [
    "100//7"
   ]
  },
  {
   "cell_type": "code",
   "execution_count": 86,
   "metadata": {},
   "outputs": [
    {
     "name": "stdout",
     "output_type": "stream",
     "text": [
      "[1, 2, 3, 4, 5, 6, 8, 9, 10, 12, 13, 15, 16, 17, 19, 20, 23, 24, 26, 27, 30, 31, 34, 37, 38, 41, 45, 48, 52, 59] 59\n"
     ]
    }
   ],
   "source": [
    "L=[]\n",
    "i=1\n",
    "while i<100:\n",
    "    flag=0\n",
    "    for x in range((100//7)+1):\n",
    "        for y in range((100//11)+1):\n",
    "            if x*7+y*11==i:\n",
    "                flag=1\n",
    "                break\n",
    "    if flag==0:\n",
    "        L.append(i)\n",
    "    i=i+1\n",
    "L.sort()\n",
    "print(L,max(L))"
   ]
  },
  {
   "cell_type": "code",
   "execution_count": 82,
   "metadata": {},
   "outputs": [
    {
     "name": "stdout",
     "output_type": "stream",
     "text": [
      "5 2 6 6 1 1 8 the equation is: 52 + 66 = 118\n"
     ]
    }
   ],
   "source": [
    "#43 + 57 = 207\n",
    "n1='43'\n",
    "n2='57'\n",
    "r='207'\n",
    "for x1 in max(0,int(n1[0])-1),int(n1[0])+1:\n",
    "    for x2 in max(0,int(n1[1])-1),int(n1[1])+1:\n",
    "        for x3 in max(0,int(n2[0])-1),int(n2[0])+1:\n",
    "            for x4 in max(0,int(n2[1])-1),int(n2[1])+1:\n",
    "                for x5 in max(0,int(r[0])-1),int(r[0])+1:\n",
    "                    for x6 in max(0,int(r[1])-1),int(r[1])+1:\n",
    "                        for x7 in max(0,int(r[2])-1),int(r[2])+1:\n",
    "                            if (x1*10+x2)+(x3*10+x4)==(x5*100+x6*10+x7):\n",
    "                                print(x1,x2,x3,x4,x5,x6,x7, 'the equation is:',x1*10+x2,'+',x3*10+x4,'=',x5*100+x6*10+x7)"
   ]
  },
  {
   "cell_type": "code",
   "execution_count": 80,
   "metadata": {},
   "outputs": [
    {
     "name": "stdout",
     "output_type": "stream",
     "text": [
      "1\n",
      "2\n"
     ]
    }
   ],
   "source": [
    "for i in 1,2:\n",
    "    print(i)"
   ]
  },
  {
   "cell_type": "code",
   "execution_count": 92,
   "metadata": {},
   "outputs": [
    {
     "name": "stdout",
     "output_type": "stream",
     "text": [
      "3 2\n",
      "17 12\n",
      "99 70\n"
     ]
    }
   ],
   "source": [
    "#x2 − 2y2 = 1\n",
    "for x in range(1,101):\n",
    "    for y in range(1,101):\n",
    "        if (x**2) - 2*(y**2) ==1:\n",
    "            print(x, y)"
   ]
  },
  {
   "cell_type": "code",
   "execution_count": 9,
   "metadata": {},
   "outputs": [
    {
     "name": "stdin",
     "output_type": "stream",
     "text": [
      "enter a number 13\n"
     ]
    },
    {
     "name": "stdout",
     "output_type": "stream",
     "text": [
      "7 6\n"
     ]
    }
   ],
   "source": [
    "num=eval(input('enter a number'))\n",
    "flag=0\n",
    "for x in range(1,1001):\n",
    "    for y in range(1,1001):\n",
    "        if x**2 - y**2 == num:\n",
    "            flag=1\n",
    "            print(x,y)\n",
    "if flag==0:\n",
    "    print('Impossible!')"
   ]
  },
  {
   "cell_type": "code",
   "execution_count": 14,
   "metadata": {},
   "outputs": [
    {
     "name": "stdout",
     "output_type": "stream",
     "text": [
      "[171, 302, 461, 580, 727, 834, 727, 580, 461, 302, 171]\n",
      "1296\n",
      "[0.13194444444444445, 0.2330246913580247, 0.3557098765432099, 0.44753086419753085, 0.5609567901234568, 0.6435185185185185, 0.5609567901234568, 0.44753086419753085, 0.3557098765432099, 0.2330246913580247, 0.13194444444444445]\n"
     ]
    }
   ],
   "source": [
    "count=[0,0,0,0,0,0,0,0,0,0,0]\n",
    "L=[]\n",
    "for x1 in range(1,7):\n",
    "    for x2 in range(1,7):\n",
    "        for x3 in range(1,7):\n",
    "            for x4 in range(1,7):\n",
    "                for i in range(len(count)):\n",
    "                    if x1+x2==i+2:\n",
    "                        count[i]=count[i]+1\n",
    "                        continue\n",
    "                    if x1+x3==i+2:\n",
    "                        count[i]=count[i]+1\n",
    "                        continue\n",
    "                    if x1+x4==i+2:\n",
    "                        count[i]=count[i]+1\n",
    "                        continue\n",
    "                    if x2+x3==i+2:\n",
    "                        count[i]=count[i]+1\n",
    "                        continue\n",
    "                    if x2+x4==i+2:\n",
    "                        count[i]=count[i]+1\n",
    "                        continue\n",
    "                    if x3+x4==i+2:\n",
    "                        count[i]=count[i]+1\n",
    "                        continue\n",
    "print(count) \n",
    "t=(6*6*6*6)\n",
    "print(t)\n",
    "for i in count:\n",
    "    L.append(i/t)\n",
    "print(L)"
   ]
  },
  {
   "cell_type": "code",
   "execution_count": 11,
   "metadata": {},
   "outputs": [
    {
     "name": "stdout",
     "output_type": "stream",
     "text": [
      "[216, 432, 648, 864, 1080, 1296, 1080, 864, 648, 432, 216]\n",
      "1296\n",
      "[0.16666666666666666, 0.3333333333333333, 0.5, 0.6666666666666666, 0.8333333333333334, 1.0, 0.8333333333333334, 0.6666666666666666, 0.5, 0.3333333333333333, 0.16666666666666666]\n"
     ]
    }
   ],
   "source": [
    "count=[0,0,0,0,0,0,0,0,0,0,0]\n",
    "L=[]\n",
    "for x1 in range(1,7):\n",
    "    for x2 in range(1,7):\n",
    "        for x3 in range(1,7):\n",
    "            for x4 in range(1,7):\n",
    "                    ##print (x1+x2)\n",
    "                    count[x1+x2-2]=count[x1+x2-2]+1\n",
    "                    count[x1+x3-2]=count[x1+x3-2]+1\n",
    "                    count[x1+x4-2]=count[x1+x4-2]+1\n",
    "                    count[x3+x2-2]=count[x3+x2-2]+1\n",
    "                    count[x4+x2-2]=count[x4+x2-2]+1\n",
    "                    count[x3+x4-2]=count[x3+x4-2]+1\n",
    "print(count) \n",
    "t=(6*6*6*6)\n",
    "print(t)\n",
    "for i in count:\n",
    "    L.append(i/t)\n",
    "print(L)"
   ]
  },
  {
   "cell_type": "code",
   "execution_count": 10,
   "metadata": {},
   "outputs": [
    {
     "data": {
      "text/plain": [
       "0.13194444444444445"
      ]
     },
     "execution_count": 10,
     "metadata": {},
     "output_type": "execute_result"
    }
   ],
   "source": [
    "171/1296\n"
   ]
  },
  {
   "cell_type": "code",
   "execution_count": 16,
   "metadata": {},
   "outputs": [],
   "source": [
    "#5 x y\n",
    "#z 6 2\n",
    "#3 8 k\n",
    "for x in [1,4,7,9]:\n",
    "    for y in [1,4,7,9]:\n",
    "        for z in [1,4,7,9]:\n",
    "            for k in [1,4,7,9]:\n",
    "                if 5+(x)+(y)==(z)+6+2==3+8+(k)==5+(z)+3==(x)+6+8==(y)+2+(k)==5+6+(k)==(y)+6+3:\n",
    "                    print(x,y,z,k)\n",
    "    "
   ]
  },
  {
   "cell_type": "code",
   "execution_count": 24,
   "metadata": {},
   "outputs": [
    {
     "name": "stdout",
     "output_type": "stream",
     "text": [
      "4 9 10 7\n"
     ]
    }
   ],
   "source": [
    "#5 x y\n",
    "#z 6 2\n",
    "#3 8 k\n",
    "for x in range(1,11):\n",
    "    for y in range(1,11):\n",
    "        for z in range(1,11):\n",
    "            for k in range(1,11):\n",
    "                if 5+(x)+(y)==(z)+6+2==3+8+(k)==5+(z)+3==(x)+6+8==(y)+2+(k)==5+6+(k)==(y)+6+3:\n",
    "                    print(x,y,z,k)\n",
    "#print(x,y,z,k)"
   ]
  },
  {
   "cell_type": "code",
   "execution_count": null,
   "metadata": {},
   "outputs": [],
   "source": [
    "0 M 0 M 0   1 M 3 M 1\n",
    "0 0 M 0 0   1 2 M 2 1\n",
    "0 0 0 0 0   2 3 2 1 0\n",
    "M M 0 0 0   M M 2 1 1\n",
    "0 0 0 M 0 2 2 2 M 1"
   ]
  },
  {
   "cell_type": "code",
   "execution_count": 27,
   "metadata": {},
   "outputs": [
    {
     "data": {
      "text/plain": [
       "[[1, 'M', 3, 'M', 1],\n",
       " [1, 2, 'M', 2, 1],\n",
       " [2, 3, 2, 1, 0],\n",
       " ['M', 'M', 2, 1, 1],\n",
       " [2, 2, 2, 'M', 1]]"
      ]
     },
     "execution_count": 27,
     "metadata": {},
     "output_type": "execute_result"
    }
   ],
   "source": [
    "L= [[0, 'M', 0, 'M', 0],\n",
    "    [0, 0, 'M', 0, 0],   \n",
    "    [0, 0, 0, 0, 0],   \n",
    "    ['M', 'M', 0, 0, 0],   \n",
    "    [0, 0, 0, 'M', 0]]   \n",
    "N=[[0 for i in range (5)] for j in range(5)]\n",
    "for i in range (5):\n",
    "    for j in range(5):\n",
    "        if L[i][j]=='M':\n",
    "            N[i][j]='M'\n",
    "        if N[i][j]==0:\n",
    "            count=0\n",
    "            if 0<=i+1<5 and L[i+1][j]=='M':\n",
    "                count+=1\n",
    "            if 0<=i-1<5 and L[i-1][j]=='M':\n",
    "                count+=1\n",
    "            if 0<=j+1<5 and L[i][j+1]=='M':\n",
    "                count+=1   \n",
    "            if 0<=j-1<5 and L[i][j-1]=='M':\n",
    "                count+=1\n",
    "            if 0<=i+1<5 and 0<=j+1<5 and L[i+1][j+1]=='M':\n",
    "                count+=1\n",
    "            if 0<=i-1<5 and 0<=j-1<5 and L[i-1][j-1]=='M':\n",
    "                count+=1\n",
    "            if 0<=i-1<5 and 0<=j+1<5 and L[i-1][j+1]=='M':\n",
    "                count+=1\n",
    "            if 0<=i+1<5 and 0<=j-1<5 and L[i+1][j-1]=='M':\n",
    "                count+=1\n",
    "            N[i][j]=count\n",
    "N\n",
    " \n",
    "            "
   ]
  },
  {
   "cell_type": "code",
   "execution_count": 3,
   "metadata": {},
   "outputs": [
    {
     "data": {
      "text/plain": [
       "[[0, 0, 0, 0, 0],\n",
       " [0, 0, 0, 0, 0],\n",
       " [0, 0, 0, 0, 0],\n",
       " [0, 0, 0, 0, 0],\n",
       " [0, 0, 0, 0, 0]]"
      ]
     },
     "execution_count": 3,
     "metadata": {},
     "output_type": "execute_result"
    }
   ],
   "source": [
    "N=[[0 for i in range (5)] for j in range(5)]\n",
    "N"
   ]
  },
  {
   "cell_type": "code",
   "execution_count": 57,
   "metadata": {},
   "outputs": [
    {
     "name": "stdin",
     "output_type": "stream",
     "text": [
      "please tell me the number of rows 6\n"
     ]
    },
    {
     "name": "stdout",
     "output_type": "stream",
     "text": [
      "[0, 0, 0, 0, 0, 0, 0, 0, 0, 0, 0, 0, 0]\n",
      "[0, 0, 0, 0, 0, 0, 1, 0, 0, 0, 0, 0, 0]\n",
      "[0, 0, 0, 0, 0, 1, 0, 1, 0, 0, 0, 0, 0]\n",
      "[0, 0, 0, 0, 1, 0, 2, 0, 1, 0, 0, 0, 0]\n",
      "[0, 0, 0, 1, 0, 3, 0, 3, 0, 1, 0, 0, 0]\n",
      "[0, 0, 1, 0, 4, 0, 6, 0, 4, 0, 1, 0, 0]\n",
      "[0, 1, 0, 5, 0, 10, 0, 10, 0, 5, 0, 1, 0]\n",
      "[1, 0, 6, 0, 15, 0, 20, 0, 15, 0, 6, 0, 1]\n"
     ]
    }
   ],
   "source": [
    "r=eval(input('please tell me the number of rows'))\n",
    "p=[0 for i in range((2*r)+1)]\n",
    "l=p[:]\n",
    "p[r]=1\n",
    "print(l)\n",
    "#print(p)\n",
    "for j in range(r):\n",
    "    for k in range(len(p)):\n",
    "        if p[k]!=0:\n",
    "            l[k-1]=l[k-1]+p[k]\n",
    "            l[k+1]=l[k+1]+p[k]\n",
    "    print(l)\n",
    "    p=l[:]\n",
    "    l=[0 for i in range((2*r)+1)]\n"
   ]
  },
  {
   "cell_type": "code",
   "execution_count": 2,
   "metadata": {},
   "outputs": [
    {
     "name": "stdin",
     "output_type": "stream",
     "text": [
      "enter date 1 within years 1901 and 2099 with format: mm/dd/yyyy as earlier date 8/18/1990\n",
      "enter date 2 within years 1901 and 2099 with format: mm/dd/yyyy as later date 4/26/2035\n"
     ]
    },
    {
     "name": "stdout",
     "output_type": "stream",
     "text": [
      "16322\n"
     ]
    }
   ],
   "source": [
    "d1=input('enter date 1 within years 1901 and 2099 with format: mm/dd/yyyy as earlier date')\n",
    "d2=input('enter date 2 within years 1901 and 2099 with format: mm/dd/yyyy as later date')\n",
    "L1=d1.split('/')\n",
    "L2=d2.split('/')\n",
    "Leap=[]\n",
    "na=0\n",
    "M=[31,28,31,30,31,30,31,31,30,31,30,31]\n",
    "ML=[31,29,31,30,31,30,31,31,30,31,30,31]\n",
    "MA=[1,2,3,4,5,6,7,8,9,10,11,12]\n",
    "i=1904\n",
    "while i<=2099:\n",
    "    Leap.append(i)\n",
    "    i=i+4\n",
    "if int(L2[2])>2099 or int(L1[2])>2099 or int(L2[2])<1901 or int(L1[2])<1901 or int(L2[0])>12 or int(L1[0])>12 or int(L2[1])>31 or int(L1[1])>31:\n",
    "    print('Invalid Dates!!!')\n",
    "if int(L2[2])==int(L1[2]):\n",
    "    #calculate the days in the same year\n",
    "    if int(L2[0])==int(L1[0]):\n",
    "        na=int(L2[1])-int(L1[1])\n",
    "    else:\n",
    "        if int(L2[2]) in Leap:\n",
    "            for j in range(int(L1[0]),int(L2[0])):\n",
    "                na=na+ML[j-1]\n",
    "        else:\n",
    "            for j in range(int(L1[0]),int(L2[0])):\n",
    "                na=na+M[j-1]\n",
    "        na=na-int(L1[1])+int(L2[1])\n",
    "else:\n",
    "    #calculate the days before later date to the beginning of its year (year one)\n",
    "    for i in range (1,int(L2[0])):\n",
    "        if int(L2[2]) in Leap:\n",
    "            na=na+ML[i-1]\n",
    "        else:\n",
    "            na=na+M[i-1]\n",
    "    na=na+int(L2[1])\n",
    "    #calculate the days from earlier date to the next year(year one)\n",
    "    for i in range(int(L1[0]),13):\n",
    "        if int(L1[2]) in Leap:\n",
    "            na=na+ML[i-1]\n",
    "        else:\n",
    "            na=na+M[i-1]\n",
    "    na=na-int(L1[1])\n",
    "    #calculte the days from year one to year two\n",
    "    for k in range(int(L1[2])+1,int(L2[2])):\n",
    "        if k in Leap:\n",
    "            na=na+366\n",
    "        else:\n",
    "            na=na+365\n",
    "print(na)"
   ]
  },
  {
   "cell_type": "code",
   "execution_count": 1,
   "metadata": {},
   "outputs": [
    {
     "name": "stdout",
     "output_type": "stream",
     "text": [
      "16322\n"
     ]
    }
   ],
   "source": [
    "from datetime import date\n",
    "\n",
    "d0 = date(1990, 8, 18)\n",
    "d1 = date(2035, 4, 26)\n",
    "delta = d1 - d0\n",
    "print(delta.days)"
   ]
  },
  {
   "cell_type": "code",
   "execution_count": 22,
   "metadata": {},
   "outputs": [
    {
     "data": {
      "text/plain": [
       "6"
      ]
     },
     "execution_count": 22,
     "metadata": {},
     "output_type": "execute_result"
    }
   ],
   "source": [
    "randint(1,6)"
   ]
  },
  {
   "cell_type": "code",
   "execution_count": 10,
   "metadata": {},
   "outputs": [
    {
     "name": "stdout",
     "output_type": "stream",
     "text": [
      "the result of part a is: 0.00081\n",
      "the result of part b is: 0.03006\n"
     ]
    }
   ],
   "source": [
    "count_Yahtzee=0\n",
    "count_large_straight=0\n",
    "N=100000\n",
    "for i in range(N):\n",
    "    d1=randint(1,6)\n",
    "    d2=randint(1,6)\n",
    "    d3=randint(1,6)\n",
    "    d4=randint(1,6)\n",
    "    d5=randint(1,6)\n",
    "    if d1==d2==d3==d4==d5:\n",
    "        count_Yahtzee= count_Yahtzee +1\n",
    "    if (((d1==1 or d2==1 or d3==1 or d4==1 or d5==1) and (d1==2 or d2==2 or d3==2 or d4==2 or d5==2) and (d1==3 or d2==3 or d3==3 or d4==3 or d5==3)\n",
    "    and (d1==4 or d2==4 or d3==4 or d4==4 or d5==4) and (d1==5 or d2==5 or d3==5 or d4==5 or d5==5))\n",
    "    or ((d1==2 or d2==2 or d3==2 or d4==2 or d5==2) and (d1==3 or d2==3 or d3==3 or d4==3 or d5==3)\n",
    "    and (d1==4 or d2==4 or d3==4 or d4==4 or d5==4) and (d1==5 or d2==5 or d3==5 or d4==5 or d5==5) and (d1==6 or d2==6 or d3==6 or d4==6 or d5==6))):\n",
    "          count_large_straight= count_large_straight +1     \n",
    "        \n",
    "r1=count_Yahtzee/N\n",
    "r2=count_large_straight/N\n",
    "print('the result of part a is:', r1)\n",
    "print('the result of part b is:', r2)\n"
   ]
  },
  {
   "cell_type": "code",
   "execution_count": 27,
   "metadata": {},
   "outputs": [
    {
     "data": {
      "text/plain": [
       "10"
      ]
     },
     "execution_count": 27,
     "metadata": {},
     "output_type": "execute_result"
    }
   ],
   "source": [
    "n=1\n",
    "count=1\n",
    "t=2\n",
    "for i in range(200):\n",
    "    c=randint(0,1)\n",
    "    if c==t:\n",
    "        count=count+1\n",
    "        \n",
    "    else:\n",
    "        n=max(count,n)\n",
    "        count=1\n",
    "    t=c\n",
    "n"
   ]
  },
  {
   "cell_type": "code",
   "execution_count": 5,
   "metadata": {},
   "outputs": [
    {
     "name": "stdout",
     "output_type": "stream",
     "text": [
      "1.4\n",
      "[1, 1, 1, 3, 1]\n",
      "[0, 0, 1, 0, 0, 1, 1, 1, 1, 0, 0, 0, 0, 1, 0, 0, 1, 0, 1, 0, 0, 1, 1, 1, 0, 0, 0, 1, 1, 0, 1, 1, 1, 1, 1, 1, 1, 1, 1, 0, 1, 1, 1, 1, 1, 1, 0, 0, 1, 0, 1, 1, 1, 0, 1, 1, 1, 1, 1, 1, 0, 0, 1, 1, 1, 0, 0, 1, 0, 0, 0, 1, 1, 1, 1, 1, 1, 0, 1, 1, 1, 1, 1, 0, 0, 1, 1, 0, 0, 1, 1, 0, 1, 1, 1, 1, 0, 0, 0, 1]\n",
      "7\n"
     ]
    }
   ],
   "source": [
    "# the average number of zeros it takes before five heads in a row come up.\n",
    "#head: 1\n",
    "n=0\n",
    "count=0\n",
    "j=0\n",
    "L=[]\n",
    "M=[]\n",
    "for i in range(100):\n",
    "    c=randint(0,1)\n",
    "    M.append(c)\n",
    "    if c==1:\n",
    "        count=count+1\n",
    "        if count==5:\n",
    "            L.append(j)\n",
    "            j=0            \n",
    "    else:\n",
    "        count=0\n",
    "        if n==0:\n",
    "            j=j+1\n",
    "        else:\n",
    "            j=1\n",
    "    n=c          \n",
    "r=sum(L)\n",
    "if r!=0:\n",
    "    print(r/len(L))\n",
    "print(L)\n",
    "print(M)\n",
    "print(r)"
   ]
  },
  {
   "cell_type": "code",
   "execution_count": 11,
   "metadata": {},
   "outputs": [
    {
     "name": "stdout",
     "output_type": "stream",
     "text": [
      "19.25\n",
      "[22, 29, 22, 4]\n",
      "[1, 0, 0, 0, 1, 0, 0, 0, 0, 1, 1, 1, 0, 0, 0, 1, 1, 1, 0, 0, 1, 0, 1, 1, 1, 1, 1, 0, 0, 0, 1, 0, 0, 1, 1, 0, 1, 0, 0, 1, 1, 0, 1, 1, 1, 1, 0, 0, 1, 1, 1, 0, 1, 0, 0, 0, 1, 1, 1, 1, 1, 1, 0, 1, 0, 1, 1, 1, 0, 0, 1, 1, 0, 1, 1, 0, 0, 1, 1, 1, 0, 0, 0, 1, 1, 1, 1, 1, 1, 1, 0, 0, 1, 1, 1, 1, 1, 1, 1, 0]\n",
      "77\n"
     ]
    }
   ],
   "source": [
    "# the average number of coin flips it takes before five heads in a row come up.\n",
    "#head: 1\n",
    "j=0\n",
    "count=0\n",
    "L=[]\n",
    "M=[]\n",
    "for i in range(100):\n",
    "    c=randint(0,1)\n",
    "    j=j+1\n",
    "    M.append(c)\n",
    "    if c==1:\n",
    "        count=count+1\n",
    "        if count==5:\n",
    "            L.append(j-5)\n",
    "            j=0\n",
    "            count=0\n",
    "    else:\n",
    "        count=0\n",
    "r=sum(L)\n",
    "if r!=0:\n",
    "    print(r/len(L))\n",
    "print(L)\n",
    "print(M)\n",
    "print(r)\n",
    "        \n",
    "            "
   ]
  },
  {
   "cell_type": "code",
   "execution_count": 41,
   "metadata": {},
   "outputs": [
    {
     "name": "stdout",
     "output_type": "stream",
     "text": [
      "13.0\n",
      "[0, 26]\n",
      "[1, 1, 0, 0, 1, 1, 0, 1, 0, 1, 1, 0, 0, 0, 0, 0, 1, 1, 1, 0, 1, 1, 1, 1, 0, 0, 0, 0, 0, 0, 1, 1, 1, 0, 0, 1, 0, 1, 0, 1, 1, 1, 1, 0, 0, 0, 1, 1, 0, 0, 0, 1, 0, 1, 1, 0, 1, 1, 1, 1, 0, 0, 0, 1, 1, 0, 1, 0, 1, 1, 1, 0, 1, 1, 1, 1, 1, 0, 1, 0, 0, 0, 0, 1, 1, 1, 1, 1, 1, 0, 1, 1, 0, 1, 0, 0, 1, 1, 1, 1]\n",
      "26\n"
     ]
    }
   ],
   "source": [
    "# head as 1 and tail as 0\n",
    "#   HHTTH\n",
    "count=0\n",
    "L=[]\n",
    "M=[]\n",
    "for i in range (100):\n",
    "    c=randint(0,1)\n",
    "    M.append(c)\n",
    "for i in range(len(M)-5):\n",
    "    count=count+1\n",
    "    if M[i]==1 and M[i+1]==1 and M[i+2]==0 and M[i+3]==0 and M[i+4]==1:\n",
    "        L.append(count-1)\n",
    "        count=-4\n",
    "r=sum(L)\n",
    "if r!=0:\n",
    "    print(r/len(L))\n",
    "print(L)\n",
    "print(M)\n",
    "print(r)      "
   ]
  },
  {
   "cell_type": "code",
   "execution_count": null,
   "metadata": {},
   "outputs": [],
   "source": []
  }
 ],
 "metadata": {
  "kernelspec": {
   "display_name": "Python 3",
   "language": "python",
   "name": "python3"
  },
  "language_info": {
   "codemirror_mode": {
    "name": "ipython",
    "version": 3
   },
   "file_extension": ".py",
   "mimetype": "text/x-python",
   "name": "python",
   "nbconvert_exporter": "python",
   "pygments_lexer": "ipython3",
   "version": "3.7.5"
  }
 },
 "nbformat": 4,
 "nbformat_minor": 4
}
