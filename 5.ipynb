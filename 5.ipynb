{
 "cells": [
  {
   "cell_type": "code",
   "execution_count": 1,
   "metadata": {},
   "outputs": [],
   "source": [
    "import random\n",
    "import math\n",
    "from random import *\n",
    "from math import *"
   ]
  },
  {
   "cell_type": "code",
   "execution_count": 7,
   "metadata": {},
   "outputs": [
    {
     "name": "stdin",
     "output_type": "stream",
     "text": [
      "enter a number 12\n",
      "enter a number 1\n",
      "enter a number 12\n",
      "enter a number 3\n",
      "enter a number 8\n",
      "enter a number 90\n",
      "enter a number 0\n",
      "enter a number 4\n",
      "enter a number 5\n",
      "enter a number 0\n"
     ]
    },
    {
     "name": "stdout",
     "output_type": "stream",
     "text": [
      "3 2\n"
     ]
    }
   ],
   "source": [
    "count1 = 0\n",
    "count2 = 0\n",
    "for i in range (10):\n",
    "    x=eval(input('enter a number'))\n",
    "    if x>10:\n",
    "        count1 = count1+1\n",
    "    if x==0:\n",
    "        count2 = count2+1\n",
    "print(count1,count2)"
   ]
  },
  {
   "cell_type": "code",
   "execution_count": 10,
   "metadata": {},
   "outputs": [
    {
     "name": "stdout",
     "output_type": "stream",
     "text": [
      "20\n"
     ]
    }
   ],
   "source": [
    "count = 0\n",
    "for i in range (1,101):\n",
    "    if (i**2)%10==4:\n",
    "        count = count+1\n",
    "print(count)"
   ]
  },
  {
   "cell_type": "code",
   "execution_count": 11,
   "metadata": {},
   "outputs": [
    {
     "name": "stdout",
     "output_type": "stream",
     "text": [
      "5050\n"
     ]
    }
   ],
   "source": [
    "add = 0\n",
    "for i in range (1,101):\n",
    "    add = add + i\n",
    "print(add)"
   ]
  },
  {
   "cell_type": "code",
   "execution_count": 16,
   "metadata": {},
   "outputs": [
    {
     "name": "stdin",
     "output_type": "stream",
     "text": [
      "enter a number 12\n",
      "enter a number 13\n",
      "enter a number 23\n",
      "enter a number 10\n",
      "enter a number 00\n",
      "enter a number 1\n",
      "enter a number 12\n",
      "enter a number 35\n",
      "enter a number 3\n",
      "enter a number 2\n"
     ]
    },
    {
     "name": "stdout",
     "output_type": "stream",
     "text": [
      "11.1\n"
     ]
    }
   ],
   "source": [
    "sum = 0\n",
    "for i in range (10):\n",
    "    x = eval(input('enter a number'))\n",
    "    sum = sum +x\n",
    "print(sum/10)"
   ]
  },
  {
   "cell_type": "code",
   "execution_count": 29,
   "metadata": {},
   "outputs": [
    {
     "name": "stdin",
     "output_type": "stream",
     "text": [
      "enter a num 7\n"
     ]
    },
    {
     "name": "stdout",
     "output_type": "stream",
     "text": [
      "x is prim\n"
     ]
    }
   ],
   "source": [
    "flag = 0\n",
    "x = eval(input('enter a num'))\n",
    "for i in range (2,round(x/2)):\n",
    "    if x%i==0:\n",
    "        flag = 1\n",
    "if flag == 0:\n",
    "    print('x is prim')\n",
    "else:\n",
    "    print('NO prime!')"
   ]
  },
  {
   "cell_type": "code",
   "execution_count": 22,
   "metadata": {},
   "outputs": [
    {
     "name": "stdin",
     "output_type": "stream",
     "text": [
      "enter a number 2\n",
      "enter a number 34\n",
      "enter a number 1\n",
      "enter a number 0\n",
      "enter a number 11\n",
      "enter a number 00\n",
      "enter a number 24\n",
      "enter a number 56\n",
      "enter a number 4\n",
      "enter a number 322\n"
     ]
    },
    {
     "name": "stdout",
     "output_type": "stream",
     "text": [
      "322\n"
     ]
    }
   ],
   "source": [
    "b = 0\n",
    "for i in range (10):\n",
    "    x = eval(input('enter a number'))\n",
    "    if x>b:\n",
    "        b = x\n",
    "print(b)"
   ]
  },
  {
   "cell_type": "code",
   "execution_count": 31,
   "metadata": {},
   "outputs": [
    {
     "name": "stdin",
     "output_type": "stream",
     "text": [
      "enter a num 21\n"
     ]
    },
    {
     "name": "stdout",
     "output_type": "stream",
     "text": [
      "3 1\n",
      "7 1\n",
      "NO prime!\n"
     ]
    }
   ],
   "source": [
    "flag = 0\n",
    "x = eval(input('enter a num'))\n",
    "for i in range (2,round(x/2)):\n",
    "    if x%i==0:\n",
    "        flag = 1\n",
    "        print(i,flag)\n",
    "if flag == 0:\n",
    "    print('x is prim')\n",
    "else:\n",
    "    print('NO prime!')"
   ]
  },
  {
   "cell_type": "code",
   "execution_count": 45,
   "metadata": {},
   "outputs": [
    {
     "name": "stdout",
     "output_type": "stream",
     "text": [
      "21 HelloHelloHelloHelloHelloHelloHelloHelloHelloHelloHelloHelloHelloHelloHelloHelloHelloHelloHelloHelloHello\n"
     ]
    }
   ],
   "source": [
    "x = randint(5,25)\n",
    "print(x,'Hello'*x)"
   ]
  },
  {
   "cell_type": "code",
   "execution_count": 46,
   "metadata": {},
   "outputs": [
    {
     "name": "stdout",
     "output_type": "stream",
     "text": [
      "Hello\n",
      "Hello\n",
      "Hello\n",
      "Hello\n",
      "Hello\n",
      "Hello\n",
      "Hello\n",
      "Hello\n",
      "Hello\n",
      "Hello\n",
      "Hello\n"
     ]
    }
   ],
   "source": [
    "x = randint(5,25)\n",
    "for i in range (x):\n",
    "    print('Hello')"
   ]
  },
  {
   "cell_type": "code",
   "execution_count": 47,
   "metadata": {},
   "outputs": [
    {
     "name": "stdout",
     "output_type": "stream",
     "text": [
      "797\n"
     ]
    }
   ],
   "source": [
    "count = 0\n",
    "for i in range (10000):\n",
    "    x = randint(1,100)\n",
    "    if x%12==0:\n",
    "        count = count+1\n",
    "print(count)"
   ]
  },
  {
   "cell_type": "code",
   "execution_count": 48,
   "metadata": {},
   "outputs": [
    {
     "name": "stdout",
     "output_type": "stream",
     "text": [
      "c1,c4,c9 are: 20 20 20\n"
     ]
    }
   ],
   "source": [
    "count1=0\n",
    "count4=0\n",
    "count9=0\n",
    "for i in range (101):\n",
    "    if (i**2)%10==1:\n",
    "        count1=count1+1\n",
    "    if (i**2)%10==4:\n",
    "        count4=count4+1\n",
    "    if (i**2)%10==9:\n",
    "        count9=count9+1\n",
    "print('c1,c4,c9 are:',count1,count4,count9)"
   ]
  },
  {
   "cell_type": "code",
   "execution_count": 54,
   "metadata": {},
   "outputs": [
    {
     "name": "stdin",
     "output_type": "stream",
     "text": [
      "enter a number n 2\n"
     ]
    },
    {
     "name": "stdout",
     "output_type": "stream",
     "text": [
      "0.8068528194400547\n"
     ]
    }
   ],
   "source": [
    "R = 0\n",
    "n = eval(input('enter a number n'))\n",
    "for i in range (1,n+1):\n",
    "    R = R+1/i\n",
    "print(R-log(n))"
   ]
  },
  {
   "cell_type": "code",
   "execution_count": 55,
   "metadata": {},
   "outputs": [
    {
     "name": "stdout",
     "output_type": "stream",
     "text": [
      "-1000\n"
     ]
    }
   ],
   "source": [
    "R=0\n",
    "for i in range (1,2000,2):\n",
    "    R = R + i-(i+1)\n",
    "print(R)    "
   ]
  },
  {
   "cell_type": "code",
   "execution_count": 56,
   "metadata": {},
   "outputs": [
    {
     "name": "stdin",
     "output_type": "stream",
     "text": [
      "enter a number 10\n"
     ]
    },
    {
     "name": "stdout",
     "output_type": "stream",
     "text": [
      "18\n"
     ]
    }
   ],
   "source": [
    "sum = 0\n",
    "n = eval(input('enter a number'))\n",
    "for i in range (1,n+1):\n",
    "    if n%i==0:\n",
    "        sum = sum+i\n",
    "print(sum)"
   ]
  },
  {
   "cell_type": "code",
   "execution_count": 57,
   "metadata": {},
   "outputs": [
    {
     "name": "stdout",
     "output_type": "stream",
     "text": [
      "6\n",
      "28\n",
      "496\n",
      "8128\n"
     ]
    }
   ],
   "source": [
    "for n in range (1,10000):\n",
    "    sum = 0\n",
    "    for i in range (1,n):\n",
    "        if n%i==0:\n",
    "            sum = sum + i\n",
    "    if n == sum:\n",
    "        print(n)"
   ]
  },
  {
   "cell_type": "code",
   "execution_count": 12,
   "metadata": {},
   "outputs": [
    {
     "name": "stdin",
     "output_type": "stream",
     "text": [
      "enter a number 121\n"
     ]
    },
    {
     "name": "stdout",
     "output_type": "stream",
     "text": [
      "it is not SF\n"
     ]
    }
   ],
   "source": [
    "n = eval(input('enter a number'))\n",
    "flag=0\n",
    "for i in range (2,n+1):\n",
    "    if n%i==0:\n",
    "        if sqrt(i)==round(sqrt(i)):\n",
    "            flag=1\n",
    "if flag==1:\n",
    "    print('it is not SF')\n",
    "else:\n",
    "    print('it is SF')"
   ]
  },
  {
   "cell_type": "code",
   "execution_count": 13,
   "metadata": {},
   "outputs": [
    {
     "name": "stdout",
     "output_type": "stream",
     "text": [
      "4 3 5\n"
     ]
    }
   ],
   "source": [
    "x=5\n",
    "y=4\n",
    "z=3\n",
    "x,y,z=y,z,x\n",
    "print(x,y,z)"
   ]
  },
  {
   "cell_type": "code",
   "execution_count": 18,
   "metadata": {},
   "outputs": [
    {
     "name": "stdout",
     "output_type": "stream",
     "text": [
      "969 996 997\n"
     ]
    }
   ],
   "source": [
    "count2=0\n",
    "count3=0\n",
    "count5=0\n",
    "for i in range (1,1001):\n",
    "    if sqrt(i)!=round(sqrt(i)):\n",
    "        count2=count2+1\n",
    "    if i**(1/3)!=round(i**(1/3)):\n",
    "        count3=count3+1\n",
    "    if i**(1/5)!=round(i**(1/5)):\n",
    "        count5=count5+1\n",
    "print(count2,count3,count5)"
   ]
  },
  {
   "cell_type": "code",
   "execution_count": 5,
   "metadata": {},
   "outputs": [
    {
     "name": "stdin",
     "output_type": "stream",
     "text": [
      "enter a number 234\n",
      "enter a number 1\n",
      "enter a number 1\n",
      "enter a number 2\n",
      "enter a number 98\n",
      "enter a number 67\n",
      "enter a number 4\n",
      "enter a number 3\n",
      "enter a number 9\n",
      "enter a number 10\n"
     ]
    },
    {
     "name": "stdout",
     "output_type": "stream",
     "text": [
      "a value over 100!\n",
      "234 98 1 2 42.9 53.25\n"
     ]
    }
   ],
   "source": [
    "sumation=0\n",
    "flag=0\n",
    "n1 = eval(input('enter a number'))\n",
    "n2 = eval(input('enter a number'))\n",
    "if n1>n2:\n",
    "    LA=n1\n",
    "    SLA=n2\n",
    "    LO=n2\n",
    "    SLO =n1\n",
    "if  n2>=n1:\n",
    "    LA=n2\n",
    "    SLA=n1\n",
    "    LO=n1\n",
    "    SLO =n2\n",
    "sumation = sumation +n1+ n2\n",
    "if n1>100 or n2>100:\n",
    "    flag=1\n",
    "for i in range (8):\n",
    "    n = eval(input('enter a number'))\n",
    "    sumation=sumation+n\n",
    "    if n>100:\n",
    "        flag=1\n",
    "    if n>LA:\n",
    "        SLA=LA\n",
    "        LA=n\n",
    "    if n<LA:\n",
    "        if n>SLA:\n",
    "            SLA=n\n",
    "    if n<LO:\n",
    "        SLO=LO\n",
    "        LO=n\n",
    "    if n>LO:\n",
    "        if n<SLO:\n",
    "            SLO=n\n",
    "average=sumation/10\n",
    "AV = (sumation - (LO+SLO))/8\n",
    "if flag==1:\n",
    "    print('a value over 100!')\n",
    "print(LA,SLA,LO,SLO,average,AV)"
   ]
  },
  {
   "cell_type": "code",
   "execution_count": 7,
   "metadata": {},
   "outputs": [
    {
     "name": "stdin",
     "output_type": "stream",
     "text": [
      "enter a num 5\n"
     ]
    },
    {
     "name": "stdout",
     "output_type": "stream",
     "text": [
      "120\n"
     ]
    }
   ],
   "source": [
    "n = eval(input('enter a num'))\n",
    "m=1\n",
    "for i in range (1,n+1):\n",
    "    m = i*m\n",
    "print(m)"
   ]
  },
  {
   "cell_type": "code",
   "execution_count": 18,
   "metadata": {},
   "outputs": [
    {
     "name": "stdin",
     "output_type": "stream",
     "text": [
      "enter a num between 1 and 10 1\n",
      "enter a num between 1 and 10 1\n",
      "enter a num between 1 and 10 1\n",
      "enter a num between 1 and 10 1\n",
      "enter a num between 1 and 10 1\n"
     ]
    },
    {
     "name": "stdout",
     "output_type": "stream",
     "text": [
      "-5\n"
     ]
    }
   ],
   "source": [
    "score = 0\n",
    "for i in range(5):\n",
    "    n = eval(input('enter a num between 1 and 10'))\n",
    "    m = randint(1,10)\n",
    "    if n==m:\n",
    "        score = score+10\n",
    "    else:\n",
    "        score = score-1\n",
    "print(score)"
   ]
  },
  {
   "cell_type": "markdown",
   "metadata": {},
   "source": []
  }
 ],
 "metadata": {
  "kernelspec": {
   "display_name": "Python 3",
   "language": "python",
   "name": "python3"
  },
  "language_info": {
   "codemirror_mode": {
    "name": "ipython",
    "version": 3
   },
   "file_extension": ".py",
   "mimetype": "text/x-python",
   "name": "python",
   "nbconvert_exporter": "python",
   "pygments_lexer": "ipython3",
   "version": "3.7.5"
  }
 },
 "nbformat": 4,
 "nbformat_minor": 4
}
