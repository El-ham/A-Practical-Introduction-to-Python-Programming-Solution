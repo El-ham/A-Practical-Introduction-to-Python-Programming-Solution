{
 "cells": [
  {
   "cell_type": "code",
   "execution_count": 1,
   "metadata": {},
   "outputs": [],
   "source": [
    "from string import punctuation \n",
    "from random import *\n",
    "from math import *"
   ]
  },
  {
   "cell_type": "code",
   "execution_count": 1,
   "metadata": {},
   "outputs": [
    {
     "data": {
      "text/plain": [
       "100"
      ]
     },
     "execution_count": 1,
     "metadata": {},
     "output_type": "execute_result"
    }
   ],
   "source": [
    "d={'A':100, 'B':200}\n",
    "d['A']"
   ]
  },
  {
   "cell_type": "code",
   "execution_count": 2,
   "metadata": {},
   "outputs": [],
   "source": [
    "d['A']=300"
   ]
  },
  {
   "cell_type": "code",
   "execution_count": 3,
   "metadata": {},
   "outputs": [
    {
     "data": {
      "text/plain": [
       "{'A': 300, 'B': 200}"
      ]
     },
     "execution_count": 3,
     "metadata": {},
     "output_type": "execute_result"
    }
   ],
   "source": [
    "d"
   ]
  },
  {
   "cell_type": "code",
   "execution_count": 4,
   "metadata": {},
   "outputs": [],
   "source": [
    "d['C']=500"
   ]
  },
  {
   "cell_type": "code",
   "execution_count": 5,
   "metadata": {},
   "outputs": [
    {
     "data": {
      "text/plain": [
       "{'A': 300, 'B': 200, 'C': 500}"
      ]
     },
     "execution_count": 5,
     "metadata": {},
     "output_type": "execute_result"
    }
   ],
   "source": [
    "d"
   ]
  },
  {
   "cell_type": "code",
   "execution_count": 6,
   "metadata": {},
   "outputs": [],
   "source": [
    "del d['B']"
   ]
  },
  {
   "cell_type": "code",
   "execution_count": 7,
   "metadata": {},
   "outputs": [
    {
     "data": {
      "text/plain": [
       "{'A': 300, 'C': 500}"
      ]
     },
     "execution_count": 7,
     "metadata": {},
     "output_type": "execute_result"
    }
   ],
   "source": [
    "d"
   ]
  },
  {
   "cell_type": "code",
   "execution_count": 1,
   "metadata": {},
   "outputs": [
    {
     "name": "stdin",
     "output_type": "stream",
     "text": [
      "enter a word cat\n"
     ]
    },
    {
     "name": "stdout",
     "output_type": "stream",
     "text": [
      "the sound is: miuuu\n"
     ]
    }
   ],
   "source": [
    "d={'dog':'hooo','cat':'miuuu','chiken':'jik'}\n",
    "word=input('enter a word')\n",
    "print('the sound is:',d[word])"
   ]
  },
  {
   "cell_type": "code",
   "execution_count": 4,
   "metadata": {},
   "outputs": [
    {
     "name": "stdin",
     "output_type": "stream",
     "text": [
      "please enter a word elham\n"
     ]
    },
    {
     "name": "stdout",
     "output_type": "stream",
     "text": [
      "10\n"
     ]
    }
   ],
   "source": [
    "points = {'A':1, 'B':3, 'C':3, 'D':2, 'E':1, 'F':4, 'G':2,\n",
    "'H':4, 'I':1, 'J':8, 'K':5, 'L':1, 'M':3, 'N':1,\n",
    "'O':1, 'P':3, 'Q':10, 'R':1, 'S':1, 'T':1, 'U':1,\n",
    "'V':4, 'W':4, 'X':8, 'Y':4, 'Z':10}\n",
    "word=input('please enter a word')\n",
    "word=word.upper()\n",
    "score=sum([points[c] for c in word])\n",
    "print(score)"
   ]
  },
  {
   "cell_type": "code",
   "execution_count": 15,
   "metadata": {},
   "outputs": [
    {
     "name": "stdout",
     "output_type": "stream",
     "text": [
      "4\n",
      "hearts\n"
     ]
    }
   ],
   "source": [
    "deck=[{'value':i, 'suit':c} for i in range(2,15) for c in ['spades', 'clubs', 'hearts', 'diamonds']]\n",
    "shuffle(deck)\n",
    "print(deck[0]['value'])\n",
    "print(deck[0]['suit'])"
   ]
  },
  {
   "cell_type": "code",
   "execution_count": null,
   "metadata": {},
   "outputs": [],
   "source": [
    "d\n",
    "d2=d.copy()"
   ]
  },
  {
   "cell_type": "code",
   "execution_count": 16,
   "metadata": {
    "collapsed": true,
    "jupyter": {
     "outputs_hidden": true
    }
   },
   "outputs": [
    {
     "name": "stdout",
     "output_type": "stream",
     "text": [
      "A\n",
      "B\n",
      "C\n",
      "D\n",
      "E\n",
      "F\n",
      "G\n",
      "H\n",
      "I\n",
      "J\n",
      "K\n",
      "L\n",
      "M\n",
      "N\n",
      "O\n",
      "P\n",
      "Q\n",
      "R\n",
      "S\n",
      "T\n",
      "U\n",
      "V\n",
      "W\n",
      "X\n",
      "Y\n",
      "Z\n"
     ]
    }
   ],
   "source": [
    "for i in points:\n",
    "    print(i)"
   ]
  },
  {
   "cell_type": "code",
   "execution_count": 17,
   "metadata": {
    "collapsed": true,
    "jupyter": {
     "outputs_hidden": true
    }
   },
   "outputs": [
    {
     "name": "stdout",
     "output_type": "stream",
     "text": [
      "1\n",
      "3\n",
      "3\n",
      "2\n",
      "1\n",
      "4\n",
      "2\n",
      "4\n",
      "1\n",
      "8\n",
      "5\n",
      "1\n",
      "3\n",
      "1\n",
      "1\n",
      "3\n",
      "10\n",
      "1\n",
      "1\n",
      "1\n",
      "1\n",
      "4\n",
      "4\n",
      "8\n",
      "4\n",
      "10\n"
     ]
    }
   ],
   "source": [
    "for i in points:\n",
    "    print(points[i])"
   ]
  },
  {
   "cell_type": "code",
   "execution_count": 25,
   "metadata": {},
   "outputs": [],
   "source": [
    "d={'A':1, 'B':2, 'C':3}"
   ]
  },
  {
   "cell_type": "code",
   "execution_count": 24,
   "metadata": {},
   "outputs": [
    {
     "data": {
      "text/plain": [
       "['A', 'B', 'C']"
      ]
     },
     "execution_count": 24,
     "metadata": {},
     "output_type": "execute_result"
    }
   ],
   "source": [
    "list(d)"
   ]
  },
  {
   "cell_type": "code",
   "execution_count": 22,
   "metadata": {},
   "outputs": [
    {
     "data": {
      "text/plain": [
       "[1, 2, 3]"
      ]
     },
     "execution_count": 22,
     "metadata": {},
     "output_type": "execute_result"
    }
   ],
   "source": [
    "list(d.values())"
   ]
  },
  {
   "cell_type": "code",
   "execution_count": 23,
   "metadata": {},
   "outputs": [
    {
     "data": {
      "text/plain": [
       "[('A', 1), ('B', 2), ('C', 3)]"
      ]
     },
     "execution_count": 23,
     "metadata": {},
     "output_type": "execute_result"
    }
   ],
   "source": [
    "list(d.items())"
   ]
  },
  {
   "cell_type": "code",
   "execution_count": 26,
   "metadata": {},
   "outputs": [],
   "source": [
    "d={'A':100, 'B':200, 'C':100, 'D':300, 'E':400, 'F':100}"
   ]
  },
  {
   "cell_type": "code",
   "execution_count": 28,
   "metadata": {},
   "outputs": [
    {
     "data": {
      "text/plain": [
       "['A', 'C', 'F']"
      ]
     },
     "execution_count": 28,
     "metadata": {},
     "output_type": "execute_result"
    }
   ],
   "source": [
    "[x[0] for x in list(d.items()) if x[1]==100]"
   ]
  },
  {
   "cell_type": "code",
   "execution_count": 29,
   "metadata": {},
   "outputs": [
    {
     "data": {
      "text/plain": [
       "[400]"
      ]
     },
     "execution_count": 29,
     "metadata": {},
     "output_type": "execute_result"
    }
   ],
   "source": [
    "[x[1] for x in list(d.items()) if x[0]=='E']"
   ]
  },
  {
   "cell_type": "code",
   "execution_count": 30,
   "metadata": {},
   "outputs": [
    {
     "data": {
      "text/plain": [
       "{'A': 100, 'B': 200}"
      ]
     },
     "execution_count": 30,
     "metadata": {},
     "output_type": "execute_result"
    }
   ],
   "source": [
    "L=[('A',100), ('B',200)]\n",
    "dict(L)"
   ]
  },
  {
   "cell_type": "code",
   "execution_count": 31,
   "metadata": {},
   "outputs": [
    {
     "data": {
      "text/plain": [
       "{'Elham': 5, 'Erfan': 5, 'Amir': 4, 'Bahareh': 7, 'Homa': 4, 'Heshmat': 7}"
      ]
     },
     "execution_count": 31,
     "metadata": {},
     "output_type": "execute_result"
    }
   ],
   "source": [
    "words=['Elham','Erfan','Amir','Bahareh','Homa','Heshmat']\n",
    "d={s:len(s) for s in words}\n",
    "d"
   ]
  },
  {
   "cell_type": "code",
   "execution_count": null,
   "metadata": {},
   "outputs": [],
   "source": [
    "from string import punctuation\n",
    "text = open ('romeoandjuliet.txt').read()\n",
    "text=text.lower()\n",
    "for c in punctuation:\n",
    "    text=text.replace(c,'')\n",
    "words=text.split()\n",
    "d={}\n",
    "for i in words:\n",
    "    if i in d:\n",
    "        d[i]=d[i]+1\n",
    "    else:\n",
    "        d[i]=1\n",
    "items=list(d.items())\n",
    "#1\n",
    "items.sort()\n",
    "for i in items:\n",
    "    print(i)\n",
    "#2\n",
    "items=[(i[1],i[0]) for i in items]\n",
    "items.sort()\n",
    "for i in items:\n",
    "    print(i)"
   ]
  },
  {
   "cell_type": "code",
   "execution_count": 2,
   "metadata": {},
   "outputs": [
    {
     "name": "stdin",
     "output_type": "stream",
     "text": [
      "enter a product or say enough to finish apple\n",
      "enter the price 10\n",
      "enter a product or say enough to finish banana\n",
      "enter the price 20\n",
      "enter a product or say enough to finish pen\n",
      "enter the price 25\n",
      "enter a product or say enough to finish book\n",
      "enter the price 18\n",
      "enter a product or say enough to finish enough\n",
      "now, enter a product or say enough to finish book\n"
     ]
    },
    {
     "name": "stdout",
     "output_type": "stream",
     "text": [
      "the price is: 18\n"
     ]
    },
    {
     "name": "stdin",
     "output_type": "stream",
     "text": [
      "now, enter a product or say enough to finish pen\n"
     ]
    },
    {
     "name": "stdout",
     "output_type": "stream",
     "text": [
      "the price is: 25\n"
     ]
    },
    {
     "name": "stdin",
     "output_type": "stream",
     "text": [
      "now, enter a product or say enough to finish hat\n"
     ]
    },
    {
     "name": "stdout",
     "output_type": "stream",
     "text": [
      "the product is not in the dictionary\n"
     ]
    },
    {
     "name": "stdin",
     "output_type": "stream",
     "text": [
      "now, enter a product or say enough to finish enough\n"
     ]
    }
   ],
   "source": [
    "d={}\n",
    "p1='2'\n",
    "while p1!='enough':\n",
    "    p1=input('enter a product or say enough to finish')\n",
    "    if p1!='enough':\n",
    "        p2=eval(input('enter the price'))\n",
    "        d[p1]=p2\n",
    "while i!='enough':\n",
    "    i=input('now, enter a product or say enough to finish')\n",
    "    if i!='enough':\n",
    "        if i not in d:\n",
    "            print('the product is not in the dictionary')\n",
    "        else:\n",
    "            print('the price is:',d[i])"
   ]
  },
  {
   "cell_type": "code",
   "execution_count": 4,
   "metadata": {},
   "outputs": [
    {
     "name": "stdin",
     "output_type": "stream",
     "text": [
      "enter a dollar amount 20\n"
     ]
    },
    {
     "name": "stdout",
     "output_type": "stream",
     "text": [
      "apple\n",
      "book\n"
     ]
    }
   ],
   "source": [
    "m=eval(input('enter a dollar amount'))\n",
    "for j in d:\n",
    "    if d[j]<m:\n",
    "        print(j)"
   ]
  },
  {
   "cell_type": "code",
   "execution_count": 10,
   "metadata": {},
   "outputs": [
    {
     "name": "stdin",
     "output_type": "stream",
     "text": [
      "enter the name of the month July\n"
     ]
    },
    {
     "name": "stdout",
     "output_type": "stream",
     "text": [
      "31\n"
     ]
    }
   ],
   "source": [
    "days = {'January':31, 'February':28, 'March':31, 'April':30,\n",
    "'May':31, 'June':30, 'July':31, 'August':31,\n",
    "'September':30, 'October':31, 'November':30, 'December':31}\n",
    "m=input('enter the name of the month')\n",
    "print(days[m])"
   ]
  },
  {
   "cell_type": "code",
   "execution_count": 24,
   "metadata": {},
   "outputs": [
    {
     "data": {
      "text/plain": [
       "['April',\n",
       " 'August',\n",
       " 'December',\n",
       " 'February',\n",
       " 'January',\n",
       " 'July',\n",
       " 'June',\n",
       " 'March',\n",
       " 'May',\n",
       " 'November',\n",
       " 'October',\n",
       " 'September']"
      ]
     },
     "execution_count": 24,
     "metadata": {},
     "output_type": "execute_result"
    }
   ],
   "source": [
    "k=list(days)\n",
    "k.sort()\n",
    "k"
   ]
  },
  {
   "cell_type": "code",
   "execution_count": 25,
   "metadata": {},
   "outputs": [
    {
     "name": "stdout",
     "output_type": "stream",
     "text": [
      "January\n",
      "March\n",
      "May\n",
      "July\n",
      "August\n",
      "October\n",
      "December\n"
     ]
    }
   ],
   "source": [
    "for i in days:\n",
    "    if days[i]==31:\n",
    "        print(i)"
   ]
  },
  {
   "cell_type": "code",
   "execution_count": 45,
   "metadata": {
    "collapsed": true,
    "jupyter": {
     "outputs_hidden": true
    }
   },
   "outputs": [
    {
     "data": {
      "text/plain": [
       "[(28, 'February'),\n",
       " (30, 'April'),\n",
       " (30, 'June'),\n",
       " (30, 'November'),\n",
       " (30, 'September'),\n",
       " (31, 'August'),\n",
       " (31, 'December'),\n",
       " (31, 'January'),\n",
       " (31, 'July'),\n",
       " (31, 'March'),\n",
       " (31, 'May'),\n",
       " (31, 'October')]"
      ]
     },
     "execution_count": 45,
     "metadata": {},
     "output_type": "execute_result"
    }
   ],
   "source": [
    "l=list(days.items())\n",
    "m=[(a[1],a[0]) for a in l]\n",
    "m.sort()\n",
    "m"
   ]
  },
  {
   "cell_type": "code",
   "execution_count": 47,
   "metadata": {},
   "outputs": [
    {
     "name": "stdin",
     "output_type": "stream",
     "text": [
      "enter month Dechjiol\n"
     ]
    },
    {
     "name": "stdout",
     "output_type": "stream",
     "text": [
      "31\n"
     ]
    }
   ],
   "source": [
    "m=input('enter month')\n",
    "for i in days:\n",
    "    if m[:3]==i[:3]:\n",
    "        print(days[i])"
   ]
  },
  {
   "cell_type": "code",
   "execution_count": 71,
   "metadata": {},
   "outputs": [
    {
     "name": "stdin",
     "output_type": "stream",
     "text": [
      "enter the username eli\n",
      "enter the password 123\n"
     ]
    },
    {
     "name": "stdout",
     "output_type": "stream",
     "text": [
      "now logged in to the system\n"
     ]
    }
   ],
   "source": [
    "d={'eli':123, 'eri':456, 'jav':678, 'iuy':695, 'bar':841}\n",
    "u=input('enter the username')\n",
    "if u not in d:\n",
    "    print('the person is not a valid user of the system')\n",
    "if u in d:\n",
    "    p=eval(input('enter the password'))\n",
    "    if d[u]!=p:\n",
    "        print('the password is invalid')\n",
    "    if d[u]==p:\n",
    "        print('now logged in to the system')\n"
   ]
  },
  {
   "cell_type": "code",
   "execution_count": 60,
   "metadata": {},
   "outputs": [
    {
     "data": {
      "text/plain": [
       "456"
      ]
     },
     "execution_count": 60,
     "metadata": {},
     "output_type": "execute_result"
    }
   ],
   "source": [
    "d['eri']"
   ]
  },
  {
   "cell_type": "code",
   "execution_count": 77,
   "metadata": {},
   "outputs": [
    {
     "name": "stdin",
     "output_type": "stream",
     "text": [
      "enter a team name or enter enough to finish bb\n",
      "enter how many wins 1\n",
      "enter how many loses 2\n",
      "enter a team name or enter enough to finish gh\n",
      "enter how many wins 2\n",
      "enter how many loses 4\n",
      "enter a team name or enter enough to finish jj\n",
      "enter how many wins 0\n",
      "enter how many loses 3\n",
      "enter a team name or enter enough to finish enough\n",
      "enter a team name bb\n"
     ]
    },
    {
     "name": "stdout",
     "output_type": "stream",
     "text": [
      "33.33333333333333\n",
      "[1, 2, 0]\n",
      "['bb', 'gh']\n"
     ]
    }
   ],
   "source": [
    "#[wins, losses]\n",
    "d={}\n",
    "t_n=1\n",
    "N=[]\n",
    "C=[]\n",
    "while t_n!='enough':\n",
    "    t_n=input('enter a team name or enter enough to finish')\n",
    "    if t_n!='enough':\n",
    "        w=eval(input('enter how many wins'))\n",
    "        l=eval(input('enter how many loses'))\n",
    "        d[t_n]=[w,l]\n",
    "t=input('enter a team name')\n",
    "if t in d:\n",
    "    print((d[t][0]/(d[t][0]+d[t][1]))*100)\n",
    "else:\n",
    "    print('Invalid team name')\n",
    "for i in d:\n",
    "    N.append(d[i][0])\n",
    "for j in d:\n",
    "    if d[j][0]>0:\n",
    "        C.append(j)\n",
    "print(N)\n",
    "print(C)"
   ]
  },
  {
   "cell_type": "code",
   "execution_count": 10,
   "metadata": {},
   "outputs": [
    {
     "name": "stdin",
     "output_type": "stream",
     "text": [
      "enter game scores in a format like team1 score1 - team2 score2 a 3 - i 8\n"
     ]
    },
    {
     "name": "stdout",
     "output_type": "stream",
     "text": [
      "['a 3 ', ' i 8']\n",
      "[['a', '3', ''], ['', 'i', '8']]\n"
     ]
    },
    {
     "name": "stdin",
     "output_type": "stream",
     "text": [
      "enter game scores in a format like team1 score1 - team2 score2 d 6 - u 6\n"
     ]
    },
    {
     "name": "stdout",
     "output_type": "stream",
     "text": [
      "['d 6 ', ' u 6']\n",
      "[['d', '6', ''], ['', 'u', '6']]\n"
     ]
    },
    {
     "name": "stdin",
     "output_type": "stream",
     "text": [
      "enter game scores in a format like team1 score1 - team2 score2 a 6 - k 2\n"
     ]
    },
    {
     "name": "stdout",
     "output_type": "stream",
     "text": [
      "['a 6 ', ' k 2']\n",
      "[['a', '6', ''], ['', 'k', '2']]\n"
     ]
    },
    {
     "name": "stdin",
     "output_type": "stream",
     "text": [
      "enter game scores in a format like team1 score1 - team2 score2 t 2 - k 4\n"
     ]
    },
    {
     "name": "stdout",
     "output_type": "stream",
     "text": [
      "['t 2 ', ' k 4']\n",
      "[['t', '2', ''], ['', 'k', '4']]\n"
     ]
    },
    {
     "name": "stdin",
     "output_type": "stream",
     "text": [
      "enter game scores in a format like team1 score1 - team2 score2 enough\n"
     ]
    },
    {
     "name": "stdout",
     "output_type": "stream",
     "text": [
      "{'a': [1, 1], 'i': [1, 0], 'd': [0, 0], 'u': [0, 0], 'k': [1, 1], 't': [0, 1]}\n"
     ]
    }
   ],
   "source": [
    "#team1 score1 - team2 score2\n",
    "#[wins, losses]\n",
    "d={}\n",
    "t=1\n",
    "M=[]\n",
    "while t!='enough':\n",
    "    t=input('enter game scores in a format like team1 score1 - team2 score2')\n",
    "    if t!='enough':\n",
    "        l=t.split('-')\n",
    "        print(l)\n",
    "        M.append(l[0].split(' '))\n",
    "        M.append(l[1].split(' '))\n",
    "        print(M)\n",
    "        if M[0][0] not in d:\n",
    "            d[M[0][0]]=[0,0]\n",
    "        if M[1][1] not in d:\n",
    "            d[M[1][1]]=[0,0]\n",
    "        if int(M[0][1])>int(M[1][2]):\n",
    "            d[M[0][0]][0]=d[M[0][0]][0]+1\n",
    "            d[M[1][1]][1]=d[M[1][1]][1]+1\n",
    "        if int(M[1][2])>int(M[0][1]):\n",
    "            d[M[1][1]][0]=d[M[1][1]][0]+1\n",
    "            d[M[0][0]][1]=d[M[0][0]][1]+1\n",
    "        M=[]\n",
    "        \n",
    "        \n",
    "print(d)"
   ]
  },
  {
   "cell_type": "code",
   "execution_count": 12,
   "metadata": {},
   "outputs": [
    {
     "name": "stdin",
     "output_type": "stream",
     "text": [
      "enter game scores in a format like team1 score1 - team2 score2 a 5 - h 7\n"
     ]
    },
    {
     "name": "stdout",
     "output_type": "stream",
     "text": [
      "['a 5', 'h 7']\n",
      "[['a', '5'], ['h', '7']]\n"
     ]
    },
    {
     "name": "stdin",
     "output_type": "stream",
     "text": [
      "enter game scores in a format like team1 score1 - team2 score2 t 6 - i 6\n"
     ]
    },
    {
     "name": "stdout",
     "output_type": "stream",
     "text": [
      "['t 6', 'i 6']\n",
      "[['t', '6'], ['i', '6']]\n"
     ]
    },
    {
     "name": "stdin",
     "output_type": "stream",
     "text": [
      "enter game scores in a format like team1 score1 - team2 score2 t 2 - o 0\n"
     ]
    },
    {
     "name": "stdout",
     "output_type": "stream",
     "text": [
      "['t 2', 'o 0']\n",
      "[['t', '2'], ['o', '0']]\n"
     ]
    },
    {
     "name": "stdin",
     "output_type": "stream",
     "text": [
      "enter game scores in a format like team1 score1 - team2 score2 enough\n"
     ]
    },
    {
     "name": "stdout",
     "output_type": "stream",
     "text": [
      "{'a': [0, 1], 'h': [1, 0], 't': [1, 0], 'i': [0, 0], 'o': [0, 1]}\n"
     ]
    }
   ],
   "source": [
    "#team1 score1 - team2 score2\n",
    "#[wins, losses]\n",
    "d={}\n",
    "t=1\n",
    "M=[]\n",
    "while t!='enough':\n",
    "    t=input('enter game scores in a format like team1 score1 - team2 score2')\n",
    "    if t!='enough':\n",
    "        l=t.split(' - ')\n",
    "        print(l)\n",
    "        M.append(l[0].split(' '))\n",
    "        M.append(l[1].split(' '))\n",
    "        print(M)\n",
    "        if M[0][0] not in d:\n",
    "            d[M[0][0]]=[0,0]\n",
    "        if M[1][0] not in d:\n",
    "            d[M[1][0]]=[0,0]\n",
    "        if int(M[0][1])>int(M[1][1]):\n",
    "            d[M[0][0]][0]=d[M[0][0]][0]+1\n",
    "            d[M[1][0]][1]=d[M[1][0]][1]+1\n",
    "        if int(M[1][1])>int(M[0][1]):\n",
    "            d[M[1][0]][0]=d[M[1][0]][0]+1\n",
    "            d[M[0][0]][1]=d[M[0][0]][1]+1\n",
    "        M=[]\n",
    "        \n",
    "        \n",
    "print(d)"
   ]
  },
  {
   "cell_type": "code",
   "execution_count": 28,
   "metadata": {},
   "outputs": [
    {
     "name": "stdout",
     "output_type": "stream",
     "text": [
      "[[5, 7, 8, 4, 3], [10, 6, 9, 7, 1], [3, 2, 6, 3, 5], [0, 1, 4, 7, 8], [5, 8, 5, 3, 5]]\n",
      "{5: 5, 7: 3, 8: 3, 4: 2, 3: 4, 10: 1, 6: 2, 9: 1, 1: 2, 2: 1, 0: 1}\n",
      "[(5, 5), (7, 3), (8, 3), (4, 2), (3, 4), (10, 1), (6, 2), (9, 1), (1, 2), (2, 1), (0, 1)]\n",
      "[(1, 0), (1, 2), (1, 9), (1, 10), (2, 1), (2, 4), (2, 6), (3, 7), (3, 8), (4, 3), (5, 5)]\n",
      "5\n",
      "3\n",
      "8\n"
     ]
    }
   ],
   "source": [
    "L=[[randint(0,10) for i in range(5)] for j in range(5)]\n",
    "d={}\n",
    "for i in range(5):\n",
    "    for j in range(5):\n",
    "        if L[i][j] not in d:\n",
    "            d[L[i][j]]=1\n",
    "        else:\n",
    "            d[L[i][j]]=d[L[i][j]]+1\n",
    "print(L)\n",
    "print(d)\n",
    "item=list(d.items())\n",
    "N=[(u[1],u[0]) for u in item]\n",
    "N.sort()\n",
    "print(item)\n",
    "print(N)\n",
    "for j in range(1,4):\n",
    "    print(N[-j][1])"
   ]
  },
  {
   "cell_type": "code",
   "execution_count": 23,
   "metadata": {},
   "outputs": [
    {
     "name": "stdout",
     "output_type": "stream",
     "text": [
      "[{'value': 6, 'suit': 'spades'}, {'value': 9, 'suit': 'clubs'}, {'value': 7, 'suit': 'diamonds'}]\n",
      "[{'value': 4, 'suit': 'spades'}, {'value': 10, 'suit': 'clubs'}, {'value': 5, 'suit': 'diamonds'}]\n",
      "[6, 7, 9]\n",
      "[4, 5, 10]\n",
      "playe 2 is the winner!\n"
     ]
    }
   ],
   "source": [
    "deck = [{'value': i, 'suit': c} for i in range(2,15) for c in ['spades', 'clubs', 'hearts', 'diamonds']]\n",
    "player1 = sample(deck,3)\n",
    "player2 = sample(deck,3)\n",
    "print(player1)\n",
    "print(player2)\n",
    "L_1 = [player1[0]['value'], player1[1]['value'], player1[2]['value']]\n",
    "L_2 = [player2[0]['value'], player2[1]['value'], player2[2]['value']]\n",
    "L_1.sort()\n",
    "L_2.sort()\n",
    "print(L_1)\n",
    "print(L_2)\n",
    "if L_1[2]>L_2[2]:\n",
    "    print('playe 1 is the winner!')\n",
    "if L_2[2]>L_1[2]:\n",
    "    print('playe 2 is the winner!')\n",
    "if L_1[2]==L_2[2]:\n",
    "    if L_1[1]>L_2[1]:\n",
    "        print('playe 1 is the winner!')\n",
    "    if L_2[1]>L_1[1]:\n",
    "        print('playe 2 is the winner!')\n",
    "    if L_1[1]==L_2[1]:\n",
    "        if L_1[0]>L_2[0]:\n",
    "            print('playe 1 is the winner!')\n",
    "        if L_2[0]>L_1[0]:\n",
    "            print('playe 2 is the winner!')\n",
    "        if L_1[0]==L_2[0]:\n",
    "            print('the game is a draw')"
   ]
  },
  {
   "cell_type": "code",
   "execution_count": 9,
   "metadata": {},
   "outputs": [
    {
     "name": "stdout",
     "output_type": "stream",
     "text": [
      "[{'value': 10, 'suit': 'clubs'}, {'value': 3, 'suit': 'clubs'}, {'value': 7, 'suit': 'clubs'}]\n",
      "form a flush!\n"
     ]
    }
   ],
   "source": [
    "deck = [{'value': i, 'suit': c} for i in range(2,15) for c in ['spades', 'clubs', 'hearts', 'diamonds']]\n",
    "s= sample(deck,3)\n",
    "print(s)\n",
    "if s[0]['suit'] == s[1]['suit'] == s[2]['suit']:\n",
    "    print('form a flush!')\n",
    "if s[0]['value'] == s[1]['value'] == s[2]['value']:\n",
    "    print('three-of-a-kind!')\n",
    "if (s[0]['value'] == s[1]['value'] != s[2]['value']) or (s[1]['value'] == s[2]['value'] != s[0]['value']) or (s[0]['value'] == s[2]['value'] != s[1]['value']):\n",
    "    print('a pair!')\n",
    "for i in range(2,15):\n",
    "    if s[0]['value']==i and s[1]['value']==i+1 and s[2]['value']==i+2:\n",
    "        print('a straight!')"
   ]
  },
  {
   "cell_type": "code",
   "execution_count": 18,
   "metadata": {},
   "outputs": [
    {
     "name": "stdout",
     "output_type": "stream",
     "text": [
      "0.0014\n"
     ]
    }
   ],
   "source": [
    "# a flush in a five card hand\n",
    "deck = [{'value': i, 'suit': c} for i in range(2,15) for c in ['spades', 'clubs', 'hearts', 'diamonds']]\n",
    "count=0\n",
    "for i in range(10000):\n",
    "    s= sample(deck,5)\n",
    "    if s[0]['suit'] == s[1]['suit'] == s[2]['suit'] == s[3]['suit'] == s[4]['suit']:\n",
    "        count=count+1\n",
    "print(count/10000)"
   ]
  },
  {
   "cell_type": "code",
   "execution_count": 8,
   "metadata": {},
   "outputs": [
    {
     "name": "stdin",
     "output_type": "stream",
     "text": [
      "enter string 1 ryu optpo\n",
      "enter string 2 eqa kalak\n"
     ]
    },
    {
     "name": "stdout",
     "output_type": "stream",
     "text": [
      "YES! cipher!\n",
      "ryu optpo eqa kalak {'r': 'e', 'y': 'q', 'u': 'a', 'o': 'k', 'p': 'a', 't': 'l'}\n"
     ]
    }
   ],
   "source": [
    "s1=input('enter string 1')\n",
    "s2=input('enter string 2')\n",
    "d={}\n",
    "flag=0\n",
    "s1=s1.lower()\n",
    "s2=s2.lower()\n",
    "for c in punctuation:\n",
    "    s1=s1.replace(c,'')\n",
    "    s2=s2.replace(c,'')\n",
    "for i in range(len(s1)):\n",
    "    if s1[i]==' ' and s2[i]!=' ':\n",
    "        flag=1\n",
    "    elif s2[i]==' ' and s1[i]!=' ':\n",
    "        flag=1\n",
    "    elif s1[i]==' ' and s2[i]==' ':\n",
    "        continue\n",
    "    elif s1[i]==s2[i]:\n",
    "        flag=1\n",
    "        break\n",
    "    else:\n",
    "        if s1[i] not in d:\n",
    "            d[s1[i]]=s2[i]\n",
    "        if s1[i] in d:\n",
    "            if d[s1[i]]!=s2[i]:\n",
    "                flag=1\n",
    "                break\n",
    "if flag==0:\n",
    "    print('YES! cipher!')\n",
    "else:\n",
    "    print('NOT cipher!')\n",
    "print(s1, s2, d)\n"
   ]
  },
  {
   "cell_type": "code",
   "execution_count": 3,
   "metadata": {},
   "outputs": [
    {
     "name": "stdin",
     "output_type": "stream",
     "text": [
      "enter a pattern string a**a****\n",
      "enter the list of strings ['aabaabac', 'cabaabca', 'aaabbcba', 'aabacbab', 'acababba']\n"
     ]
    },
    {
     "name": "stdout",
     "output_type": "stream",
     "text": [
      "aabaabac\n",
      "aabacbab\n",
      "{0: 'a', 3: 'a'}\n"
     ]
    }
   ],
   "source": [
    "s=input('enter a pattern string')\n",
    "#'a**a****'\n",
    "d={}\n",
    "count=0\n",
    "#['aabaabac', 'cabaabca', 'aaabbcba', 'aabacbab', 'acababba']\n",
    "for i in range(len(s)):\n",
    "    if s[i]!='*':\n",
    "        d[i]=s[i]\n",
    "L=eval(input('enter the list of strings'))\n",
    "for j in L:\n",
    "    flag=1\n",
    "    if len(j)==len(s):\n",
    "        for k in d:\n",
    "            if d[k]!=j[k]:\n",
    "                flag=0 \n",
    "                break\n",
    "    if flag==1:\n",
    "        count=count+1\n",
    "        print(j)  \n",
    "if count==0:\n",
    "    print('NO match string!')\n",
    "\n",
    "print(d)"
   ]
  },
  {
   "cell_type": "code",
   "execution_count": 7,
   "metadata": {},
   "outputs": [
    {
     "name": "stdout",
     "output_type": "stream",
     "text": [
      "['Helga', 'LJ']\n",
      "['Princess']\n"
     ]
    }
   ],
   "source": [
    "d=[{'name':'Todd', 'phone':'555-1414', 'email':'todd@mail.net'},\n",
    "{'name':'Helga', 'phone':'555-1618', 'email':'helga@mail.net'},\n",
    "{'name':'Princess', 'phone':'555-3141', 'email':''},\n",
    "{'name':'LJ', 'phone':'555-2718', 'email':'lj@mail.net'}]\n",
    "users_phone=[]\n",
    "users_email=[]\n",
    "for i in d:\n",
    "    if i['phone'][-1]=='8':\n",
    "        users_phone.append(i['name'])\n",
    "    if i['email']=='':\n",
    "        users_email.append(i['name'])\n",
    "print(users_phone)\n",
    "print(users_email)"
   ]
  },
  {
   "cell_type": "code",
   "execution_count": 8,
   "metadata": {},
   "outputs": [
    {
     "name": "stdin",
     "output_type": "stream",
     "text": [
      "enter the original time 11.48pm\n",
      "enter the original time zone Pacific\n",
      "enter the second time zone Eastern\n"
     ]
    },
    {
     "name": "stdout",
     "output_type": "stream",
     "text": [
      "2.4800000000000004 am\n"
     ]
    }
   ],
   "source": [
    "d={'Eastern': 0, 'Central': -1, 'Mountain': -2, 'Pacific': -3}\n",
    "#6,5,4,3\n",
    "Time= input('enter the original time')\n",
    "zone1= input('enter the original time zone')\n",
    "zone2= input('enter the second time zone')\n",
    "Time=Time.replace(':','.')\n",
    "f=float(Time[:-2])\n",
    "a=f-int(f)\n",
    "z=Time[-2:]\n",
    "j=int(f)+d[zone2]-d[zone1]\n",
    "if j>13:\n",
    "    j=j%12\n",
    "    if z=='am':\n",
    "        z='pm'\n",
    "    elif z=='pm':\n",
    "        z='am'\n",
    "    print(j+a,z)\n",
    "elif j<=12:\n",
    "    print(j+a,z)    "
   ]
  },
  {
   "cell_type": "code",
   "execution_count": 2,
   "metadata": {},
   "outputs": [
    {
     "data": {
      "text/plain": [
       "[1, 2, 3, 4, 5, 6, 7]"
      ]
     },
     "execution_count": 2,
     "metadata": {},
     "output_type": "execute_result"
    }
   ],
   "source": [
    "l=[1,2,3,4,5,6,7,8,9]\n",
    "l[:-2]"
   ]
  },
  {
   "cell_type": "code",
   "execution_count": 3,
   "metadata": {},
   "outputs": [
    {
     "data": {
      "text/plain": [
       "[8, 9]"
      ]
     },
     "execution_count": 3,
     "metadata": {},
     "output_type": "execute_result"
    }
   ],
   "source": [
    "l[-2:]"
   ]
  },
  {
   "cell_type": "code",
   "execution_count": 10,
   "metadata": {},
   "outputs": [
    {
     "data": {
      "text/plain": [
       "3.14"
      ]
     },
     "execution_count": 10,
     "metadata": {},
     "output_type": "execute_result"
    }
   ],
   "source": [
    "float('3.14')\n"
   ]
  },
  {
   "cell_type": "code",
   "execution_count": 17,
   "metadata": {},
   "outputs": [
    {
     "data": {
      "text/plain": [
       "3"
      ]
     },
     "execution_count": 17,
     "metadata": {},
     "output_type": "execute_result"
    }
   ],
   "source": [
    "int(3.14)"
   ]
  },
  {
   "cell_type": "code",
   "execution_count": 6,
   "metadata": {},
   "outputs": [
    {
     "data": {
      "text/plain": [
       "11"
      ]
     },
     "execution_count": 6,
     "metadata": {},
     "output_type": "execute_result"
    }
   ],
   "source": [
    "floor(11.48)"
   ]
  },
  {
   "cell_type": "code",
   "execution_count": 13,
   "metadata": {
    "collapsed": true,
    "jupyter": {
     "outputs_hidden": true
    }
   },
   "outputs": [
    {
     "name": "stdout",
     "output_type": "stream",
     "text": [
      "500\n",
      "600\n",
      "610\n",
      "620\n",
      "630\n",
      "635\n",
      "636\n",
      "637\n",
      "638\n"
     ]
    }
   ],
   "source": [
    "d={'M':1000, 'D':500, 'C':100, 'L':50, 'X':10, 'V':5, 'I':1}\n",
    "l=list(d.items())\n",
    "#don’t forget about things like IV being 4 and XL being 40\n",
    "s='DCXXXVIII'\n",
    "j=0\n",
    "for i in range(len(s)-1):\n",
    "    if d[s[i]]>=d[s[i+1]]:\n",
    "        j=j+d[s[i]]\n",
    "    elif d[s[i]]<d[s[i+1]]:\n",
    "        j=j-d[s[i]]\n",
    "    print(j)\n",
    "j=j+d[s[-1]]\n",
    "print(j)"
   ]
  },
  {
   "cell_type": "code",
   "execution_count": 55,
   "metadata": {},
   "outputs": [
    {
     "name": "stdout",
     "output_type": "stream",
     "text": [
      "[(5000, 'VD'), (1000, 'M'), (500, 'D'), (100, 'C'), (50, 'L'), (10, 'X'), (5, 'V'), (1, 'I'), (0, 'o')]\n",
      "494\n",
      "94\n",
      "4\n",
      "0\n",
      "MMMCDXCIV\n"
     ]
    }
   ],
   "source": [
    "d={'VD':5000, 'M':1000, 'D':500, 'C':100, 'L':50, 'X':10, 'V':5, 'I':1, 'o':0}\n",
    "l=list(d.items())\n",
    "m=[(i[1],i[0]) for i in l]\n",
    "print(m)\n",
    "n='3494'\n",
    "s=''\n",
    "for k in range(1,len(m)-1):\n",
    "    if int(n)>= m[k-1][0]-m[k+1][0] and str(m[k-1][0])[0]=='1':\n",
    "        s=s+m[k+1][1]+m[k-1][1]\n",
    "        n=str(int(n)-(m[k-1][0]-m[k+1][0]))\n",
    "        print(n)\n",
    "    elif int(n)>= m[k-1][0]-m[k][0] and str(m[k-1][0])[0]=='5':\n",
    "        s=s+m[k][1]+m[k-1][1]\n",
    "        n=str(int(n)-(m[k-1][0]-m[k][0]))\n",
    "        print(n)\n",
    "    else:\n",
    "        t=int(n)//m[k][0]\n",
    "        if t>=1:\n",
    "            s=s+t*(m[k][1])\n",
    "            n=str(int(n)%m[k][0])\n",
    "            print(n)\n",
    "#if int(n) < 4:\n",
    " #   s = s + int(n) * 'I'\n",
    "#else:\n",
    " #   s = s + 'IV'\n",
    "            \n",
    "print(s)\n",
    "#DCCCXCIII\n"
   ]
  },
  {
   "cell_type": "code",
   "execution_count": 28,
   "metadata": {},
   "outputs": [
    {
     "name": "stdout",
     "output_type": "stream",
     "text": [
      "[(1000, 'M'), (500, 'D'), (100, 'C'), (50, 'L'), (10, 'X'), (5, 'V'), (1, 'I')]\n"
     ]
    },
    {
     "data": {
      "text/plain": [
       "'111'"
      ]
     },
     "execution_count": 28,
     "metadata": {},
     "output_type": "execute_result"
    }
   ],
   "source": [
    "d={'M':1000, 'D':500, 'C':100, 'L':50, 'X':10, 'V':5, 'I':1}\n",
    "l=list(d.items())\n",
    "m=[(i[1],i[0]) for i in l]\n",
    "print(m)\n",
    "3*(str(m[2][0])[0])"
   ]
  },
  {
   "cell_type": "code",
   "execution_count": 22,
   "metadata": {},
   "outputs": [
    {
     "data": {
      "text/plain": [
       "'tk'"
      ]
     },
     "execution_count": 22,
     "metadata": {},
     "output_type": "execute_result"
    }
   ],
   "source": [
    "s='t'\n",
    "s=s+'k'\n",
    "s"
   ]
  },
  {
   "cell_type": "code",
   "execution_count": null,
   "metadata": {},
   "outputs": [],
   "source": []
  }
 ],
 "metadata": {
  "kernelspec": {
   "display_name": "Python 3",
   "language": "python",
   "name": "python3"
  },
  "language_info": {
   "codemirror_mode": {
    "name": "ipython",
    "version": 3
   },
   "file_extension": ".py",
   "mimetype": "text/x-python",
   "name": "python",
   "nbconvert_exporter": "python",
   "pygments_lexer": "ipython3",
   "version": "3.7.5"
  }
 },
 "nbformat": 4,
 "nbformat_minor": 4
}
