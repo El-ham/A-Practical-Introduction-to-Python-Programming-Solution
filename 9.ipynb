{
 "cells": [
  {
   "cell_type": "code",
   "execution_count": 1,
   "metadata": {},
   "outputs": [],
   "source": [
    "from random import *"
   ]
  },
  {
   "cell_type": "code",
   "execution_count": 1,
   "metadata": {},
   "outputs": [
    {
     "name": "stdin",
     "output_type": "stream",
     "text": [
      "enter a num 34\n"
     ]
    },
    {
     "name": "stdout",
     "output_type": "stream",
     "text": [
      "in far it is: 93.2\n"
     ]
    },
    {
     "name": "stdin",
     "output_type": "stream",
     "text": [
      "enter a num 3\n"
     ]
    },
    {
     "name": "stdout",
     "output_type": "stream",
     "text": [
      "in far it is: 37.4\n"
     ]
    },
    {
     "name": "stdin",
     "output_type": "stream",
     "text": [
      "enter a num 765\n"
     ]
    },
    {
     "name": "stdout",
     "output_type": "stream",
     "text": [
      "in far it is: 1409.0\n"
     ]
    },
    {
     "name": "stdin",
     "output_type": "stream",
     "text": [
      "enter a num -1000\n"
     ]
    },
    {
     "name": "stdout",
     "output_type": "stream",
     "text": [
      "in far it is: -1768.0\n"
     ]
    }
   ],
   "source": [
    "t=0\n",
    "while t!=-1000:\n",
    "    t=eval(input('enter a num'))\n",
    "    print('in far it is:',9/5*t+32)"
   ]
  },
  {
   "cell_type": "code",
   "execution_count": 2,
   "metadata": {},
   "outputs": [
    {
     "name": "stdin",
     "output_type": "stream",
     "text": [
      "enter a num 467\n"
     ]
    },
    {
     "name": "stdout",
     "output_type": "stream",
     "text": [
      "in far it is: 872.6\n"
     ]
    },
    {
     "name": "stdin",
     "output_type": "stream",
     "text": [
      "enter a num -1000\n"
     ]
    },
    {
     "name": "stdout",
     "output_type": "stream",
     "text": [
      "Bye\n"
     ]
    }
   ],
   "source": [
    "t=0\n",
    "while t!=-1000:\n",
    "    t=eval(input('enter a num'))\n",
    "    if t!=-1000:\n",
    "        print('in far it is:',9/5*t+32)\n",
    "    else:\n",
    "        print('Bye')"
   ]
  },
  {
   "cell_type": "code",
   "execution_count": 3,
   "metadata": {},
   "outputs": [
    {
     "name": "stdin",
     "output_type": "stream",
     "text": [
      "enter a guess between 1 to 10 3\n"
     ]
    },
    {
     "name": "stdout",
     "output_type": "stream",
     "text": [
      "No\n"
     ]
    },
    {
     "name": "stdin",
     "output_type": "stream",
     "text": [
      "enter a guess between 1 to 10 4\n"
     ]
    },
    {
     "name": "stdout",
     "output_type": "stream",
     "text": [
      "No\n"
     ]
    },
    {
     "name": "stdin",
     "output_type": "stream",
     "text": [
      "enter a guess between 1 to 10 7\n"
     ]
    },
    {
     "name": "stdout",
     "output_type": "stream",
     "text": [
      "No\n"
     ]
    },
    {
     "name": "stdin",
     "output_type": "stream",
     "text": [
      "enter a guess between 1 to 10 8\n"
     ]
    },
    {
     "name": "stdout",
     "output_type": "stream",
     "text": [
      "No\n"
     ]
    },
    {
     "name": "stdin",
     "output_type": "stream",
     "text": [
      "enter a guess between 1 to 10 9\n"
     ]
    },
    {
     "name": "stdout",
     "output_type": "stream",
     "text": [
      "you win\n",
      "9\n"
     ]
    }
   ],
   "source": [
    "num=randint(1,10)\n",
    "g=11\n",
    "while num!=g:\n",
    "    g=eval(input('enter a guess between 1 to 10'))\n",
    "    if g==num:\n",
    "        print('you win')\n",
    "    else:\n",
    "        print('No')\n",
    "print(num)"
   ]
  },
  {
   "cell_type": "code",
   "execution_count": null,
   "metadata": {},
   "outputs": [
    {
     "name": "stdin",
     "output_type": "stream",
     "text": [
      "enter temp in C 56\n"
     ]
    },
    {
     "name": "stdout",
     "output_type": "stream",
     "text": [
      "in F it is: 132.8\n"
     ]
    },
    {
     "name": "stdin",
     "output_type": "stream",
     "text": [
      "enter temp in C 0\n"
     ]
    },
    {
     "name": "stdout",
     "output_type": "stream",
     "text": [
      "in F it is: 32.0\n"
     ]
    },
    {
     "name": "stdin",
     "output_type": "stream",
     "text": [
      "enter temp in C -273.15\n"
     ]
    },
    {
     "name": "stdout",
     "output_type": "stream",
     "text": [
      "in F it is: -459.66999999999996\n"
     ]
    },
    {
     "name": "stdin",
     "output_type": "stream",
     "text": [
      "enter temp in C 0\n"
     ]
    },
    {
     "name": "stdout",
     "output_type": "stream",
     "text": [
      "in F it is: 32.0\n"
     ]
    },
    {
     "name": "stdin",
     "output_type": "stream",
     "text": [
      "enter temp in C 10\n"
     ]
    },
    {
     "name": "stdout",
     "output_type": "stream",
     "text": [
      "in F it is: 50.0\n"
     ]
    }
   ],
   "source": [
    "temp=0\n",
    "while temp>=-273.15:\n",
    "    temp=eval(input('enter temp in C'))\n",
    "    print('in F it is:', 9/5*temp+32)\n"
   ]
  },
  {
   "cell_type": "code",
   "execution_count": 2,
   "metadata": {},
   "outputs": [
    {
     "name": "stdin",
     "output_type": "stream",
     "text": [
      "enter a number 7\n",
      "enter a number 98765\n",
      "enter a number 5678\n",
      "enter a number -3\n"
     ]
    }
   ],
   "source": [
    "for i in range(10):\n",
    "    num=eval(input('enter a number'))\n",
    "    if num<0:\n",
    "        break"
   ]
  },
  {
   "cell_type": "code",
   "execution_count": 3,
   "metadata": {},
   "outputs": [
    {
     "name": "stdin",
     "output_type": "stream",
     "text": [
      "enter a num 345\n",
      "enter a num 56\n",
      "enter a num -765\n"
     ]
    }
   ],
   "source": [
    "i=0\n",
    "num=1\n",
    "while i<10 and num>0:\n",
    "    num=eval(input('enter a num'))\n",
    "    i=i+1"
   ]
  },
  {
   "cell_type": "code",
   "execution_count": 4,
   "metadata": {},
   "outputs": [
    {
     "name": "stdin",
     "output_type": "stream",
     "text": [
      "enter a num 11\n"
     ]
    },
    {
     "name": "stdout",
     "output_type": "stream",
     "text": [
      "it is prime\n"
     ]
    }
   ],
   "source": [
    "num=eval(input('enter a num'))\n",
    "for i in range(2,num):\n",
    "    if num%i==0:\n",
    "        print('no prime')\n",
    "        break\n",
    "else:\n",
    "    print('it is prime')        "
   ]
  },
  {
   "cell_type": "code",
   "execution_count": 10,
   "metadata": {},
   "outputs": [
    {
     "name": "stdin",
     "output_type": "stream",
     "text": [
      "enter a num 55\n"
     ]
    },
    {
     "name": "stdout",
     "output_type": "stream",
     "text": [
      "no prime\n"
     ]
    }
   ],
   "source": [
    "num=eval(input('enter a num'))\n",
    "i=2\n",
    "while i<num:\n",
    "    if num%i!=0:\n",
    "        i=i+1\n",
    "    else:\n",
    "        print('no prime')\n",
    "        break\n",
    "else:\n",
    "    print('prime')"
   ]
  },
  {
   "cell_type": "code",
   "execution_count": 12,
   "metadata": {},
   "outputs": [
    {
     "name": "stdin",
     "output_type": "stream",
     "text": [
      "enter a num 5\n"
     ]
    },
    {
     "name": "stdout",
     "output_type": "stream",
     "text": [
      "prime\n"
     ]
    }
   ],
   "source": [
    "num=eval(input('enter a num'))\n",
    "i=2\n",
    "while i<num and num%i!=0:\n",
    "    i=i+1\n",
    "if i==num:\n",
    "    print('prime')\n",
    "else:\n",
    "    print('no prime')"
   ]
  },
  {
   "cell_type": "code",
   "execution_count": 5,
   "metadata": {},
   "outputs": [
    {
     "name": "stdin",
     "output_type": "stream",
     "text": [
      "enter a num 9\n"
     ]
    },
    {
     "name": "stdout",
     "output_type": "stream",
     "text": [
      "lower\n"
     ]
    },
    {
     "name": "stdin",
     "output_type": "stream",
     "text": [
      "enter a num 4\n"
     ]
    },
    {
     "name": "stdout",
     "output_type": "stream",
     "text": [
      "higher\n"
     ]
    },
    {
     "name": "stdin",
     "output_type": "stream",
     "text": [
      "enter a num 3\n"
     ]
    },
    {
     "name": "stdout",
     "output_type": "stream",
     "text": [
      "higher\n"
     ]
    },
    {
     "name": "stdin",
     "output_type": "stream",
     "text": [
      "enter a num 2\n"
     ]
    },
    {
     "name": "stdout",
     "output_type": "stream",
     "text": [
      "higher\n"
     ]
    },
    {
     "name": "stdin",
     "output_type": "stream",
     "text": [
      "enter a num 1\n"
     ]
    },
    {
     "name": "stdout",
     "output_type": "stream",
     "text": [
      "higher\n",
      "lose\n",
      "6 1\n"
     ]
    }
   ],
   "source": [
    "num=randint(1,10)\n",
    "g=0\n",
    "for i in range(5):\n",
    "    g=eval(input('enter a num'))\n",
    "    if g<num:\n",
    "        print('higher')\n",
    "    if g>num:\n",
    "        print('lower')\n",
    "    if g==num:\n",
    "        print('win')\n",
    "        break\n",
    "if g!=num:\n",
    "    print('lose')\n",
    "print(num,g)"
   ]
  },
  {
   "cell_type": "code",
   "execution_count": 9,
   "metadata": {},
   "outputs": [
    {
     "name": "stdin",
     "output_type": "stream",
     "text": [
      "enter a num 5\n"
     ]
    },
    {
     "name": "stdout",
     "output_type": "stream",
     "text": [
      "lower\n"
     ]
    },
    {
     "name": "stdin",
     "output_type": "stream",
     "text": [
      "enter a num 4\n"
     ]
    },
    {
     "name": "stdout",
     "output_type": "stream",
     "text": [
      "lower\n"
     ]
    },
    {
     "name": "stdin",
     "output_type": "stream",
     "text": [
      "enter a num 7\n"
     ]
    },
    {
     "name": "stdout",
     "output_type": "stream",
     "text": [
      "lower\n"
     ]
    },
    {
     "name": "stdin",
     "output_type": "stream",
     "text": [
      "enter a num 8\n"
     ]
    },
    {
     "name": "stdout",
     "output_type": "stream",
     "text": [
      "lower\n"
     ]
    },
    {
     "name": "stdin",
     "output_type": "stream",
     "text": [
      "enter a num 9\n"
     ]
    },
    {
     "name": "stdout",
     "output_type": "stream",
     "text": [
      "lower\n",
      "lose\n"
     ]
    }
   ],
   "source": [
    "num=randint(1,10)\n",
    "i=0\n",
    "g=0\n",
    "while g!=num and i<5:\n",
    "    g=eval(input('enter a num'))\n",
    "    i=i+1\n",
    "    if g<num:\n",
    "        print('higher')\n",
    "    if g>num:\n",
    "        print('lower')\n",
    "    if g==num:\n",
    "        print('win')\n",
    "        break\n",
    "else:\n",
    "    print('lose')"
   ]
  },
  {
   "cell_type": "code",
   "execution_count": 10,
   "metadata": {
    "collapsed": true,
    "jupyter": {
     "outputs_hidden": true
    }
   },
   "outputs": [
    {
     "name": "stdout",
     "output_type": "stream",
     "text": [
      "1\n",
      "2\n",
      "3\n",
      "4\n",
      "5\n",
      "6\n",
      "7\n",
      "8\n",
      "9\n",
      "10\n",
      "11\n",
      "12\n",
      "13\n",
      "14\n",
      "15\n",
      "16\n",
      "17\n",
      "18\n",
      "19\n",
      "20\n",
      "21\n",
      "22\n",
      "23\n",
      "24\n",
      "25\n",
      "26\n",
      "27\n",
      "28\n",
      "29\n",
      "30\n",
      "31\n",
      "32\n",
      "33\n",
      "34\n",
      "35\n",
      "36\n",
      "37\n",
      "38\n",
      "39\n",
      "40\n",
      "41\n",
      "42\n",
      "43\n",
      "44\n",
      "45\n",
      "46\n",
      "47\n",
      "48\n",
      "49\n",
      "50\n"
     ]
    }
   ],
   "source": [
    "i=1\n",
    "while i<51:\n",
    "    print(i)\n",
    "    i=i+1"
   ]
  },
  {
   "cell_type": "code",
   "execution_count": 11,
   "metadata": {
    "collapsed": true,
    "jupyter": {
     "outputs_hidden": true
    }
   },
   "outputs": [
    {
     "name": "stdout",
     "output_type": "stream",
     "text": [
      "e\n",
      "l\n",
      "h\n",
      "a\n",
      "m\n",
      " \n",
      "i\n",
      "s\n",
      " \n",
      "a\n",
      " \n",
      "g\n",
      "o\n",
      "o\n",
      "d\n",
      " \n",
      "g\n",
      "i\n",
      "r\n",
      "l\n"
     ]
    }
   ],
   "source": [
    "s='elham is a good girl'\n",
    "c=0\n",
    "while c<len(s):\n",
    "    print(s[c])\n",
    "    c=c+1"
   ]
  },
  {
   "cell_type": "code",
   "execution_count": 12,
   "metadata": {
    "collapsed": true,
    "jupyter": {
     "outputs_hidden": true
    }
   },
   "outputs": [
    {
     "name": "stdout",
     "output_type": "stream",
     "text": [
      "e\n",
      "h\n",
      "m\n",
      "i\n",
      " \n",
      " \n",
      "o\n",
      "d\n",
      "g\n",
      "r\n"
     ]
    }
   ],
   "source": [
    "s='elham is a good girl'\n",
    "c=0\n",
    "while c<len(s):\n",
    "    print(s[c])\n",
    "    c=c+2"
   ]
  },
  {
   "cell_type": "code",
   "execution_count": 3,
   "metadata": {},
   "outputs": [
    {
     "name": "stdin",
     "output_type": "stream",
     "text": [
      "enter a weight in kg -7\n",
      "INVALID!! enter another weight in kg 8\n"
     ]
    },
    {
     "name": "stdout",
     "output_type": "stream",
     "text": [
      "in pound it is: 17.6\n"
     ]
    }
   ],
   "source": [
    "\n",
    "weight=eval(input('enter a weight in kg'))\n",
    "while weight<0:\n",
    "    weight=eval(input('INVALID!! enter another weight in kg'))\n",
    "print('in pound it is:', 2.2*weight)\n",
    "    "
   ]
  },
  {
   "cell_type": "code",
   "execution_count": 27,
   "metadata": {},
   "outputs": [
    {
     "name": "stdin",
     "output_type": "stream",
     "text": [
      "enter the pass ELI\n"
     ]
    },
    {
     "name": "stdout",
     "output_type": "stream",
     "text": [
      "log in!\n"
     ]
    }
   ],
   "source": [
    "pa='ELI'\n",
    "i=1\n",
    "g=input('enter the pass')\n",
    "if g==pa:\n",
    "    print('log in!')\n",
    "else:\n",
    "    while i<5 and g!=pa:\n",
    "        i=i+1\n",
    "        g=input('re-enter the pass')\n",
    "        if g==pa:\n",
    "            print('log in!')\n",
    "            break\n",
    "    else:\n",
    "        print('kick off!')\n"
   ]
  },
  {
   "cell_type": "code",
   "execution_count": 5,
   "metadata": {},
   "outputs": [
    {
     "name": "stdin",
     "output_type": "stream",
     "text": [
      "enter a pass 'd'\n",
      "Wrong pass! try again 'sdf'\n",
      "Wrong pass! try again 'd'\n",
      "Wrong pass! try again 'eli_joon'\n"
     ]
    },
    {
     "name": "stdout",
     "output_type": "stream",
     "text": [
      "Login!\n"
     ]
    }
   ],
   "source": [
    "pas='eli_joon'\n",
    "count=1\n",
    "g=eval(input('enter a pass'))\n",
    "if g==pas:\n",
    "    print('Login!')\n",
    "else:\n",
    "    while count<5 and g!=pas:\n",
    "        g=eval(input('Wrong pass! try again'))\n",
    "        count=count+1\n",
    "        if g==pas:\n",
    "            print('Login!')\n",
    "            break\n",
    "    else:\n",
    "        print('Kickoff!')"
   ]
  },
  {
   "cell_type": "code",
   "execution_count": 7,
   "metadata": {},
   "outputs": [
    {
     "name": "stdin",
     "output_type": "stream",
     "text": [
      "enter a test score 90\n",
      "enter a test score 70\n",
      "enter a test score 100\n",
      "enter a test score 4\n",
      "enter a test score 3\n",
      "enter a test score 7\n",
      "enter a test score -6\n"
     ]
    },
    {
     "name": "stdout",
     "output_type": "stream",
     "text": [
      "Bye\n",
      "38.285714285714285\n",
      "2\n"
     ]
    }
   ],
   "source": [
    "su=0\n",
    "count=0\n",
    "cou_90=0\n",
    "num=1\n",
    "while num>=0:\n",
    "    num=eval(input('enter a test score'))\n",
    "    count=count+1\n",
    "    if num>=90:\n",
    "        cou_90=cou_90+1\n",
    "    su=su+num\n",
    "    if num<0:\n",
    "        print('Bye')\n",
    "        break\n",
    "ave=su/count\n",
    "print(ave)\n",
    "print(cou_90)"
   ]
  },
  {
   "cell_type": "code",
   "execution_count": 3,
   "metadata": {},
   "outputs": [
    {
     "name": "stdout",
     "output_type": "stream",
     "text": [
      "4\n"
     ]
    },
    {
     "name": "stdin",
     "output_type": "stream",
     "text": [
      "enter the num between 1 to 10 7\n"
     ]
    },
    {
     "name": "stdout",
     "output_type": "stream",
     "text": [
      "lower! 5 guesses left!\n"
     ]
    },
    {
     "name": "stdin",
     "output_type": "stream",
     "text": [
      "enter the num between 1 to 10 8\n"
     ]
    },
    {
     "name": "stdout",
     "output_type": "stream",
     "text": [
      "lower! 4 guesses left!\n"
     ]
    },
    {
     "name": "stdin",
     "output_type": "stream",
     "text": [
      "enter the num between 1 to 10 9\n"
     ]
    },
    {
     "name": "stdout",
     "output_type": "stream",
     "text": [
      "lower! 3 guesses left!\n"
     ]
    },
    {
     "name": "stdin",
     "output_type": "stream",
     "text": [
      "enter the num between 1 to 10 5\n"
     ]
    },
    {
     "name": "stdout",
     "output_type": "stream",
     "text": [
      "lower! 2 guesses left!\n"
     ]
    },
    {
     "name": "stdin",
     "output_type": "stream",
     "text": [
      "enter the num between 1 to 10 2\n"
     ]
    },
    {
     "name": "stdout",
     "output_type": "stream",
     "text": [
      "higher!, 1 guess left!\n",
      "LOSE\n",
      "4\n"
     ]
    }
   ],
   "source": [
    "num=randint(1,10)\n",
    "c=1\n",
    "g=0\n",
    "print(num)\n",
    "while g!=num and c<=5:\n",
    "    g=eval(input('enter the num between 1 to 10'))           \n",
    "    if c<5:\n",
    "        if g>num:\n",
    "            print('lower!',5-c+1,'guesses left!')\n",
    "        if g<num:\n",
    "            print('higher',5-c+1,'guesses left!')\n",
    "        if g==num:\n",
    "            print('Yes!')\n",
    "            break\n",
    "        \n",
    "    if c==5:\n",
    "        if g>num:\n",
    "            print('lower!, 1 guess left!')\n",
    "        if g<num:\n",
    "            print('higher!, 1 guess left!')\n",
    "        if g==num:\n",
    "            print('Yes!')\n",
    "            break  \n",
    "    c=c+1\n",
    "else:\n",
    "    print('LOSE')\n",
    "print(num)"
   ]
  },
  {
   "cell_type": "code",
   "execution_count": 5,
   "metadata": {},
   "outputs": [
    {
     "name": "stdin",
     "output_type": "stream",
     "text": [
      "enter a string elhaman\n",
      "enter a letter a\n"
     ]
    },
    {
     "name": "stdout",
     "output_type": "stream",
     "text": [
      "3\n"
     ]
    }
   ],
   "source": [
    "s=input('enter a string')\n",
    "l=input('enter a letter')\n",
    "for i in range(len(s)):\n",
    "    if s[i]==l:\n",
    "        print(i)\n",
    "        break\n",
    "else:\n",
    "    print('NO')"
   ]
  },
  {
   "cell_type": "code",
   "execution_count": 5,
   "metadata": {},
   "outputs": [
    {
     "name": "stdin",
     "output_type": "stream",
     "text": [
      "enter a string elham\n",
      "enter a letter p\n"
     ]
    },
    {
     "name": "stdout",
     "output_type": "stream",
     "text": [
      "NO\n"
     ]
    }
   ],
   "source": [
    "s=input('enter a string')\n",
    "l=input('enter a letter')\n",
    "flag=0\n",
    "i=0\n",
    "while flag==0 and i<len(s):\n",
    "    if s[i]==l:\n",
    "        print(i)\n",
    "        flag=1\n",
    "        \n",
    "    i=i+1\n",
    "if flag==0:\n",
    "    print('NO')"
   ]
  },
  {
   "cell_type": "code",
   "execution_count": 11,
   "metadata": {},
   "outputs": [
    {
     "name": "stdin",
     "output_type": "stream",
     "text": [
      "enter num1 20\n",
      "enter num2 15\n"
     ]
    },
    {
     "name": "stdout",
     "output_type": "stream",
     "text": [
      "the result is: 5\n"
     ]
    }
   ],
   "source": [
    "num1=eval(input('enter num1'))\n",
    "num2=eval(input('enter num2'))\n",
    "if num1>num2:\n",
    "    b=num1\n",
    "    k=num2\n",
    "if num2>num1:\n",
    "    b=num2\n",
    "    k=num1\n",
    "r=b%k\n",
    "while r!=0:\n",
    "    r=b%k\n",
    "    b=k\n",
    "    k=r\n",
    "print('the result is:',b)"
   ]
  },
  {
   "cell_type": "code",
   "execution_count": 18,
   "metadata": {},
   "outputs": [
    {
     "name": "stdin",
     "output_type": "stream",
     "text": [
      "enter a num 5\n"
     ]
    },
    {
     "name": "stdout",
     "output_type": "stream",
     "text": [
      "2.23606797749979\n"
     ]
    }
   ],
   "source": [
    "num=eval(input('enter a num'))\n",
    "i=1\n",
    "r=(i+(num/i))/2\n",
    "while abs(r-i)>=10**(-10):\n",
    "    i=r\n",
    "    r=(i+(num/i))/2\n",
    "print(r)"
   ]
  },
  {
   "cell_type": "code",
   "execution_count": 21,
   "metadata": {},
   "outputs": [
    {
     "name": "stdout",
     "output_type": "stream",
     "text": [
      "['ujk', 'eli', 'erfan', 'black', 'opi']\n",
      "opi\n"
     ]
    }
   ],
   "source": [
    "L=['vaa','tara','ujk','eli','erfan','teddi','black','joon','opi','mmy']\n",
    "m=[]\n",
    "for i in range(len(L)):\n",
    "    if len(''.join(set(L[i])))==len(L[i]):\n",
    "        m.append(L[i])\n",
    "print(m)\n",
    "print(choice(m))"
   ]
  },
  {
   "cell_type": "code",
   "execution_count": 18,
   "metadata": {},
   "outputs": [
    {
     "data": {
      "text/plain": [
       "{'a', 'l', 'm', 'o'}"
      ]
     },
     "execution_count": 18,
     "metadata": {},
     "output_type": "execute_result"
    }
   ],
   "source": [
    "s='aaammlo'\n",
    "set(s)\n",
    "    "
   ]
  },
  {
   "cell_type": "code",
   "execution_count": 20,
   "metadata": {},
   "outputs": [
    {
     "data": {
      "text/plain": [
       "{'a', 'l', 'm', 'o'}"
      ]
     },
     "execution_count": 20,
     "metadata": {},
     "output_type": "execute_result"
    }
   ],
   "source": [
    "L=['a','a','a','m','m','l','o']\n",
    "set(L)"
   ]
  },
  {
   "cell_type": "code",
   "execution_count": 32,
   "metadata": {},
   "outputs": [
    {
     "name": "stdout",
     "output_type": "stream",
     "text": [
      "[[3, 2], [1, 2], [0, 2], [4, 4], [4, 1], [2, 1], [2, 2], [3, 3], [2, 0], [3, 0]]\n",
      "[[0, 0, 1, 0, 0], [0, 0, 1, 0, 0], [1, 1, 1, 0, 0], [1, 0, 1, 1, 0], [0, 1, 0, 0, 1]]\n"
     ]
    }
   ],
   "source": [
    "L=[[0 for i in range(5)] for j in range(5)]\n",
    "m=[]\n",
    "for i in range(5):\n",
    "    for j in range(5):\n",
    "        m.append([i,j])\n",
    "n=sample(m,10)\n",
    "print(n)\n",
    "#for j in range(n):\n",
    "for i in range(len(n)):\n",
    "    L[n[i][0]][n[i][1]]=1\n",
    "print(L)"
   ]
  },
  {
   "cell_type": "code",
   "execution_count": 12,
   "metadata": {},
   "outputs": [
    {
     "name": "stdout",
     "output_type": "stream",
     "text": [
      "[0, 1, 1, 1, 1, 0, 0]\n",
      "[1, 1, 1, 1, 1, 0, 0]\n"
     ]
    }
   ],
   "source": [
    "L=[randint(0,1) for i in range(7)]\n",
    "flag=0\n",
    "print(L)\n",
    "for i in range(len(L)):\n",
    "    if L[i]==0:\n",
    "        flag=1\n",
    "if flag==0:\n",
    "    print('Non zero!')\n",
    "L[L.index(0)]=1\n",
    "print(L)\n"
   ]
  },
  {
   "cell_type": "code",
   "execution_count": 4,
   "metadata": {},
   "outputs": [
    {
     "name": "stdin",
     "output_type": "stream",
     "text": [
      "R as 1, or P as 2, or S as 3? 1\n"
     ]
    },
    {
     "name": "stdout",
     "output_type": "stream",
     "text": [
      "1 1\n",
      "equal this round\n"
     ]
    },
    {
     "name": "stdin",
     "output_type": "stream",
     "text": [
      "R as 1, or P as 2, or S as 3? 1\n"
     ]
    },
    {
     "name": "stdout",
     "output_type": "stream",
     "text": [
      "1 1\n",
      "equal this round\n"
     ]
    },
    {
     "name": "stdin",
     "output_type": "stream",
     "text": [
      "R as 1, or P as 2, or S as 3? 1\n"
     ]
    },
    {
     "name": "stdout",
     "output_type": "stream",
     "text": [
      "1 1\n",
      "equal this round\n"
     ]
    },
    {
     "name": "stdin",
     "output_type": "stream",
     "text": [
      "R as 1, or P as 2, or S as 3? 1\n"
     ]
    },
    {
     "name": "stdout",
     "output_type": "stream",
     "text": [
      "1 3\n",
      "win this round\n"
     ]
    },
    {
     "name": "stdin",
     "output_type": "stream",
     "text": [
      "R as 1, or P as 2, or S as 3? 1\n"
     ]
    },
    {
     "name": "stdout",
     "output_type": "stream",
     "text": [
      "1 1\n",
      "equal this round\n"
     ]
    },
    {
     "name": "stdin",
     "output_type": "stream",
     "text": [
      "R as 1, or P as 2, or S as 3? 1\n"
     ]
    },
    {
     "name": "stdout",
     "output_type": "stream",
     "text": [
      "1 2\n",
      "lose this round\n"
     ]
    },
    {
     "name": "stdin",
     "output_type": "stream",
     "text": [
      "R as 1, or P as 2, or S as 3? 1\n"
     ]
    },
    {
     "name": "stdout",
     "output_type": "stream",
     "text": [
      "1 2\n",
      "lose this round\n"
     ]
    },
    {
     "name": "stdin",
     "output_type": "stream",
     "text": [
      "R as 1, or P as 2, or S as 3? 1\n"
     ]
    },
    {
     "name": "stdout",
     "output_type": "stream",
     "text": [
      "1 3\n",
      "win this round\n"
     ]
    },
    {
     "name": "stdin",
     "output_type": "stream",
     "text": [
      "R as 1, or P as 2, or S as 3? 1\n"
     ]
    },
    {
     "name": "stdout",
     "output_type": "stream",
     "text": [
      "1 3\n",
      "win this round\n",
      "you win the whole game!!\n"
     ]
    }
   ],
   "source": [
    "u=0\n",
    "c=0\n",
    "while u<3 and c<3:\n",
    "    x = eval(input('R as 1, or P as 2, or S as 3?'))\n",
    "    y = randint(1,3)\n",
    "    print(x,y)\n",
    "    if (x==1 and y==3) or (x==3 and y==2) or (x==2 and y==1):\n",
    "        print('win this round')\n",
    "        u=u+1\n",
    "    elif (x==3 and y==1) or (x==2 and y==3) or (x==1 and y==2):\n",
    "        print('lose this round')\n",
    "        c=c+1\n",
    "    elif (x==1 and y==1) or (x==2 and y==2) or (x==3 and y==3):\n",
    "        print('equal this round')\n",
    "    else:\n",
    "        print('Invalid Input!')\n",
    "if u==3:\n",
    "    print('you win the whole game!!')\n",
    "if c==3:\n",
    "    print('you lose the whole game!!')"
   ]
  },
  {
   "cell_type": "code",
   "execution_count": null,
   "metadata": {},
   "outputs": [
    {
     "name": "stdin",
     "output_type": "stream",
     "text": [
      "enter 0 for head and 1 for tail 0\n"
     ]
    },
    {
     "name": "stdout",
     "output_type": "stream",
     "text": [
      "90\n"
     ]
    },
    {
     "name": "stdin",
     "output_type": "stream",
     "text": [
      "enter 0 for head and 1 for tail 0\n"
     ]
    },
    {
     "name": "stdout",
     "output_type": "stream",
     "text": [
      "80\n"
     ]
    },
    {
     "name": "stdin",
     "output_type": "stream",
     "text": [
      "enter 0 for head and 1 for tail 0\n"
     ]
    },
    {
     "name": "stdout",
     "output_type": "stream",
     "text": [
      "70\n"
     ]
    },
    {
     "name": "stdin",
     "output_type": "stream",
     "text": [
      "enter 0 for head and 1 for tail 0\n"
     ]
    },
    {
     "name": "stdout",
     "output_type": "stream",
     "text": [
      "79\n"
     ]
    },
    {
     "name": "stdin",
     "output_type": "stream",
     "text": [
      "enter 0 for head and 1 for tail 0\n"
     ]
    },
    {
     "name": "stdout",
     "output_type": "stream",
     "text": [
      "69\n"
     ]
    },
    {
     "name": "stdin",
     "output_type": "stream",
     "text": [
      "enter 0 for head and 1 for tail 0\n"
     ]
    },
    {
     "name": "stdout",
     "output_type": "stream",
     "text": [
      "59\n"
     ]
    }
   ],
   "source": [
    " b=100\n",
    "while 0<b<200:\n",
    "    n=randint(0,1)\n",
    "    c=eval(input('enter 0 for head and 1 for tail'))\n",
    "    if n==c:\n",
    "        b=b+9\n",
    "        print(b)\n",
    "    else:\n",
    "        b=b-10\n",
    "        print(b)\n",
    "print(b)"
   ]
  },
  {
   "cell_type": "code",
   "execution_count": 7,
   "metadata": {},
   "outputs": [
    {
     "name": "stdout",
     "output_type": "stream",
     "text": [
      "Italy\n",
      "-----\n"
     ]
    },
    {
     "name": "stdin",
     "output_type": "stream",
     "text": [
      "enter one letter as a guess! t\n"
     ]
    },
    {
     "name": "stdout",
     "output_type": "stream",
     "text": [
      "-t---\n"
     ]
    },
    {
     "name": "stdin",
     "output_type": "stream",
     "text": [
      "enter one letter as a guess! k\n"
     ]
    },
    {
     "name": "stdout",
     "output_type": "stream",
     "text": [
      "Wrong letter!\n",
      "-t---\n"
     ]
    },
    {
     "name": "stdin",
     "output_type": "stream",
     "text": [
      "enter one letter as a guess! a\n"
     ]
    },
    {
     "name": "stdout",
     "output_type": "stream",
     "text": [
      "-ta--\n"
     ]
    },
    {
     "name": "stdin",
     "output_type": "stream",
     "text": [
      "enter one letter as a guess! l\n"
     ]
    },
    {
     "name": "stdout",
     "output_type": "stream",
     "text": [
      "-tal-\n"
     ]
    },
    {
     "name": "stdin",
     "output_type": "stream",
     "text": [
      "enter one letter as a guess! I\n"
     ]
    },
    {
     "name": "stdout",
     "output_type": "stream",
     "text": [
      "Ital-\n"
     ]
    },
    {
     "name": "stdin",
     "output_type": "stream",
     "text": [
      "enter one letter as a guess! y\n"
     ]
    },
    {
     "name": "stdout",
     "output_type": "stream",
     "text": [
      "Congrats, yes it was: Italy\n"
     ]
    }
   ],
   "source": [
    "L=['Iran','USA','Canada','Italy','Spain','UK','Turkey','UAE','Mexico']\n",
    "c=choice(L)\n",
    "print(c)\n",
    "count=0\n",
    "m=len(c)*'-'\n",
    "while '-' in m and count<5:\n",
    "    print(m)\n",
    "    g=input('enter one letter as a guess!')\n",
    "    for i in range(len(c)):\n",
    "        if c[i]==g:\n",
    "            m=m[:i]+g+m[i+1:]\n",
    "    if g not in c:\n",
    "        count=count+1\n",
    "        print('Wrong letter!')\n",
    "if '-' not in m:\n",
    "    print('Congrats, yes it was:',m)"
   ]
  },
  {
   "cell_type": "code",
   "execution_count": 3,
   "metadata": {},
   "outputs": [
    {
     "data": {
      "text/plain": [
       "[['*', '*', '*', '*', '*'],\n",
       " ['*', '*', '*', '*', '*'],\n",
       " ['*', '*', '*', '*', '*'],\n",
       " ['*', '*', '*', '*', '*'],\n",
       " ['*', '*', '*', '*', '*']]"
      ]
     },
     "execution_count": 3,
     "metadata": {},
     "output_type": "execute_result"
    }
   ],
   "source": [
    "L=[[a for i in range(5)] for j in range(5)]\n",
    "L"
   ]
  },
  {
   "cell_type": "code",
   "execution_count": 14,
   "metadata": {},
   "outputs": [
    {
     "name": "stdout",
     "output_type": "stream",
     "text": [
      "* * * * * \n",
      "* * * * * \n",
      "* * * * * \n",
      "* * * * * \n",
      "* * * * * \n"
     ]
    }
   ],
   "source": [
    "for i in range(5):\n",
    "    for j in range (5):\n",
    "        print('*',end=' ')\n",
    "    print()"
   ]
  },
  {
   "cell_type": "code",
   "execution_count": 20,
   "metadata": {},
   "outputs": [
    {
     "name": "stdin",
     "output_type": "stream",
     "text": [
      "enter the numerator 1\n",
      "enter the denominator 7\n",
      "enter the digit 4\n"
     ]
    },
    {
     "name": "stdout",
     "output_type": "stream",
     "text": [
      "8\n"
     ]
    }
   ],
   "source": [
    "n=eval(input('enter the numerator'))\n",
    "d=eval(input('enter the denominator'))\n",
    "g=eval(input('enter the digit'))\n",
    "t=n/d\n",
    "s=str(t)\n",
    "s=s[1:]\n",
    "print(s[4])"
   ]
  },
  {
   "cell_type": "code",
   "execution_count": 26,
   "metadata": {},
   "outputs": [
    {
     "data": {
      "text/plain": [
       "[[0, 0, 1, 0, 1, 1],\n",
       " [0, 1, 0, 0, 1, 0],\n",
       " [0, 1, 0, 1, 1, 0],\n",
       " [0, 1, 0, 0, 1, 1],\n",
       " [0, 0, 0, 0, 1, 0],\n",
       " [0, 0, 0, 0, 0, 0]]"
      ]
     },
     "execution_count": 26,
     "metadata": {},
     "output_type": "execute_result"
    }
   ],
   "source": [
    "L=[[0 for i in range (6)] for j in range(6)]\n",
    "c=[]\n",
    "for i in range (6):\n",
    "    for j in range(6):\n",
    "        c.append([i,j])\n",
    "shuffle(c)\n",
    "m=sample(c,12)\n",
    "for i in range(len(m)):\n",
    "    L[m[i][0]][m[i][1]]=1\n",
    "L"
   ]
  },
  {
   "cell_type": "code",
   "execution_count": null,
   "metadata": {},
   "outputs": [],
   "source": []
  },
  {
   "cell_type": "code",
   "execution_count": null,
   "metadata": {},
   "outputs": [],
   "source": []
  }
 ],
 "metadata": {
  "kernelspec": {
   "display_name": "Python 3",
   "language": "python",
   "name": "python3"
  },
  "language_info": {
   "codemirror_mode": {
    "name": "ipython",
    "version": 3
   },
   "file_extension": ".py",
   "mimetype": "text/x-python",
   "name": "python",
   "nbconvert_exporter": "python",
   "pygments_lexer": "ipython3",
   "version": "3.7.5"
  }
 },
 "nbformat": 4,
 "nbformat_minor": 4
}
