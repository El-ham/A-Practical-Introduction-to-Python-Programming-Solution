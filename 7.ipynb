{
 "cells": [
  {
   "cell_type": "code",
   "execution_count": 1,
   "metadata": {},
   "outputs": [],
   "source": [
    "from random import *\n",
    "from math import *\n",
    "from string import *"
   ]
  },
  {
   "cell_type": "code",
   "execution_count": 4,
   "metadata": {},
   "outputs": [
    {
     "name": "stdin",
     "output_type": "stream",
     "text": [
      "enter a list [1,2,3,4,5,6]\n"
     ]
    },
    {
     "name": "stdout",
     "output_type": "stream",
     "text": [
      "the second element is: 2\n"
     ]
    }
   ],
   "source": [
    "L = eval(input('enter a list'))\n",
    "print('the second element is:',L[1])"
   ]
  },
  {
   "cell_type": "code",
   "execution_count": 5,
   "metadata": {},
   "outputs": [
    {
     "name": "stdin",
     "output_type": "stream",
     "text": [
      "enter a list [1,2,34,4]\n"
     ]
    },
    {
     "name": "stdout",
     "output_type": "stream",
     "text": [
      "the list is: [1, 2, 34, 4]\n"
     ]
    }
   ],
   "source": [
    "L = eval(input('enter a list'))\n",
    "print('the list is:',L)"
   ]
  },
  {
   "cell_type": "code",
   "execution_count": 2,
   "metadata": {},
   "outputs": [
    {
     "name": "stdout",
     "output_type": "stream",
     "text": [
      "yes\n",
      "No\n"
     ]
    }
   ],
   "source": [
    "m = [1,2.467,'abc',[2,3,4]]\n",
    "m\n",
    "len(m)\n",
    "if 1 in m:\n",
    "    print('yes')\n",
    "if 'c' not in m:\n",
    "    print('No')"
   ]
  },
  {
   "cell_type": "code",
   "execution_count": 3,
   "metadata": {},
   "outputs": [
    {
     "data": {
      "text/plain": [
       "[7, 8, 3, 4]"
      ]
     },
     "execution_count": 3,
     "metadata": {},
     "output_type": "execute_result"
    }
   ],
   "source": [
    "[7,8]+[3,4]"
   ]
  },
  {
   "cell_type": "code",
   "execution_count": 4,
   "metadata": {},
   "outputs": [
    {
     "data": {
      "text/plain": [
       "[2, 5, 2, 5]"
      ]
     },
     "execution_count": 4,
     "metadata": {},
     "output_type": "execute_result"
    }
   ],
   "source": [
    "[2,5]*2"
   ]
  },
  {
   "cell_type": "code",
   "execution_count": 5,
   "metadata": {},
   "outputs": [
    {
     "data": {
      "text/plain": [
       "[0, 0, 0]"
      ]
     },
     "execution_count": 5,
     "metadata": {},
     "output_type": "execute_result"
    }
   ],
   "source": [
    "[0]*3"
   ]
  },
  {
   "cell_type": "code",
   "execution_count": null,
   "metadata": {},
   "outputs": [],
   "source": [
    "for i in L:\n",
    "    print(i)\n",
    "for i in range(len(L)):\n",
    "    print(L[i])"
   ]
  },
  {
   "cell_type": "code",
   "execution_count": 7,
   "metadata": {},
   "outputs": [
    {
     "data": {
      "text/plain": [
       "3.0"
      ]
     },
     "execution_count": 7,
     "metadata": {},
     "output_type": "execute_result"
    }
   ],
   "source": [
    "L = [1,2,3,4,5]\n",
    "ave = sum(L)/len(L)\n",
    "ave"
   ]
  },
  {
   "cell_type": "code",
   "execution_count": 8,
   "metadata": {},
   "outputs": [
    {
     "data": {
      "text/plain": [
       "[1, 2, 3, 4, 5]"
      ]
     },
     "execution_count": 8,
     "metadata": {},
     "output_type": "execute_result"
    }
   ],
   "source": [
    "L = [1,2,3,4,5]\n",
    "M=L[:]\n",
    "M"
   ]
  },
  {
   "cell_type": "code",
   "execution_count": 9,
   "metadata": {},
   "outputs": [
    {
     "data": {
      "text/plain": [
       "[1, 2, 100, 4, 5]"
      ]
     },
     "execution_count": 9,
     "metadata": {},
     "output_type": "execute_result"
    }
   ],
   "source": [
    "L = [1,2,3,4,5]\n",
    "L[2]=100\n",
    "L"
   ]
  },
  {
   "cell_type": "code",
   "execution_count": 13,
   "metadata": {},
   "outputs": [
    {
     "data": {
      "text/plain": [
       "[1, 2, 100, 3, 4, 5]"
      ]
     },
     "execution_count": 13,
     "metadata": {},
     "output_type": "execute_result"
    }
   ],
   "source": [
    "L = [1,2,3,4,5]\n",
    "L.insert(2,100)\n",
    "L"
   ]
  },
  {
   "cell_type": "code",
   "execution_count": 18,
   "metadata": {},
   "outputs": [
    {
     "data": {
      "text/plain": [
       "[5, 7, 9]"
      ]
     },
     "execution_count": 18,
     "metadata": {},
     "output_type": "execute_result"
    }
   ],
   "source": [
    "n = [1,3,5,7,9]\n",
    "del n[0:2]\n",
    "n"
   ]
  },
  {
   "cell_type": "code",
   "execution_count": 31,
   "metadata": {
    "collapsed": true,
    "jupyter": {
     "outputs_hidden": true
    }
   },
   "outputs": [
    {
     "data": {
      "text/plain": [
       "[73,\n",
       " 79,\n",
       " 50,\n",
       " 35,\n",
       " 45,\n",
       " 63,\n",
       " 55,\n",
       " 28,\n",
       " 64,\n",
       " 70,\n",
       " 60,\n",
       " 38,\n",
       " 24,\n",
       " 7,\n",
       " 89,\n",
       " 21,\n",
       " 71,\n",
       " 8,\n",
       " 62,\n",
       " 68,\n",
       " 14,\n",
       " 65,\n",
       " 8,\n",
       " 0,\n",
       " 11,\n",
       " 8,\n",
       " 17,\n",
       " 67,\n",
       " 96,\n",
       " 48,\n",
       " 53,\n",
       " 24,\n",
       " 62,\n",
       " 38,\n",
       " 6,\n",
       " 54,\n",
       " 4,\n",
       " 42,\n",
       " 35,\n",
       " 100,\n",
       " 49,\n",
       " 74,\n",
       " 81,\n",
       " 3,\n",
       " 54,\n",
       " 31,\n",
       " 98,\n",
       " 94,\n",
       " 1,\n",
       " 40]"
      ]
     },
     "execution_count": 31,
     "metadata": {},
     "output_type": "execute_result"
    }
   ],
   "source": [
    "L= []\n",
    "for i in range(50):\n",
    "    L.append(randint(0,100))\n",
    "L"
   ]
  },
  {
   "cell_type": "code",
   "execution_count": 29,
   "metadata": {
    "collapsed": true,
    "jupyter": {
     "outputs_hidden": true
    }
   },
   "outputs": [
    {
     "data": {
      "text/plain": [
       "[6724,\n",
       " 1600,\n",
       " 1,\n",
       " 7396,\n",
       " 1,\n",
       " 3721,\n",
       " 3025,\n",
       " 36,\n",
       " 5929,\n",
       " 9025,\n",
       " 1024,\n",
       " 2916,\n",
       " 9025,\n",
       " 25,\n",
       " 2500,\n",
       " 225,\n",
       " 7056,\n",
       " 7569,\n",
       " 5476,\n",
       " 1600,\n",
       " 4624,\n",
       " 3844,\n",
       " 1225,\n",
       " 7056,\n",
       " 100,\n",
       " 25,\n",
       " 7056,\n",
       " 1600,\n",
       " 5929,\n",
       " 8281,\n",
       " 7921,\n",
       " 7569,\n",
       " 1600,\n",
       " 16,\n",
       " 4489,\n",
       " 324,\n",
       " 49,\n",
       " 2916,\n",
       " 5776,\n",
       " 3025,\n",
       " 5776,\n",
       " 4900,\n",
       " 2500,\n",
       " 5329,\n",
       " 3721,\n",
       " 2116,\n",
       " 7921,\n",
       " 3025,\n",
       " 4624,\n",
       " 9409]"
      ]
     },
     "execution_count": 29,
     "metadata": {},
     "output_type": "execute_result"
    }
   ],
   "source": [
    "for i in range (len(L)):\n",
    "    L[i]=L[i]*L[i]\n",
    "L"
   ]
  },
  {
   "cell_type": "code",
   "execution_count": 35,
   "metadata": {},
   "outputs": [
    {
     "data": {
      "text/plain": [
       "23"
      ]
     },
     "execution_count": 35,
     "metadata": {},
     "output_type": "execute_result"
    }
   ],
   "source": [
    "count = 0\n",
    "for i in range(len(L)):\n",
    "    if L[i]>50:\n",
    "        count = count+1\n",
    "count"
   ]
  },
  {
   "cell_type": "code",
   "execution_count": null,
   "metadata": {},
   "outputs": [],
   "source": [
    "f=[]\n",
    "for i in range (1,101):\n",
    "    f.append(L.count(i))"
   ]
  },
  {
   "cell_type": "code",
   "execution_count": null,
   "metadata": {},
   "outputs": [],
   "source": [
    "L.sort()\n",
    "print('the two smallest are:',L[0],L[1])\n",
    "print('the two largestr are:',L[-1],L[-2])"
   ]
  },
  {
   "cell_type": "code",
   "execution_count": 2,
   "metadata": {},
   "outputs": [
    {
     "name": "stdin",
     "output_type": "stream",
     "text": [
      "what time is it? 1\n"
     ]
    },
    {
     "name": "stdout",
     "output_type": "stream",
     "text": [
      "Wrong, the right answer is: 2\n"
     ]
    },
    {
     "name": "stdin",
     "output_type": "stream",
     "text": [
      "How old are you? 20\n"
     ]
    },
    {
     "name": "stdout",
     "output_type": "stream",
     "text": [
      "Wrong, the right answer is: 10\n",
      "you have 0 right answer\n"
     ]
    }
   ],
   "source": [
    "Q = ['what time is it?','How old are you?']\n",
    "A = ['2','10']\n",
    "N = 0\n",
    "for i in range (len(Q)):\n",
    "    G = input(Q[i])\n",
    "    if G.lower()==A[i].lower():\n",
    "        print('Right')\n",
    "        N = N+1\n",
    "    else:\n",
    "        print('Wrong, the right answer is:', A[i])\n",
    "print('you have', N, 'right answer')   \n"
   ]
  },
  {
   "cell_type": "code",
   "execution_count": 4,
   "metadata": {},
   "outputs": [
    {
     "name": "stdin",
     "output_type": "stream",
     "text": [
      "enter a list of integers [12,343,5,8,1,2,0,765,5,7,74,32]\n"
     ]
    },
    {
     "name": "stdout",
     "output_type": "stream",
     "text": [
      "12\n",
      "32\n",
      "[32, 74, 7, 5, 765, 0, 2, 1, 8, 5, 343, 12]\n",
      "yes\n",
      "2\n",
      "3\n"
     ]
    }
   ],
   "source": [
    "L= eval(input('enter a list of integers'))\n",
    "count5=0\n",
    "countB=0\n",
    "print(len(L))\n",
    "print(L[-1])\n",
    "M=L\n",
    "M.reverse()\n",
    "print(M)\n",
    "for i in range(len(L)):\n",
    "    if L[i]==5:\n",
    "        count5 = count5 +1\n",
    "if count5 ==0:\n",
    "    print('no')\n",
    "else:\n",
    "    print('yes')\n",
    "print(count5)\n",
    "L[1:len(L)].sort()\n",
    "for i in range(len(L)):\n",
    "    if L[i]<5:\n",
    "        countB = countB +1\n",
    "print(countB)"
   ]
  },
  {
   "cell_type": "code",
   "execution_count": 21,
   "metadata": {},
   "outputs": [
    {
     "data": {
      "text/plain": [
       "list"
      ]
     },
     "execution_count": 21,
     "metadata": {},
     "output_type": "execute_result"
    }
   ],
   "source": [
    "l = [1,2,3]\n",
    "#l=l.reverse()\n",
    "type(l)"
   ]
  },
  {
   "cell_type": "code",
   "execution_count": 19,
   "metadata": {},
   "outputs": [
    {
     "name": "stdout",
     "output_type": "stream",
     "text": [
      "None\n"
     ]
    }
   ],
   "source": [
    "print(l)"
   ]
  },
  {
   "cell_type": "code",
   "execution_count": null,
   "metadata": {},
   "outputs": [],
   "source": [
    "l=[]\n",
    "m=[]\n",
    "for i in range (100):\n",
    "    l.append(randint(0,100))\n",
    "for j in range (1,101):\n",
    "    m.append(l.count(j))"
   ]
  },
  {
   "cell_type": "code",
   "execution_count": 22,
   "metadata": {},
   "outputs": [
    {
     "name": "stdin",
     "output_type": "stream",
     "text": [
      "enter a list of integers [1,2,4,5,8,5,5678,5,0,1,45,67,3345,77,10]\n"
     ]
    },
    {
     "name": "stdout",
     "output_type": "stream",
     "text": [
      "15\n",
      "10\n",
      "None\n",
      "yes\n",
      "3\n",
      "[0, 1, 2, 4, 5, 5, 5, 8, 45, 67, 77, 3345, 5678]\n",
      "5\n"
     ]
    }
   ],
   "source": [
    "L= eval(input('enter a list of integers'))\n",
    "count5=0\n",
    "countB=0\n",
    "print(len(L))\n",
    "print(L[-1])\n",
    "n = L.reverse()\n",
    "print(n)\n",
    "for i in range(len(L)):\n",
    "    if L[i]==5:\n",
    "        count5 = count5 +1\n",
    "if count5 ==0:\n",
    "    print('no')\n",
    "else:\n",
    "    print('yes')\n",
    "print(count5)\n",
    "m = L[1:len(L)-1]\n",
    "m.sort()\n",
    "print(m)\n",
    "for i in range(len(L)):\n",
    "    if L[i]<5:\n",
    "        countB = countB +1\n",
    "print(countB)"
   ]
  },
  {
   "cell_type": "code",
   "execution_count": 48,
   "metadata": {},
   "outputs": [
    {
     "name": "stdout",
     "output_type": "stream",
     "text": [
      "[8, 89, 58, 83, 28, 56, 44, 4, 66, 18, 15, 9, 8, 66, 28, 6, 100, 100, 75, 21]\n",
      "44.1\n",
      "4 100\n",
      "6\n",
      "89\n",
      "6 100\n",
      "14\n"
     ]
    }
   ],
   "source": [
    "L= []\n",
    "counteven=0\n",
    "c=0\n",
    "v=0\n",
    "for i in range(20):\n",
    "    L.append(randint(1,100))\n",
    "print(L)\n",
    "print(sum(L)/len(L))\n",
    "L.sort()\n",
    "print(L[0],L[-1])\n",
    "for j in range (1,len(L)):\n",
    "    if c == 0:\n",
    "        if L[j]>L[0]:\n",
    "            print(L[j])\n",
    "            c=1\n",
    "for k in range (len(L)-1,0,-1):\n",
    "    if v == 0:\n",
    "        if L[k]<L[len(L)-1]:\n",
    "            print(L[k])\n",
    "            v=1       \n",
    "print(L[1],L[-2])\n",
    "for i in range (len(L)):\n",
    "    if L[i]%2==0:\n",
    "        counteven = counteven +1\n",
    "print(counteven)\n",
    "        "
   ]
  },
  {
   "cell_type": "code",
   "execution_count": 70,
   "metadata": {},
   "outputs": [
    {
     "data": {
      "text/plain": [
       "[4, 5, 6, 25, 10, 17, 4, 5, 6, 10, 17]"
      ]
     },
     "execution_count": 70,
     "metadata": {},
     "output_type": "execute_result"
    }
   ],
   "source": [
    "L = [8,9,10]\n",
    "L[1]=17\n",
    "L\n",
    "L=L+[4,5,6]\n",
    "L=L[1:]\n",
    "L.sort()\n",
    "L=L*2\n",
    "L.insert(3,25)\n",
    "L"
   ]
  },
  {
   "cell_type": "code",
   "execution_count": 1,
   "metadata": {},
   "outputs": [
    {
     "name": "stdin",
     "output_type": "stream",
     "text": [
      "enter a list between 1 to 12 [2,5,3,6,4,7,9,11,3,12]\n"
     ]
    },
    {
     "name": "stdout",
     "output_type": "stream",
     "text": [
      "[2, 5, 3, 6, 4, 7, 9, 10, 3, 10]\n"
     ]
    }
   ],
   "source": [
    "L = eval(input('enter a list between 1 to 12'))\n",
    "for i in range(len(L)):\n",
    "    if L[i]>10:\n",
    "        L[i]=10\n",
    "print(L)      "
   ]
  },
  {
   "cell_type": "code",
   "execution_count": 13,
   "metadata": {},
   "outputs": [
    {
     "name": "stdin",
     "output_type": "stream",
     "text": [
      "enter a list with strings ['dfg','sdfg']\n"
     ]
    },
    {
     "name": "stdout",
     "output_type": "stream",
     "text": [
      "['fg', 'dfg']\n"
     ]
    }
   ],
   "source": [
    "L = eval(input('enter a list with strings'))\n",
    "for i in range (len(L)):\n",
    "    L[i] = L[i][1:]\n",
    "print(L)       "
   ]
  },
  {
   "cell_type": "code",
   "execution_count": 15,
   "metadata": {
    "collapsed": true,
    "jupyter": {
     "outputs_hidden": true
    }
   },
   "outputs": [
    {
     "name": "stdout",
     "output_type": "stream",
     "text": [
      "[0, 1, 2, 3, 4, 5, 6, 7, 8, 9, 10, 11, 12, 13, 14, 15, 16, 17, 18, 19, 20, 21, 22, 23, 24, 25, 26, 27, 28, 29, 30, 31, 32, 33, 34, 35, 36, 37, 38, 39, 40, 41, 42, 43, 44, 45, 46, 47, 48, 49]\n",
      "[1, 4, 9, 16, 25, 36, 49, 64, 81, 100, 121, 144, 169, 196, 225, 256, 289, 324, 361, 400, 441, 484, 529, 576, 625, 676, 729, 784, 841, 900, 961, 1024, 1089, 1156, 1225, 1296, 1369, 1444, 1521, 1600, 1681, 1764, 1849, 1936, 2025, 2116, 2209, 2304, 2401, 2500]\n",
      "['a', 'bb', 'ccc', 'dddd', 'eeeee', 'ffffff', 'ggggggg', 'hhhhhhhh', 'iiiiiiiii', 'jjjjjjjjjj', 'kkkkkkkkkkk', 'llllllllllll', 'mmmmmmmmmmmmm', 'nnnnnnnnnnnnnn', 'ooooooooooooooo', 'pppppppppppppppp', 'qqqqqqqqqqqqqqqqq', 'rrrrrrrrrrrrrrrrrr', 'sssssssssssssssssss', 'tttttttttttttttttttt', 'uuuuuuuuuuuuuuuuuuuuu', 'vvvvvvvvvvvvvvvvvvvvvv', 'wwwwwwwwwwwwwwwwwwwwwww', 'xxxxxxxxxxxxxxxxxxxxxxxx', 'yyyyyyyyyyyyyyyyyyyyyyyyy', 'zzzzzzzzzzzzzzzzzzzzzzzzzz']\n"
     ]
    }
   ],
   "source": [
    "L=[]\n",
    "M=[]\n",
    "A=['a','b','c','d','e','f','g','h','i','j','k','l','m','n','o','p','q','r','s','t','u','v','w','x','y','z']\n",
    "B=[]\n",
    "for i in range(0,50):\n",
    "    L.append(i)\n",
    "print(L)\n",
    "for i in range(1,51):\n",
    "    M.append(i**2)\n",
    "print(M)\n",
    "for i in range (len(A)):\n",
    "    B.append(A[i]*(i+1))\n",
    "print(B)"
   ]
  },
  {
   "cell_type": "code",
   "execution_count": 8,
   "metadata": {},
   "outputs": [
    {
     "data": {
      "text/plain": [
       "97"
      ]
     },
     "execution_count": 8,
     "metadata": {},
     "output_type": "execute_result"
    }
   ],
   "source": [
    "ord('a')"
   ]
  },
  {
   "cell_type": "code",
   "execution_count": 9,
   "metadata": {},
   "outputs": [
    {
     "data": {
      "text/plain": [
       "'a'"
      ]
     },
     "execution_count": 9,
     "metadata": {},
     "output_type": "execute_result"
    }
   ],
   "source": [
    "chr(ord('a'))"
   ]
  },
  {
   "cell_type": "code",
   "execution_count": 10,
   "metadata": {},
   "outputs": [
    {
     "data": {
      "text/plain": [
       "25"
      ]
     },
     "execution_count": 10,
     "metadata": {},
     "output_type": "execute_result"
    }
   ],
   "source": [
    "ord('z')-ord('a')"
   ]
  },
  {
   "cell_type": "code",
   "execution_count": 11,
   "metadata": {
    "collapsed": true,
    "jupyter": {
     "outputs_hidden": true
    }
   },
   "outputs": [
    {
     "name": "stdout",
     "output_type": "stream",
     "text": [
      "['a', 'bb', 'ccc', 'dddd', 'eeeee', 'ffffff', 'ggggggg', 'hhhhhhhh', 'iiiiiiiii', 'jjjjjjjjjj', 'kkkkkkkkkkk', 'llllllllllll', 'mmmmmmmmmmmmm', 'nnnnnnnnnnnnnn', 'ooooooooooooooo', 'pppppppppppppppp', 'qqqqqqqqqqqqqqqqq', 'rrrrrrrrrrrrrrrrrr', 'sssssssssssssssssss', 'tttttttttttttttttttt', 'uuuuuuuuuuuuuuuuuuuuu', 'vvvvvvvvvvvvvvvvvvvvvv', 'wwwwwwwwwwwwwwwwwwwwwww', 'xxxxxxxxxxxxxxxxxxxxxxxx', 'yyyyyyyyyyyyyyyyyyyyyyyyy', 'zzzzzzzzzzzzzzzzzzzzzzzzzz']\n"
     ]
    }
   ],
   "source": [
    "L=[]\n",
    "for i in range (26):\n",
    "    L.append(chr(i+97)*(i+1))\n",
    "    \n",
    "print(L)"
   ]
  },
  {
   "cell_type": "code",
   "execution_count": 16,
   "metadata": {},
   "outputs": [
    {
     "name": "stdin",
     "output_type": "stream",
     "text": [
      "enter list one -same size [1,4,766,2]\n",
      "enter list two -same size [2,0,2,1]\n"
     ]
    },
    {
     "data": {
      "text/plain": [
       "[3, 4, 768, 3]"
      ]
     },
     "execution_count": 16,
     "metadata": {},
     "output_type": "execute_result"
    }
   ],
   "source": [
    "L = eval(input('enter list one -same size'))\n",
    "M = eval(input('enter list two -same size'))\n",
    "N=[]\n",
    "for i in range(len(L)):\n",
    "    N.append(L[i]+M[i])\n",
    "N"
   ]
  },
  {
   "cell_type": "code",
   "execution_count": 1,
   "metadata": {},
   "outputs": [
    {
     "data": {
      "text/plain": [
       "[2, 768, 4, 3]"
      ]
     },
     "execution_count": 1,
     "metadata": {},
     "output_type": "execute_result"
    }
   ],
   "source": [
    "L= [3, 4, 768, 2]\n",
    "L.reverse()\n",
    "L"
   ]
  },
  {
   "cell_type": "code",
   "execution_count": 16,
   "metadata": {},
   "outputs": [
    {
     "name": "stdin",
     "output_type": "stream",
     "text": [
      "enter an integer number 20\n"
     ]
    },
    {
     "data": {
      "text/plain": [
       "[10]"
      ]
     },
     "execution_count": 16,
     "metadata": {},
     "output_type": "execute_result"
    }
   ],
   "source": [
    "n=eval(input('enter an integer number'))\n",
    "L=[]\n",
    "for i in range(2,floor(n/2)+1):\n",
    "    for j in range(2,floor(i/2)):\n",
    "        if i%j!=0 and and n%i==0:\n",
    "            L.append(i)\n",
    "            n=n//i   \n",
    "L"
   ]
  },
  {
   "cell_type": "code",
   "execution_count": 17,
   "metadata": {
    "collapsed": true,
    "jupyter": {
     "outputs_hidden": true
    }
   },
   "outputs": [
    {
     "name": "stdin",
     "output_type": "stream",
     "text": [
      "enter a number 100\n"
     ]
    },
    {
     "name": "stdout",
     "output_type": "stream",
     "text": [
      "3\n",
      "6\n",
      "7\n",
      "8\n",
      "9\n",
      "11\n",
      "12\n",
      "13\n",
      "14\n",
      "15\n",
      "16\n",
      "17\n",
      "18\n",
      "19\n",
      "21\n",
      "22\n",
      "23\n",
      "24\n",
      "26\n",
      "27\n",
      "28\n",
      "29\n",
      "30\n",
      "31\n",
      "32\n",
      "33\n",
      "34\n",
      "35\n",
      "36\n",
      "37\n",
      "38\n",
      "39\n",
      "40\n",
      "41\n",
      "42\n",
      "43\n",
      "44\n",
      "45\n",
      "46\n",
      "47\n",
      "48\n",
      "49\n",
      "51\n",
      "52\n",
      "53\n",
      "54\n",
      "55\n",
      "56\n",
      "57\n",
      "58\n",
      "59\n",
      "60\n",
      "61\n",
      "62\n",
      "63\n",
      "64\n",
      "65\n",
      "66\n",
      "67\n",
      "68\n",
      "69\n",
      "70\n",
      "71\n",
      "72\n",
      "73\n",
      "74\n",
      "75\n",
      "76\n",
      "77\n",
      "78\n",
      "79\n",
      "80\n",
      "81\n",
      "82\n",
      "83\n",
      "84\n",
      "85\n",
      "86\n",
      "87\n",
      "88\n",
      "89\n",
      "90\n",
      "91\n",
      "92\n",
      "93\n",
      "94\n",
      "95\n",
      "96\n",
      "97\n",
      "98\n",
      "99\n"
     ]
    }
   ],
   "source": [
    "n = eval(input('enter a number'))\n",
    "for i in range (2,n):\n",
    "    if n%i!=0:\n",
    "        print(i)\n"
   ]
  },
  {
   "cell_type": "code",
   "execution_count": 19,
   "metadata": {},
   "outputs": [
    {
     "name": "stdin",
     "output_type": "stream",
     "text": [
      "enter a num, is aval? 12\n"
     ]
    },
    {
     "name": "stdout",
     "output_type": "stream",
     "text": [
      "no\n"
     ]
    }
   ],
   "source": [
    "n=eval(input('enter a num, is aval?'))\n",
    "flag=0\n",
    "for i in range(2,n):\n",
    "    if n%i==0:\n",
    "        flag=1\n",
    "if flag==1:\n",
    "    print('no')\n",
    "else:\n",
    "    print('yes')"
   ]
  },
  {
   "cell_type": "code",
   "execution_count": 7,
   "metadata": {},
   "outputs": [
    {
     "name": "stdin",
     "output_type": "stream",
     "text": [
      "enter a num 100\n"
     ]
    },
    {
     "data": {
      "text/plain": [
       "[2, 5]"
      ]
     },
     "execution_count": 7,
     "metadata": {},
     "output_type": "execute_result"
    }
   ],
   "source": [
    "k=eval(input('enter a num'))\n",
    "L=[]\n",
    "M=[]\n",
    "for n in range(2,k+1):\n",
    "    flag=0\n",
    "    for i in range(2,n):\n",
    "        if n%i==0:\n",
    "            flag=1\n",
    "    if flag==0:\n",
    "        L.append(n)\n",
    "for j in range(len(L)):\n",
    "    if k%L[j]==0:\n",
    "        M.append(L[j])\n",
    "        k=k//L[j]\n",
    "M        "
   ]
  },
  {
   "cell_type": "code",
   "execution_count": 11,
   "metadata": {},
   "outputs": [],
   "source": [
    "def isPrime(n):\n",
    "    flag=0\n",
    "    for i in range(2,n):\n",
    "        if n%i==0:\n",
    "            flag=1\n",
    "    if flag == 0:\n",
    "        return True\n",
    "    else:\n",
    "        return False\n",
    "    "
   ]
  },
  {
   "cell_type": "code",
   "execution_count": 12,
   "metadata": {},
   "outputs": [
    {
     "data": {
      "text/plain": [
       "False"
      ]
     },
     "execution_count": 12,
     "metadata": {},
     "output_type": "execute_result"
    }
   ],
   "source": [
    "isPrime(8)"
   ]
  },
  {
   "cell_type": "code",
   "execution_count": 4,
   "metadata": {},
   "outputs": [
    {
     "name": "stdin",
     "output_type": "stream",
     "text": [
      "enter a number 100\n"
     ]
    },
    {
     "data": {
      "text/plain": [
       "[1, 2, 4, 5, 10, 20, 25, 50, 100]"
      ]
     },
     "execution_count": 4,
     "metadata": {},
     "output_type": "execute_result"
    }
   ],
   "source": [
    "n= eval(input('enter a number'))\n",
    "L=[]\n",
    "for i in range (1,n+1):\n",
    "    if n%i==0:\n",
    "        L.append(i)\n",
    "L"
   ]
  },
  {
   "cell_type": "code",
   "execution_count": 20,
   "metadata": {
    "collapsed": true,
    "jupyter": {
     "outputs_hidden": true
    }
   },
   "outputs": [
    {
     "data": {
      "text/plain": [
       "[2.8299999999999836,\n",
       " 5.899999999999919,\n",
       " 8.059999999999873,\n",
       " 11.129999999999807,\n",
       " 13.899999999999748,\n",
       " 17.059999999999867,\n",
       " 14.349999999999739,\n",
       " 10.50999999999982,\n",
       " 8.069999999999872,\n",
       " 5.509999999999927,\n",
       " 2.679999999999987]"
      ]
     },
     "execution_count": 20,
     "metadata": {},
     "output_type": "execute_result"
    }
   ],
   "source": [
    "L=[0]*11\n",
    "K=[]\n",
    "for i in range (2,13):\n",
    "    K.append(i)\n",
    "for i in range (10000):\n",
    "    m= randint(1,6)\n",
    "    n= randint(1,6)\n",
    "    for j in range (len(K)):\n",
    "        if n+m==K[j]:\n",
    "            L[j]=L[j]+1/100\n",
    "L\n",
    "# in fact, it was: + (1/10000 * 100(%)) = +1/100"
   ]
  },
  {
   "cell_type": "code",
   "execution_count": 10,
   "metadata": {},
   "outputs": [
    {
     "name": "stdin",
     "output_type": "stream",
     "text": [
      "enter a list ['dfg','fg',3,4,5,111]\n"
     ]
    },
    {
     "data": {
      "text/plain": [
       "[111, 'dfg', 'fg', 3, 4, 5]"
      ]
     },
     "execution_count": 10,
     "metadata": {},
     "output_type": "execute_result"
    }
   ],
   "source": [
    "L= eval(input('enter a list'))\n",
    "\n",
    "M=[L[len(L)-1]]+L[:len(L)-1]\n",
    "M"
   ]
  },
  {
   "cell_type": "code",
   "execution_count": 15,
   "metadata": {},
   "outputs": [
    {
     "name": "stdin",
     "output_type": "stream",
     "text": [
      "enter a list ['dfg','fg',3,4,5,111]\n"
     ]
    },
    {
     "data": {
      "text/plain": [
       "[111, 'dfg', 'fg', 3, 4, 5]"
      ]
     },
     "execution_count": 15,
     "metadata": {},
     "output_type": "execute_result"
    }
   ],
   "source": [
    "L= eval(input('enter a list'))\n",
    "M=[]\n",
    "M.append(L[len(L)-1])\n",
    "for i in range(0,len(L)-1):\n",
    "    M=M+[L[i]]\n",
    "    \n",
    "M"
   ]
  },
  {
   "cell_type": "code",
   "execution_count": 19,
   "metadata": {},
   "outputs": [
    {
     "name": "stdout",
     "output_type": "stream",
     "text": [
      "[1, 1, 0, 1, 0, 0, 1, 0, 0, 0, 1, 0, 0, 0, 0, 1, 0, 0, 0, 0, 0, 1, 0, 0, 0, 0, 0, 0, 1, 0, 0, 0, 0, 0, 0, 0, 1, 0, 0, 0, 0, 0, 0, 0, 0, 1, 0, 0, 0, 0, 0, 0, 0, 0, 0, 1, 0, 0, 0, 0, 0, 0, 0, 0, 0, 0, 1]\n"
     ]
    }
   ],
   "source": [
    "L=[]\n",
    "for i in range (0,11):\n",
    "    L=L+[1]+[0]*i\n",
    "L=L+[1]\n",
    "print(L)\n",
    "    "
   ]
  },
  {
   "cell_type": "code",
   "execution_count": 31,
   "metadata": {},
   "outputs": [
    {
     "name": "stdout",
     "output_type": "stream",
     "text": [
      "[1, 0, 0, 1, 1, 0, 1, 0, 1, 1, 0, 1, 0, 0, 0, 0, 1, 1, 0, 1, 1, 1, 1, 1, 0, 0, 1, 0, 0, 1, 0, 1, 0, 0, 0, 0, 0, 1, 1, 0, 1, 1, 1, 1, 0, 1, 0, 0, 1, 0, 1, 1, 0, 1, 1, 0, 1, 1, 1, 0, 1, 0, 0, 1, 0, 0, 1, 0, 0, 0, 1, 0, 1, 1, 1, 1, 1, 1, 1, 1, 0, 0, 0, 1, 1, 0, 0, 1, 1, 1, 1, 0, 1, 1, 1, 1, 0, 1, 0, 1] 5\n"
     ]
    }
   ],
   "source": [
    "l=[]\n",
    "max_count=0\n",
    "count=0\n",
    "for i in range (100):\n",
    "    l.append(randint(0,1))\n",
    "for j in range(len(l)):\n",
    "    if l[j]==0:\n",
    "        count=count+1        \n",
    "    else:\n",
    "        if count>max_count:\n",
    "            max_count=count\n",
    "        count=0   \n",
    "print(l,max_count)"
   ]
  },
  {
   "cell_type": "code",
   "execution_count": 33,
   "metadata": {},
   "outputs": [
    {
     "name": "stdin",
     "output_type": "stream",
     "text": [
      "enter a list [1,2,2,2,5,3,2,1,1,3,2,1,3,5,6,4,5]\n"
     ]
    },
    {
     "data": {
      "text/plain": [
       "[1, 2, 5, 3, 6, 4]"
      ]
     },
     "execution_count": 33,
     "metadata": {},
     "output_type": "execute_result"
    }
   ],
   "source": [
    "L= eval(input('enter a list'))\n",
    "M=[]\n",
    "for i in range(len(L)):\n",
    "    if L[i] not in M:\n",
    "        M.append(L[i])\n",
    "M"
   ]
  },
  {
   "cell_type": "code",
   "execution_count": 14,
   "metadata": {},
   "outputs": [
    {
     "name": "stdin",
     "output_type": "stream",
     "text": [
      "ennter the length in feet 20\n",
      "enter a number to show the convertion 1\n"
     ]
    },
    {
     "name": "stdout",
     "output_type": "stream",
     "text": [
      "240\n"
     ]
    }
   ],
   "source": [
    "#L=[1_inches, 2_yards, 3_miles, 4_millimeters, 5_centimeters, 6_meters, 7_kilometers]\n",
    "T= [12, 0.33, 0.00019, 304.8, 30.48, 0.3048, 0.0003048]\n",
    "N=eval(input('ennter the length in feet'))\n",
    "M=eval(input('enter a number to show the convertion'))\n",
    "print(T[M-1]*N)"
   ]
  },
  {
   "cell_type": "code",
   "execution_count": 11,
   "metadata": {},
   "outputs": [
    {
     "name": "stdin",
     "output_type": "stream",
     "text": [
      "enter a string 'Elham!! Erfan'\n"
     ]
    },
    {
     "name": "stdout",
     "output_type": "stream",
     "text": [
      "'qmurm!! eywlv' [12, 1, 13, 17, 25, 25, 7, 17, 11, 8]\n"
     ]
    }
   ],
   "source": [
    "s = input('enter a string')\n",
    "s = s.lower()\n",
    "L=[]\n",
    "for i in range(len(s)):\n",
    "    if 97<=ord(s[i])<=122:\n",
    "        y=randint(1,26)\n",
    "        L.append(y)\n",
    "        x=ord(s[i])+y\n",
    "        if 97<=x<=122:\n",
    "            s=s[:i]+chr(x)+s[i+1:]\n",
    "        else:\n",
    "            s=s[:i]+chr(x-122+97)  +s[i+1:]\n",
    "print(s,L)\n",
    "\n",
    "    "
   ]
  },
  {
   "cell_type": "code",
   "execution_count": 1,
   "metadata": {},
   "outputs": [
    {
     "data": {
      "text/plain": [
       "122"
      ]
     },
     "execution_count": 1,
     "metadata": {},
     "output_type": "execute_result"
    }
   ],
   "source": [
    "ord('z')"
   ]
  },
  {
   "cell_type": "code",
   "execution_count": 2,
   "metadata": {},
   "outputs": [
    {
     "data": {
      "text/plain": [
       "97"
      ]
     },
     "execution_count": 2,
     "metadata": {},
     "output_type": "execute_result"
    }
   ],
   "source": [
    "ord('a')"
   ]
  },
  {
   "cell_type": "code",
   "execution_count": 12,
   "metadata": {},
   "outputs": [
    {
     "name": "stdin",
     "output_type": "stream",
     "text": [
      "enter a string 'qmurm!! eywlv'\n",
      "enter a conversion list [12, 1, 13, 17, 25, 25, 7, 17, 11, 8]\n"
     ]
    },
    {
     "name": "stdout",
     "output_type": "stream",
     "text": [
      "'elham!! erfan'\n"
     ]
    }
   ],
   "source": [
    "s = input('enter a string')\n",
    "L= eval(input('enter a conversion list'))\n",
    "for i in range(len(s)):\n",
    "    if 97<=ord(s[i])<=122:\n",
    "        x=ord(s[i])-L[0]\n",
    "        L=L[1:]\n",
    "        if 97<=x<=122:\n",
    "            s=s[:i]+chr(x)+s[i+1:]\n",
    "        else:\n",
    "            s=s[:i]+chr(x-97+122)  +s[i+1:]\n",
    "print(s)\n",
    "            \n",
    "        "
   ]
  },
  {
   "cell_type": "code",
   "execution_count": 3,
   "metadata": {},
   "outputs": [
    {
     "data": {
      "text/plain": [
       "'xo'"
      ]
     },
     "execution_count": 3,
     "metadata": {},
     "output_type": "execute_result"
    }
   ],
   "source": []
  },
  {
   "cell_type": "code",
   "execution_count": 5,
   "metadata": {},
   "outputs": [
    {
     "data": {
      "text/plain": [
       "['xo', 'el']"
      ]
     },
     "execution_count": 5,
     "metadata": {},
     "output_type": "execute_result"
    }
   ],
   "source": []
  },
  {
   "cell_type": "code",
   "execution_count": 3,
   "metadata": {
    "collapsed": true,
    "jupyter": {
     "outputs_hidden": true
    }
   },
   "outputs": [
    {
     "name": "stdout",
     "output_type": "stream",
     "text": [
      "c@4121em89kmor7$%j1z)j7yqrlz(0@rd727p3*mp5btb!m@$gydfdya9n24o(cg1cxuieez2dd3)i&ejeg(#z14(t2q&7g1l%i4nfib&)aj7xacit4wh1@wicuymbg8#y0*^n76x*pb6ri1jg38nc5humxb#uc5d#b9don3b7g(f$$y8a*z9*4wvmt@l$$dq3icbc#av3fqp*8p%wk12o$hifs@bgu9&8^7esj40)@ihs2^a!)swvk21^rs&m!r1qi^gjmtb*d!$(i6392f@kz*5hkhr3ecps%&e4q5qhtxc*q7v%7l@ni6dh$d^8acw&ib5n9kvg(je68g*yqe3w8)7bwhmh*m&fb)*t267so@)y6!zjvy8179ngyizqm2y)7k&fl#5753n3c^trwvq3u*t*esx&u&y9h1x1u8y)0sce9m3!x2cnjs)c^(2d%w#)jewf4&uda08dw3ol&aardu&o71vfxp64*klf#p9cj2$$9o#^is^g9u13#bbf(wz%vy9e3f^1c*qyw)tf8d2600*kl4lgw02*yv2nb%vtd6312k2y$s4jds96&bz1%kxuei()i9g%9enq3bn0v)n&ps(0cg@nu1vj!nyvs7ig9(mpoag$sdxa3u3sn@1svv0%a&r$)glm#iszj$)bge87bco(udhg@*)bp4dox254ib8v6*d%z49*sg%cly4f$^qkrx8hak8hk14(k^hgh@!(^2$cqy3l*)(pxtqm70)57#)8of$$@^&7(rbjghw)k*c(e2b)^u!nqv0qct0hh1rjtozogxj$j(p4j3a6gi1*b29cuzry2j$#m6^8hvx#5m!jv(gmscil^%@27ubw&*2p^*%a7u)@^5ucqj33#$u4ma55d#edq23catvy626afbl4&fwp0l^c1#hnkpg97yu$6$*hl*jvzda7ml3^@q355f#w%!s$i(f^hg(3(38sc1i#b&q()oy6o27g%te1^(mrocffol*@g2svy(*jt8"
     ]
    }
   ],
   "source": []
  },
  {
   "cell_type": "code",
   "execution_count": 4,
   "metadata": {},
   "outputs": [
    {
     "data": {
      "text/plain": [
       "['sa', 'er', 'xo', 'el']"
      ]
     },
     "execution_count": 4,
     "metadata": {},
     "output_type": "execute_result"
    }
   ],
   "source": []
  },
  {
   "cell_type": "code",
   "execution_count": 3,
   "metadata": {},
   "outputs": [
    {
     "name": "stdin",
     "output_type": "stream",
     "text": [
      "enter the list of names ['s','f','g','k','l','u']\n"
     ]
    },
    {
     "data": {
      "text/plain": [
       "[['l', 'k'], ['s', 'g'], ['u', 'f']]"
      ]
     },
     "execution_count": 3,
     "metadata": {},
     "output_type": "execute_result"
    }
   ],
   "source": []
  },
  {
   "cell_type": "code",
   "execution_count": 8,
   "metadata": {},
   "outputs": [
    {
     "name": "stdout",
     "output_type": "stream",
     "text": [
      "['Hi!', 'This', 'is', 'a', 'test.']\n"
     ]
    }
   ],
   "source": []
  },
  {
   "cell_type": "code",
   "execution_count": 4,
   "metadata": {},
   "outputs": [
    {
     "data": {
      "text/plain": [
       "'this is a big problem so you should solve first'"
      ]
     },
     "execution_count": 4,
     "metadata": {},
     "output_type": "execute_result"
    }
   ],
   "source": []
  },
  {
   "cell_type": "code",
   "execution_count": null,
   "metadata": {},
   "outputs": [],
   "source": []
  }
 ],
 "metadata": {
  "kernelspec": {
   "display_name": "Python 3",
   "language": "python",
   "name": "python3"
  },
  "language_info": {
   "codemirror_mode": {
    "name": "ipython",
    "version": 3
   },
   "file_extension": ".py",
   "mimetype": "text/x-python",
   "name": "python",
   "nbconvert_exporter": "python",
   "pygments_lexer": "ipython3",
   "version": "3.7.5"
  }
 },
 "nbformat": 4,
 "nbformat_minor": 4
}
