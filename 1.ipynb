{
 "cells": [
  {
   "cell_type": "code",
   "execution_count": 11,
   "metadata": {},
   "outputs": [
    {
     "name": "stdin",
     "output_type": "stream",
     "text": [
      "enter a number in C 100\n"
     ]
    },
    {
     "name": "stdout",
     "output_type": "stream",
     "text": [
      "in f the temp is: 212.0\n"
     ]
    }
   ],
   "source": [
    "num = eval(input('enter a number in C'))\n",
    "print('in f the temp is:',num*9/5+32)"
   ]
  },
  {
   "cell_type": "code",
   "execution_count": 3,
   "metadata": {},
   "outputs": [
    {
     "name": "stdin",
     "output_type": "stream",
     "text": [
      "enter num 1 10\n",
      "enter num 2 20\n"
     ]
    },
    {
     "name": "stdout",
     "output_type": "stream",
     "text": [
      "the average of these numbers is 15.0\n"
     ]
    }
   ],
   "source": [
    "num1 = eval(input('enter num 1'))\n",
    "num2 = eval(input('enter num 2'))\n",
    "print('the average of these numbers is', (num1+num2)/2)"
   ]
  },
  {
   "cell_type": "code",
   "execution_count": 4,
   "metadata": {},
   "outputs": [
    {
     "name": "stdin",
     "output_type": "stream",
     "text": [
      "enter your name Elham\n"
     ]
    },
    {
     "name": "stdout",
     "output_type": "stream",
     "text": [
      "Hello Elham\n"
     ]
    }
   ],
   "source": [
    "name = input('enter your name')\n",
    "print('Hello',name)"
   ]
  },
  {
   "cell_type": "code",
   "execution_count": 5,
   "metadata": {},
   "outputs": [
    {
     "name": "stdin",
     "output_type": "stream",
     "text": [
      "enter a number 10\n"
     ]
    },
    {
     "name": "stdout",
     "output_type": "stream",
     "text": [
      "the squared of the number will be 100\n"
     ]
    }
   ],
   "source": [
    "num = eval(input('enter a number'))\n",
    "print('the squared of the number will be',num*num)"
   ]
  },
  {
   "cell_type": "code",
   "execution_count": 6,
   "metadata": {},
   "outputs": [
    {
     "name": "stdout",
     "output_type": "stream",
     "text": [
      "the sum of 3+4 is: 7 .\n",
      "the sum of 3+4 is:7.\n"
     ]
    }
   ],
   "source": [
    "print('the sum of 3+4 is:', 3+4, '.')\n",
    "print('the sum of 3+4 is:', 3+4, '.', sep='')"
   ]
  },
  {
   "cell_type": "code",
   "execution_count": 7,
   "metadata": {},
   "outputs": [
    {
     "name": "stdout",
     "output_type": "stream",
     "text": [
      "there is a tree\n",
      "there is a home\n"
     ]
    }
   ],
   "source": [
    "print('there is a tree')\n",
    "print('there is a home')"
   ]
  },
  {
   "cell_type": "code",
   "execution_count": 8,
   "metadata": {},
   "outputs": [
    {
     "name": "stdout",
     "output_type": "stream",
     "text": [
      "there is a tree there is a home\n"
     ]
    }
   ],
   "source": [
    "print('there is a tree', end=\" \")\n",
    "print('there is a home')"
   ]
  },
  {
   "cell_type": "code",
   "execution_count": 10,
   "metadata": {},
   "outputs": [
    {
     "name": "stdin",
     "output_type": "stream",
     "text": [
      "enter a number in C 100\n"
     ]
    },
    {
     "name": "stdout",
     "output_type": "stream",
     "text": [
      "the temp in F is: 212.0\n"
     ]
    }
   ],
   "source": [
    "temp=eval(input('enter a number in C'))\n",
    "f_temp=temp*9/5+32\n",
    "print('the temp in F is:',f_temp)\n",
    "if f_temp>212:\n",
    "    print('it is above boil')\n",
    "if f_temp<32:\n",
    "    print('it is below freezing')"
   ]
  },
  {
   "cell_type": "code",
   "execution_count": 13,
   "metadata": {},
   "outputs": [
    {
     "name": "stdout",
     "output_type": "stream",
     "text": [
      "*******************\n",
      "*******************\n",
      "*******************\n",
      "*******************\n"
     ]
    }
   ],
   "source": [
    "print('*'*19)\n",
    "print('*'*19)\n",
    "print('*'*19)\n",
    "print('*'*19)"
   ]
  },
  {
   "cell_type": "code",
   "execution_count": 21,
   "metadata": {},
   "outputs": [
    {
     "name": "stdout",
     "output_type": "stream",
     "text": [
      "*******************\n",
      "*                 *\n",
      "*                 *\n",
      "*******************\n"
     ]
    }
   ],
   "source": [
    "print('*'*19)\n",
    "print('*',' '*17,'*',sep='')\n",
    "print('*',' '*17,'*',sep='')\n",
    "print('*'*19)"
   ]
  },
  {
   "cell_type": "code",
   "execution_count": 27,
   "metadata": {},
   "outputs": [
    {
     "name": "stdout",
     "output_type": "stream",
     "text": [
      "*\n",
      "**\n",
      "***\n",
      "****\n"
     ]
    }
   ],
   "source": [
    "for i in range (4):\n",
    "    print((i+1)*'*')"
   ]
  },
  {
   "cell_type": "code",
   "execution_count": 29,
   "metadata": {},
   "outputs": [
    {
     "name": "stdout",
     "output_type": "stream",
     "text": [
      "0.1017249004865104\n"
     ]
    }
   ],
   "source": [
    "print((512-282)/(47*48+5))"
   ]
  },
  {
   "cell_type": "code",
   "execution_count": 32,
   "metadata": {},
   "outputs": [
    {
     "name": "stdin",
     "output_type": "stream",
     "text": [
      "inter a number 5\n"
     ]
    },
    {
     "name": "stdout",
     "output_type": "stream",
     "text": [
      "the square is: 25.\n"
     ]
    }
   ],
   "source": [
    "num= eval(input('inter a number'))\n",
    "print('the square is: ', num*num,'.',sep='')"
   ]
  },
  {
   "cell_type": "code",
   "execution_count": 33,
   "metadata": {},
   "outputs": [
    {
     "name": "stdin",
     "output_type": "stream",
     "text": [
      "inter a num 7\n"
     ]
    },
    {
     "name": "stdout",
     "output_type": "stream",
     "text": [
      "7---14---21---28---35\n"
     ]
    }
   ],
   "source": [
    "x= eval(input('inter a num'))\n",
    "print(x,2*x,3*x,4*x,5*x,sep='---')"
   ]
  },
  {
   "cell_type": "code",
   "execution_count": 34,
   "metadata": {},
   "outputs": [
    {
     "name": "stdin",
     "output_type": "stream",
     "text": [
      "weight? 65\n"
     ]
    },
    {
     "name": "stdout",
     "output_type": "stream",
     "text": [
      "in pound it is: 143.0\n"
     ]
    }
   ],
   "source": [
    "w = eval(input('weight?'))\n",
    "print('in pound it is:',w*2.2)"
   ]
  },
  {
   "cell_type": "code",
   "execution_count": 35,
   "metadata": {},
   "outputs": [
    {
     "name": "stdin",
     "output_type": "stream",
     "text": [
      "enter num1 2\n",
      "enter num2 34\n",
      "enter num3 5\n"
     ]
    },
    {
     "name": "stdout",
     "output_type": "stream",
     "text": [
      "the total is: 41 and the ave is: 13.666666666666666\n"
     ]
    }
   ],
   "source": [
    "n1=eval(input('enter num1'))\n",
    "n2=eval(input('enter num2'))\n",
    "n3=eval(input('enter num3'))\n",
    "t=n1+n2+n3\n",
    "ave=t/3\n",
    "print('the total is:',t,'and the ave is:',ave)"
   ]
  },
  {
   "cell_type": "code",
   "execution_count": null,
   "metadata": {},
   "outputs": [],
   "source": []
  },
  {
   "cell_type": "code",
   "execution_count": null,
   "metadata": {},
   "outputs": [],
   "source": []
  }
 ],
 "metadata": {
  "kernelspec": {
   "display_name": "Python 3",
   "language": "python",
   "name": "python3"
  },
  "language_info": {
   "codemirror_mode": {
    "name": "ipython",
    "version": 3
   },
   "file_extension": ".py",
   "mimetype": "text/x-python",
   "name": "python",
   "nbconvert_exporter": "python",
   "pygments_lexer": "ipython3",
   "version": "3.7.3"
  }
 },
 "nbformat": 4,
 "nbformat_minor": 2
}
