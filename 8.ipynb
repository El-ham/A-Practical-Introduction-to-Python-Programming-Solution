{
 "cells": [
  {
   "cell_type": "code",
   "execution_count": 1,
   "metadata": {},
   "outputs": [],
   "source": [
    "from random import *\n",
    "from math import *\n",
    "from string import *\n",
    "from string import punctuation"
   ]
  },
  {
   "cell_type": "code",
   "execution_count": 8,
   "metadata": {},
   "outputs": [
    {
     "data": {
      "text/plain": [
       "'xo'"
      ]
     },
     "execution_count": 8,
     "metadata": {},
     "output_type": "execute_result"
    }
   ],
   "source": [
    "L=['er','el','sa','xo']\n",
    "n=choice(L)\n",
    "n"
   ]
  },
  {
   "cell_type": "code",
   "execution_count": 5,
   "metadata": {},
   "outputs": [
    {
     "data": {
      "text/plain": [
       "['xo', 'er']"
      ]
     },
     "execution_count": 5,
     "metadata": {},
     "output_type": "execute_result"
    }
   ],
   "source": [
    "L=['er','el','sa','xo']\n",
    "n=sample(L,2)\n",
    "n"
   ]
  },
  {
   "cell_type": "code",
   "execution_count": 6,
   "metadata": {},
   "outputs": [
    {
     "name": "stdout",
     "output_type": "stream",
     "text": [
      "yz@k@3)ea*veto#o^s1i(wgzybtuv@ys)*3j0yyug!&c9%nabj7lf6w6uuk#op!c3ypo@n%1v!9ym6*c%3&!do*!7d)mh2h0w96%iz553mn%zk81ioq6mq(k4cjhw2fml8wz9f068s@(!y2d)e$&s(!t$r!khf8&@phmdtoj(3ogry36p8k55z@u3!zqh4(56*4%lb*(zg0os^qlc7qnm6@p@b3r0@leplcmy)n18a2t@4xt^o9&1&xr)la$s9ztx&h)lc(8)j02v%vxehl6ii$mu)fa$7cc$4utx#^tv(o5d4^3yto@f@57uj!ogo1u9qta7xm!mq1!l6so7l@4z3%mze641d$rave!pk$x96t95vb#^$2@mpfe4x(yql1%%bniafi0u#)os!a4n$x3xgn(liv4ge$)6i&xlwaaba39up^)9ae^lt53sj&4khhnd#8p!k9acf$cdsj^kt92@36%y@@qe^z^pmndg#ljag0ambamztq#b@^qm#7l(^4d26!qvua^2d!y*^mab0#p)t911(#iebd9sd(5fxk3d)6cmkmzc9vmezb$o9h8h458uy^344yg@8q6d0zohx59h&f)54010v*rr7pg%@x)eypa0gp3@@aiow9sjj662di&r8t3l33a8a^bw@nf%p98wt^&4q8m6uv%d6a8pt@6%a5e%vqc93k6&hukcxvf5%uunbbb1hs4w4fay&8177v8689mqd7s79s7hx@v)sm9r4&7u%!$mlq%dcoilf5#9xk181axb5jz^d2hnw1qzxe7z#1%0(ggsofz7mqp6y0kq90vgq$tm7617cejr4f^y%)ct@y2sx^jg1rtj5#vagl(uqtjyv7*djc5igrbhux#1ikgt)6)7k75%t%a2$)(id)oo&@ulm8xmf*6oc&a3m^g%6#@c3&qdtg$p!ac6$0bvtv^)5684aw4dg%xt4si4!!v%zi)&61xp$@ki#v6gp2g@80p(rbsix$mlu$w3t90"
     ]
    }
   ],
   "source": [
    "s='abcdefghijklmnopqrstuvwxyz1234567890!@#$%^&*()'\n",
    "for i in range(1000):\n",
    "    print(choice(s),end='')"
   ]
  },
  {
   "cell_type": "code",
   "execution_count": 7,
   "metadata": {},
   "outputs": [
    {
     "data": {
      "text/plain": [
       "['er', 'el', 'sa', 'xo']"
      ]
     },
     "execution_count": 7,
     "metadata": {},
     "output_type": "execute_result"
    }
   ],
   "source": [
    "L=['er','el','sa','xo']\n",
    "shuffle(L)\n",
    "L"
   ]
  },
  {
   "cell_type": "code",
   "execution_count": 9,
   "metadata": {},
   "outputs": [
    {
     "name": "stdin",
     "output_type": "stream",
     "text": [
      "enter the list of names ['wk','hhg','gcc','gh']\n"
     ]
    },
    {
     "data": {
      "text/plain": [
       "[['gcc', 'wk'], ['hhg', 'gh']]"
      ]
     },
     "execution_count": 9,
     "metadata": {},
     "output_type": "execute_result"
    }
   ],
   "source": [
    "L= eval(input('enter the list of names'))\n",
    "shuffle(L)\n",
    "M=[]\n",
    "for i in range(0,len(L),2):\n",
    "    M.append([L[i],L[i+1]])\n",
    "M"
   ]
  },
  {
   "cell_type": "code",
   "execution_count": 10,
   "metadata": {},
   "outputs": [
    {
     "name": "stdout",
     "output_type": "stream",
     "text": [
      "['Hi!', 'This', 'is', 'a', 'test.']\n"
     ]
    }
   ],
   "source": [
    "s =  'Hi! This is a test.' \n",
    "print(s.split())"
   ]
  },
  {
   "cell_type": "code",
   "execution_count": 11,
   "metadata": {},
   "outputs": [
    {
     "data": {
      "text/plain": [
       "'this is a big problem so you should solve first'"
      ]
     },
     "execution_count": 11,
     "metadata": {},
     "output_type": "execute_result"
    }
   ],
   "source": [
    "s = 'this is a big!!! problem, so you should solve(?) first'\n",
    "for c in punctuation:\n",
    "    s= s.replace(c,'')\n",
    "s"
   ]
  },
  {
   "cell_type": "code",
   "execution_count": 20,
   "metadata": {},
   "outputs": [
    {
     "name": "stdin",
     "output_type": "stream",
     "text": [
      "enter a string this is a big!!! problem, so you should big solve(?) first\n",
      "enter a certain word big\n"
     ]
    },
    {
     "data": {
      "text/plain": [
       "2"
      ]
     },
     "execution_count": 20,
     "metadata": {},
     "output_type": "execute_result"
    }
   ],
   "source": [
    "#s = 'this is a big!!! problem, so you should solve(?) first'\n",
    "s = input('enter a string')\n",
    "w = input('enter a certain word')\n",
    "s.lower()\n",
    "for c in punctuation:\n",
    "    s=s.replace(c,'')\n",
    "L=s.split()\n",
    "r=L.count(w)\n",
    "r"
   ]
  },
  {
   "cell_type": "code",
   "execution_count": 22,
   "metadata": {},
   "outputs": [
    {
     "data": {
      "text/plain": [
       "['1', '206', '889', '8241']"
      ]
     },
     "execution_count": 22,
     "metadata": {},
     "output_type": "execute_result"
    }
   ],
   "source": [
    "s='1-206-889-8241'\n",
    "s.split('-')"
   ]
  },
  {
   "cell_type": "code",
   "execution_count": 5,
   "metadata": {},
   "outputs": [
    {
     "data": {
      "text/plain": [
       "'dfghj,* iy,* qaxc'"
      ]
     },
     "execution_count": 5,
     "metadata": {},
     "output_type": "execute_result"
    }
   ],
   "source": [
    "L=['dfghj','iy','qaxc']\n",
    "',* '.join(L)"
   ]
  },
  {
   "cell_type": "code",
   "execution_count": 18,
   "metadata": {},
   "outputs": [
    {
     "data": {
      "text/plain": [
       "'reteh'"
      ]
     },
     "execution_count": 18,
     "metadata": {},
     "output_type": "execute_result"
    }
   ],
   "source": [
    "s='there'\n",
    "L=[]\n",
    "for i in range(len(s)):\n",
    "    L.append(s[i])\n",
    "shuffle(L)\n",
    "s=''.join(L)\n",
    "s"
   ]
  },
  {
   "cell_type": "code",
   "execution_count": 20,
   "metadata": {},
   "outputs": [
    {
     "data": {
      "text/plain": [
       "[0, 1, 2, 3, 4]"
      ]
     },
     "execution_count": 20,
     "metadata": {},
     "output_type": "execute_result"
    }
   ],
   "source": [
    "L=[i for i in range(5)]\n",
    "L"
   ]
  },
  {
   "cell_type": "code",
   "execution_count": 22,
   "metadata": {},
   "outputs": [
    {
     "data": {
      "text/plain": [
       "['f', 'f']"
      ]
     },
     "execution_count": 22,
     "metadata": {},
     "output_type": "execute_result"
    }
   ],
   "source": [
    "M = ['one', 'two', 'three', 'four', 'five', 'six']\n",
    "L=[m[0] for m in M if len(m)==4]\n",
    "L"
   ]
  },
  {
   "cell_type": "code",
   "execution_count": 24,
   "metadata": {},
   "outputs": [
    {
     "data": {
      "text/plain": [
       "[[0, 0], [0, 1], [0, 2], [1, 0], [1, 1], [1, 2]]"
      ]
     },
     "execution_count": 24,
     "metadata": {},
     "output_type": "execute_result"
    }
   ],
   "source": [
    "L=[[i,j] for i in range(2) for j in range(3)]\n",
    "L"
   ]
  },
  {
   "cell_type": "code",
   "execution_count": 25,
   "metadata": {},
   "outputs": [
    {
     "data": {
      "text/plain": [
       "[[1, 0], [2, 0], [2, 1], [3, 0], [3, 1], [3, 2]]"
      ]
     },
     "execution_count": 25,
     "metadata": {},
     "output_type": "execute_result"
    }
   ],
   "source": [
    "L=[[i,j] for i in range(4) for j in range(i)]\n",
    "L"
   ]
  },
  {
   "cell_type": "code",
   "execution_count": 36,
   "metadata": {},
   "outputs": [],
   "source": [
    "L=[randint(0,100) for j in range(50)]\n"
   ]
  },
  {
   "cell_type": "code",
   "execution_count": 30,
   "metadata": {
    "collapsed": true,
    "jupyter": {
     "outputs_hidden": true
    }
   },
   "outputs": [
    {
     "data": {
      "text/plain": [
       "[6724,\n",
       " 100,\n",
       " 361,\n",
       " 6084,\n",
       " 1936,\n",
       " 729,\n",
       " 1521,\n",
       " 9,\n",
       " 2401,\n",
       " 2304,\n",
       " 16,\n",
       " 49,\n",
       " 1764,\n",
       " 361,\n",
       " 1849,\n",
       " 2500,\n",
       " 49,\n",
       " 4624,\n",
       " 9604,\n",
       " 1156,\n",
       " 289,\n",
       " 6889,\n",
       " 5625,\n",
       " 4,\n",
       " 7744,\n",
       " 1,\n",
       " 3600,\n",
       " 3364,\n",
       " 361,\n",
       " 676,\n",
       " 1681,\n",
       " 1024,\n",
       " 1936,\n",
       " 5929,\n",
       " 9216,\n",
       " 4225,\n",
       " 7056,\n",
       " 900,\n",
       " 2401,\n",
       " 1600,\n",
       " 7744,\n",
       " 441,\n",
       " 2401,\n",
       " 0,\n",
       " 7569,\n",
       " 784,\n",
       " 2916,\n",
       " 4489,\n",
       " 2601,\n",
       " 10000]"
      ]
     },
     "execution_count": 30,
     "metadata": {},
     "output_type": "execute_result"
    }
   ],
   "source": [
    "M=[m**2 for m in L]\n",
    "M"
   ]
  },
  {
   "cell_type": "code",
   "execution_count": 35,
   "metadata": {},
   "outputs": [
    {
     "data": {
      "text/plain": [
       "19"
      ]
     },
     "execution_count": 35,
     "metadata": {},
     "output_type": "execute_result"
    }
   ],
   "source": [
    "N=len([m for m in L if m>50])\n",
    "N"
   ]
  },
  {
   "cell_type": "code",
   "execution_count": null,
   "metadata": {},
   "outputs": [],
   "source": [
    "M=[L.count(i) for i in range(1,101)]"
   ]
  },
  {
   "cell_type": "code",
   "execution_count": 47,
   "metadata": {
    "collapsed": true,
    "jupyter": {
     "outputs_hidden": true
    }
   },
   "outputs": [
    {
     "data": {
      "text/plain": [
       "'tfmwhyyradgcqeudzmbjuttjanaamqkgpblkulsvvssibndzkutdbvbeatjtmewkzlgzcaevzrhwwyxwdxzmyzvzsqlpluylxjmiijpadexdzmrgfysrszzxoorbqkeyhmsbhzzqbnyawionzkfskvoerwkbzqqcczdjirsuhpkxfkojgaydnklmnvxcyrmqmsqdasbhcexxqcoemagmxhrsvylgzmxmfjtihtqtzndbsdkzpoueybrognzkogsrjgfmdbcwataqzxktvoppvnfeszzylrpcwfbwcdqodihgdvexuculkivpkjgxnizyojoohlxvolwefgxwftaguyzvywafudgtjxeagnavkojkrpuywdjjwvedqzdvvpjeykenickscdzycliijciltckyipacyazuevsxmhapnrpunjsmayrrnwqsroqbhjbuzjcavidirrorcxydiuchuxjnjsmnavnxcdghbdonsexghcgakhhewkqertcfftllwjjjoyytixoeyxgmrgntehewqtlvszgmjajhccqvylwoywoggqheoaxlbxvnrcqnliwyrvvpkeuqrrosdrcctkpztrqznlukrjbetrqlxpjlnzxhnkqugkqseumojmjmstvvcwchmgayrwkqykbjmuqyftblxjpvrjcvgqkhvgmovsdiwsfprbzmpeqjdokifgpoxbedtspbmlggxmqhczxxxxnqppwknraypquflfdpzldzyiraxdyemicpnyjywurixpdbuslltyqppzakzvtseobfdgvwcavkgmeqgbecprdbwveeyqjtajbswyayjimkekfywitesqzxzhfbmoxsrekjmprqidsnjjpcccwjsyydoryqigvxmokdgdrqknjhaapaxbqeitcpfmgkiasgpawmuiupjytszywanmqzjeglkmpsbddshhktrlxyhbmntjinmblqkkumnfqogohwqzutvmigsihuoymn'"
      ]
     },
     "execution_count": 47,
     "metadata": {},
     "output_type": "execute_result"
    }
   ],
   "source": [
    "alphabet='abcdefghijklmnopqrstuvwxyz'\n",
    "\n",
    "L=''.join([choice(alphabet) for i in range(1000)])\n",
    "L"
   ]
  },
  {
   "cell_type": "code",
   "execution_count": 48,
   "metadata": {},
   "outputs": [],
   "source": [
    "alphabet='abcdefghijklmnopqrstuvwxyz'\n",
    "L=''.join([choice(alphabet) for i in range(1000)])"
   ]
  },
  {
   "cell_type": "code",
   "execution_count": 3,
   "metadata": {
    "collapsed": true,
    "jupyter": {
     "outputs_hidden": true
    }
   },
   "outputs": [
    {
     "data": {
      "text/plain": [
       "[78,\n",
       " 96,\n",
       " 59,\n",
       " 30,\n",
       " 72,\n",
       " 66,\n",
       " 7,\n",
       " 73,\n",
       " 20,\n",
       " 56,\n",
       " 52,\n",
       " 84,\n",
       " 43,\n",
       " 71,\n",
       " 87,\n",
       " 42,\n",
       " 23,\n",
       " 18,\n",
       " 22,\n",
       " 94,\n",
       " 92,\n",
       " 35,\n",
       " 81,\n",
       " 64,\n",
       " 90,\n",
       " 87,\n",
       " 56,\n",
       " 41,\n",
       " 46,\n",
       " 13,\n",
       " 39,\n",
       " 31,\n",
       " 10,\n",
       " 18,\n",
       " 60,\n",
       " 9,\n",
       " 33,\n",
       " 20,\n",
       " 80,\n",
       " 11,\n",
       " 66,\n",
       " 95,\n",
       " 17,\n",
       " 1,\n",
       " 92,\n",
       " 23,\n",
       " 64,\n",
       " 85,\n",
       " 63,\n",
       " 95]"
      ]
     },
     "execution_count": 3,
     "metadata": {},
     "output_type": "execute_result"
    }
   ],
   "source": [
    "[randint(1,100) for i in range (50)]"
   ]
  },
  {
   "cell_type": "code",
   "execution_count": null,
   "metadata": {},
   "outputs": [],
   "source": [
    "len([i for i in L if i>50])"
   ]
  },
  {
   "cell_type": "code",
   "execution_count": null,
   "metadata": {},
   "outputs": [],
   "source": [
    "[L.count(i) for i in range(1,101)]"
   ]
  },
  {
   "cell_type": "code",
   "execution_count": 7,
   "metadata": {},
   "outputs": [
    {
     "data": {
      "text/plain": [
       "[[2, 1], [4, 3], [6, 5]]"
      ]
     },
     "execution_count": 7,
     "metadata": {},
     "output_type": "execute_result"
    }
   ],
   "source": [
    "L = [[1,2], [3,4], [5,6]]\n",
    "M = [[y,x] for [x,y] in L]\n",
    "M"
   ]
  },
  {
   "cell_type": "code",
   "execution_count": 9,
   "metadata": {},
   "outputs": [
    {
     "data": {
      "text/plain": [
       "2"
      ]
     },
     "execution_count": 9,
     "metadata": {},
     "output_type": "execute_result"
    }
   ],
   "source": [
    "L = [[1,2,3], [4,5,6]]\n",
    "len(L)"
   ]
  },
  {
   "cell_type": "code",
   "execution_count": null,
   "metadata": {},
   "outputs": [],
   "source": [
    "L[r]\n",
    "[L[i][c] for i in range(len(L))]"
   ]
  },
  {
   "cell_type": "code",
   "execution_count": 10,
   "metadata": {},
   "outputs": [
    {
     "data": {
      "text/plain": [
       "[1, 2, 3, 4, 5, 6, 7, 8, 9]"
      ]
     },
     "execution_count": 10,
     "metadata": {},
     "output_type": "execute_result"
    }
   ],
   "source": [
    "L = [[1,2,3], [4,5,6], [7,8,9]]\n",
    "[j for M in L for j in M]"
   ]
  },
  {
   "cell_type": "code",
   "execution_count": 20,
   "metadata": {},
   "outputs": [],
   "source": [
    "L=[[[0]*5 for i in range (3)] for j in range(4)]"
   ]
  },
  {
   "cell_type": "code",
   "execution_count": null,
   "metadata": {},
   "outputs": [],
   "source": [
    "L[1][2][1]"
   ]
  },
  {
   "cell_type": "code",
   "execution_count": 21,
   "metadata": {},
   "outputs": [
    {
     "data": {
      "text/plain": [
       "88"
      ]
     },
     "execution_count": 21,
     "metadata": {},
     "output_type": "execute_result"
    }
   ],
   "source": [
    "L=[[[0, 0, 0, 0, 0], [0, 0, 0, 0, 0], [0, 0, 0, 0, 0]],\n",
    " [[0, 0, 0, 0, 0], [0, 0, 88, 0, 0], [0, 0, 0, 0, 0]],\n",
    " [[0, 0, 0, 0, 0], [0, 0, 0, 0, 0], [0, 0, 0, 0, 0]],\n",
    " [[0, 0, 0, 0, 0], [0, 0, 0, 0, 0], [0, 0, 0, 0, 0]]]\n",
    "L[1][1][2]"
   ]
  },
  {
   "cell_type": "code",
   "execution_count": 14,
   "metadata": {},
   "outputs": [
    {
     "data": {
      "text/plain": [
       "[0, 0, 0, 0, 0]"
      ]
     },
     "execution_count": 14,
     "metadata": {},
     "output_type": "execute_result"
    }
   ],
   "source": [
    "[0]*5"
   ]
  },
  {
   "cell_type": "code",
   "execution_count": 15,
   "metadata": {},
   "outputs": [
    {
     "data": {
      "text/plain": [
       "[[0, 0, 0, 0, 0], [0, 0, 0, 0, 0], [0, 0, 0, 0, 0]]"
      ]
     },
     "execution_count": 15,
     "metadata": {},
     "output_type": "execute_result"
    }
   ],
   "source": [
    "[[0]*5 for i in range(3)]"
   ]
  },
  {
   "cell_type": "code",
   "execution_count": 18,
   "metadata": {},
   "outputs": [
    {
     "data": {
      "text/plain": [
       "['X', 'X', 'X']"
      ]
     },
     "execution_count": 18,
     "metadata": {},
     "output_type": "execute_result"
    }
   ],
   "source": [
    "['X' for i in range(3)]"
   ]
  },
  {
   "cell_type": "code",
   "execution_count": 19,
   "metadata": {},
   "outputs": [
    {
     "name": "stdout",
     "output_type": "stream",
     "text": [
      "X\n",
      "X\n",
      "X\n"
     ]
    }
   ],
   "source": [
    "s='X'\n",
    "for i in range(3):\n",
    "    print(s)"
   ]
  },
  {
   "cell_type": "code",
   "execution_count": 31,
   "metadata": {},
   "outputs": [
    {
     "name": "stdin",
     "output_type": "stream",
     "text": [
      "enter text 'an fghjk nmm, the fghj?? jhg a fgj lkjjh.\n"
     ]
    },
    {
     "data": {
      "text/plain": [
       "3"
      ]
     },
     "execution_count": 31,
     "metadata": {},
     "output_type": "execute_result"
    }
   ],
   "source": [
    "count=0\n",
    "s=input('enter text')\n",
    "for c in punctuation:\n",
    "    s=s.replace(c,'')\n",
    "s=s.lower()\n",
    "L=s.split()\n",
    "for i in L:\n",
    "    if i=='a' or i=='an' or i=='the':\n",
    "        count = count +1\n",
    "count"
   ]
  },
  {
   "cell_type": "code",
   "execution_count": 33,
   "metadata": {},
   "outputs": [
    {
     "name": "stdin",
     "output_type": "stream",
     "text": [
      "enter num 1 6\n",
      "enter num 1 8\n",
      "enter num 1 7\n",
      "enter num 1 4\n",
      "enter num 1 1\n"
     ]
    },
    {
     "data": {
      "text/plain": [
       "'6+8+7+4+1'"
      ]
     },
     "execution_count": 33,
     "metadata": {},
     "output_type": "execute_result"
    }
   ],
   "source": [
    "L=[]\n",
    "for i in range(5):\n",
    "    n=input('enter num 1')\n",
    "    L.append(n)\n",
    "s='+'.join(L)\n",
    "s"
   ]
  },
  {
   "cell_type": "code",
   "execution_count": 34,
   "metadata": {},
   "outputs": [
    {
     "name": "stdin",
     "output_type": "stream",
     "text": [
      "enter a sentence 'an fghjk nmm, the fghj?? jhg a fgj lkjjh.\n"
     ]
    },
    {
     "data": {
      "text/plain": [
       "'nmm'"
      ]
     },
     "execution_count": 34,
     "metadata": {},
     "output_type": "execute_result"
    }
   ],
   "source": [
    "s=input('enter a sentence')\n",
    "for c in punctuation:\n",
    "    s=s.replace(c,'')\n",
    "L=s.split()\n",
    "L[2]"
   ]
  },
  {
   "cell_type": "code",
   "execution_count": 36,
   "metadata": {},
   "outputs": [
    {
     "name": "stdin",
     "output_type": "stream",
     "text": [
      "enter a sentence 'an fghjk nmm, the fghj?? jhg a fgj . fdg! fhj fhjk?'\n"
     ]
    },
    {
     "name": "stdout",
     "output_type": "stream",
     "text": [
      "nmm\n",
      "jhg\n",
      "fdg\n"
     ]
    }
   ],
   "source": [
    "s=input('enter a sentence')\n",
    "for c in punctuation:\n",
    "    s=s.replace(c,'')\n",
    "L=s.split()\n",
    "for i in range(2,len(L),3):\n",
    "    print(L[i])"
   ]
  },
  {
   "cell_type": "code",
   "execution_count": 37,
   "metadata": {},
   "outputs": [
    {
     "name": "stdin",
     "output_type": "stream",
     "text": [
      "enter a sentence 'an fghjk nmm, the fghj?? jhg a fgj . fdg! fhj fhjk?'\n"
     ]
    },
    {
     "data": {
      "text/plain": [
       "\"jhg fhjk?' fghjk fhj fgj fdg! . a 'an the nmm, fghj??\""
      ]
     },
     "execution_count": 37,
     "metadata": {},
     "output_type": "execute_result"
    }
   ],
   "source": [
    "s=input('enter a sentence')\n",
    "L=s.split()\n",
    "shuffle(L)\n",
    "sprime=' '.join(L)\n",
    "sprime"
   ]
  },
  {
   "cell_type": "code",
   "execution_count": null,
   "metadata": {},
   "outputs": [],
   "source": []
  },
  {
   "cell_type": "code",
   "execution_count": 36,
   "metadata": {},
   "outputs": [
    {
     "name": "stdin",
     "output_type": "stream",
     "text": [
      "enter a sentence Anfghjk  nmm, the fghj?? jhg a fgj fdg! fhj fhjk.\n"
     ]
    },
    {
     "data": {
      "text/plain": [
       "'Fhjk anfghjk fgj nmm, fdg! the jhg a fhj fghj??.'"
      ]
     },
     "execution_count": 36,
     "metadata": {},
     "output_type": "execute_result"
    }
   ],
   "source": [
    "s=input('enter a sentence')\n",
    "s=s.lower()\n",
    "s=s.replace('.','')\n",
    "L=s.split()\n",
    "shuffle(L)\n",
    "L[-1]=L[-1]+'.'\n",
    "sp=' '.join(L)\n",
    "sp=sp[0].upper()+sp[1:]\n",
    "sp"
   ]
  },
  {
   "cell_type": "code",
   "execution_count": 28,
   "metadata": {},
   "outputs": [
    {
     "data": {
      "text/plain": [
       "'f'"
      ]
     },
     "execution_count": 28,
     "metadata": {},
     "output_type": "execute_result"
    }
   ],
   "source": [
    "B= 'fghjkAn  nmm, the fghj?? jhg a fgj fdg! fhj fhjk.'\n",
    "L=B.split()\n",
    "L[0][0]"
   ]
  },
  {
   "cell_type": "code",
   "execution_count": 22,
   "metadata": {},
   "outputs": [
    {
     "data": {
      "text/plain": [
       "'an'"
      ]
     },
     "execution_count": 22,
     "metadata": {},
     "output_type": "execute_result"
    }
   ],
   "source": [
    "L[0]"
   ]
  },
  {
   "cell_type": "code",
   "execution_count": 2,
   "metadata": {},
   "outputs": [
    {
     "data": {
      "text/plain": [
       "[25, 12, 7, 17, 25, 37]"
      ]
     },
     "execution_count": 2,
     "metadata": {},
     "output_type": "execute_result"
    }
   ],
   "source": [
    "L=[]\n",
    "for i in range(6):\n",
    "    L.append(randint(1,48))\n",
    "L"
   ]
  },
  {
   "cell_type": "code",
   "execution_count": 20,
   "metadata": {},
   "outputs": [
    {
     "name": "stdout",
     "output_type": "stream",
     "text": [
      "Q7\n"
     ]
    },
    {
     "name": "stdin",
     "output_type": "stream",
     "text": [
      "what is the answer? A3\n"
     ]
    },
    {
     "name": "stdout",
     "output_type": "stream",
     "text": [
      "wrong\n",
      "Q6\n"
     ]
    },
    {
     "name": "stdin",
     "output_type": "stream",
     "text": [
      "what is the answer? A6\n"
     ]
    },
    {
     "name": "stdout",
     "output_type": "stream",
     "text": [
      "you are right\n",
      "Q10\n"
     ]
    },
    {
     "name": "stdin",
     "output_type": "stream",
     "text": [
      "what is the answer? a10\n"
     ]
    },
    {
     "name": "stdout",
     "output_type": "stream",
     "text": [
      "you are right\n",
      "Q8\n"
     ]
    },
    {
     "name": "stdin",
     "output_type": "stream",
     "text": [
      "what is the answer? a6\n"
     ]
    },
    {
     "name": "stdout",
     "output_type": "stream",
     "text": [
      "wrong\n",
      "you answer 2 right response\n"
     ]
    }
   ],
   "source": [
    "A1=[]\n",
    "count=0\n",
    "Q=['Q1','Q2','Q3','Q4','Q5','Q6','Q7','Q8','Q9','Q10']\n",
    "Q1=Q[:]\n",
    "A=['A1','A2','A3','A4','A5','A6','A7','A8','A9','A10']\n",
    "shuffle(Q1)\n",
    "for i in range(len(Q)):\n",
    "    A1.append(A[Q.index(Q1[i])])\n",
    "for j in range(4):\n",
    "    print(Q1[j])\n",
    "    r=input('what is the answer?')\n",
    "    if r.lower()==A1[j].lower():\n",
    "        print('you are right')\n",
    "        count=count+1\n",
    "    else:\n",
    "        print('wrong')\n",
    "print('you answer', count, 'right response')"
   ]
  },
  {
   "cell_type": "code",
   "execution_count": 4,
   "metadata": {},
   "outputs": [
    {
     "name": "stdout",
     "output_type": "stream",
     "text": [
      "['Q1', 'Q2', 'Q3', 'Q4', 'Q5', 'Q6', 'Q7', 'Q8', 'Q9', 'Q10']\n"
     ]
    }
   ],
   "source": [
    "Q=['Q1','Q2','Q3','Q4','Q5','Q6','Q7','Q8','Q9','Q10']\n",
    "print(Q)"
   ]
  },
  {
   "cell_type": "code",
   "execution_count": 25,
   "metadata": {},
   "outputs": [
    {
     "name": "stdin",
     "output_type": "stream",
     "text": [
      "enter a text Oh shoot, I thought I had the dang problem figured out. Darn it. Oh well, it was a heck of a freakin try.\n"
     ]
    },
    {
     "data": {
      "text/plain": [
       "'oh *****, i thought i had the **** problem figured out. **** it. oh well, it was a **** of a ******* try.'"
      ]
     },
     "execution_count": 25,
     "metadata": {},
     "output_type": "execute_result"
    }
   ],
   "source": [
    "s=input('enter a text')\n",
    "s=s.lower()\n",
    "NO=['darn', 'dang', 'freakin', 'heck', 'shoot']\n",
    "sp=s\n",
    "for c in punctuation:\n",
    "    sp=sp.replace(c,'')\n",
    "Lp=sp.split()\n",
    "for i in range(len(Lp)):\n",
    "    if Lp[i] in NO:\n",
    "        Lp[i]='*'*len(Lp[i])\n",
    "f1=' '.join(Lp)\n",
    "for j in range(len(s)):\n",
    "    if s[j] in punctuation:\n",
    "        f1=f1[:j]+s[j]+f1[j:]\n",
    "f1\n",
    "\n"
   ]
  },
  {
   "cell_type": "code",
   "execution_count": 47,
   "metadata": {},
   "outputs": [
    {
     "name": "stdin",
     "output_type": "stream",
     "text": [
      "enter a string elhama\n"
     ]
    },
    {
     "data": {
      "text/plain": [
       "'laeham'"
      ]
     },
     "execution_count": 47,
     "metadata": {},
     "output_type": "execute_result"
    }
   ],
   "source": [
    "LP=[]\n",
    "s=input('enter a string')\n",
    "count=len(s)\n",
    "L=list(s)\n",
    "while count!=0:\n",
    "    x=choice(L)\n",
    "    LP.append(x)\n",
    "    L=L[:L.index(x)]+L[L.index(x)+1:]\n",
    "    count=count-1\n",
    "sp=''.join(LP)\n",
    "sp"
   ]
  },
  {
   "cell_type": "code",
   "execution_count": 134,
   "metadata": {},
   "outputs": [
    {
     "name": "stdin",
     "output_type": "stream",
     "text": [
      "enter the telephone number 3014475820\n"
     ]
    },
    {
     "name": "stdout",
     "output_type": "stream",
     "text": [
      "InValid\n"
     ]
    }
   ],
   "source": [
    "#abc-def-hijk or 1-abc-def-hijk\n",
    "flag1=1\n",
    "flag2=1\n",
    "t=input('enter the telephone number')\n",
    "if len(t)==12:\n",
    "    for i in [0,1,2,4,5,6,8,9,10,11]:\n",
    "        if ord(t[i])<48 or ord(t[i])>57:\n",
    "            flag1=0\n",
    "    if t[3]!='-' or t[7]!='-':\n",
    "        flag1=0\n",
    "    if flag1==0:\n",
    "        print('InValid')\n",
    "    if flag1==1:\n",
    "        print('Valid')\n",
    "elif len(t)==14:\n",
    "    for i in [0,2,3,4,6,7,8,10,11,12,13]:\n",
    "        if ord(t[i])<48 or ord(t[i])>57:\n",
    "            flag2=0\n",
    "    if t[1]!='-' or t[5]!='-' or t[9]!='-':\n",
    "            flag2=0\n",
    "    if flag2==0:\n",
    "            print('InValid')\n",
    "    if flag2==1:\n",
    "        print('Valid')\n",
    "else:\n",
    "    print('InValid')"
   ]
  },
  {
   "cell_type": "code",
   "execution_count": 52,
   "metadata": {},
   "outputs": [
    {
     "data": {
      "text/plain": [
       "48"
      ]
     },
     "execution_count": 52,
     "metadata": {},
     "output_type": "execute_result"
    }
   ],
   "source": [
    "ord('0')"
   ]
  },
  {
   "cell_type": "code",
   "execution_count": 54,
   "metadata": {},
   "outputs": [
    {
     "data": {
      "text/plain": [
       "57"
      ]
     },
     "execution_count": 54,
     "metadata": {},
     "output_type": "execute_result"
    }
   ],
   "source": [
    "ord('9')"
   ]
  },
  {
   "cell_type": "code",
   "execution_count": 84,
   "metadata": {},
   "outputs": [
    {
     "data": {
      "text/plain": [
       "88"
      ]
     },
     "execution_count": 84,
     "metadata": {},
     "output_type": "execute_result"
    }
   ],
   "source": [
    "ord('X')"
   ]
  },
  {
   "cell_type": "code",
   "execution_count": 109,
   "metadata": {},
   "outputs": [
    {
     "data": {
      "text/plain": [
       "(['lham', 'rfan', 'mir', 'ahareh', 'oma', 'eshmat', 'l'],\n",
       " [5, 5, 4, 7, 4, 7, 2],\n",
       " ['elham', 'erfan', 'amir', 'bahareh', 'homa', 'heshmat'])"
      ]
     },
     "execution_count": 109,
     "metadata": {},
     "output_type": "execute_result"
    }
   ],
   "source": [
    "L=['elham','erfan','amir','bahareh','homa','heshmat','Al']\n",
    "L1=[m[1:] for m in L]\n",
    "L2=[len(m) for m in L]\n",
    "L3=[m for m in L if len(m)>=3]\n",
    "L1,L2,L3"
   ]
  },
  {
   "cell_type": "code",
   "execution_count": 138,
   "metadata": {
    "collapsed": true,
    "jupyter": {
     "outputs_hidden": true
    }
   },
   "outputs": [
    {
     "data": {
      "text/plain": [
       "[101,\n",
       " 111,\n",
       " 121,\n",
       " 131,\n",
       " 141,\n",
       " 151,\n",
       " 161,\n",
       " 171,\n",
       " 181,\n",
       " 191,\n",
       " 202,\n",
       " 212,\n",
       " 222,\n",
       " 232,\n",
       " 242,\n",
       " 252,\n",
       " 262,\n",
       " 272,\n",
       " 282,\n",
       " 292,\n",
       " 303,\n",
       " 313,\n",
       " 323,\n",
       " 333,\n",
       " 343,\n",
       " 353,\n",
       " 363,\n",
       " 373,\n",
       " 383,\n",
       " 393,\n",
       " 404,\n",
       " 414,\n",
       " 424,\n",
       " 434,\n",
       " 444,\n",
       " 454,\n",
       " 464,\n",
       " 474,\n",
       " 484,\n",
       " 494,\n",
       " 505,\n",
       " 515,\n",
       " 525,\n",
       " 535,\n",
       " 545,\n",
       " 555,\n",
       " 565,\n",
       " 575,\n",
       " 585,\n",
       " 595,\n",
       " 606,\n",
       " 616,\n",
       " 626,\n",
       " 636,\n",
       " 646,\n",
       " 656,\n",
       " 666,\n",
       " 676,\n",
       " 686,\n",
       " 696,\n",
       " 707,\n",
       " 717,\n",
       " 727,\n",
       " 737,\n",
       " 747,\n",
       " 757,\n",
       " 767,\n",
       " 777,\n",
       " 787,\n",
       " 797,\n",
       " 808,\n",
       " 818,\n",
       " 828,\n",
       " 838,\n",
       " 848,\n",
       " 858,\n",
       " 868,\n",
       " 878,\n",
       " 888,\n",
       " 898,\n",
       " 909,\n",
       " 919,\n",
       " 929,\n",
       " 939,\n",
       " 949,\n",
       " 959,\n",
       " 969,\n",
       " 979,\n",
       " 989,\n",
       " 999]"
      ]
     },
     "execution_count": 138,
     "metadata": {},
     "output_type": "execute_result"
    }
   ],
   "source": [
    "L=[m for m in range(100,1001) if (str(m))[::-1]==(str(m))[::]]\n",
    "L"
   ]
  },
  {
   "cell_type": "code",
   "execution_count": 25,
   "metadata": {},
   "outputs": [
    {
     "name": "stdout",
     "output_type": "stream",
     "text": [
      "[3387, 1052, 25, 14290, 495, 366, 10618, 41879, 2543, 1093]\n",
      "7574.8\n"
     ]
    }
   ],
   "source": [
    "flag_inner=0\n",
    "#flag_outer=0\n",
    "count=0\n",
    "contor=0\n",
    "A=[]\n",
    "for i in range(10):\n",
    "    L=[randint(1,10) for j in range(6)]\n",
    "    L.sort()\n",
    "    flag_inner=0\n",
    "    contor=0\n",
    "    while flag_inner==0:\n",
    "        T=[randint(1,10) for j in range(6)]\n",
    "        T.sort()\n",
    "        contor=contor+1\n",
    "        if T==L:\n",
    "            A.append(contor)\n",
    "            flag_inner=1\n",
    "print(A)\n",
    "#S=sum(A)\n",
    "#len(A)\n",
    "Average=sum(A)/len(A)\n",
    "print(Average)"
   ]
  },
  {
   "cell_type": "code",
   "execution_count": 37,
   "metadata": {},
   "outputs": [
    {
     "name": "stdin",
     "output_type": "stream",
     "text": [
      "enter the names ['eli','erfan','amir','ali']\n",
      "how many entries? [1,2,2,1]\n"
     ]
    },
    {
     "name": "stdout",
     "output_type": "stream",
     "text": [
      "eli 1\n",
      "['erfanerfan', 'eli', 'amiramir', 'ali']\n"
     ]
    }
   ],
   "source": [
    "Names=eval(input('enter the names'))\n",
    "Many=eval(input('how many entries?'))\n",
    "L=[]\n",
    "for i in range(len(Names)):\n",
    "    L.append(Names[i]*Many[i])\n",
    "shuffle(L)\n",
    "k=choice(L)\n",
    "print(k,L.count(k))\n",
    "print(L)"
   ]
  },
  {
   "cell_type": "code",
   "execution_count": 43,
   "metadata": {},
   "outputs": [
    {
     "name": "stdin",
     "output_type": "stream",
     "text": [
      "enter the names ['eli','erfan','amir','ali']\n",
      "how many entries? [1,2,3,4]\n"
     ]
    },
    {
     "name": "stdout",
     "output_type": "stream",
     "text": [
      "4\n",
      "0\n",
      "1\n",
      "2\n",
      "3\n",
      "ali 4\n",
      "['ali', 'eli', 'ali', 'ali', 'amir', 'ali', 'erfan', 'amir', 'erfan', 'amir']\n"
     ]
    }
   ],
   "source": [
    "Names=eval(input('enter the names'))\n",
    "Many=eval(input('how many entries?'))\n",
    "L=[]\n",
    "print(len(Names))\n",
    "for i in range(len(Names)):\n",
    "    print(i)\n",
    "    for j in range(Many[i]):\n",
    "        L.append(Names[i])\n",
    "shuffle(L)\n",
    "k=choice(L)\n",
    "print(k,L.count(k))\n",
    "print(L)"
   ]
  },
  {
   "cell_type": "code",
   "execution_count": 27,
   "metadata": {},
   "outputs": [
    {
     "data": {
      "text/plain": [
       "['elielieli', 'erfanerfanerfanerfan', 'amiramiramiramir', 'aliali']"
      ]
     },
     "execution_count": 27,
     "metadata": {},
     "output_type": "execute_result"
    }
   ],
   "source": [
    "l=[]\n",
    "a=['eli','erfan','amir','ali']\n",
    "b=[3,4,4,2]\n",
    "for i in range(len(a)):\n",
    "    l.append(a[i]*b[i])\n",
    "l"
   ]
  },
  {
   "cell_type": "code",
   "execution_count": 5,
   "metadata": {},
   "outputs": [
    {
     "data": {
      "text/plain": [
       "False"
      ]
     },
     "execution_count": 5,
     "metadata": {},
     "output_type": "execute_result"
    }
   ],
   "source": [
    "b=[3,4,4,2]\n",
    "a=[4,2,3,54]\n",
    "b.sort()\n",
    "a.sort()\n",
    "a==b"
   ]
  },
  {
   "cell_type": "code",
   "execution_count": 31,
   "metadata": {},
   "outputs": [
    {
     "name": "stdout",
     "output_type": "stream",
     "text": [
      "0\n",
      "1\n",
      "2\n",
      "3\n",
      "4\n"
     ]
    }
   ],
   "source": [
    "for  i in range(5):\n",
    "    print(i)"
   ]
  },
  {
   "cell_type": "code",
   "execution_count": 126,
   "metadata": {
    "collapsed": true,
    "jupyter": {
     "outputs_hidden": true
    }
   },
   "outputs": [
    {
     "data": {
      "text/plain": [
       "[1,\n",
       " 1,\n",
       " 0,\n",
       " 1,\n",
       " 0,\n",
       " 0,\n",
       " 1,\n",
       " 0,\n",
       " 0,\n",
       " 0,\n",
       " 1,\n",
       " 0,\n",
       " 0,\n",
       " 0,\n",
       " 0,\n",
       " 1,\n",
       " 0,\n",
       " 0,\n",
       " 0,\n",
       " 0,\n",
       " 0,\n",
       " 1,\n",
       " 0,\n",
       " 0,\n",
       " 0,\n",
       " 0,\n",
       " 0,\n",
       " 0,\n",
       " 1,\n",
       " 0,\n",
       " 0,\n",
       " 0,\n",
       " 0,\n",
       " 0,\n",
       " 0,\n",
       " 0,\n",
       " 1,\n",
       " 0,\n",
       " 0,\n",
       " 0,\n",
       " 0,\n",
       " 0,\n",
       " 0,\n",
       " 0,\n",
       " 0,\n",
       " 1,\n",
       " 0,\n",
       " 0,\n",
       " 0,\n",
       " 0,\n",
       " 0,\n",
       " 0,\n",
       " 0,\n",
       " 0,\n",
       " 0,\n",
       " 1,\n",
       " 0,\n",
       " 0,\n",
       " 0,\n",
       " 0,\n",
       " 0,\n",
       " 0,\n",
       " 0,\n",
       " 0,\n",
       " 0,\n",
       " 0,\n",
       " 1]"
      ]
     },
     "execution_count": 126,
     "metadata": {},
     "output_type": "execute_result"
    }
   ],
   "source": [
    "#L=[[1]+ [0 for j in range(i)] for i in range(1,11) ]\n",
    "#L\n",
    "N=[k for M in [[1]+ [0 for j in range(i)] for i in range(11) ] for k in M]+[1]\n",
    "N"
   ]
  },
  {
   "cell_type": "code",
   "execution_count": 119,
   "metadata": {
    "collapsed": true,
    "jupyter": {
     "outputs_hidden": true
    }
   },
   "outputs": [
    {
     "data": {
      "text/plain": [
       "['1',\n",
       " '10',\n",
       " '100',\n",
       " '1000',\n",
       " '10000',\n",
       " '100000',\n",
       " '1000000',\n",
       " '10000000',\n",
       " '100000000',\n",
       " '1000000000',\n",
       " '10000000000']"
      ]
     },
     "execution_count": 119,
     "metadata": {},
     "output_type": "execute_result"
    }
   ],
   "source": [
    "L=['1'+'0'*i for i in range(11)]\n",
    "L"
   ]
  },
  {
   "cell_type": "code",
   "execution_count": 91,
   "metadata": {},
   "outputs": [
    {
     "name": "stdout",
     "output_type": "stream",
     "text": [
      "[1, 1, 0, 1, 0, 0, 1, 0, 0, 0, 1, 0, 0, 0, 0, 1, 0, 0, 0, 0, 0, 1, 0, 0, 0, 0, 0, 0, 1, 0, 0, 0, 0, 0, 0, 0, 1, 0, 0, 0, 0, 0, 0, 0, 0, 1, 0, 0, 0, 0, 0, 0, 0, 0, 0, 1, 0, 0, 0, 0, 0, 0, 0, 0, 0, 0, 1]\n"
     ]
    }
   ],
   "source": [
    "L=[]\n",
    "for i in range(0,11):\n",
    "    L=L+[1]+[0]*i\n",
    "L=L+[1]\n",
    "print(L)"
   ]
  },
  {
   "cell_type": "code",
   "execution_count": 137,
   "metadata": {},
   "outputs": [
    {
     "data": {
      "text/plain": [
       "[0, 1, 1, 3, 1, 3, 1, 3, 5, 1, 5, 3, 1, 3]"
      ]
     },
     "execution_count": 137,
     "metadata": {},
     "output_type": "execute_result"
    }
   ],
   "source": [
    "L=[2,3,5,7,11,13,17,19,23,29,31,37,41,43,47]\n",
    "M=[i for i in range(2,48) if i not in L]\n",
    "G=[L[i]-L[i-1]-1 for i in range(1,len(L))]\n",
    "max(G)\n",
    "P=(G.count(2))/len(G)*100\n",
    "G\n",
    "    \n",
    "        "
   ]
  },
  {
   "cell_type": "code",
   "execution_count": 146,
   "metadata": {},
   "outputs": [
    {
     "data": {
      "text/plain": [
       "3.9375"
      ]
     },
     "execution_count": 146,
     "metadata": {},
     "output_type": "execute_result"
    }
   ],
   "source": [
    "L=[[1,2,3,4],[2,4,6,8],[5,6,7,9],[0,1,2,3]]\n",
    "M=[i for M in L for i in M ]\n",
    "sum(M)/16"
   ]
  },
  {
   "cell_type": "code",
   "execution_count": 155,
   "metadata": {},
   "outputs": [
    {
     "name": "stdout",
     "output_type": "stream",
     "text": [
      "[[90, 11, 22, 16, 11, 52, 30, 65, 29, 61], [9, 81, 65, 85, 60, 96, 40, 16, 75, 44], [41, 76, 90, 81, 34, 32, 61, 67, 68, 63], [91, 50, 79, 33, 84, 50, 24, 82, 87, 3], [43, 26, 6, 71, 27, 8, 92, 61, 29, 90], [48, 82, 91, 75, 78, 82, 56, 53, 48, 52], [22, 40, 98, 36, 30, 86, 31, 38, 43, 35], [97, 17, 26, 53, 66, 49, 57, 30, 13, 8], [28, 67, 10, 77, 26, 36, 51, 99, 98, 33], [58, 20, 83, 79, 72, 88, 97, 93, 4, 39]]\n",
      "90\n",
      "8\n"
     ]
    }
   ],
   "source": [
    "L=[[randint(1,100) for i in range(10)] for j in range(10)]\n",
    "print(L)\n",
    "print(max(L[2][:]))\n",
    "print(min([L[i][5] for i in range(10)]))"
   ]
  },
  {
   "cell_type": "code",
   "execution_count": 160,
   "metadata": {},
   "outputs": [
    {
     "ename": "SyntaxError",
     "evalue": "invalid syntax (<ipython-input-160-4c34a71daf47>, line 1)",
     "output_type": "error",
     "traceback": [
      "\u001b[1;36m  File \u001b[1;32m\"<ipython-input-160-4c34a71daf47>\"\u001b[1;36m, line \u001b[1;32m1\u001b[0m\n\u001b[1;33m    L=[[[1] for i==0,2,4,6] for j in range(8)]\u001b[0m\n\u001b[1;37m                  ^\u001b[0m\n\u001b[1;31mSyntaxError\u001b[0m\u001b[1;31m:\u001b[0m invalid syntax\n"
     ]
    }
   ],
   "source": [
    "L=[  for j in range(8)]\n",
    "L"
   ]
  },
  {
   "cell_type": "code",
   "execution_count": 168,
   "metadata": {},
   "outputs": [
    {
     "data": {
      "text/plain": [
       "[[1, 2, 1, 2, 1, 2, 1, 2],\n",
       " [1, 2, 1, 2, 1, 2, 1, 2],\n",
       " [1, 2, 1, 2, 1, 2, 1, 2],\n",
       " [1, 2, 1, 2, 1, 2, 1, 2],\n",
       " [1, 2, 1, 2, 1, 2, 1, 2],\n",
       " [1, 2, 1, 2, 1, 2, 1, 2],\n",
       " [1, 2, 1, 2, 1, 2, 1, 2],\n",
       " [1, 2, 1, 2, 1, 2, 1, 2]]"
      ]
     },
     "execution_count": 168,
     "metadata": {},
     "output_type": "execute_result"
    }
   ],
   "source": [
    "#L=[[[1]+[2] for i in range(4)] for j in range(8)]\n",
    "#N=[i for M in L for i in M]\n",
    "P=[[i for M in [[1]+[2] for i in range(4)] for i in M] for j in range(8)]\n",
    "P"
   ]
  },
  {
   "cell_type": "code",
   "execution_count": null,
   "metadata": {},
   "outputs": [],
   "source": [
    "L=eval(input('enter a 4*4 list'))\n",
    "S=sum(L[])\n",
    "for i in range(4):\n",
    "    if sum(L[i][:])==sum()"
   ]
  },
  {
   "cell_type": "code",
   "execution_count": 6,
   "metadata": {},
   "outputs": [
    {
     "name": "stdin",
     "output_type": "stream",
     "text": [
      "enter the length 2\n",
      "enter the unit, 0 for inches, 1 for yards, 2 for miles, 3 for meters 3\n",
      "enter the unit to convert, 0 for inches, 1 for yards, 2 for miles, 3 for meters 0\n"
     ]
    },
    {
     "name": "stdout",
     "output_type": "stream",
     "text": [
      "the result is: 78.74\n"
     ]
    }
   ],
   "source": [
    "#L=[1_inches, 2_yards, 3_miles, 4_meters]\n",
    "L=eval(input('enter the length'))\n",
    "V=eval(input('enter the unit, 0 for inches, 1 for yards, 2 for miles, 3 for meters'))\n",
    "T=eval(input('enter the unit to convert, 0 for inches, 1 for yards, 2 for miles, 3 for meters'))\n",
    "C=[[1, 0.028, 0.0000158, 0.0254], [36, 1, 0.00057, 0.9144],\n",
    "           [63360, 1760, 1, 1609], [39.37, 1.093, 0.00062, 1]]\n",
    "print('the result is:', L*C[V][T])"
   ]
  },
  {
   "cell_type": "code",
   "execution_count": 7,
   "metadata": {},
   "outputs": [
    {
     "name": "stdout",
     "output_type": "stream",
     "text": [
      "[[1, 0, 0, 0, 0], [1, 1, 1, 1, 1], [0, 0, 0, 1, 1], [0, 1, 1, 0, 1], [0, 1, 0, 0, 0]]\n"
     ]
    },
    {
     "name": "stdin",
     "output_type": "stream",
     "text": [
      "enter a row 2\n",
      "enter a column 3\n"
     ]
    },
    {
     "name": "stdout",
     "output_type": "stream",
     "text": [
      "Hit\n"
     ]
    }
   ],
   "source": [
    "L=[[randint(0,1) for i in range(5)] for j in range (5)]\n",
    "print(L)\n",
    "r=eval(input('enter a row'))\n",
    "c=s=eval(input('enter a column'))\n",
    "if L[r][c]==1:\n",
    "    print('Hit')\n",
    "else:\n",
    "    print('Miss')"
   ]
  },
  {
   "cell_type": "code",
   "execution_count": 38,
   "metadata": {},
   "outputs": [
    {
     "name": "stdout",
     "output_type": "stream",
     "text": [
      "Y x b 9 B < \n",
      "3 - 9 l o b \n",
      "? Y ] M ( 7 \n",
      "x ? y o ] y \n",
      "- M ' B y l \n",
      "y ( 3 7 ' < \n"
     ]
    }
   ],
   "source": [
    "L=[chr(randint(33,127)) for i in range(18)]*2\n",
    "shuffle(L)\n",
    "for i in range(6):\n",
    "    for j in range(6):\n",
    "        k=choice(L)\n",
    "        print(k,end=' ')\n",
    "        L=L[:L.index(k)]+L[(L.index(k))+1:]\n",
    "    print()\n",
    "    "
   ]
  },
  {
   "cell_type": "code",
   "execution_count": 25,
   "metadata": {},
   "outputs": [
    {
     "data": {
      "text/plain": [
       "'!'"
      ]
     },
     "execution_count": 25,
     "metadata": {},
     "output_type": "execute_result"
    }
   ],
   "source": [
    "chr(33)"
   ]
  },
  {
   "cell_type": "code",
   "execution_count": 53,
   "metadata": {},
   "outputs": [
    {
     "data": {
      "text/plain": [
       "'~'"
      ]
     },
     "execution_count": 53,
     "metadata": {},
     "output_type": "execute_result"
    }
   ],
   "source": [
    "chr(126)"
   ]
  },
  {
   "cell_type": "code",
   "execution_count": 72,
   "metadata": {},
   "outputs": [
    {
     "data": {
      "text/plain": [
       "[[1, 1, 0, 1, 0],\n",
       " [0, 0, 1, 0, 1],\n",
       " [1, 1, 1, 0, 0],\n",
       " [0, 1, 1, 1, 1],\n",
       " [0, 0, 0, 1, 0]]"
      ]
     },
     "execution_count": 72,
     "metadata": {},
     "output_type": "execute_result"
    }
   ],
   "source": [
    "L=[[randint(0,1) for i in range(5)] for j in range(5)]\n",
    "L"
   ]
  },
  {
   "cell_type": "code",
   "execution_count": 25,
   "metadata": {},
   "outputs": [
    {
     "name": "stdout",
     "output_type": "stream",
     "text": [
      "No magic\n"
     ]
    }
   ],
   "source": [
    "L=[[randint(0,1) for i in range(4)] for j in range(4)]\n",
    "a=sum(L[0])\n",
    "j=0\n",
    "flag=0\n",
    "for i in range(1,4):\n",
    "    if sum(L[i])!=a:\n",
    "        print('No magic')\n",
    "        flag=1\n",
    "        break\n",
    "if flag==0:\n",
    "    for j in range(4):\n",
    "        s=0\n",
    "        for i in range(4):\n",
    "            s=s+L[i][j]\n",
    "        if s!=a:\n",
    "            print('No magic')\n",
    "            flag=1\n",
    "            break\n",
    "if flag==0:\n",
    "    t=0\n",
    "    for i in range(4):\n",
    "        t=t+L[i][i]\n",
    "    if t!=a:\n",
    "        print('No magic')\n",
    "        flag=1\n",
    "        \n",
    "if flag==0:\n",
    "    t=0\n",
    "    for i in range(4):\n",
    "        t=t+L[i][len(L)-1-i]\n",
    "    if t!=a:\n",
    "        print('No magic')\n",
    "        flag=1\n",
    "        \n",
    "if flag==0:\n",
    "    print('MAGIC!')"
   ]
  },
  {
   "cell_type": "code",
   "execution_count": 4,
   "metadata": {},
   "outputs": [
    {
     "data": {
      "text/plain": [
       "[[0, 1, 0, 1, 1],\n",
       " [1, 0, 1, 0, 1],\n",
       " [1, 0, 0, 0, 0],\n",
       " [0, 1, 1, 0, 0],\n",
       " [0, 1, 0, 0, 1]]"
      ]
     },
     "execution_count": 4,
     "metadata": {},
     "output_type": "execute_result"
    }
   ],
   "source": [
    "L=[[randint(0,1) for i in range(5)] for j in range(5)]\n",
    "L"
   ]
  },
  {
   "cell_type": "code",
   "execution_count": 9,
   "metadata": {},
   "outputs": [
    {
     "name": "stdout",
     "output_type": "stream",
     "text": [
      "0\n",
      "1\n",
      "0\n",
      "1\n",
      "0\n"
     ]
    }
   ],
   "source": [
    "for i in range(5):\n",
    "    print(L[i][2])"
   ]
  },
  {
   "cell_type": "code",
   "execution_count": null,
   "metadata": {},
   "outputs": [],
   "source": [
    "[[0, 1, 0, 1],\n",
    " [1, 0, 1, 0],\n",
    " [0, 0, 1, 1],\n",
    " [0, 1, 0, 0]]\n"
   ]
  },
  {
   "cell_type": "code",
   "execution_count": 26,
   "metadata": {},
   "outputs": [
    {
     "data": {
      "text/plain": [
       "[[1, 1, 0, 1, 1],\n",
       " [0, 1, 0, 1, 0],\n",
       " [1, 1, 0, 1, 1],\n",
       " [1, 1, 1, 0, 0],\n",
       " [0, 0, 0, 0, 1]]"
      ]
     },
     "execution_count": 26,
     "metadata": {},
     "output_type": "execute_result"
    }
   ],
   "source": [
    "L=[[randint(0,1) for i in range(5)] for j in range(5)]\n",
    "(L)"
   ]
  },
  {
   "cell_type": "code",
   "execution_count": 28,
   "metadata": {},
   "outputs": [
    {
     "data": {
      "text/plain": [
       "[[0, 0, 0, 0, 1],\n",
       " [1, 1, 0, 1, 1],\n",
       " [1, 1, 1, 0, 0],\n",
       " [0, 1, 0, 1, 0],\n",
       " [1, 1, 0, 1, 1]]"
      ]
     },
     "execution_count": 28,
     "metadata": {},
     "output_type": "execute_result"
    }
   ],
   "source": [
    "shuffle(L)\n",
    "L"
   ]
  },
  {
   "cell_type": "code",
   "execution_count": 6,
   "metadata": {},
   "outputs": [
    {
     "name": "stdout",
     "output_type": "stream",
     "text": [
      "[[1, 1, 1, 1, 1], [0, 1, 1, 1, 1], [1, 1, 0, 1, 1], [1, 0, 1, 0, 1], [0, 0, 0, 0, 0]]\n",
      "[[1, 0], [2, 2], [3, 1], [3, 3], [4, 0], [4, 1], [4, 2], [4, 3], [4, 4]]\n",
      "[4, 0]\n",
      "[[1, 1, 1, 1, 1], [0, 1, 1, 1, 1], [1, 1, 0, 1, 1], [1, 0, 1, 0, 1], [0, 0, 0, 0, 0]]\n"
     ]
    }
   ],
   "source": [
    "L=[[randint(0,1) for i in range(5)] for j in range(5)]\n",
    "N=L[:]\n",
    "K=[]\n",
    "for i in range (len(L)):\n",
    "    for j in range(len(L)):\n",
    "        if L[i][j]==0:\n",
    "            K.append([i,j])\n",
    "M=choice(K)\n",
    "N[M[0]][M[1]]==1\n",
    "print(L)\n",
    "print(K)\n",
    "print(M)\n",
    "print(N)"
   ]
  },
  {
   "cell_type": "code",
   "execution_count": null,
   "metadata": {},
   "outputs": [],
   "source": []
  },
  {
   "cell_type": "code",
   "execution_count": null,
   "metadata": {},
   "outputs": [],
   "source": []
  }
 ],
 "metadata": {
  "kernelspec": {
   "display_name": "Python 3",
   "language": "python",
   "name": "python3"
  },
  "language_info": {
   "codemirror_mode": {
    "name": "ipython",
    "version": 3
   },
   "file_extension": ".py",
   "mimetype": "text/x-python",
   "name": "python",
   "nbconvert_exporter": "python",
   "pygments_lexer": "ipython3",
   "version": "3.7.5"
  }
 },
 "nbformat": 4,
 "nbformat_minor": 4
}
