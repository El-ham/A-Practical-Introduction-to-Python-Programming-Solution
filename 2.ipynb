{
 "cells": [
  {
   "cell_type": "code",
   "execution_count": 2,
   "metadata": {},
   "outputs": [],
   "source": [
    "import math\n",
    "from math import *"
   ]
  },
  {
   "cell_type": "code",
   "execution_count": 2,
   "metadata": {},
   "outputs": [
    {
     "name": "stdin",
     "output_type": "stream",
     "text": [
      "enter a num 6\n"
     ]
    },
    {
     "name": "stdout",
     "output_type": "stream",
     "text": [
      "the square is:  36\n"
     ]
    },
    {
     "name": "stdin",
     "output_type": "stream",
     "text": [
      "enter a num 3\n"
     ]
    },
    {
     "name": "stdout",
     "output_type": "stream",
     "text": [
      "the square is:  9\n"
     ]
    },
    {
     "name": "stdin",
     "output_type": "stream",
     "text": [
      "enter a num 1\n"
     ]
    },
    {
     "name": "stdout",
     "output_type": "stream",
     "text": [
      "the square is:  1\n",
      "the loop is done\n"
     ]
    }
   ],
   "source": [
    "for i in range(3):\n",
    "    num = eval(input('enter a num'))\n",
    "    print('the square is: ',num*num)\n",
    "print('the loop is done')"
   ]
  },
  {
   "cell_type": "code",
   "execution_count": 6,
   "metadata": {},
   "outputs": [
    {
     "name": "stdout",
     "output_type": "stream",
     "text": [
      "A B C D C D C D C D C D E\n"
     ]
    }
   ],
   "source": [
    "print('A','B',end=' ')\n",
    "for i in range (5):\n",
    "    print('C','D',end=' ')\n",
    "print('E')"
   ]
  },
  {
   "cell_type": "code",
   "execution_count": 7,
   "metadata": {},
   "outputs": [
    {
     "name": "stdout",
     "output_type": "stream",
     "text": [
      "A\n",
      "B\n",
      "C\n",
      "D\n",
      "C\n",
      "D\n",
      "C\n",
      "D\n",
      "C\n",
      "D\n",
      "C\n",
      "D\n",
      "E\n"
     ]
    }
   ],
   "source": [
    "print('A')\n",
    "print('B')\n",
    "for i in range (5):\n",
    "    print('C')\n",
    "    print('D')\n",
    "print('E')"
   ]
  },
  {
   "cell_type": "code",
   "execution_count": 8,
   "metadata": {},
   "outputs": [
    {
     "name": "stdout",
     "output_type": "stream",
     "text": [
      "A\n",
      "B\n",
      "C\n",
      "C\n",
      "C\n",
      "C\n",
      "C\n",
      "D\n",
      "D\n",
      "D\n",
      "D\n",
      "D\n",
      "E\n"
     ]
    }
   ],
   "source": [
    "print('A')\n",
    "print('B')\n",
    "for i in range (5):\n",
    "    print('C')\n",
    "for i in range (5):\n",
    "    print('D')\n",
    "print('E')"
   ]
  },
  {
   "cell_type": "code",
   "execution_count": 9,
   "metadata": {},
   "outputs": [
    {
     "name": "stdout",
     "output_type": "stream",
     "text": [
      "0\n",
      "1\n",
      "2\n",
      "3\n",
      "4\n",
      "5\n",
      "6\n",
      "7\n",
      "8\n",
      "9\n",
      "10\n",
      "11\n",
      "12\n",
      "13\n",
      "14\n",
      "15\n",
      "16\n",
      "17\n",
      "18\n",
      "19\n",
      "20\n",
      "21\n",
      "22\n",
      "23\n",
      "24\n",
      "25\n",
      "26\n",
      "27\n",
      "28\n",
      "29\n",
      "30\n",
      "31\n",
      "32\n",
      "33\n",
      "34\n",
      "35\n",
      "36\n",
      "37\n",
      "38\n",
      "39\n",
      "40\n",
      "41\n",
      "42\n",
      "43\n",
      "44\n",
      "45\n",
      "46\n",
      "47\n",
      "48\n",
      "49\n",
      "50\n",
      "51\n",
      "52\n",
      "53\n",
      "54\n",
      "55\n",
      "56\n",
      "57\n",
      "58\n",
      "59\n",
      "60\n",
      "61\n",
      "62\n",
      "63\n",
      "64\n",
      "65\n",
      "66\n",
      "67\n",
      "68\n",
      "69\n",
      "70\n",
      "71\n",
      "72\n",
      "73\n",
      "74\n",
      "75\n",
      "76\n",
      "77\n",
      "78\n",
      "79\n",
      "80\n",
      "81\n",
      "82\n",
      "83\n",
      "84\n",
      "85\n",
      "86\n",
      "87\n",
      "88\n",
      "89\n",
      "90\n",
      "91\n",
      "92\n",
      "93\n",
      "94\n",
      "95\n",
      "96\n",
      "97\n",
      "98\n",
      "99\n"
     ]
    }
   ],
   "source": [
    "for i in range(100):\n",
    "    print(i)"
   ]
  },
  {
   "cell_type": "code",
   "execution_count": 10,
   "metadata": {},
   "outputs": [
    {
     "name": "stdout",
     "output_type": "stream",
     "text": [
      "1 --hello\n",
      "2 --hello\n",
      "3 --hello\n"
     ]
    }
   ],
   "source": [
    "for i in range (3):\n",
    "    print(i+1,'--hello')"
   ]
  },
  {
   "cell_type": "code",
   "execution_count": 11,
   "metadata": {},
   "outputs": [
    {
     "name": "stdout",
     "output_type": "stream",
     "text": [
      "5 4 3 2 1 end\n"
     ]
    }
   ],
   "source": [
    "for i in range (5,0,-1):\n",
    "    print(i, end=' ')\n",
    "print('end')"
   ]
  },
  {
   "cell_type": "code",
   "execution_count": 12,
   "metadata": {},
   "outputs": [
    {
     "name": "stdout",
     "output_type": "stream",
     "text": [
      "******\n",
      "******\n",
      "******\n",
      "******\n"
     ]
    }
   ],
   "source": [
    "for i in range(4):\n",
    "    print('*'*6)"
   ]
  },
  {
   "cell_type": "code",
   "execution_count": 15,
   "metadata": {},
   "outputs": [
    {
     "name": "stdout",
     "output_type": "stream",
     "text": [
      "*\n",
      "**\n",
      "***\n",
      "****\n"
     ]
    }
   ],
   "source": [
    "for i in range (4):\n",
    "    print('*'*(i+1))"
   ]
  },
  {
   "cell_type": "code",
   "execution_count": 16,
   "metadata": {},
   "outputs": [
    {
     "name": "stdout",
     "output_type": "stream",
     "text": [
      "Elham Elham Elham Elham Elham Elham Elham Elham Elham Elham Elham Elham Elham Elham Elham Elham Elham Elham Elham Elham Elham Elham Elham Elham Elham Elham Elham Elham Elham Elham Elham Elham Elham Elham Elham Elham Elham Elham Elham Elham Elham Elham Elham Elham Elham Elham Elham Elham Elham Elham Elham Elham Elham Elham Elham Elham Elham Elham Elham Elham Elham Elham Elham Elham Elham Elham Elham Elham Elham Elham Elham Elham Elham Elham Elham Elham Elham Elham Elham Elham Elham Elham Elham Elham Elham Elham Elham Elham Elham Elham Elham Elham Elham Elham Elham Elham Elham Elham Elham Elham "
     ]
    }
   ],
   "source": [
    "for i in range (100):\n",
    "    print('Elham', end=' ')"
   ]
  },
  {
   "cell_type": "code",
   "execution_count": 17,
   "metadata": {},
   "outputs": [
    {
     "name": "stdout",
     "output_type": "stream",
     "text": [
      "1 Elham\n",
      "2 Elham\n",
      "3 Elham\n",
      "4 Elham\n",
      "5 Elham\n",
      "6 Elham\n",
      "7 Elham\n",
      "8 Elham\n",
      "9 Elham\n",
      "10 Elham\n",
      "11 Elham\n",
      "12 Elham\n",
      "13 Elham\n",
      "14 Elham\n",
      "15 Elham\n",
      "16 Elham\n",
      "17 Elham\n",
      "18 Elham\n",
      "19 Elham\n",
      "20 Elham\n",
      "21 Elham\n",
      "22 Elham\n",
      "23 Elham\n",
      "24 Elham\n",
      "25 Elham\n",
      "26 Elham\n",
      "27 Elham\n",
      "28 Elham\n",
      "29 Elham\n",
      "30 Elham\n",
      "31 Elham\n",
      "32 Elham\n",
      "33 Elham\n",
      "34 Elham\n",
      "35 Elham\n",
      "36 Elham\n",
      "37 Elham\n",
      "38 Elham\n",
      "39 Elham\n",
      "40 Elham\n",
      "41 Elham\n",
      "42 Elham\n",
      "43 Elham\n",
      "44 Elham\n",
      "45 Elham\n",
      "46 Elham\n",
      "47 Elham\n",
      "48 Elham\n",
      "49 Elham\n",
      "50 Elham\n",
      "51 Elham\n",
      "52 Elham\n",
      "53 Elham\n",
      "54 Elham\n",
      "55 Elham\n",
      "56 Elham\n",
      "57 Elham\n",
      "58 Elham\n",
      "59 Elham\n",
      "60 Elham\n",
      "61 Elham\n",
      "62 Elham\n",
      "63 Elham\n",
      "64 Elham\n",
      "65 Elham\n",
      "66 Elham\n",
      "67 Elham\n",
      "68 Elham\n",
      "69 Elham\n",
      "70 Elham\n",
      "71 Elham\n",
      "72 Elham\n",
      "73 Elham\n",
      "74 Elham\n",
      "75 Elham\n",
      "76 Elham\n",
      "77 Elham\n",
      "78 Elham\n",
      "79 Elham\n",
      "80 Elham\n",
      "81 Elham\n",
      "82 Elham\n",
      "83 Elham\n",
      "84 Elham\n",
      "85 Elham\n",
      "86 Elham\n",
      "87 Elham\n",
      "88 Elham\n",
      "89 Elham\n",
      "90 Elham\n",
      "91 Elham\n",
      "92 Elham\n",
      "93 Elham\n",
      "94 Elham\n",
      "95 Elham\n",
      "96 Elham\n",
      "97 Elham\n",
      "98 Elham\n",
      "99 Elham\n",
      "100 Elham\n"
     ]
    }
   ],
   "source": [
    "for i in range (1,101):\n",
    "    print(i,'Elham')"
   ]
  },
  {
   "cell_type": "code",
   "execution_count": 19,
   "metadata": {},
   "outputs": [
    {
     "name": "stdout",
     "output_type": "stream",
     "text": [
      "1 --- 1\n",
      "2 --- 4\n",
      "3 --- 9\n",
      "4 --- 16\n",
      "5 --- 25\n",
      "6 --- 36\n",
      "7 --- 49\n",
      "8 --- 64\n",
      "9 --- 81\n",
      "10 --- 100\n",
      "11 --- 121\n",
      "12 --- 144\n",
      "13 --- 169\n",
      "14 --- 196\n",
      "15 --- 225\n",
      "16 --- 256\n",
      "17 --- 289\n",
      "18 --- 324\n",
      "19 --- 361\n",
      "20 --- 400\n"
     ]
    }
   ],
   "source": [
    "for i in range (1,21):\n",
    "    print(i, '---',i**2)"
   ]
  },
  {
   "cell_type": "code",
   "execution_count": 21,
   "metadata": {},
   "outputs": [
    {
     "name": "stdout",
     "output_type": "stream",
     "text": [
      "8 11 14 17 20 23 26 29 32 35 38 41 44 47 50 53 56 59 62 65 68 71 74 77 80 83 86 89 "
     ]
    }
   ],
   "source": [
    "for i in range (8,90,3):\n",
    "    print(i, end= ' ')"
   ]
  },
  {
   "cell_type": "code",
   "execution_count": 23,
   "metadata": {},
   "outputs": [
    {
     "name": "stdout",
     "output_type": "stream",
     "text": [
      "100 98 96 94 92 90 88 86 84 82 80 78 76 74 72 70 68 66 64 62 60 58 56 54 52 50 48 46 44 42 40 38 36 34 32 30 28 26 24 22 20 18 16 14 12 10 8 6 4 2 "
     ]
    }
   ],
   "source": [
    "for i in range (100,1,-2):\n",
    "    print(i, end = ' ')"
   ]
  },
  {
   "cell_type": "code",
   "execution_count": 27,
   "metadata": {},
   "outputs": [
    {
     "name": "stdout",
     "output_type": "stream",
     "text": [
      "AAAAAAAAAABBBBBBBCDCDCDCDEFFFFFFG\n"
     ]
    }
   ],
   "source": [
    "for i in range (10):\n",
    "    print (\"A\", end= '')\n",
    "for i in range (7):\n",
    "    print('B', end= '')\n",
    "for i in range (4):\n",
    "    print('CD', end= '')\n",
    "print('E',end = '')\n",
    "for i in range (6):\n",
    "    print('F', end= '')\n",
    "print('G')"
   ]
  },
  {
   "cell_type": "code",
   "execution_count": 32,
   "metadata": {},
   "outputs": [
    {
     "name": "stdin",
     "output_type": "stream",
     "text": [
      "what is your name? Eli\n",
      "how many times? 5\n"
     ]
    },
    {
     "name": "stdout",
     "output_type": "stream",
     "text": [
      "EliEliEliEliEli\n"
     ]
    }
   ],
   "source": [
    "name = input('what is your name?')\n",
    "times = eval(input('how many times?'))\n",
    "print(name*times)"
   ]
  },
  {
   "cell_type": "code",
   "execution_count": 34,
   "metadata": {},
   "outputs": [
    {
     "name": "stdin",
     "output_type": "stream",
     "text": [
      "how many numbers? 10\n"
     ]
    },
    {
     "name": "stdout",
     "output_type": "stream",
     "text": [
      "1 1 2 3 5 8 13 21 34 55 "
     ]
    }
   ],
   "source": [
    "HM = eval(input('how many numbers?'))\n",
    "i=1\n",
    "j=1\n",
    "for m in range (HM):\n",
    "    k=i+j\n",
    "    print(i, end= ' ')\n",
    "    i=j\n",
    "    j=k\n",
    "    "
   ]
  },
  {
   "cell_type": "code",
   "execution_count": 1,
   "metadata": {},
   "outputs": [
    {
     "name": "stdin",
     "output_type": "stream",
     "text": [
      "enter the high 4\n",
      "enter the wide 15\n"
     ]
    },
    {
     "name": "stdout",
     "output_type": "stream",
     "text": [
      "***************\n",
      "***************\n",
      "***************\n",
      "***************\n"
     ]
    }
   ],
   "source": [
    "high = eval(input('enter the high'))\n",
    "wide = eval(input('enter the wide'))\n",
    "for i in range (high):\n",
    "    print('*'*wide)"
   ]
  },
  {
   "cell_type": "code",
   "execution_count": 3,
   "metadata": {},
   "outputs": [
    {
     "name": "stdin",
     "output_type": "stream",
     "text": [
      "enter the high 4\n",
      "enter the wide 25\n"
     ]
    },
    {
     "name": "stdout",
     "output_type": "stream",
     "text": [
      "*************************\n",
      "*                       *\n",
      "*                       *\n",
      "*************************\n"
     ]
    }
   ],
   "source": [
    "high = eval(input('enter the high'))\n",
    "wide = eval(input('enter the wide'))\n",
    "print ('*'*wide)\n",
    "for i in range (high-2):\n",
    "    print('*',' '*(wide-2),'*',sep='')\n",
    "print('*'*wide)"
   ]
  },
  {
   "cell_type": "code",
   "execution_count": 4,
   "metadata": {},
   "outputs": [
    {
     "name": "stdin",
     "output_type": "stream",
     "text": [
      "enter the high 4\n"
     ]
    },
    {
     "name": "stdout",
     "output_type": "stream",
     "text": [
      "*\n",
      "**\n",
      "***\n",
      "****\n"
     ]
    }
   ],
   "source": [
    "high = eval(input('enter the high'))\n",
    "for i in range (high):\n",
    "    print('*'*(i+1))"
   ]
  },
  {
   "cell_type": "code",
   "execution_count": 5,
   "metadata": {},
   "outputs": [
    {
     "name": "stdin",
     "output_type": "stream",
     "text": [
      "enter the high 4\n"
     ]
    },
    {
     "name": "stdout",
     "output_type": "stream",
     "text": [
      "****\n",
      "***\n",
      "**\n",
      "*\n"
     ]
    }
   ],
   "source": [
    "high = eval(input('enter the high'))\n",
    "for i in range (high):\n",
    "    print('*'*(high-i))"
   ]
  },
  {
   "cell_type": "code",
   "execution_count": 16,
   "metadata": {},
   "outputs": [
    {
     "name": "stdin",
     "output_type": "stream",
     "text": [
      "enter the high 4\n"
     ]
    },
    {
     "name": "stdout",
     "output_type": "stream",
     "text": [
      "   *\n",
      "  ***\n",
      " *****\n",
      "*******\n",
      " *****\n",
      "  ***\n",
      "   *\n"
     ]
    }
   ],
   "source": [
    "high = eval(input('enter the high'))\n",
    "for i in range (high):\n",
    "    print(' '*(high-(i+1)),'*'*((2*i)+1), sep='')\n",
    "for i in range (high-1):\n",
    "    print(' '*(i+1),'*'*(2*(high-1-i)-1), sep='')"
   ]
  },
  {
   "cell_type": "code",
   "execution_count": 20,
   "metadata": {},
   "outputs": [
    {
     "name": "stdin",
     "output_type": "stream",
     "text": [
      "enter an odd number as high 9\n"
     ]
    },
    {
     "name": "stdout",
     "output_type": "stream",
     "text": [
      "        *\n",
      "       * *\n",
      "      *   *\n",
      "     *     *\n",
      "    *********\n",
      "   *         *\n",
      "  *           *\n",
      " *             *\n",
      "*               *\n"
     ]
    }
   ],
   "source": [
    "high = eval(input('enter an odd number as high'))\n",
    "print(' '*(high-1),'*',sep='')\n",
    "for i in range (1,floor(high/2)):\n",
    "    print(' '*(high-1-i),'*',' '*((2*i)-1),'*',sep='')\n",
    "for i in range (floor(high/2),(floor(high/2))+1):\n",
    "    print(' '*(high-1-i),'*','*'*((2*i)-1),'*',sep='')\n",
    "for i in range (ceil(high/2),high):\n",
    "    print(' '*(high-1-i),'*',' '*((2*i)-1),'*',sep='')\n"
   ]
  },
  {
   "cell_type": "code",
   "execution_count": null,
   "metadata": {},
   "outputs": [],
   "source": []
  }
 ],
 "metadata": {
  "kernelspec": {
   "display_name": "Python 3",
   "language": "python",
   "name": "python3"
  },
  "language_info": {
   "codemirror_mode": {
    "name": "ipython",
    "version": 3
   },
   "file_extension": ".py",
   "mimetype": "text/x-python",
   "name": "python",
   "nbconvert_exporter": "python",
   "pygments_lexer": "ipython3",
   "version": "3.7.3"
  }
 },
 "nbformat": 4,
 "nbformat_minor": 2
}
