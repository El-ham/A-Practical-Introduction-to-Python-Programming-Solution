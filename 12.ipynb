{
 "cells": [
  {
   "cell_type": "code",
   "execution_count": 13,
   "metadata": {},
   "outputs": [],
   "source": [
    "from random import *"
   ]
  },
  {
   "cell_type": "code",
   "execution_count": 1,
   "metadata": {
    "collapsed": true,
    "jupyter": {
     "outputs_hidden": true
    }
   },
   "outputs": [
    {
     "ename": "FileNotFoundError",
     "evalue": "[Errno 2] No such file or directory: 'example.txt'",
     "output_type": "error",
     "traceback": [
      "\u001b[1;31m---------------------------------------------------------------------------\u001b[0m",
      "\u001b[1;31mFileNotFoundError\u001b[0m                         Traceback (most recent call last)",
      "\u001b[1;32m<ipython-input-1-61269edc34ae>\u001b[0m in \u001b[0;36m<module>\u001b[1;34m\u001b[0m\n\u001b[1;32m----> 1\u001b[1;33m \u001b[0mlines\u001b[0m\u001b[1;33m=\u001b[0m\u001b[1;33m[\u001b[0m\u001b[0mline\u001b[0m\u001b[1;33m.\u001b[0m\u001b[0mstrip\u001b[0m\u001b[1;33m(\u001b[0m\u001b[1;33m)\u001b[0m \u001b[1;32mfor\u001b[0m \u001b[0mline\u001b[0m \u001b[1;32min\u001b[0m \u001b[0mopen\u001b[0m\u001b[1;33m(\u001b[0m\u001b[1;34m'example.txt'\u001b[0m\u001b[1;33m)\u001b[0m\u001b[1;33m]\u001b[0m\u001b[1;33m\u001b[0m\u001b[1;33m\u001b[0m\u001b[0m\n\u001b[0m",
      "\u001b[1;31mFileNotFoundError\u001b[0m: [Errno 2] No such file or directory: 'example.txt'"
     ]
    }
   ],
   "source": [
    "lines=[line.strip() for line in open('example.txt')]"
   ]
  },
  {
   "cell_type": "code",
   "execution_count": null,
   "metadata": {},
   "outputs": [],
   "source": [
    "s=open('example.txt').read()"
   ]
  },
  {
   "cell_type": "code",
   "execution_count": null,
   "metadata": {},
   "outputs": [],
   "source": [
    "f=open('writefile.txt','w')\n",
    "print('this is line 1.', file=f)\n",
    "print('this is line 2.', file=f)\n",
    "f.close()"
   ]
  },
  {
   "cell_type": "code",
   "execution_count": null,
   "metadata": {},
   "outputs": [],
   "source": [
    "file1=open('ftemps.txt','w')\n",
    "temperatures=[line.strip() for line in open('temps.txt')]\n",
    "for c in temperatures:\n",
    "    print(c*9/5+32, file=file1)\n",
    "file1.close()"
   ]
  },
  {
   "cell_type": "code",
   "execution_count": null,
   "metadata": {},
   "outputs": [],
   "source": [
    "lines=[line.strip() for line in open('scores.txt')]\n",
    "games=[line.split(',') for line in lines]\n",
    "print(max([abs(int(g[2])-int(g[4])) for g in games]))"
   ]
  },
  {
   "cell_type": "code",
   "execution_count": null,
   "metadata": {},
   "outputs": [],
   "source": [
    "lines=[line.strip() for line in open('scores.txt')]\n",
    "games=[line.split(',') for line in lines]\n",
    "biggest=0\n",
    "for g in games:\n",
    "    diff=abs(int(g[2])-int(g[4]))\n",
    "    if diff>biggest:\n",
    "        biggest=diff\n",
    "        game_info=g\n",
    "print(game_info)"
   ]
  },
  {
   "cell_type": "code",
   "execution_count": null,
   "metadata": {},
   "outputs": [],
   "source": [
    "max_len=0\n",
    "w=''\n",
    "for word in wordlist:\n",
    "    for c in word:\n",
    "        if c not in 'abcde':\n",
    "            break\n",
    "    else:\n",
    "        if len(word)>max_len:\n",
    "            max_len=len(word)\n",
    "            w=word\n",
    "print(w,max_len)"
   ]
  },
  {
   "cell_type": "code",
   "execution_count": null,
   "metadata": {},
   "outputs": [],
   "source": [
    "L=[line.strip() for line in open('class_scores.txt')]\n",
    "G=[s.split() for s in L]\n",
    "M=open('scores2.txt','w')\n",
    "for i in G:\n",
    "    print(i[0],int(i[1])+5, file=M)\n",
    "M.close()"
   ]
  },
  {
   "cell_type": "code",
   "execution_count": 7,
   "metadata": {},
   "outputs": [
    {
     "name": "stdout",
     "output_type": "stream",
     "text": [
      "[['GWashington', '83'], ['JAdams', '86']]\n",
      "GWashington 88\n",
      "JAdams 91\n"
     ]
    }
   ],
   "source": [
    "L=['GWashington 83', 'JAdams 86']\n",
    "G=[s.split() for s in L]\n",
    "print(G)\n",
    "for i in G:\n",
    "    print(i[0],int(i[1])+5)"
   ]
  },
  {
   "cell_type": "code",
   "execution_count": 9,
   "metadata": {
    "collapsed": true,
    "jupyter": {
     "outputs_hidden": true
    }
   },
   "outputs": [
    {
     "ename": "SyntaxError",
     "evalue": "invalid syntax (<ipython-input-9-dfa1609dd9ba>, line 10)",
     "output_type": "error",
     "traceback": [
      "\u001b[1;36m  File \u001b[1;32m\"<ipython-input-9-dfa1609dd9ba>\"\u001b[1;36m, line \u001b[1;32m10\u001b[0m\n\u001b[1;33m    GWashington 83 77 54\u001b[0m\n\u001b[1;37m                 ^\u001b[0m\n\u001b[1;31mSyntaxError\u001b[0m\u001b[1;31m:\u001b[0m invalid syntax\n"
     ]
    }
   ],
   "source": [
    "L=[line.strip() for line in open('grades.txt')]\n",
    "pass_score=65\n",
    "count=0\n",
    "M=[s.split() for s in L]\n",
    "for i in M:\n",
    "    if int(i[1])>pass_score and int(i[2])>pass_score and int(i[3])>pass_score:\n",
    "        count=count+1\n",
    "print(count)"
   ]
  },
  {
   "cell_type": "code",
   "execution_count": 10,
   "metadata": {},
   "outputs": [
    {
     "name": "stdout",
     "output_type": "stream",
     "text": [
      "1\n"
     ]
    }
   ],
   "source": [
    "L=['GWashington 83 77 54', 'JAdams 86 69 90']\n",
    "pass_score=65\n",
    "count=0\n",
    "M=[s.split() for s in L]\n",
    "for i in M:\n",
    "    if int(i[1])>pass_score and int(i[2])>pass_score and int(i[3])>pass_score:\n",
    "        count=count+1\n",
    "print(count)"
   ]
  },
  {
   "cell_type": "code",
   "execution_count": null,
   "metadata": {},
   "outputs": [],
   "source": [
    "L=[line.strip() for line in open('logfile.txt')]\n",
    "M=[s.split(',') for s in L]\n",
    "Users=[]\n",
    "for i in M:\n",
    "    l_in=i[1].split(':')\n",
    "    l_off=i[2].split(':')\n",
    "    if int(l_off[0]) - int(l_in[0]) >1:\n",
    "        Users.append(M[0])\n",
    "    elif ((int(l_off[0])*60)+int(l_off[1])) - ((int(l_in[0])*60)+int(l_in[1])) >= 60:\n",
    "        Users.append(M[0])\n",
    "Eli Kalak, 1:02, 2:01\n",
    "Van Rossum, 14:22, 14:37"
   ]
  },
  {
   "cell_type": "code",
   "execution_count": 22,
   "metadata": {},
   "outputs": [
    {
     "name": "stdout",
     "output_type": "stream",
     "text": [
      "['Van Rossum']\n"
     ]
    }
   ],
   "source": [
    "L=['Eli Kalak, 1:02, 2:01', 'Van Rossum, 12:22, 14:37']\n",
    "M=[s.split(',') for s in L]\n",
    "Users=[]\n",
    "for i in M:\n",
    "    l_in=i[1].split(':')\n",
    "    l_off=i[2].split(':')\n",
    "    if int(l_off[0]) - int(l_in[0]) >1:\n",
    "        Users.append(i[0])\n",
    "    elif ((int(l_off[0])*60)+int(l_off[1])) - ((int(l_in[0])*60)+int(l_in[1])) >= 60:\n",
    "        Users.append(i[0])\n",
    "print(Users)"
   ]
  },
  {
   "cell_type": "code",
   "execution_count": null,
   "metadata": {},
   "outputs": [],
   "source": [
    "L=[line.strip() for line in open('students.txt')]\n",
    "M=[s.split('\\t') for s in L]\n",
    "B=open('students2.txt','w')\n",
    "for i in M:\n",
    "    N=[]\n",
    "    E=i[0].split()\n",
    "    N.append(E[0][0].upper()+E[0][1:])\n",
    "    N.append(E[1][0].upper()+E[1][1:])\n",
    "    print(' '.join(N),'\\t', i[1], '\\t','301-'+i[2], file=B)\n",
    "B.close()"
   ]
  },
  {
   "cell_type": "code",
   "execution_count": 40,
   "metadata": {},
   "outputs": [
    {
     "name": "stdout",
     "output_type": "stream",
     "text": [
      "Walter Melon \t melon@email.msmary.edu \t 301-555-3141\n",
      "Eli Kalak \t e.kalak@gmail.com \t 301-444-8723\n"
     ]
    }
   ],
   "source": [
    "M=[['walter melon', 'melon@email.msmary.edu', '555-3141'], ['eli kalak', 'e.kalak@gmail.com', '444-8723']]\n",
    "B=open('students2.txt','w')\n",
    "for i in M:\n",
    "    N=[]\n",
    "    E=i[0].split()\n",
    "    N.append(E[0][0].upper()+E[0][1:])\n",
    "    N.append(E[1][0].upper()+E[1][1:])\n",
    "    print(' '.join(N),'\\t', i[1], '\\t','301-'+i[2])"
   ]
  },
  {
   "cell_type": "code",
   "execution_count": 96,
   "metadata": {},
   "outputs": [
    {
     "name": "stdout",
     "output_type": "stream",
     "text": [
      "{'JQA': [['John', 'Quincy', 'Adams']], 'JA': [['John', 'Quincy', 'Adams'], ['John', 'Adams']], 'GW': [['George', 'Washington']]}\n"
     ]
    },
    {
     "name": "stdin",
     "output_type": "stream",
     "text": [
      "please enter initials JA\n"
     ]
    },
    {
     "name": "stdout",
     "output_type": "stream",
     "text": [
      "John Quincy Adams\n",
      "John Adams\n"
     ]
    }
   ],
   "source": [
    "#L=[line.strip() for line in open('namelist.txt')]\n",
    "L=['John Quincy Adams', 'George Washington', 'John Adams']\n",
    "#M=[['John', 'Quincy', 'Adams'], ['George', 'Washington'], ['John', 'Adams']]\n",
    "M=[s.split() for s in L]\n",
    "d={}\n",
    "for i in M:\n",
    "    t=''\n",
    "    for j in i:\n",
    "        t=t+j[0]\n",
    "    if t in d:\n",
    "        d[t].append(i)\n",
    "    else:\n",
    "        d[t]=[i]\n",
    "    if len(t) == 3:\n",
    "        if t[0]+t[2] in d:\n",
    "            d[t[0]+t[2]].append(i)\n",
    "        else:\n",
    "            d[t[0]+t[2]]=[i]\n",
    "print(d)\n",
    "ini=input('please enter initials')\n",
    "for i in d[ini]:\n",
    "    print(' '.join(i))"
   ]
  },
  {
   "cell_type": "code",
   "execution_count": 59,
   "metadata": {},
   "outputs": [
    {
     "name": "stdout",
     "output_type": "stream",
     "text": [
      "J\n",
      "G\n",
      "J\n"
     ]
    }
   ],
   "source": [
    "L=['John Quincy Adams', 'George Washington', 'John Adams']\n",
    "for i in L:\n",
    "    print(i[0])"
   ]
  },
  {
   "cell_type": "code",
   "execution_count": 108,
   "metadata": {},
   "outputs": [
    {
     "name": "stdout",
     "output_type": "stream",
     "text": [
      "ace elvin coulson\n",
      "ajhne qioncy aduuuams\n"
     ]
    }
   ],
   "source": [
    "#a, e, i, o, u\n",
    "#L=[line.strip() for line in open('namelist.txt')]\n",
    "L=['Ace Elvin Coulson', 'Ichiro Suzuki', 'ajhne Qioncy Aduuuams']\n",
    "for s in L:\n",
    "    s=s.lower()\n",
    "    f_a=f_e=f_i=f_o=f_u=0\n",
    "    flag=0    \n",
    "    for i in s:       \n",
    "        if i=='a':\n",
    "            f_a=1\n",
    "        elif f_a==1 and i=='e':\n",
    "            f_e=1\n",
    "        elif f_e==1 and i=='i':\n",
    "            f_i=1\n",
    "        elif f_i==1 and i=='o':\n",
    "            f_o=1\n",
    "        elif f_o==1 and i=='u':\n",
    "            f_u=1\n",
    "        if f_a==f_e==f_i==f_o==f_u==1:\n",
    "            flag=1\n",
    "            break\n",
    "    if flag==1:\n",
    "        print(s)"
   ]
  },
  {
   "cell_type": "code",
   "execution_count": null,
   "metadata": {},
   "outputs": [],
   "source": [
    "L=[line.strip() for line in open('baseball.txt')]\n",
    "M=[s.split('\\t') for s in L]\n",
    "for i in M:\n",
    "    if int(i[8])>=20 and int(i[12])>=20:\n",
    "        print(i[0])  "
   ]
  },
  {
   "cell_type": "code",
   "execution_count": 35,
   "metadata": {},
   "outputs": [
    {
     "name": "stdout",
     "output_type": "stream",
     "text": [
      "[['02/27/2010', 'Robert Morris', '61', 'Mount St. Marys', '63'], [' 11/15/2012', 'A', '87', 'lkj', '98'], ['08/20/2011', 'bibi', '70', 'opi', '25'], ['01/30/2015', 'red', '30', 'blue', '90'], ['03/20/2016', 'opi', '32', 'ff', '95'], ['5667', 'opi', '50', 'red', '40']]\n",
      "741 61.75\n",
      "['02/27/2010', 'Robert Morris', '61', 'Mount St. Marys', '63'] False\n",
      "[' 11/15/2012', 'A', '87', 'lkj', '98'] True\n",
      "A\n",
      "['08/20/2011', 'bibi', '70', 'opi', '25'] False\n",
      "['01/30/2015', 'red', '30', 'blue', '90'] False\n",
      "['03/20/2016', 'opi', '32', 'ff', '95'] False\n",
      "['5667', 'opi', '50', 'red', '40'] False\n",
      "0 1\n",
      "opi\n",
      "[('opi', 2), ('red', 1)] [(1, 'red'), (2, 'opi')]\n",
      "{'Robert Morris': [['61', '63']], 'Mount St. Marys': [['63', '61']], 'A': [['87', '98']], 'lkj': [['98', '87']], 'bibi': [['70', '25']], 'opi': [['25', '70'], ['32', '95'], ['50', '40']], 'red': [['30', '90'], ['40', '50']], 'blue': [['90', '30']], 'ff': [['95', '32']]}\n",
      "A\n",
      "lkj\n",
      "bibi\n",
      "blue\n",
      "ff\n"
     ]
    }
   ],
   "source": [
    "L = ['02/27/2010, Robert Morris, 61, Mount St. Marys, 63', ' 11/15/2012, A, 87, lkj, 98', '08/20/2011, bibi, 70, opi, 25',\n",
    "    '01/30/2015, red, 30, blue, 90' , '03/20/2016, opi, 32, ff, 95', '5667, opi, 50, red, 40']\n",
    "\n",
    "# L=[line.strip() for line in open('scores.txt')]\n",
    "M=[s.split(', ') for s in L]\n",
    "print(M)\n",
    "sum=0\n",
    "for i in M:\n",
    "    sum+= int(i[2])+int(i[4])\n",
    "average=sum/(2*len(L))\n",
    "print(sum,average)\n",
    "\n",
    "#favorite team=A\n",
    "n_w=0\n",
    "n_l=0\n",
    "for i in M:\n",
    "    print (i, i[1]=='A')\n",
    "    if i[1]=='A':\n",
    "        print(i[1])\n",
    "        if int(i[2])> int(i[4]):\n",
    "            n_w=n_w+1\n",
    "        if int(i[2])< int(i[4]):\n",
    "            n_l=n_l+1\n",
    "    if i[3]=='A':\n",
    "        if int(i[4])> int(i[2]):\n",
    "            n_w=n_w+1\n",
    "        if int(i[4])< int(i[2]):\n",
    "            n_l=n_l+1\n",
    "print(n_w, n_l)\n",
    "        \n",
    "# lost by 30 or more points\n",
    "w={}\n",
    "for i in M:\n",
    "    if int(i[2]) - int(i[4]) >=30:\n",
    "        if i[3] not in w:\n",
    "            w[i[3]]= 1\n",
    "        else:\n",
    "            w[i[3]]= w[i[3]] +1\n",
    "    if int(i[4]) - int(i[2]) >=30:\n",
    "        if i[1] not in w:\n",
    "            w[i[1]]= 1\n",
    "        else:\n",
    "            w[i[1]]= w[i[1]] +1\n",
    "L=list(w.items())\n",
    "N=[(j[1],j[0]) for j in L]\n",
    "N.sort()\n",
    "for k in N:\n",
    "    if k[0]==N[-1][0]:\n",
    "        print(k[1])\n",
    "print(L, N)\n",
    "\n",
    "#  averaged at least 70 points a game\n",
    "d={}\n",
    "for i in M:\n",
    "    if i[1] not in d:\n",
    "        d[i[1]]=[[i[2],i[4]]]\n",
    "    else:\n",
    "        d[i[1]].append([i[2],i[4]])\n",
    "    if i[3] not in d:\n",
    "        d[i[3]]=[[i[4],i[2]]]\n",
    "    else:\n",
    "        d[i[3]].append([i[4],i[2]])\n",
    "print(d)\n",
    "for k in d:\n",
    "    sum=0\n",
    "    for j in d[k]:\n",
    "        sum=sum + int(j[0])\n",
    "    ave=sum/len(d[k])\n",
    "    if ave >= 70:\n",
    "        print(k)"
   ]
  },
  {
   "cell_type": "code",
   "execution_count": 36,
   "metadata": {},
   "outputs": [
    {
     "name": "stdout",
     "output_type": "stream",
     "text": [
      "opi\n"
     ]
    }
   ],
   "source": [
    "# had winning records but were collectively outscored by their opponents\n",
    "L = ['02/27/2010, Robert Morris, 61, Mount St. Marys, 63', ' 11/15/2012, A, 87, lkj, 98', '08/20/2011, bibi, 70, opi, 25',\n",
    "    '01/30/2015, red, 30, blue, 90' , '03/20/2016, opi, 32, ff, 95']\n",
    "for k in d:\n",
    "    flag=0\n",
    "    sum_home=0\n",
    "    sum_away=0\n",
    "    for j in d[k]:\n",
    "        #print(int(j[0]),int(j[1]) )\n",
    "        if int(j[0])>int(j[1]):\n",
    "            flag=1\n",
    "            break\n",
    "    if flag==1:\n",
    "        for j in d[k]:\n",
    "            sum_home=sum_home+int(j[0])\n",
    "            sum_away=sum_away+int(j[1])\n",
    "            \n",
    "        if sum_away > sum_home:\n",
    "            print(k)"
   ]
  },
  {
   "cell_type": "code",
   "execution_count": 33,
   "metadata": {},
   "outputs": [
    {
     "name": "stdout",
     "output_type": "stream",
     "text": [
      "opi\n"
     ]
    }
   ],
   "source": [
    "# had winning records but were collectively outscored by their opponents\n",
    "L = ['02/27/2010, Robert Morris, 61, Mount St. Marys, 63', ' 11/15/2012, A, 87, lkj, 98', '08/20/2011, bibi, 70, opi, 25',\n",
    "    '01/30/2015, red, 30, blue, 90' , '03/20/2016, opi, 32, ff, 95']\n",
    "for k in d:\n",
    "    flag=0\n",
    "    sum_home=0\n",
    "    sum_away=0\n",
    "    for j in d[k]:\n",
    "        sum_home=sum_home+int(j[0])\n",
    "        sum_away=sum_away+int(j[1])\n",
    "        if int(j[0])>int(j[1]):\n",
    "            flag=1\n",
    "    if sum_away > sum_home and flag==1:\n",
    "        print(k)"
   ]
  },
  {
   "cell_type": "code",
   "execution_count": 43,
   "metadata": {},
   "outputs": [
    {
     "name": "stdout",
     "output_type": "stream",
     "text": [
      "{'1': 20.0, '3': 40.0, '7': 20.0, '9': 20.0, '2': 10.0}\n"
     ]
    }
   ],
   "source": [
    "#= [line.strip() for line in open('expenses.txt')]\n",
    "L= ['1234','34567','3456','765','977665', '766','245','9887','111','344']\n",
    "d={}\n",
    "for j in L:\n",
    "    if j[0] in d:\n",
    "        d[j[0]] +=d[j[0]]\n",
    "    else:\n",
    "        d[j[0]] =1\n",
    "p={}\n",
    "for i in d:\n",
    "    p[i]=d[i]*100/len(L)\n",
    "print(p)"
   ]
  },
  {
   "cell_type": "code",
   "execution_count": 46,
   "metadata": {},
   "outputs": [
    {
     "ename": "NameError",
     "evalue": "name 'wordlist' is not defined",
     "output_type": "error",
     "traceback": [
      "\u001b[1;31m---------------------------------------------------------------------------\u001b[0m",
      "\u001b[1;31mNameError\u001b[0m                                 Traceback (most recent call last)",
      "\u001b[1;32m<ipython-input-46-51711c94faa2>\u001b[0m in \u001b[0;36m<module>\u001b[1;34m\u001b[0m\n\u001b[1;32m----> 1\u001b[1;33m \u001b[0mL\u001b[0m\u001b[1;33m=\u001b[0m\u001b[1;33m[\u001b[0m\u001b[0mline\u001b[0m\u001b[1;33m.\u001b[0m\u001b[0mstrip\u001b[0m\u001b[1;33m(\u001b[0m\u001b[1;33m)\u001b[0m \u001b[1;32mfor\u001b[0m \u001b[0mline\u001b[0m \u001b[1;32min\u001b[0m \u001b[0mopen\u001b[0m\u001b[1;33m(\u001b[0m\u001b[0mwordlist\u001b[0m\u001b[1;33m.\u001b[0m\u001b[0mtxt\u001b[0m\u001b[1;33m)\u001b[0m\u001b[1;33m]\u001b[0m\u001b[1;33m\u001b[0m\u001b[1;33m\u001b[0m\u001b[0m\n\u001b[0m\u001b[0;32m      2\u001b[0m \u001b[1;31m#All words ending in ime\u001b[0m\u001b[1;33m\u001b[0m\u001b[1;33m\u001b[0m\u001b[1;33m\u001b[0m\u001b[0m\n\u001b[0;32m      3\u001b[0m \u001b[1;32mfor\u001b[0m \u001b[0mi\u001b[0m \u001b[1;32min\u001b[0m \u001b[0mL\u001b[0m\u001b[1;33m:\u001b[0m\u001b[1;33m\u001b[0m\u001b[1;33m\u001b[0m\u001b[0m\n\u001b[0;32m      4\u001b[0m     \u001b[1;32mif\u001b[0m \u001b[0mi\u001b[0m\u001b[1;33m[\u001b[0m\u001b[1;33m-\u001b[0m\u001b[1;36m3\u001b[0m\u001b[1;33m:\u001b[0m\u001b[1;33m]\u001b[0m\u001b[1;33m==\u001b[0m\u001b[1;34m'ime'\u001b[0m\u001b[1;33m:\u001b[0m\u001b[1;33m\u001b[0m\u001b[1;33m\u001b[0m\u001b[0m\n\u001b[0;32m      5\u001b[0m         \u001b[0mprint\u001b[0m\u001b[1;33m(\u001b[0m\u001b[1;34m'All words ending in ime'\u001b[0m\u001b[1;33m,\u001b[0m\u001b[0mi\u001b[0m\u001b[1;33m)\u001b[0m\u001b[1;33m\u001b[0m\u001b[1;33m\u001b[0m\u001b[0m\n",
      "\u001b[1;31mNameError\u001b[0m: name 'wordlist' is not defined"
     ]
    }
   ],
   "source": [
    "M=[line.strip() for line in open(wordlist.txt)]\n",
    "L=[]\n",
    "for i in M:\n",
    "    i=i.lower()\n",
    "    L.append(i)\n",
    "#All words ending in ime\n",
    "for i in L:\n",
    "    if i[-3:]=='ime':\n",
    "        print(i)\n",
    "#All words whose second, third, and fourth letters are ave\n",
    "for i in L:\n",
    "    if i[2:5]=='ave':\n",
    "        print(i)\n",
    "#contain at least one of the letters r, s, t, l, n, e\n",
    "count=0\n",
    "for i in L:\n",
    "    for j in i:\n",
    "        if j in 'r, s, t, l, n, e':\n",
    "            count=count+1\n",
    "            break\n",
    "print(count)            \n",
    "#at least one of the letters r, s, t, l, n, e (The percentage)\n",
    "count*100/len(L)\n",
    "#no vowels\n",
    "for i in L:\n",
    "    flag=0\n",
    "    for j in i:\n",
    "        if j in 'aeoui':\n",
    "            flag=1\n",
    "            break\n",
    "    if flag==0:\n",
    "        print(i)\n",
    "# contain every vowel\n",
    "for j in L:\n",
    "    flag=0\n",
    "    for i in 'aeiou':\n",
    "        if i not in j:\n",
    "            flag=1\n",
    "    if flag==0:\n",
    "        print(j)\n",
    "# more ten-letter words or seven-letter words?\n",
    "c_seven=0\n",
    "c_ten=0\n",
    "for i in L:\n",
    "    if len(i)==7:\n",
    "        c_seven+=1\n",
    "    elif len(i)==10:\n",
    "        c_ten+=1\n",
    "if c_ten>c_seven:\n",
    "    print('ten-letter words are more!)\n",
    "elif c_ten<c_seven:\n",
    "    print('seven-letter words are more!)\n",
    "else:\n",
    "    print('they are equal')\n",
    "# longest word\n",
    "M_len=0\n",
    "i='a'\n",
    "for i in L:\n",
    "    if len(i)>M_len:\n",
    "        M_len=len(i)\n",
    "        L_word=i\n",
    "print(L_word,M_len)\n",
    "#  palindromes\n",
    "for i in L:\n",
    "    if i[::-1]==i[:]:\n",
    "        print(i)\n",
    "# words in reverse\n",
    "for i in range(len(L)):\n",
    "    if L[i][::-1] in L[i:] and L[i]!=L[i][::-1]:\n",
    "    # or:  if L[i][::-1] in L[i+1:]\n",
    "        print(L[i],L[i][::-1])\n",
    "# one word out of each pair\n",
    "for i in range(len(L)):\n",
    "    if L[i][::-1] in L[i+1:]:\n",
    "        print(L[i])\n",
    "# double letters next each other, excluding words that end in lly\n",
    "for c in L:\n",
    "    for j in range(len(c)-1):\n",
    "        if c[j] == c[j+1] and c[-3:]!='lly':\n",
    "            print(c)\n",
    "# contain a q that isn’t followed by a u\n",
    "for c in L:\n",
    "    for j in range(len(c)-1):\n",
    "        if c[j] == 'q' and c[j+1] !='u':\n",
    "            print(c)\n",
    "# zu anywhere in the word\n",
    "for c in L:\n",
    "    if 'zu' in c:\n",
    "        print(c)\n",
    "# ab in multiple places\n",
    "for c in L:\n",
    "    for i in range(len(c)-2):\n",
    "        if c[i]=='a' and c[i+1]=='b' and 'ab' in c[i+2:]:\n",
    "            print(c)\n",
    "# four or more vowels in a row\n",
    "for c in L:\n",
    "    for i in range(len(c)-3):\n",
    "        if c[i] in 'aeiou' and c[i+1] in 'aeiou' and c[i+2] in 'aeiou' and c[i+3] in 'aeiou':\n",
    "            print(c)\n",
    "# a z and a w\n",
    "flag=0\n",
    "for c in L:\n",
    "    if 'w' in c and 'z' in c:\n",
    "        print(c)\n",
    "# first letter is a, third letter is e and fifth letter is i\n",
    "for c in L:\n",
    "    if len(c)>=5 and c[0]=='a' and c[2]=='e' and c[4]=='i':\n",
    "            print(c)\n",
    "# two-letter words\n",
    "for c in L:\n",
    "    if len(c)==2:\n",
    "        print(c)\n",
    "# four-letter words that start and end with the same letter\n",
    "for c in L:\n",
    "    if len(c)==4 and c[0]==c[-1]:\n",
    "          print(c)\n",
    "# at least nine vowels\n",
    "for c in L:\n",
    "    count=0\n",
    "    if len(c)>=9:\n",
    "        for i in c:\n",
    "            if i in 'aeiou':\n",
    "                count=count+1\n",
    "                if count>=9:\n",
    "                    print(c)\n",
    "                    break\n",
    "# contain each of the letters a, b, c, d, e, and f in any order\n",
    "for k in L:\n",
    "    if 'a' in k and 'b' in k and 'c' in k and 'd' in k and 'e' in k and 'f' in k:\n",
    "        print(k)\n",
    "# first four and last four letters are the same\n",
    "for c in L:\n",
    "    if len(c)>=8 and c[:4] == c[-4:]:\n",
    "        print(c)\n",
    "# abcd*dcba, where * is arbitrarily long sequence of letters\n",
    "for c in L:\n",
    "    flag=0\n",
    "    for i in range(len(c)):\n",
    "        if c[:4]=='abcd' and 'dcba' in c[5:]:\n",
    "            flag=1\n",
    "    if flag==1:\n",
    "        print(c)\n",
    "# 5 words, each word 3 letters, all words share the same first and last letters, and the middle letter runs through all 5 vowels\n",
    "d={}\n",
    "s=''\n",
    "count=1\n",
    "for c in L:\n",
    "    if len(c)==3 and c[0]==c[2] and c[0] not in 'aeiou' and c[1] in 'aeiou':\n",
    "        d[count]=\n",
    "          \n",
    "# most i\n",
    "most=0\n",
    "word=''\n",
    "for c in L:\n",
    "    count=0\n",
    "    for i in c:\n",
    "        if c[i]=='i':\n",
    "            count+=1\n",
    "    if count>most:\n",
    "    most=count\n",
    "    word=c\n"
   ]
  },
  {
   "cell_type": "code",
   "execution_count": 1,
   "metadata": {},
   "outputs": [
    {
     "name": "stdout",
     "output_type": "stream",
     "text": [
      "time\n",
      "prime\n",
      "All words whose second, third, and fourth letters are ave prave\n",
      "All words whose second, third, and fourth letters are ave travel\n",
      "31\n"
     ]
    },
    {
     "data": {
      "text/plain": [
       "81.57894736842105"
      ]
     },
     "execution_count": 1,
     "metadata": {},
     "output_type": "execute_result"
    }
   ],
   "source": [
    "L=['time','jkki','cet','eli','prime','prave', 'travel','khpl','afegikolu','iueajk','asdfghjklp','cot','qwertui','zxcvbnm','cit','roror','kik',\n",
    "   'rat','tar','cut','carefully', 'require', 'ahja','hjiofdhftgdhjio','cat','obtainabilty','abcdlkhgdadcba','ajkfkdpbmcep','habitability','ahjikogekumnomimale','ftrqioo', 'arezu', 'ab','zudi','zeru', 'zfgjw','fgauiolp', 'jhhifo']\n",
    "for i in L:\n",
    "    if i[-3:]=='ime':\n",
    "        print(i)\n",
    "for i in L:\n",
    "    if i[2:5]=='ave':\n",
    "        print('All words whose second, third, and fourth letters are ave',i)\n",
    "count=0\n",
    "for i in L:\n",
    "    for j in i:\n",
    "        if j in 'r, s, t, l, n, e':\n",
    "            count=count+1\n",
    "            break\n",
    "print(count)            \n",
    "count*100/len(L)\n"
   ]
  },
  {
   "cell_type": "code",
   "execution_count": 2,
   "metadata": {},
   "outputs": [
    {
     "name": "stdout",
     "output_type": "stream",
     "text": [
      "khpl\n",
      "zxcvbnm\n",
      "zfgjw\n"
     ]
    }
   ],
   "source": [
    "for i in L:\n",
    "    flag=0\n",
    "    for j in i:\n",
    "        if j in 'aeoui':\n",
    "            flag=1\n",
    "            break\n",
    "    if flag==0:\n",
    "        print(i)"
   ]
  },
  {
   "cell_type": "code",
   "execution_count": 3,
   "metadata": {},
   "outputs": [
    {
     "name": "stdout",
     "output_type": "stream",
     "text": [
      "afegikolu\n",
      "ahjikogekumnomimale\n"
     ]
    }
   ],
   "source": [
    "for j in L:\n",
    "    flag=0\n",
    "    for i in 'aeiou':\n",
    "        if i not in j:\n",
    "            flag=1\n",
    "    if flag==0:\n",
    "        print(j)"
   ]
  },
  {
   "cell_type": "code",
   "execution_count": 4,
   "metadata": {},
   "outputs": [
    {
     "name": "stdout",
     "output_type": "stream",
     "text": [
      "seven-letter words are more!\n"
     ]
    }
   ],
   "source": [
    "c_seven=0\n",
    "c_ten=0\n",
    "for i in L:\n",
    "    if len(i)==7:\n",
    "        c_seven+=1\n",
    "    elif len(i)==10:\n",
    "        c_ten+=1\n",
    "if c_ten>c_seven:\n",
    "    print('ten-letter words are more!')\n",
    "elif c_ten<c_seven:\n",
    "    print('seven-letter words are more!')\n",
    "else:\n",
    "    print('they are equal')"
   ]
  },
  {
   "cell_type": "code",
   "execution_count": 5,
   "metadata": {},
   "outputs": [
    {
     "name": "stdout",
     "output_type": "stream",
     "text": [
      "ahjikogekumnomimale 19\n"
     ]
    }
   ],
   "source": [
    "M_len=0\n",
    "i='a'\n",
    "for i in L:\n",
    "    if len(i)>M_len:\n",
    "        M_len=len(i)\n",
    "        L_word=i\n",
    "print(L_word,M_len)"
   ]
  },
  {
   "cell_type": "code",
   "execution_count": 6,
   "metadata": {},
   "outputs": [
    {
     "name": "stdout",
     "output_type": "stream",
     "text": [
      "roror\n",
      "kik\n"
     ]
    }
   ],
   "source": [
    "for i in L:\n",
    "    if i[::-1]==i[:]:\n",
    "        print(i)"
   ]
  },
  {
   "cell_type": "code",
   "execution_count": 7,
   "metadata": {},
   "outputs": [
    {
     "name": "stdout",
     "output_type": "stream",
     "text": [
      "rat tar\n",
      "tar rat\n"
     ]
    }
   ],
   "source": [
    "for i in L:\n",
    "    if i[::-1] in L and i!=i[::-1]:\n",
    "        print(i,i[::-1])"
   ]
  },
  {
   "cell_type": "code",
   "execution_count": 8,
   "metadata": {},
   "outputs": [
    {
     "name": "stdout",
     "output_type": "stream",
     "text": [
      "rat tar\n"
     ]
    }
   ],
   "source": [
    "for i in range(len(L)):\n",
    "    if L[i][::-1] in L[i+1:]:\n",
    "        print(L[i],L[i][::-1])"
   ]
  },
  {
   "cell_type": "code",
   "execution_count": 9,
   "metadata": {},
   "outputs": [
    {
     "name": "stdout",
     "output_type": "stream",
     "text": [
      "rat\n"
     ]
    }
   ],
   "source": [
    "for i in range(len(L)):\n",
    "    if L[i][::-1] in L[i+1:]:\n",
    "        print(L[i])"
   ]
  },
  {
   "cell_type": "code",
   "execution_count": 10,
   "metadata": {},
   "outputs": [
    {
     "name": "stdout",
     "output_type": "stream",
     "text": [
      "jkki\n",
      "ftrqioo\n",
      "jhhifo\n"
     ]
    }
   ],
   "source": [
    "for c in L:\n",
    "    for j in range(len(c)-1):\n",
    "        if c[j] == c[j+1] and c[-3:]!='lly':\n",
    "            print(c)"
   ]
  },
  {
   "cell_type": "code",
   "execution_count": null,
   "metadata": {},
   "outputs": [],
   "source": []
  },
  {
   "cell_type": "code",
   "execution_count": 11,
   "metadata": {},
   "outputs": [
    {
     "data": {
      "text/plain": [
       "['kki', 'jop', 'oo']"
      ]
     },
     "execution_count": 11,
     "metadata": {},
     "output_type": "execute_result"
    }
   ],
   "source": [
    "M=['KKI','Jop','oo']\n",
    "N=[]\n",
    "for i in M:\n",
    "    i=i.lower()\n",
    "    N.append(i)\n",
    "    \n",
    "N"
   ]
  },
  {
   "cell_type": "code",
   "execution_count": 12,
   "metadata": {},
   "outputs": [
    {
     "name": "stdout",
     "output_type": "stream",
     "text": [
      "qwertui\n",
      "ftrqioo\n"
     ]
    }
   ],
   "source": [
    "for c in L:\n",
    "    for j in range(len(c)-1):\n",
    "        if c[j] == 'q' and c[j+1] !='u':\n",
    "            print(c)"
   ]
  },
  {
   "cell_type": "code",
   "execution_count": 13,
   "metadata": {},
   "outputs": [
    {
     "name": "stdout",
     "output_type": "stream",
     "text": [
      "arezu\n",
      "zudi\n"
     ]
    }
   ],
   "source": [
    "for c in L:\n",
    "    if 'zu' in c:\n",
    "        print(c)"
   ]
  },
  {
   "cell_type": "code",
   "execution_count": 14,
   "metadata": {},
   "outputs": [
    {
     "name": "stdout",
     "output_type": "stream",
     "text": [
      "habitability\n"
     ]
    }
   ],
   "source": [
    "for c in L:\n",
    "    for i in range(len(c)-2):\n",
    "        if c[i]=='a' and c[i+1]=='b' and 'ab' in c[i+2:]:\n",
    "            print(c)"
   ]
  },
  {
   "cell_type": "code",
   "execution_count": 15,
   "metadata": {},
   "outputs": [
    {
     "name": "stdout",
     "output_type": "stream",
     "text": [
      "iueajk\n",
      "fgauiolp\n"
     ]
    }
   ],
   "source": [
    "for c in L:\n",
    "    for i in range(len(c)-3):\n",
    "        if c[i] in 'aeiou' and c[i+1] in 'aeiou' and c[i+2] in 'aeiou' and c[i+3] in 'aeiou':\n",
    "            print(c)"
   ]
  },
  {
   "cell_type": "code",
   "execution_count": 16,
   "metadata": {},
   "outputs": [
    {
     "name": "stdout",
     "output_type": "stream",
     "text": [
      "zfgjw\n"
     ]
    }
   ],
   "source": [
    "flag=0\n",
    "for c in L:\n",
    "    if 'w' in c and 'z' in c:\n",
    "        print(c)"
   ]
  },
  {
   "cell_type": "code",
   "execution_count": 17,
   "metadata": {},
   "outputs": [
    {
     "name": "stdout",
     "output_type": "stream",
     "text": [
      "afegikolu\n"
     ]
    }
   ],
   "source": [
    "for c in L:\n",
    "    if len(c)>=5 and c[0]=='a' and c[2]=='e' and c[4]=='i':\n",
    "            print(c)"
   ]
  },
  {
   "cell_type": "code",
   "execution_count": 18,
   "metadata": {},
   "outputs": [
    {
     "name": "stdout",
     "output_type": "stream",
     "text": [
      "ab\n"
     ]
    }
   ],
   "source": [
    "for c in L:\n",
    "    if len(c)==2:\n",
    "        print(c)"
   ]
  },
  {
   "cell_type": "code",
   "execution_count": 19,
   "metadata": {},
   "outputs": [
    {
     "name": "stdout",
     "output_type": "stream",
     "text": [
      "ahja\n"
     ]
    }
   ],
   "source": [
    "for c in L:\n",
    "    if len(c)==4 and c[0]==c[-1]:\n",
    "          print(c)"
   ]
  },
  {
   "cell_type": "code",
   "execution_count": 20,
   "metadata": {},
   "outputs": [
    {
     "name": "stdout",
     "output_type": "stream",
     "text": [
      "ahjikogekumnomimale\n"
     ]
    }
   ],
   "source": [
    "for c in L:\n",
    "    count=0\n",
    "    if len(c)>=9:\n",
    "        for i in c:\n",
    "            if i in 'aeiou':\n",
    "                count=count+1\n",
    "                if count>=9:\n",
    "                    print(c)\n",
    "                    break"
   ]
  },
  {
   "cell_type": "code",
   "execution_count": 21,
   "metadata": {},
   "outputs": [
    {
     "name": "stdout",
     "output_type": "stream",
     "text": [
      "ajkfkdpbmcep\n"
     ]
    }
   ],
   "source": [
    "for k in L:\n",
    "    if 'a' in k and 'b' in k and 'c' in k and 'd' in k and 'e' in k and 'f' in k:\n",
    "        print(k)"
   ]
  },
  {
   "cell_type": "code",
   "execution_count": 22,
   "metadata": {},
   "outputs": [
    {
     "name": "stdout",
     "output_type": "stream",
     "text": [
      "hjiofdhftgdhjio\n"
     ]
    }
   ],
   "source": [
    "for c in L:\n",
    "    if len(c)>=8 and c[:4] == c[-4:]:\n",
    "        print(c)"
   ]
  },
  {
   "cell_type": "code",
   "execution_count": 23,
   "metadata": {},
   "outputs": [
    {
     "name": "stdout",
     "output_type": "stream",
     "text": [
      "abcdlkhgdadcba\n"
     ]
    }
   ],
   "source": [
    "for c in L:\n",
    "    flag=0\n",
    "    for i in range(len(c)):\n",
    "        if c[:4]=='abcd' and 'dcba' in c[5:]:\n",
    "            flag=1\n",
    "    if flag==1:\n",
    "        print(c)"
   ]
  },
  {
   "cell_type": "code",
   "execution_count": 24,
   "metadata": {},
   "outputs": [
    {
     "name": "stdout",
     "output_type": "stream",
     "text": [
      "habitability 3\n"
     ]
    }
   ],
   "source": [
    "most=0\n",
    "for c in L:\n",
    "    count=0\n",
    "    for i in range (len(c)):\n",
    "        if c[i]=='i':\n",
    "            count+=1\n",
    "    if count>most:\n",
    "        most=count\n",
    "        word=c\n",
    "print(word, most)"
   ]
  },
  {
   "cell_type": "code",
   "execution_count": 31,
   "metadata": {},
   "outputs": [
    {
     "name": "stdout",
     "output_type": "stream",
     "text": [
      "[['c', 't']]\n"
     ]
    }
   ],
   "source": [
    "N=[]\n",
    "v='aeiou'\n",
    "for c in L:\n",
    "    flag=1\n",
    "    if len(c)==3 and c[2] not in v and c[0] not in v and c[1] in v and [c[0],c[2]] not in N:\n",
    "        for i in L:\n",
    "            if c[0]+'a'+c[2] in L and c[0]+'e'+c[2] in L and c[0]+'i'+c[2] in L and c[0]+'o'+c[2] in L and c[0]+'u'+c[2] in L:\n",
    "                flag=0\n",
    "    if flag==0:\n",
    "        N.append([c[0],c[2]])\n",
    "print(N)"
   ]
  },
  {
   "cell_type": "code",
   "execution_count": null,
   "metadata": {},
   "outputs": [],
   "source": [
    "L=[line.strip() for line in open('wordlist.txt')]\n",
    "s=input('enter a word')\n",
    "if s in L:\n",
    "    print('real word!')\n",
    "else:\n",
    "    print('NOT real word!')"
   ]
  },
  {
   "cell_type": "code",
   "execution_count": null,
   "metadata": {},
   "outputs": [],
   "source": [
    "L=[line.strip() for line in open('wordlist.txt')]\n",
    "N=[]\n",
    "for c in L:\n",
    "    N.append(c[::-1])\n",
    "N.sort()\n",
    "N[-1]"
   ]
  },
  {
   "cell_type": "code",
   "execution_count": null,
   "metadata": {},
   "outputs": [],
   "source": [
    "L=[line.strip() for line in open('wordlist.txt')]\n",
    "s=input('enter a combinations of the string \"Python\" plus a three letter English word')\n",
    "if s[-3:] in L and s[:6]=='Python':\n",
    "    print('valid combinations!)\n",
    "else:\n",
    "    print('NOT valid')"
   ]
  },
  {
   "cell_type": "code",
   "execution_count": 18,
   "metadata": {},
   "outputs": [
    {
     "name": "stdin",
     "output_type": "stream",
     "text": [
      "enter a word with the letters you know filled in and asterisks for those you don’t know th***ly\n"
     ]
    },
    {
     "name": "stdout",
     "output_type": "stream",
     "text": [
      "thirdly\n",
      "thickly\n"
     ]
    }
   ],
   "source": [
    "#L=[line.strip() for line in open('wordlist.txt')]\n",
    "L=['caticat','thirdly','marshal','ghasedak','dog','liked','ghasemal','thickly']\n",
    "s=input('enter a word with the letters you know filled in and asterisks for those you don’t know')\n",
    "for c in L:\n",
    "    flag=1\n",
    "    if len(c)!=len(s):\n",
    "        flag=0\n",
    "    else:\n",
    "        for i in range(len(s)):\n",
    "            if s[i]!='*' and s[i]!=c[i]:\n",
    "                flag=0\n",
    "                break\n",
    "    if flag==1:\n",
    "        print(c)"
   ]
  },
  {
   "cell_type": "code",
   "execution_count": 8,
   "metadata": {},
   "outputs": [
    {
     "name": "stdin",
     "output_type": "stream",
     "text": [
      "please enter several letters ta\n"
     ]
    },
    {
     "name": "stdout",
     "output_type": "stream",
     "text": [
      "NO word!\n"
     ]
    }
   ],
   "source": [
    "#L=[line.strip() for line in open('wordlist.txt')]\n",
    "s=input('please enter several letters')\n",
    "L=['thirdly','marshal','caticat','ghasedak','tac','dog','liked','ciatu','ghasemal','thickly']\n",
    "b=0\n",
    "for c in L:\n",
    "    flag=1\n",
    "    for i in range(len(c)):\n",
    "        if c[i] not in s:\n",
    "            flag=0\n",
    "    for j in range(len(s)):\n",
    "        if s[j] not in c:\n",
    "            flag=0\n",
    "    if flag==1:\n",
    "        b=1\n",
    "        print(c)\n",
    "if b==0:\n",
    "    print('NO word!')"
   ]
  },
  {
   "cell_type": "code",
   "execution_count": null,
   "metadata": {},
   "outputs": [],
   "source": []
  },
  {
   "cell_type": "code",
   "execution_count": 14,
   "metadata": {},
   "outputs": [
    {
     "data": {
      "text/plain": [
       "'a'"
      ]
     },
     "execution_count": 14,
     "metadata": {},
     "output_type": "execute_result"
    }
   ],
   "source": [
    "chr(97)"
   ]
  },
  {
   "cell_type": "code",
   "execution_count": 11,
   "metadata": {},
   "outputs": [
    {
     "data": {
      "text/plain": [
       "122"
      ]
     },
     "execution_count": 11,
     "metadata": {},
     "output_type": "execute_result"
    }
   ],
   "source": [
    "ord('z')"
   ]
  },
  {
   "cell_type": "code",
   "execution_count": 18,
   "metadata": {},
   "outputs": [
    {
     "name": "stdout",
     "output_type": "stream",
     "text": [
      "{'a': 0.6, 'b': 0, 'c': 0.4, 'd': 0.4, 'e': 0.30000000000000004, 'f': 0, 'g': 0.30000000000000004, 'h': 0.5, 'i': 0.5, 'j': 0, 'k': 0.30000000000000004, 'l': 0.5, 'm': 0.2, 'n': 0, 'o': 0.1, 'p': 0, 'q': 0, 'r': 0.2, 's': 0.30000000000000004, 't': 0.5, 'u': 0.1, 'v': 0, 'w': 0, 'x': 0, 'y': 0.2, 'z': 0}\n",
      "10\n"
     ]
    }
   ],
   "source": [
    "#L=[line.strip() for line in open('wordlist.txt')]\n",
    "L=['thirdly','marshal','caticat','ghasedak','tac','dog','liked','ciatu','ghasemal','thickly']\n",
    "n=len(L)\n",
    "d={}\n",
    "for k in range(97,123):\n",
    "    d[chr(k)]=0\n",
    "for c in L:\n",
    "    c=c.lower()\n",
    "    M=[]\n",
    "    for i in range(97,123):\n",
    "        if chr(i) in c and chr(i) not in M:\n",
    "            M.append(chr(i))\n",
    "            d[chr(i)] = d[chr(i)]+1/n\n",
    "            \n",
    "\n",
    "print(d) \n",
    "print(len(L))"
   ]
  },
  {
   "cell_type": "code",
   "execution_count": 22,
   "metadata": {},
   "outputs": [
    {
     "name": "stdout",
     "output_type": "stream",
     "text": [
      "{'a': 0.16666666666666666, 'b': 0, 'c': 0.08333333333333333, 'd': 0.06666666666666667, 'e': 0.05, 'f': 0, 'g': 0.05, 'h': 0.08333333333333333, 'i': 0.08333333333333333, 'j': 0, 'k': 0.05, 'l': 0.08333333333333333, 'm': 0.03333333333333333, 'n': 0, 'o': 0.016666666666666666, 'p': 0, 'q': 0, 'r': 0.03333333333333333, 's': 0.05, 't': 0.09999999999999999, 'u': 0.016666666666666666, 'v': 0, 'w': 0, 'x': 0, 'y': 0.03333333333333333, 'z': 0}\n",
      "60\n"
     ]
    }
   ],
   "source": [
    "L=['thirdly','marshal','caticat','ghasedak','tac','dog','liked','ciatu','ghasemal','thickly']\n",
    "s=0\n",
    "for c in L:\n",
    "    s=s+len(c)\n",
    "d={}\n",
    "for k in range(97,123):\n",
    "    d[chr(k)]=0\n",
    "for c in L:\n",
    "    c=c.lower()\n",
    "    for i in range(97,123):\n",
    "        for j in range(len(c)):\n",
    "            if chr(i)==c[j]:\n",
    "                d[chr(i)] = d[chr(i)]+1/s\n",
    "            \n",
    "print(d) \n",
    "print(s)"
   ]
  },
  {
   "cell_type": "code",
   "execution_count": 28,
   "metadata": {},
   "outputs": [
    {
     "name": "stdout",
     "output_type": "stream",
     "text": [
      "{'a': 0.16666666666666666, 'b': 0.0, 'c': 0.08333333333333333, 'd': 0.06666666666666667, 'e': 0.05, 'f': 0.0, 'g': 0.05, 'h': 0.08333333333333333, 'i': 0.08333333333333333, 'j': 0.0, 'k': 0.05, 'l': 0.08333333333333333, 'm': 0.03333333333333333, 'n': 0.0, 'o': 0.016666666666666666, 'p': 0.0, 'q': 0.0, 'r': 0.03333333333333333, 's': 0.05, 't': 0.1, 'u': 0.016666666666666666, 'v': 0.0, 'w': 0.0, 'x': 0.0, 'y': 0.03333333333333333, 'z': 0.0}\n",
      "60\n"
     ]
    }
   ],
   "source": [
    "# More efficient way:\n",
    "L=['thirdly','marshal','caticat','ghasedak','tac','dog','liked','ciatu','ghasemal','thickly']\n",
    "s=0\n",
    "d={}\n",
    "for k in range(97,123):\n",
    "    d[chr(k)]=0\n",
    "for c in L:\n",
    "    c=c.lower()\n",
    "    s=s+len(c)\n",
    "    for j in range(len(c)):\n",
    "        d[c[j]]=d[c[j]] +1\n",
    "for i in d:\n",
    "    d[i]=d[i]/s\n",
    "            \n",
    "print(d) \n",
    "print(s)\n"
   ]
  },
  {
   "cell_type": "code",
   "execution_count": 44,
   "metadata": {},
   "outputs": [
    {
     "name": "stdin",
     "output_type": "stream",
     "text": [
      "please enter a word dogecatijoonact\n"
     ]
    },
    {
     "name": "stdout",
     "output_type": "stream",
     "text": [
      "caticat\n",
      "tac\n",
      "dog\n"
     ]
    }
   ],
   "source": [
    "L=['thirdly','marshal','caticat','ghasedak','tac','dog','liked','ciatu','ghasemal','thickly']\n",
    "s=input('please enter a word')\n",
    "\n",
    "for c in L:\n",
    "    flag=1\n",
    "    N=list(s)\n",
    "    for j in range(len(c)):\n",
    "        for i in range(len(N)):\n",
    "            if c[j] ==N[i]:\n",
    "                N=N[:i]+N[i+1:]\n",
    "                break\n",
    "            elif c[j] not in N:\n",
    "                flag=0\n",
    "                break\n",
    "    if flag==1:\n",
    "        print(c)"
   ]
  },
  {
   "cell_type": "code",
   "execution_count": 5,
   "metadata": {},
   "outputs": [
    {
     "name": "stdout",
     "output_type": "stream",
     "text": [
      "melon@email.msmary.edu;sdf@gmail.com;dfg@prof.college.edu;ghj@yahoo.com\n",
      "melon@email.msmary.edu;sdf@gmail.com;ghj@yahoo.com\n"
     ]
    }
   ],
   "source": [
    "#L=[line.strip() for line in open('email lists')]\n",
    "L=['melon@email.msmary.edu', 'sdf@gmail.com','dfg@prof.college.edu','ghj@yahoo.com']\n",
    "s=';'.join(L)\n",
    "print(s)\n",
    "t=';'.join([i for i in L if '@prof.college.edu' not in i ])\n",
    "print(t)"
   ]
  },
  {
   "cell_type": "code",
   "execution_count": 45,
   "metadata": {},
   "outputs": [
    {
     "name": "stdout",
     "output_type": "stream",
     "text": [
      "13 ['10/10']\n"
     ]
    }
   ],
   "source": [
    "L=[line.strip() for line in open('high_temperatures.txt')]\n",
    "#L=['05/13 20','08/25 40']\n",
    "N=[]\n",
    "date=[]\n",
    "biggest_increase=0\n",
    "for i in L:\n",
    "    M=i.split(' ')\n",
    "    N.append(M)\n",
    "for j in range(len(N)-29):\n",
    "    MA=0\n",
    "    MI=10000000\n",
    "    for k in range(30):\n",
    "        if int(N[j+k][1])>MA:\n",
    "            MA=int(N[j+k][1])\n",
    "        if int(N[j+k][1])<MI:\n",
    "            MI=int(N[j+k][1])\n",
    "    dif=MA-MI\n",
    "    if dif>biggest_increase:\n",
    "        biggest_increase=dif\n",
    "        date=[N[j][0]]\n",
    "print(biggest_increase,date)"
   ]
  },
  {
   "cell_type": "code",
   "execution_count": null,
   "metadata": {},
   "outputs": [],
   "source": [
    "s=open('file.txt').read()\n",
    "cc=input('enter a college class')\n",
    "ad=input('enter an adjective')\n",
    "ac=input('enter an activity')\n",
    "s=s.replace('[college class]',cc)\n",
    "s=s.replace('[adjective]',ad)\n",
    "s=s.replace('[activity]',ac)\n"
   ]
  },
  {
   "cell_type": "code",
   "execution_count": 19,
   "metadata": {},
   "outputs": [
    {
     "name": "stdin",
     "output_type": "stream",
     "text": [
      "Enter an acronym NGJ\n"
     ]
    },
    {
     "name": "stdout",
     "output_type": "stream",
     "text": [
      "['nohow', 'gonorrhea', 'jell']\n"
     ]
    }
   ],
   "source": [
    "L=[line.strip() for line in open('wordlist.txt')]\n",
    "shuffle(L)\n",
    "N=[]\n",
    "s=input('Enter an acronym')\n",
    "for i in s:\n",
    "    for j in range(len(L)):\n",
    "        if L[j][0].lower()==i.lower():\n",
    "            N.append(L[j])\n",
    "            break\n",
    "print(N)"
   ]
  },
  {
   "cell_type": "code",
   "execution_count": 19,
   "metadata": {},
   "outputs": [
    {
     "name": "stdin",
     "output_type": "stream",
     "text": [
      "enter a 5-letter word Ehsam\n"
     ]
    },
    {
     "name": "stdout",
     "output_type": "stream",
     "text": [
      "4 3\n"
     ]
    }
   ],
   "source": [
    "s='Elham'\n",
    "s=s.lower()\n",
    "count=0\n",
    "match=0\n",
    "t=input('enter a 5-letter word')\n",
    "t=t.lower()\n",
    "for i in range(len(t)):\n",
    "    if t[i]==s[i]:\n",
    "        match+=1\n",
    "    if t[i] in s:\n",
    "        count+=1\n",
    "print(count,match)"
   ]
  },
  {
   "cell_type": "code",
   "execution_count": 5,
   "metadata": {},
   "outputs": [
    {
     "ename": "KeyboardInterrupt",
     "evalue": "",
     "output_type": "error",
     "traceback": [
      "\u001b[1;31m---------------------------------------------------------------------------\u001b[0m",
      "\u001b[1;31mKeyboardInterrupt\u001b[0m                         Traceback (most recent call last)",
      "\u001b[1;32m<ipython-input-5-a782cf36b32d>\u001b[0m in \u001b[0;36m<module>\u001b[1;34m\u001b[0m\n\u001b[0;32m      6\u001b[0m         \u001b[0mN\u001b[0m\u001b[1;33m.\u001b[0m\u001b[0mappend\u001b[0m\u001b[1;33m(\u001b[0m\u001b[0mc\u001b[0m\u001b[1;33m)\u001b[0m\u001b[1;33m\u001b[0m\u001b[1;33m\u001b[0m\u001b[0m\n\u001b[0;32m      7\u001b[0m         \u001b[1;32mwhile\u001b[0m \u001b[0mlen\u001b[0m\u001b[1;33m(\u001b[0m\u001b[0mc\u001b[0m\u001b[1;33m)\u001b[0m\u001b[1;33m>\u001b[0m\u001b[1;36m1\u001b[0m\u001b[1;33m:\u001b[0m\u001b[1;33m\u001b[0m\u001b[1;33m\u001b[0m\u001b[0m\n\u001b[1;32m----> 8\u001b[1;33m             \u001b[1;32mfor\u001b[0m \u001b[0mi\u001b[0m \u001b[1;32min\u001b[0m \u001b[0mrange\u001b[0m\u001b[1;33m(\u001b[0m\u001b[0mlen\u001b[0m\u001b[1;33m(\u001b[0m\u001b[0mc\u001b[0m\u001b[1;33m)\u001b[0m\u001b[1;33m)\u001b[0m\u001b[1;33m:\u001b[0m\u001b[1;33m\u001b[0m\u001b[1;33m\u001b[0m\u001b[0m\n\u001b[0m\u001b[0;32m      9\u001b[0m                 \u001b[1;32mif\u001b[0m \u001b[0mc\u001b[0m\u001b[1;33m.\u001b[0m\u001b[0mreplace\u001b[0m\u001b[1;33m(\u001b[0m\u001b[0mc\u001b[0m\u001b[1;33m[\u001b[0m\u001b[0mi\u001b[0m\u001b[1;33m]\u001b[0m\u001b[1;33m,\u001b[0m\u001b[1;34m''\u001b[0m\u001b[1;33m)\u001b[0m \u001b[1;32min\u001b[0m \u001b[0mL\u001b[0m\u001b[1;33m:\u001b[0m\u001b[1;33m\u001b[0m\u001b[1;33m\u001b[0m\u001b[0m\n\u001b[0;32m     10\u001b[0m                     \u001b[0mc\u001b[0m\u001b[1;33m=\u001b[0m\u001b[0mc\u001b[0m\u001b[1;33m.\u001b[0m\u001b[0mreplace\u001b[0m\u001b[1;33m(\u001b[0m\u001b[0mc\u001b[0m\u001b[1;33m[\u001b[0m\u001b[0mi\u001b[0m\u001b[1;33m]\u001b[0m\u001b[1;33m,\u001b[0m\u001b[1;34m''\u001b[0m\u001b[1;33m)\u001b[0m\u001b[1;33m\u001b[0m\u001b[1;33m\u001b[0m\u001b[0m\n",
      "\u001b[1;31mKeyboardInterrupt\u001b[0m: "
     ]
    }
   ],
   "source": [
    "L=[line.strip() for line in open('wordlist.txt')]\n",
    "for t in L:\n",
    "    if len(t)==8:\n",
    "        c=t\n",
    "        N=[]\n",
    "        N.append(c)\n",
    "        while len(c)>1:\n",
    "            for i in range(len(c)):\n",
    "                if c.replace(c[i],'') in L:\n",
    "                    c=c.replace(c[i],'')\n",
    "                    h=len(c)\n",
    "                    N.append(c)                \n",
    "                    if len(c)==1:\n",
    "                        print(N)"
   ]
  },
  {
   "cell_type": "code",
   "execution_count": 4,
   "metadata": {},
   "outputs": [
    {
     "name": "stdin",
     "output_type": "stream",
     "text": [
      "enter a 7 letter string ngiters\n"
     ]
    },
    {
     "name": "stdout",
     "output_type": "stream",
     "text": [
      "greetings\n",
      "grittiness\n",
      "interesting\n",
      "restring\n",
      "steering\n",
      "stinger\n",
      "stringent\n",
      "stringer\n",
      "stringiness\n"
     ]
    }
   ],
   "source": [
    "L=[line.strip() for line in open('wordlist.txt')]\n",
    "s=input('enter a 7 letter string')\n",
    "count=0\n",
    "for c in L:\n",
    "    flag=1\n",
    "    for i in range(len(s)):\n",
    "        if s[i] not in c:\n",
    "            flag=0\n",
    "        for j in range(len(c)):\n",
    "            if c[j] not in s:\n",
    "                flag=0\n",
    "    if flag==1:\n",
    "        count=1\n",
    "        print(c)\n",
    "if count==0:\n",
    "    print('NO word')"
   ]
  },
  {
   "cell_type": "code",
   "execution_count": 20,
   "metadata": {
    "collapsed": true,
    "jupyter": {
     "outputs_hidden": true
    }
   },
   "outputs": [
    {
     "name": "stdout",
     "output_type": "stream",
     "text": [
      "en\n",
      "erg\n",
      "erst\n",
      "gent\n",
      "get\n",
      "gin\n",
      "girt\n",
      "gist\n",
      "grin\n",
      "grist\n",
      "grit\n",
      "grits\n",
      "i\n",
      "in\n",
      "inert\n",
      "ingest\n",
      "insert\n",
      "inset\n",
      "inter\n",
      "ire\n",
      "is\n",
      "it\n",
      "its\n",
      "nest\n",
      "net\n",
      "nit\n",
      "nite\n",
      "niter\n",
      "re\n",
      "reign\n",
      "rein\n",
      "reins\n",
      "rent\n",
      "resign\n",
      "resin\n",
      "rest\n",
      "rig\n",
      "ring\n",
      "rinse\n",
      "rise\n",
      "risen\n",
      "rite\n",
      "sent\n",
      "set\n",
      "sign\n",
      "signer\n",
      "signet\n",
      "sin\n",
      "sine\n",
      "sing\n",
      "singe\n",
      "singer\n",
      "sir\n",
      "sire\n",
      "siren\n",
      "sit\n",
      "site\n",
      "snit\n",
      "stein\n",
      "stern\n",
      "sting\n",
      "stinger\n",
      "stir\n",
      "string\n",
      "ten\n",
      "tern\n",
      "ti\n",
      "tie\n",
      "tier\n",
      "tiger\n",
      "tin\n",
      "tine\n",
      "ting\n",
      "tinge\n",
      "tire\n",
      "trig\n"
     ]
    }
   ],
   "source": [
    "L=[line.strip() for line in open('wordlist.txt')]\n",
    "#L=['stinger']\n",
    "#s=input('enter a 7 letter string')\n",
    "s='ngteris'\n",
    "for c in L:\n",
    "    flag=1\n",
    "    t=s\n",
    "    for j in range(len(c)):\n",
    "        if c[j] not in t:\n",
    "            flag=0\n",
    "            break\n",
    "        else:\n",
    "            t=t.replace(c[j],'')\n",
    "    if flag==1:\n",
    "        print(c)"
   ]
  },
  {
   "cell_type": "code",
   "execution_count": null,
   "metadata": {},
   "outputs": [],
   "source": []
  }
 ],
 "metadata": {
  "kernelspec": {
   "display_name": "Python 3",
   "language": "python",
   "name": "python3"
  },
  "language_info": {
   "codemirror_mode": {
    "name": "ipython",
    "version": 3
   },
   "file_extension": ".py",
   "mimetype": "text/x-python",
   "name": "python",
   "nbconvert_exporter": "python",
   "pygments_lexer": "ipython3",
   "version": "3.7.5"
  }
 },
 "nbformat": 4,
 "nbformat_minor": 4
}
